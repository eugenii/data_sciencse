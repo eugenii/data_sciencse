{
 "cells": [
  {
   "cell_type": "markdown",
   "id": "0b7023a7",
   "metadata": {},
   "source": [
    "<font color='DarkBlue' size=+2><b>Комментарий ревьюера</b></font><br>\n",
    "<font color='DarkBlue'>Привет, Евгений! <br>Меня зовут Олег Мазуренко, и я буду проверять этот проект. Спасибо за проделанную работу! <br>Ко мне можно обращаться на «ты». Как мне обращаться, напиши.</font><br>\n",
    "<font color='DarkBlue'>Я буду использовать различные цвета, чтобы было удобнее воспринимать мои комментарии:</font><br>\n",
    "<font color='DarkBlue'>Синий текст &mdash; просто текст комментария.</font><br>\n",
    "<font color='DarkGreen'>👌 Зеленый текст &mdash; все отлично.</font><br>\n",
    "<font color='DarkMagenta'>👉 Фиолетовый текст &mdash; сделано все правильно, однако есть рекомендации, на что стоит обратить внимание. Реализованные рекомендации позволят нам наработать опыт решения задачи разными способами или посмотреть на задачу под иным углом.</font><br>\n",
    "<font color='Red'>🛠 Красный текст &mdash; есть недочеты, они иногда бывают. </font><br><font color='DarkBlue'>Любая ошибка это возможность посмотреть на задачу с другой стороны и освоить новые знания, по этому не надо расстраиваться, если они есть.</font><br>\n",
    "<font color='DarkBlue'>Обращаю внимание, что комментарии ревьюера после проверки удалять нельзя они помогают отследить логику исправления или изменения проекта. Это дополнительный навык при обучении. Свой исправляемый код лучше тоже не удалять, а ремить #, это позволит акцентировать изменения в ходе подготовки окончательного варианта проекта.<br>\n",
    "Ответы на мои комментарии лучше тоже помечать. \n",
    "Например: </font><font color='Blue'><b>Комментарий студента</b></font><br>\n",
    "<font color='DarkBlue'><b>Теперь посмотрим, что получилось!</b></font>"
   ]
  },
  {
   "cell_type": "markdown",
   "id": "7d44dc40",
   "metadata": {},
   "source": [
    "___Статистический анализ данных сервиса GoFast___\n",
    "\n",
    "Входные данные и задачи\n",
    "    Чтобы совершать поездки по городу, пользователи сервиса GoFast пользуются мобильным приложением. Сервисом можно пользоваться:\n",
    "без подписки:\n",
    "\n",
    "абонентская плата отсутствует;\n",
    "стоимость одной минуты поездки — 8 рублей;\n",
    "стоимость старта (начала поездки) — 50 рублей;\n",
    "\n",
    "с подпиской Ultra\n",
    "\n",
    "абонентская плата —  199 рублей в месяц;\n",
    "стоимость одной минуты поездки — 6 рублей;\n",
    "стоимость старта — бесплатно.\n",
    "\n",
    "_Необходимо провести_:\n",
    "- загрузку данных\n",
    "- предобработку данных\n",
    "- исследовательский анализ\n",
    "- объединение данных\n",
    "- подсчёт выручки\n",
    "- проверку гипотез"
   ]
  },
  {
   "cell_type": "markdown",
   "id": "79891855",
   "metadata": {},
   "source": [
    "<font color='DarkBlue'><b>Комментарий ревьюера</b></font><br>\n",
    "<font color='DarkGreen'>👌 Хорошо сделано описание к проекту. 👍</font>"
   ]
  },
  {
   "cell_type": "markdown",
   "id": "c42cbe00",
   "metadata": {},
   "source": [
    "### Шаг 1. Загрузка данных"
   ]
  },
  {
   "cell_type": "code",
   "execution_count": 1,
   "id": "fadf5d2e",
   "metadata": {},
   "outputs": [],
   "source": [
    "# Импорт необходимых библиотек\n",
    "import math\n",
    "\n",
    "import pandas as pd\n",
    "import numpy as np\n",
    "from scipy import stats as st\n",
    "import matplotlib.pyplot as plt"
   ]
  },
  {
   "cell_type": "markdown",
   "id": "3ca27c9f",
   "metadata": {},
   "source": [
    "##### Получение данных о пользователях"
   ]
  },
  {
   "cell_type": "code",
   "execution_count": 2,
   "id": "eff9f206",
   "metadata": {},
   "outputs": [
    {
     "name": "stdout",
     "output_type": "stream",
     "text": [
      "<class 'pandas.core.frame.DataFrame'>\n",
      "RangeIndex: 1565 entries, 0 to 1564\n",
      "Data columns (total 5 columns):\n",
      " #   Column             Non-Null Count  Dtype \n",
      "---  ------             --------------  ----- \n",
      " 0   user_id            1565 non-null   int64 \n",
      " 1   name               1565 non-null   object\n",
      " 2   age                1565 non-null   int64 \n",
      " 3   city               1565 non-null   object\n",
      " 4   subscription_type  1565 non-null   object\n",
      "dtypes: int64(2), object(3)\n",
      "memory usage: 61.3+ KB\n"
     ]
    },
    {
     "data": {
      "text/html": [
       "<div>\n",
       "<style scoped>\n",
       "    .dataframe tbody tr th:only-of-type {\n",
       "        vertical-align: middle;\n",
       "    }\n",
       "\n",
       "    .dataframe tbody tr th {\n",
       "        vertical-align: top;\n",
       "    }\n",
       "\n",
       "    .dataframe thead th {\n",
       "        text-align: right;\n",
       "    }\n",
       "</style>\n",
       "<table border=\"1\" class=\"dataframe\">\n",
       "  <thead>\n",
       "    <tr style=\"text-align: right;\">\n",
       "      <th></th>\n",
       "      <th>user_id</th>\n",
       "      <th>name</th>\n",
       "      <th>age</th>\n",
       "      <th>city</th>\n",
       "      <th>subscription_type</th>\n",
       "    </tr>\n",
       "  </thead>\n",
       "  <tbody>\n",
       "    <tr>\n",
       "      <th>0</th>\n",
       "      <td>1</td>\n",
       "      <td>Кира</td>\n",
       "      <td>22</td>\n",
       "      <td>Тюмень</td>\n",
       "      <td>ultra</td>\n",
       "    </tr>\n",
       "    <tr>\n",
       "      <th>1</th>\n",
       "      <td>2</td>\n",
       "      <td>Станислав</td>\n",
       "      <td>31</td>\n",
       "      <td>Омск</td>\n",
       "      <td>ultra</td>\n",
       "    </tr>\n",
       "    <tr>\n",
       "      <th>2</th>\n",
       "      <td>3</td>\n",
       "      <td>Алексей</td>\n",
       "      <td>20</td>\n",
       "      <td>Москва</td>\n",
       "      <td>ultra</td>\n",
       "    </tr>\n",
       "    <tr>\n",
       "      <th>3</th>\n",
       "      <td>4</td>\n",
       "      <td>Константин</td>\n",
       "      <td>26</td>\n",
       "      <td>Ростов-на-Дону</td>\n",
       "      <td>ultra</td>\n",
       "    </tr>\n",
       "    <tr>\n",
       "      <th>4</th>\n",
       "      <td>5</td>\n",
       "      <td>Адель</td>\n",
       "      <td>28</td>\n",
       "      <td>Омск</td>\n",
       "      <td>ultra</td>\n",
       "    </tr>\n",
       "  </tbody>\n",
       "</table>\n",
       "</div>"
      ],
      "text/plain": [
       "   user_id        name  age            city subscription_type\n",
       "0        1        Кира   22          Тюмень             ultra\n",
       "1        2   Станислав   31            Омск             ultra\n",
       "2        3     Алексей   20          Москва             ultra\n",
       "3        4  Константин   26  Ростов-на-Дону             ultra\n",
       "4        5       Адель   28            Омск             ultra"
      ]
     },
     "execution_count": 2,
     "metadata": {},
     "output_type": "execute_result"
    }
   ],
   "source": [
    "users_data = pd.read_csv('/datasets/users_go.csv')\n",
    "users_data.info()\n",
    "users_data.head()"
   ]
  },
  {
   "cell_type": "markdown",
   "id": "230a7dab",
   "metadata": {},
   "source": [
    "__данные полные, типы правильные__"
   ]
  },
  {
   "cell_type": "markdown",
   "id": "03c7beda",
   "metadata": {},
   "source": [
    "##### Получение данных о поездках"
   ]
  },
  {
   "cell_type": "code",
   "execution_count": 3,
   "id": "c69ff792",
   "metadata": {},
   "outputs": [
    {
     "name": "stdout",
     "output_type": "stream",
     "text": [
      "<class 'pandas.core.frame.DataFrame'>\n",
      "RangeIndex: 18068 entries, 0 to 18067\n",
      "Data columns (total 4 columns):\n",
      " #   Column    Non-Null Count  Dtype  \n",
      "---  ------    --------------  -----  \n",
      " 0   user_id   18068 non-null  int64  \n",
      " 1   distance  18068 non-null  float64\n",
      " 2   duration  18068 non-null  float64\n",
      " 3   date      18068 non-null  object \n",
      "dtypes: float64(2), int64(1), object(1)\n",
      "memory usage: 564.8+ KB\n"
     ]
    },
    {
     "data": {
      "text/html": [
       "<div>\n",
       "<style scoped>\n",
       "    .dataframe tbody tr th:only-of-type {\n",
       "        vertical-align: middle;\n",
       "    }\n",
       "\n",
       "    .dataframe tbody tr th {\n",
       "        vertical-align: top;\n",
       "    }\n",
       "\n",
       "    .dataframe thead th {\n",
       "        text-align: right;\n",
       "    }\n",
       "</style>\n",
       "<table border=\"1\" class=\"dataframe\">\n",
       "  <thead>\n",
       "    <tr style=\"text-align: right;\">\n",
       "      <th></th>\n",
       "      <th>user_id</th>\n",
       "      <th>distance</th>\n",
       "      <th>duration</th>\n",
       "      <th>date</th>\n",
       "    </tr>\n",
       "  </thead>\n",
       "  <tbody>\n",
       "    <tr>\n",
       "      <th>0</th>\n",
       "      <td>1</td>\n",
       "      <td>4409.919140</td>\n",
       "      <td>25.599769</td>\n",
       "      <td>2021-01-01</td>\n",
       "    </tr>\n",
       "    <tr>\n",
       "      <th>1</th>\n",
       "      <td>1</td>\n",
       "      <td>2617.592153</td>\n",
       "      <td>15.816871</td>\n",
       "      <td>2021-01-18</td>\n",
       "    </tr>\n",
       "    <tr>\n",
       "      <th>2</th>\n",
       "      <td>1</td>\n",
       "      <td>754.159807</td>\n",
       "      <td>6.232113</td>\n",
       "      <td>2021-04-20</td>\n",
       "    </tr>\n",
       "    <tr>\n",
       "      <th>3</th>\n",
       "      <td>1</td>\n",
       "      <td>2694.783254</td>\n",
       "      <td>18.511000</td>\n",
       "      <td>2021-08-11</td>\n",
       "    </tr>\n",
       "    <tr>\n",
       "      <th>4</th>\n",
       "      <td>1</td>\n",
       "      <td>4028.687306</td>\n",
       "      <td>26.265803</td>\n",
       "      <td>2021-08-28</td>\n",
       "    </tr>\n",
       "  </tbody>\n",
       "</table>\n",
       "</div>"
      ],
      "text/plain": [
       "   user_id     distance   duration        date\n",
       "0        1  4409.919140  25.599769  2021-01-01\n",
       "1        1  2617.592153  15.816871  2021-01-18\n",
       "2        1   754.159807   6.232113  2021-04-20\n",
       "3        1  2694.783254  18.511000  2021-08-11\n",
       "4        1  4028.687306  26.265803  2021-08-28"
      ]
     },
     "execution_count": 3,
     "metadata": {},
     "output_type": "execute_result"
    }
   ],
   "source": [
    "rides_data = pd.read_csv('/datasets/rides_go.csv')\n",
    "rides_data.info()\n",
    "rides_data.head()"
   ]
  },
  {
   "cell_type": "markdown",
   "id": "4a7ea30a",
   "metadata": {},
   "source": [
    "__данные полные, типы правильные__"
   ]
  },
  {
   "cell_type": "markdown",
   "id": "8ae88cd3",
   "metadata": {},
   "source": [
    "##### данные о тарифах"
   ]
  },
  {
   "cell_type": "code",
   "execution_count": 4,
   "id": "eb330306",
   "metadata": {},
   "outputs": [
    {
     "name": "stdout",
     "output_type": "stream",
     "text": [
      "<class 'pandas.core.frame.DataFrame'>\n",
      "RangeIndex: 2 entries, 0 to 1\n",
      "Data columns (total 4 columns):\n",
      " #   Column             Non-Null Count  Dtype \n",
      "---  ------             --------------  ----- \n",
      " 0   subscription_type  2 non-null      object\n",
      " 1   minute_price       2 non-null      int64 \n",
      " 2   start_ride_price   2 non-null      int64 \n",
      " 3   subscription_fee   2 non-null      int64 \n",
      "dtypes: int64(3), object(1)\n",
      "memory usage: 192.0+ bytes\n"
     ]
    },
    {
     "data": {
      "text/html": [
       "<div>\n",
       "<style scoped>\n",
       "    .dataframe tbody tr th:only-of-type {\n",
       "        vertical-align: middle;\n",
       "    }\n",
       "\n",
       "    .dataframe tbody tr th {\n",
       "        vertical-align: top;\n",
       "    }\n",
       "\n",
       "    .dataframe thead th {\n",
       "        text-align: right;\n",
       "    }\n",
       "</style>\n",
       "<table border=\"1\" class=\"dataframe\">\n",
       "  <thead>\n",
       "    <tr style=\"text-align: right;\">\n",
       "      <th></th>\n",
       "      <th>subscription_type</th>\n",
       "      <th>minute_price</th>\n",
       "      <th>start_ride_price</th>\n",
       "      <th>subscription_fee</th>\n",
       "    </tr>\n",
       "  </thead>\n",
       "  <tbody>\n",
       "    <tr>\n",
       "      <th>0</th>\n",
       "      <td>free</td>\n",
       "      <td>8</td>\n",
       "      <td>50</td>\n",
       "      <td>0</td>\n",
       "    </tr>\n",
       "    <tr>\n",
       "      <th>1</th>\n",
       "      <td>ultra</td>\n",
       "      <td>6</td>\n",
       "      <td>0</td>\n",
       "      <td>199</td>\n",
       "    </tr>\n",
       "  </tbody>\n",
       "</table>\n",
       "</div>"
      ],
      "text/plain": [
       "  subscription_type  minute_price  start_ride_price  subscription_fee\n",
       "0              free             8                50                 0\n",
       "1             ultra             6                 0               199"
      ]
     },
     "execution_count": 4,
     "metadata": {},
     "output_type": "execute_result"
    }
   ],
   "source": [
    "subscriptions_data = pd.read_csv('/datasets/subscriptions_go.csv')\n",
    "subscriptions_data.info()\n",
    "subscriptions_data.head()"
   ]
  },
  {
   "cell_type": "code",
   "execution_count": 5,
   "id": "b3fc94a1",
   "metadata": {},
   "outputs": [
    {
     "data": {
      "text/plain": [
       "0    8\n",
       "Name: minute_price, dtype: int64"
      ]
     },
     "execution_count": 5,
     "metadata": {},
     "output_type": "execute_result"
    }
   ],
   "source": [
    "subscriptions_data[subscriptions_data['subscription_type'] == 'free']['minute_price']"
   ]
  },
  {
   "cell_type": "markdown",
   "id": "6c4e9c3c",
   "metadata": {},
   "source": [
    "__два типа подписок, согласно тз__"
   ]
  },
  {
   "cell_type": "markdown",
   "id": "30a55e92",
   "metadata": {},
   "source": [
    "<font color='DarkBlue'><b>Комментарий ревьюера</b></font><br>\n",
    "<font color='DarkGreen'>👌 Хорошо, изучили данные для предобработки.</font>"
   ]
  },
  {
   "cell_type": "markdown",
   "id": "e95ebca7",
   "metadata": {},
   "source": [
    "### Шаг 2. Предобработка данных"
   ]
  },
  {
   "cell_type": "code",
   "execution_count": 6,
   "id": "af6d202c",
   "metadata": {},
   "outputs": [
    {
     "data": {
      "text/html": [
       "<div>\n",
       "<style scoped>\n",
       "    .dataframe tbody tr th:only-of-type {\n",
       "        vertical-align: middle;\n",
       "    }\n",
       "\n",
       "    .dataframe tbody tr th {\n",
       "        vertical-align: top;\n",
       "    }\n",
       "\n",
       "    .dataframe thead th {\n",
       "        text-align: right;\n",
       "    }\n",
       "</style>\n",
       "<table border=\"1\" class=\"dataframe\">\n",
       "  <thead>\n",
       "    <tr style=\"text-align: right;\">\n",
       "      <th></th>\n",
       "      <th>user_id</th>\n",
       "      <th>distance</th>\n",
       "      <th>duration</th>\n",
       "      <th>date</th>\n",
       "      <th>month</th>\n",
       "      <th>year</th>\n",
       "    </tr>\n",
       "  </thead>\n",
       "  <tbody>\n",
       "    <tr>\n",
       "      <th>0</th>\n",
       "      <td>1</td>\n",
       "      <td>4409.919140</td>\n",
       "      <td>25.599769</td>\n",
       "      <td>2021-01-01</td>\n",
       "      <td>1</td>\n",
       "      <td>2021</td>\n",
       "    </tr>\n",
       "    <tr>\n",
       "      <th>1</th>\n",
       "      <td>1</td>\n",
       "      <td>2617.592153</td>\n",
       "      <td>15.816871</td>\n",
       "      <td>2021-01-18</td>\n",
       "      <td>1</td>\n",
       "      <td>2021</td>\n",
       "    </tr>\n",
       "    <tr>\n",
       "      <th>2</th>\n",
       "      <td>1</td>\n",
       "      <td>754.159807</td>\n",
       "      <td>6.232113</td>\n",
       "      <td>2021-04-20</td>\n",
       "      <td>4</td>\n",
       "      <td>2021</td>\n",
       "    </tr>\n",
       "    <tr>\n",
       "      <th>3</th>\n",
       "      <td>1</td>\n",
       "      <td>2694.783254</td>\n",
       "      <td>18.511000</td>\n",
       "      <td>2021-08-11</td>\n",
       "      <td>8</td>\n",
       "      <td>2021</td>\n",
       "    </tr>\n",
       "    <tr>\n",
       "      <th>4</th>\n",
       "      <td>1</td>\n",
       "      <td>4028.687306</td>\n",
       "      <td>26.265803</td>\n",
       "      <td>2021-08-28</td>\n",
       "      <td>8</td>\n",
       "      <td>2021</td>\n",
       "    </tr>\n",
       "  </tbody>\n",
       "</table>\n",
       "</div>"
      ],
      "text/plain": [
       "   user_id     distance   duration       date  month  year\n",
       "0        1  4409.919140  25.599769 2021-01-01      1  2021\n",
       "1        1  2617.592153  15.816871 2021-01-18      1  2021\n",
       "2        1   754.159807   6.232113 2021-04-20      4  2021\n",
       "3        1  2694.783254  18.511000 2021-08-11      8  2021\n",
       "4        1  4028.687306  26.265803 2021-08-28      8  2021"
      ]
     },
     "execution_count": 6,
     "metadata": {},
     "output_type": "execute_result"
    }
   ],
   "source": [
    "# Преобразование столбца с датой в  формат pandas date\n",
    "# добавление столбца с номером месяца\n",
    "rides_data['date'] = pd.to_datetime(rides_data['date'])\n",
    "rides_data['month'] = rides_data['date'].dt.month\n",
    "rides_data['year'] = rides_data['date'].dt.year\n",
    "rides_data.head()\n"
   ]
  },
  {
   "cell_type": "markdown",
   "id": "7662f290",
   "metadata": {},
   "source": [
    "<font color='DarkBlue'><b>Комментарий ревьюера</b></font><br>\n",
    "<font color='DarkGreen'>👌 Хорошо, преобразовали колонку `['date']` в дату.</font><br>\n",
    "<font color='DarkMagenta'>👉 Следовало проверить за какой период данные в датасете. Если данные за несколько лет, то номера месяцев будут в разных годах одинаковыми.</font><br>\n",
    "<font color='DarkGreen'>👌 Правильно выполнено задание, хорошо, что проверили результат преобразований.</font>"
   ]
  },
  {
   "cell_type": "code",
   "execution_count": 7,
   "id": "a51c447a",
   "metadata": {},
   "outputs": [
    {
     "data": {
      "text/plain": [
       "array([2021])"
      ]
     },
     "execution_count": 7,
     "metadata": {},
     "output_type": "execute_result"
    }
   ],
   "source": [
    "# Проверка года\n",
    "rides_data['year'].unique()"
   ]
  },
  {
   "cell_type": "markdown",
   "id": "962b3d40",
   "metadata": {},
   "source": [
    "<div class='alert alert-info'>Год один, месяцы получаются разные</div>"
   ]
  },
  {
   "cell_type": "code",
   "execution_count": 8,
   "id": "604e527c",
   "metadata": {},
   "outputs": [
    {
     "name": "stdout",
     "output_type": "stream",
     "text": [
      "user_id              0\n",
      "name                 0\n",
      "age                  0\n",
      "city                 0\n",
      "subscription_type    0\n",
      "dtype: int64\n",
      "--------------------\n",
      "user_id     0\n",
      "distance    0\n",
      "duration    0\n",
      "date        0\n",
      "month       0\n",
      "year        0\n",
      "dtype: int64\n"
     ]
    }
   ],
   "source": [
    "# Пропущенных значений не наблюдается\n",
    "\n",
    "print(users_data.isna().sum())\n",
    "print('--------------------')\n",
    "print(rides_data.isna().sum())"
   ]
  },
  {
   "cell_type": "code",
   "execution_count": 9,
   "id": "8b99ad42",
   "metadata": {},
   "outputs": [
    {
     "name": "stdout",
     "output_type": "stream",
     "text": [
      "1565 18068\n",
      "1534 18068\n"
     ]
    }
   ],
   "source": [
    "# Удаление дубликатов (дубликатов нет)\n",
    "\n",
    "print(len(users_data), len(rides_data))\n",
    "users_data.drop_duplicates(inplace=True)\n",
    "rides_data.drop_duplicates(inplace=True)\n",
    "print(len(users_data), len(rides_data))"
   ]
  },
  {
   "cell_type": "markdown",
   "id": "42092d8e",
   "metadata": {},
   "source": [
    "<font color='DarkBlue'><b>Комментарий ревьюера 6</b></font><br>\n",
    "<font color='DarkGreen'>👌 Хорошо, исправили.</font>"
   ]
  },
  {
   "cell_type": "markdown",
   "id": "4f6aaa95",
   "metadata": {},
   "source": [
    "<font color='DarkBlue'><b>Комментарий ревьюера</b></font><br>\n",
    "<font color='Red'>🛠 Не проведена проверка пропусков во всех таблицах. </font><br>\n",
    "<font color='Red'>🛠 Не проверены и не удалены дубликаты. </font>"
   ]
  },
  {
   "cell_type": "markdown",
   "id": "bff784f4",
   "metadata": {},
   "source": [
    "<div class='alert alert-info'>Добавил проверку пропущенных значений и удаление дубликатов</div>"
   ]
  },
  {
   "cell_type": "markdown",
   "id": "51db921f",
   "metadata": {},
   "source": [
    "<font color='DarkBlue'><b>Комментарий ревьюера</b></font><br>\n",
    "<font color='Red'>🛠 Здесь ожидаются обобщающие выводы по разделу первичного анализа и предобработки данных.</font>"
   ]
  },
  {
   "cell_type": "markdown",
   "id": "410c1d03",
   "metadata": {},
   "source": [
    "<div class='alert alert-info'>Добавил:</div>\n",
    "Данные получены, пропущенных значений и дубликатов не обнаружено."
   ]
  },
  {
   "cell_type": "markdown",
   "id": "ad17448e",
   "metadata": {},
   "source": [
    "<font color='DarkBlue'><b>Комментарий ревьюера</b></font><br>\n",
    "<font color='DarkMagenta'>👉 Из анализа видно, что расстояние поездки имеет формат до шести знаков после точки, следовало округлить расстояния, примерно вот так:</font>"
   ]
  },
  {
   "cell_type": "code",
   "execution_count": 10,
   "id": "be2cab72",
   "metadata": {},
   "outputs": [
    {
     "data": {
      "text/plain": [
       "0    4409.919140\n",
       "1    2617.592153\n",
       "2     754.159807\n",
       "Name: distance, dtype: float64"
      ]
     },
     "metadata": {},
     "output_type": "display_data"
    },
    {
     "data": {
      "text/plain": [
       "0    4409.92\n",
       "1    2617.59\n",
       "2     754.16\n",
       "Name: distance, dtype: float64"
      ]
     },
     "execution_count": 10,
     "metadata": {},
     "output_type": "execute_result"
    }
   ],
   "source": [
    "# Комментарий ревьюера\n",
    "temp = rides_data.copy() # Создаем копию, что бы не изменять текущий датасет\n",
    "display(temp['distance'].head(3))\n",
    "# Округление расстояния\n",
    "temp['distance'] = temp['distance'].round(2)\n",
    "temp['distance'].head(3)"
   ]
  },
  {
   "cell_type": "code",
   "execution_count": 11,
   "id": "e779352a",
   "metadata": {},
   "outputs": [
    {
     "data": {
      "text/plain": [
       "0    4410.0\n",
       "1    2618.0\n",
       "2     755.0\n",
       "3    2695.0\n",
       "4    4029.0\n",
       "Name: distance, dtype: float64"
      ]
     },
     "execution_count": 11,
     "metadata": {},
     "output_type": "execute_result"
    }
   ],
   "source": [
    "# По рекомендации - округлил расстояния до целых метров вверх (по длине самоката), \n",
    "# копию данных не сохранял, так как не менялись исходные файлы.\n",
    "\n",
    "rides_data['distance'] = np.ceil(rides_data['distance'])\n",
    "rides_data['distance'].head()"
   ]
  },
  {
   "cell_type": "markdown",
   "id": "8258e642",
   "metadata": {},
   "source": [
    "<font color='DarkBlue'><b>Комментарий ревьюера</b></font><br>\n",
    "<font color='DarkMagenta'>👉 Следовало проверить на аномалии колонку с длительностью поездок в таблице с информацией о поездках. Только не надо их сразу удалять.</font>"
   ]
  },
  {
   "cell_type": "markdown",
   "id": "212593c7",
   "metadata": {},
   "source": [
    "### Шаг 3. Исследовательский анализ данных"
   ]
  },
  {
   "cell_type": "markdown",
   "id": "b29c0210",
   "metadata": {},
   "source": [
    "__Частота встречаемых городов__"
   ]
  },
  {
   "cell_type": "code",
   "execution_count": 12,
   "id": "e3a4274c",
   "metadata": {},
   "outputs": [
    {
     "data": {
      "image/png": "[encoded data removed]",
      "text/plain": [
       "<Figure size 1080x432 with 1 Axes>"
      ]
     },
     "metadata": {
      "needs_background": "light"
     },
     "output_type": "display_data"
    },
    {
     "data": {
      "text/plain": [
       "Пятигорск         219\n",
       "Екатеринбург      204\n",
       "Ростов-на-Дону    198\n",
       "Краснодар         193\n",
       "Сочи              189\n",
       "Омск              183\n",
       "Тюмень            180\n",
       "Москва            168\n",
       "Name: city, dtype: int64"
      ]
     },
     "execution_count": 12,
     "metadata": {},
     "output_type": "execute_result"
    }
   ],
   "source": [
    "city_counts = users_data['city'].value_counts()\n",
    "\n",
    "plt.figure(figsize=(15, 6))\n",
    "bars = plt.bar(city_counts.index, city_counts.values, color='skyblue')\n",
    "plt.title('Количество пользователей по городам', fontsize=16)\n",
    "plt.xlabel('Город', fontsize=14)\n",
    "plt.ylabel('Количество', fontsize=14)\n",
    "plt.grid(axis='y', linestyle='--')\n",
    "plt.show()\n",
    "city_counts"
   ]
  },
  {
   "cell_type": "markdown",
   "id": "64f87b98",
   "metadata": {},
   "source": [
    "<font color='DarkBlue'><b>Комментарий ревьюера 2</b></font><br>\n",
    "<font color='DarkMagenta'>👉 Подписи осей и название нужны для того, чтобы сделать диаграммы и графики понятными и информативными, особенно для заказчика проекта. Без них было бы сложно определить, что именно изображено на графике и какие значения соответствуют каждой оси, так как заказчик не обязан разбираться в коде. Более того, подписи осей помогают установить контекст и понять, какие переменные представлены на графике. По этому при дальнейшем комментировании результатов анализа и визуализации, становятся понятны сделанные из анализа выводы. <br>Метки на оси Х сливаются, надо или увеличить диаграмму, или развернуть метки.</font>"
   ]
  },
  {
   "cell_type": "markdown",
   "id": "2ce51b02",
   "metadata": {},
   "source": [
    "<font color='DarkBlue'><b>Комментарий ревьюера</b></font><br>\n",
    "<font color='Red'>🛠 Визуализация данных графиками и диаграммами подразумевает подписи всех осей и название графика  на русском языке, при необходимости наличие меток. Это относится ко всем графикам/диаграммам проекта и является критической ошибкой.</font>\n",
    "<br><font color='Red'>🛠 По категорийным данным гистограммы не строятся, следует визуализировать столбчатой диаграммой.</font>"
   ]
  },
  {
   "cell_type": "markdown",
   "id": "2c6399e1",
   "metadata": {},
   "source": [
    "<div class='alert alert-info'>Диаграмму исправил, количество пользователей по городам добавил.</div>"
   ]
  },
  {
   "cell_type": "markdown",
   "id": "e81b625a",
   "metadata": {},
   "source": [
    "В целом равномерно"
   ]
  },
  {
   "cell_type": "markdown",
   "id": "58af7de5",
   "metadata": {},
   "source": [
    "<font color='DarkBlue'><b>Комментарий ревьюера</b></font><br>\n",
    "<font color='Red'>🛠 Необходимо вывести числовые значения количества пользователей по городам.</font>"
   ]
  },
  {
   "cell_type": "markdown",
   "id": "458b8169",
   "metadata": {},
   "source": [
    "<font color='DarkBlue'><b>Комментарий ревьюера 2</b></font><br>\n",
    "<font color='DarkMagenta'>👉 Можно вывести значения количества пользователей в городах прямо на диаграмме, примерно вот так:</font>"
   ]
  },
  {
   "cell_type": "code",
   "execution_count": 13,
   "id": "80d91c20",
   "metadata": {},
   "outputs": [
    {
     "data": {
      "image/png": "[encoded data removed]",
      "text/plain": [
       "<Figure size 1080x360 with 1 Axes>"
      ]
     },
     "metadata": {
      "needs_background": "light"
     },
     "output_type": "display_data"
    }
   ],
   "source": [
    "# Комментарий ревьюера 2\n",
    "import matplotlib.pyplot as plt\n",
    "import pandas as pd\n",
    "\n",
    "# Создаем копию датасета, что бы не работать с исходным\n",
    "tmp = users_data.copy()\n",
    "\n",
    "# Построение горизонтальной диаграммы\n",
    "ax = tmp['city'].value_counts(ascending=True).plot(\n",
    "    kind='barh',\n",
    "    figsize=(15, 5),\n",
    "    title='График частоты встречаемости городов'\n",
    ")\n",
    "\n",
    "# Добавление значений рядом со столбцами\n",
    "for p in ax.patches:\n",
    "    width = p.get_width()\n",
    "    ax.annotate(f'{width}',\n",
    "                (width, p.get_y() + p.get_height() / 2.),\n",
    "                ha='left', va='center',\n",
    "                xytext=(5, 0),\n",
    "                textcoords='offset points')\n",
    "\n",
    "# Добавление меток осей\n",
    "plt.xlabel('Количество пользователей')\n",
    "plt.ylabel('Город')\n",
    "\n",
    "# Отображение графика\n",
    "plt.show()"
   ]
  },
  {
   "cell_type": "markdown",
   "id": "eb41bde9",
   "metadata": {},
   "source": [
    "__Сравнение по типу подписок__"
   ]
  },
  {
   "cell_type": "code",
   "execution_count": 14,
   "id": "2cdb986a",
   "metadata": {},
   "outputs": [
    {
     "data": {
      "image/png": "[encoded data removed]",
      "text/plain": [
       "<Figure size 576x576 with 1 Axes>"
      ]
     },
     "metadata": {},
     "output_type": "display_data"
    },
    {
     "data": {
      "text/plain": [
       "free     835\n",
       "ultra    699\n",
       "Name: subscription_type, dtype: int64"
      ]
     },
     "execution_count": 14,
     "metadata": {},
     "output_type": "execute_result"
    }
   ],
   "source": [
    "subscription_types = users_data['subscription_type'].value_counts()\n",
    "plt.figure(figsize=(8,8))\n",
    "plt.pie(subscription_types, labels=subscription_types.index, textprops={'fontsize':14}, autopct = \"%.0f%%\")\n",
    "plt.title('Распределение пользователей по подпискам', fontsize=16)\n",
    "plt.show()\n",
    "subscription_types\n",
    "\n"
   ]
  },
  {
   "cell_type": "markdown",
   "id": "465bc2b2",
   "metadata": {},
   "source": [
    "<font color='DarkBlue'><b>Комментарий ревьюера 2</b></font>\n",
    "<br><font color='DarkMagenta'>👉 Доли можно вывести не посредственно на круговой диаграмме параметром `autopct = \"%.0f%%\"`.</font>"
   ]
  },
  {
   "cell_type": "markdown",
   "id": "b4c43e82",
   "metadata": {},
   "source": [
    "<font color='DarkBlue'><b>Комментарий ревьюера</b></font><br>\n",
    "<font color='Red'>🛠 График не оформлен  необходимым образом.</font>"
   ]
  },
  {
   "cell_type": "markdown",
   "id": "987f9c6a",
   "metadata": {},
   "source": [
    "Ожидаемо бесплатных больше. Но не сильно."
   ]
  },
  {
   "cell_type": "markdown",
   "id": "6625ac6b",
   "metadata": {},
   "source": [
    "<font color='DarkBlue'><b>Комментарий ревьюера</b></font><br>\n",
    "<font color='Red'>🛠 Тут аналогичная ошибка. Следует визуализировать круговой диаграммой.</font><br>\n",
    "<font color='Red'>🛠 Анализ соотношения пользователей подразумевает определение долей пользователей с подпиской и без.</font>"
   ]
  },
  {
   "cell_type": "markdown",
   "id": "60ee0bc1",
   "metadata": {},
   "source": [
    "<div class='alert alert-info'>Диаграмму исправил, количество пользователей по подпискам добавил.</div>"
   ]
  },
  {
   "cell_type": "markdown",
   "id": "a7b84741",
   "metadata": {},
   "source": [
    "__Анализ возраста пользователей__"
   ]
  },
  {
   "cell_type": "markdown",
   "id": "d57a4a96",
   "metadata": {},
   "source": [
    "<font color='DarkBlue'><b>Комментарий ревьюера</b></font><br>\n",
    "<font color='DarkMagenta'>👉 Правильно было бы посмотреть сводную статистику  методом `describe()`.</font>"
   ]
  },
  {
   "cell_type": "markdown",
   "id": "efc86938",
   "metadata": {},
   "source": [
    "<div class='alert alert-info'>Добавил метод descibe(). Теперь увидел нарушения по возрасту.</div>"
   ]
  },
  {
   "cell_type": "code",
   "execution_count": 15,
   "id": "7a40bcbb",
   "metadata": {},
   "outputs": [
    {
     "data": {
      "text/plain": [
       "count    1534.000000\n",
       "mean       24.903520\n",
       "std         4.572367\n",
       "min        12.000000\n",
       "25%        22.000000\n",
       "50%        25.000000\n",
       "75%        28.000000\n",
       "max        43.000000\n",
       "Name: age, dtype: float64"
      ]
     },
     "execution_count": 15,
     "metadata": {},
     "output_type": "execute_result"
    }
   ],
   "source": [
    "users_data['age'].describe()"
   ]
  },
  {
   "cell_type": "code",
   "execution_count": 16,
   "id": "271f6aa9",
   "metadata": {},
   "outputs": [
    {
     "data": {
      "image/png": "[encoded data removed]",
      "text/plain": [
       "<Figure size 432x288 with 1 Axes>"
      ]
     },
     "metadata": {
      "needs_background": "light"
     },
     "output_type": "display_data"
    }
   ],
   "source": [
    "users_data['age'].hist(bins=20)\n",
    "plt.title('Распределение пользователей по возрастам', fontsize=16)\n",
    "plt.xlabel('Возраст, лет', fontsize=14)\n",
    "plt.ylabel('Количество пользователей', fontsize=14)\n",
    "\n",
    "plt.grid(axis='y', linestyle='--', alpha=0.7)\n",
    "\n",
    "# Показать график\n",
    "plt.show()"
   ]
  },
  {
   "cell_type": "markdown",
   "id": "07da68e4",
   "metadata": {},
   "source": [
    "<font color='DarkBlue'><b>Комментарий ревьюера</b></font><br>\n",
    "<font color='Red'>🛠 График не оформлен  необходимым образом.</font>"
   ]
  },
  {
   "cell_type": "markdown",
   "id": "45f79a65",
   "metadata": {},
   "source": [
    "Распределение похоже на нормальное, если применить медиану для сглаживания - большая часть около 25 лет. Вчерашние студенты."
   ]
  },
  {
   "cell_type": "markdown",
   "id": "9192c9fd",
   "metadata": {},
   "source": [
    "<font color='DarkBlue'><b>Комментарий ревьюера</b></font><br>\n",
    "<font color='DarkMagenta'>👉 Следовало отметить, что среди пользователей некоторым менее 18 лет, именно с этого возраста разрешен прокат самокатов. В некоторых компаниях и регионах разрешено с 14 лет, но при письменном согласии родителей. В датасете минимальный возраст 12 лет, это явное нарушение существующих норм.</font>"
   ]
  },
  {
   "cell_type": "markdown",
   "id": "e654fc43",
   "metadata": {},
   "source": [
    "__Анализ проезжаемых расстояний__"
   ]
  },
  {
   "cell_type": "markdown",
   "id": "90dd425f",
   "metadata": {},
   "source": [
    "<font color='DarkBlue'><b>Комментарий ревьюера</b></font><br>\n",
    "<font color='DarkMagenta'>👉 Правильно было бы посмотреть сводную статистику расстояний поездок  методом `describe()`.</font>"
   ]
  },
  {
   "cell_type": "markdown",
   "id": "0da6753a",
   "metadata": {},
   "source": [
    "<div class='alert alert-info'>Добавил описание методом describe().</div>"
   ]
  },
  {
   "cell_type": "code",
   "execution_count": 17,
   "id": "168d1f0f",
   "metadata": {},
   "outputs": [
    {
     "data": {
      "text/plain": [
       "count    18068.000000\n",
       "mean      3071.159841\n",
       "std       1116.831548\n",
       "min          1.000000\n",
       "25%       2543.750000\n",
       "50%       3134.000000\n",
       "75%       3777.000000\n",
       "max       7212.000000\n",
       "Name: distance, dtype: float64"
      ]
     },
     "execution_count": 17,
     "metadata": {},
     "output_type": "execute_result"
    }
   ],
   "source": [
    "rides_data['distance'].describe()"
   ]
  },
  {
   "cell_type": "code",
   "execution_count": 18,
   "id": "b398b159",
   "metadata": {},
   "outputs": [
    {
     "data": {
      "image/png": "[encoded data removed]",
      "text/plain": [
       "<Figure size 432x288 with 1 Axes>"
      ]
     },
     "metadata": {
      "needs_background": "light"
     },
     "output_type": "display_data"
    }
   ],
   "source": [
    "# Гистограмма distance (исправлено оформление) \n",
    "rides_data['distance'].hist(bins=20)\n",
    "plt.title('Распределение проезжаемых расстояний', fontsize=16)\n",
    "plt.xlabel('Расстояние, м', fontsize=14)\n",
    "plt.ylabel('Количество поездок', fontsize=14)\n",
    "\n",
    "plt.grid(axis='x', linestyle='--', alpha=0.7)\n",
    "\n",
    "# Показать график\n",
    "plt.show()"
   ]
  },
  {
   "cell_type": "markdown",
   "id": "c7bb02fc",
   "metadata": {},
   "source": [
    "<font color='DarkBlue'><b>Комментарий ревьюера</b></font><br>\n",
    "<font color='Red'>🛠 График не оформлен  необходимым образом.</font>"
   ]
  },
  {
   "cell_type": "markdown",
   "id": "8c8d2f44",
   "metadata": {},
   "source": [
    "<div class='alert alert-info'>Добавил описание, исправил тип.</div>"
   ]
  },
  {
   "cell_type": "markdown",
   "id": "aa64dc9d",
   "metadata": {},
   "source": [
    "Большинство поездок в районе 3 км - черта города - замена городского транспорта.\n",
    "Небольшой всплеск в области около километра - \"попробовать прокатиться\""
   ]
  },
  {
   "cell_type": "markdown",
   "id": "a6453e3f",
   "metadata": {},
   "source": [
    "<font color='DarkBlue'><b>Комментарий ревьюера</b></font><br>\n",
    "<font color='DarkGreen'>👌 Хорошо, что обращено внимание на короткие поездки и дальние поездки.</font>"
   ]
  },
  {
   "cell_type": "markdown",
   "id": "c48ab40a",
   "metadata": {},
   "source": [
    "__Анализ длительности поездок__"
   ]
  },
  {
   "cell_type": "markdown",
   "id": "6aacb1e1",
   "metadata": {},
   "source": [
    "<font color='DarkBlue'><b>Комментарий ревьюера</b></font><br>\n",
    "<font color='DarkMagenta'>👉 Правильно было бы посмотреть сводную статистику продолжительности поездок  методом `describe()`.</font>"
   ]
  },
  {
   "cell_type": "markdown",
   "id": "072ad62e",
   "metadata": {},
   "source": [
    "<div class='alert alert-info'>Исправленный вариант</div>"
   ]
  },
  {
   "cell_type": "code",
   "execution_count": 19,
   "id": "7e31c65c",
   "metadata": {},
   "outputs": [
    {
     "name": "stdout",
     "output_type": "stream",
     "text": [
      "count    18068.000000\n",
      "mean        17.805011\n",
      "std          6.091051\n",
      "min          0.500000\n",
      "25%         13.597563\n",
      "50%         17.678395\n",
      "75%         21.724800\n",
      "max         40.823963\n",
      "Name: duration, dtype: float64\n"
     ]
    },
    {
     "data": {
      "image/png": "[encoded data removed]",
      "text/plain": [
       "<Figure size 432x288 with 1 Axes>"
      ]
     },
     "metadata": {
      "needs_background": "light"
     },
     "output_type": "display_data"
    }
   ],
   "source": [
    "# durations\n",
    "print(rides_data['duration'].describe())\n",
    "\n",
    "rides_data['duration'].hist(bins=20)\n",
    "\n",
    "plt.title('Распределение длительности поездок', fontsize=16)\n",
    "plt.xlabel('Длительность, мин', fontsize=14)\n",
    "plt.ylabel('Количество поездок', fontsize=14)\n",
    "plt.grid(axis='x', linestyle='--', alpha=0.7)\n",
    "\n",
    "plt.show()"
   ]
  },
  {
   "cell_type": "markdown",
   "id": "a69ea7cb",
   "metadata": {},
   "source": [
    "<font color='DarkBlue'><b>Комментарий ревьюера</b></font><br>\n",
    "<font color='Red'>🛠 График не оформлен  необходимым образом.</font>"
   ]
  },
  {
   "cell_type": "markdown",
   "id": "8db7318d",
   "metadata": {},
   "source": [
    "Распределение похоже на нормальное, среднее значение (выбросов не наблюдается) 17,8 минуты, при медианном значении расстояния 3 км получаем среднюю скорость движения 10 км/ч - в условиях городского движения нормально."
   ]
  },
  {
   "cell_type": "markdown",
   "id": "c5821e12",
   "metadata": {},
   "source": [
    "<font color='DarkBlue'><b>Комментарий ревьюера</b></font><br>\n",
    "<font color='DarkMagenta'>👉 В выводах не отмечена аномалия с поездками длительностью менее 1 минуты.\n",
    "<br>\n",
    "Не смотря на такую низкую продолжительность поездки, эти данные удалять не рекомендуется, так как в дальнейшем производится расчет выручки, которая определяет финансовый результат Сервиса аранды самокатов. Например, пользователь без подписки оплачивает фиксированную сумму только за старт поездки. Более того, в таблице видно, что эти аномально низкие поездки имеют достаточное расстояние поездки, которое то же будет анализироваться далее. А вот данный факт аномальных значений следует отметить в итоговом выводе для дальнейшей диагностики средств контроля времени поездки.</font>\n",
    "<br><font color='DarkMagenta'>👉 При удалении данных надо всегда иметь ввиду, что удаляются полностью строки датасета, которые содержат другие данные значимые для последующего анализа.</font>"
   ]
  },
  {
   "cell_type": "markdown",
   "id": "5fcb52f5",
   "metadata": {},
   "source": [
    "<font color='DarkBlue'><b>Комментарий ревьюера</b></font><br>\n",
    "<font color='Red'>🛠 Раздел исследовательского анализа данных должен заканчиваться обобщающим выводом.</font>"
   ]
  },
  {
   "cell_type": "markdown",
   "id": "35341d37",
   "metadata": {},
   "source": [
    "<div class='alert alert-info'>Добавил выводы</div>"
   ]
  },
  {
   "cell_type": "markdown",
   "id": "c02f017f",
   "metadata": {},
   "source": [
    "По результатам анализа данных можно сделать следующие выводы:\n",
    "- Максимальное количество пользоватеей сервиса в Пятигорске, минимальное - в Москве. (Возможно сервис основан в П., а в М. - наибольшая конкуренция) \n",
    "- Пользователей без подписки примерно на 15 % больше чем пользователей с подпиской\n",
    "- Среди пользователей сервиса имеются лица младше допустимого возраста\n",
    "- Максимальное количество поездок осуществляется на расстояние от 2,5 до 3,5 км\n",
    "- Наиболе часты поездки длительностью 15 - 20 мин"
   ]
  },
  {
   "cell_type": "markdown",
   "id": "5d5d1dd3",
   "metadata": {},
   "source": [
    "<font color='DarkBlue'><b>Комментарий ревьюера 2</b></font><br>\n",
    "<font color='DarkGreen'>👌 Хорошо, исправили.</font>"
   ]
  },
  {
   "cell_type": "markdown",
   "id": "4ef51331",
   "metadata": {},
   "source": [
    "### Шаг 4. Объединение данных"
   ]
  },
  {
   "cell_type": "code",
   "execution_count": 20,
   "id": "6bf288b5",
   "metadata": {
    "scrolled": false
   },
   "outputs": [
    {
     "name": "stdout",
     "output_type": "stream",
     "text": [
      "<class 'pandas.core.frame.DataFrame'>\n",
      "Int64Index: 18068 entries, 0 to 18067\n",
      "Data columns (total 13 columns):\n",
      " #   Column             Non-Null Count  Dtype         \n",
      "---  ------             --------------  -----         \n",
      " 0   user_id            18068 non-null  int64         \n",
      " 1   name               18068 non-null  object        \n",
      " 2   age                18068 non-null  int64         \n",
      " 3   city               18068 non-null  object        \n",
      " 4   subscription_type  18068 non-null  object        \n",
      " 5   distance           18068 non-null  float64       \n",
      " 6   duration           18068 non-null  float64       \n",
      " 7   date               18068 non-null  datetime64[ns]\n",
      " 8   month              18068 non-null  int64         \n",
      " 9   year               18068 non-null  int64         \n",
      " 10  minute_price       18068 non-null  int64         \n",
      " 11  start_ride_price   18068 non-null  int64         \n",
      " 12  subscription_fee   18068 non-null  int64         \n",
      "dtypes: datetime64[ns](1), float64(2), int64(7), object(3)\n",
      "memory usage: 1.9+ MB\n"
     ]
    },
    {
     "data": {
      "text/html": [
       "<div>\n",
       "<style scoped>\n",
       "    .dataframe tbody tr th:only-of-type {\n",
       "        vertical-align: middle;\n",
       "    }\n",
       "\n",
       "    .dataframe tbody tr th {\n",
       "        vertical-align: top;\n",
       "    }\n",
       "\n",
       "    .dataframe thead th {\n",
       "        text-align: right;\n",
       "    }\n",
       "</style>\n",
       "<table border=\"1\" class=\"dataframe\">\n",
       "  <thead>\n",
       "    <tr style=\"text-align: right;\">\n",
       "      <th></th>\n",
       "      <th>user_id</th>\n",
       "      <th>name</th>\n",
       "      <th>age</th>\n",
       "      <th>city</th>\n",
       "      <th>subscription_type</th>\n",
       "      <th>distance</th>\n",
       "      <th>duration</th>\n",
       "      <th>date</th>\n",
       "      <th>month</th>\n",
       "      <th>year</th>\n",
       "      <th>minute_price</th>\n",
       "      <th>start_ride_price</th>\n",
       "      <th>subscription_fee</th>\n",
       "    </tr>\n",
       "  </thead>\n",
       "  <tbody>\n",
       "    <tr>\n",
       "      <th>0</th>\n",
       "      <td>1</td>\n",
       "      <td>Кира</td>\n",
       "      <td>22</td>\n",
       "      <td>Тюмень</td>\n",
       "      <td>ultra</td>\n",
       "      <td>4410.0</td>\n",
       "      <td>25.599769</td>\n",
       "      <td>2021-01-01</td>\n",
       "      <td>1</td>\n",
       "      <td>2021</td>\n",
       "      <td>6</td>\n",
       "      <td>0</td>\n",
       "      <td>199</td>\n",
       "    </tr>\n",
       "    <tr>\n",
       "      <th>1</th>\n",
       "      <td>1</td>\n",
       "      <td>Кира</td>\n",
       "      <td>22</td>\n",
       "      <td>Тюмень</td>\n",
       "      <td>ultra</td>\n",
       "      <td>2618.0</td>\n",
       "      <td>15.816871</td>\n",
       "      <td>2021-01-18</td>\n",
       "      <td>1</td>\n",
       "      <td>2021</td>\n",
       "      <td>6</td>\n",
       "      <td>0</td>\n",
       "      <td>199</td>\n",
       "    </tr>\n",
       "    <tr>\n",
       "      <th>2</th>\n",
       "      <td>1</td>\n",
       "      <td>Кира</td>\n",
       "      <td>22</td>\n",
       "      <td>Тюмень</td>\n",
       "      <td>ultra</td>\n",
       "      <td>755.0</td>\n",
       "      <td>6.232113</td>\n",
       "      <td>2021-04-20</td>\n",
       "      <td>4</td>\n",
       "      <td>2021</td>\n",
       "      <td>6</td>\n",
       "      <td>0</td>\n",
       "      <td>199</td>\n",
       "    </tr>\n",
       "    <tr>\n",
       "      <th>3</th>\n",
       "      <td>1</td>\n",
       "      <td>Кира</td>\n",
       "      <td>22</td>\n",
       "      <td>Тюмень</td>\n",
       "      <td>ultra</td>\n",
       "      <td>2695.0</td>\n",
       "      <td>18.511000</td>\n",
       "      <td>2021-08-11</td>\n",
       "      <td>8</td>\n",
       "      <td>2021</td>\n",
       "      <td>6</td>\n",
       "      <td>0</td>\n",
       "      <td>199</td>\n",
       "    </tr>\n",
       "    <tr>\n",
       "      <th>4</th>\n",
       "      <td>1</td>\n",
       "      <td>Кира</td>\n",
       "      <td>22</td>\n",
       "      <td>Тюмень</td>\n",
       "      <td>ultra</td>\n",
       "      <td>4029.0</td>\n",
       "      <td>26.265803</td>\n",
       "      <td>2021-08-28</td>\n",
       "      <td>8</td>\n",
       "      <td>2021</td>\n",
       "      <td>6</td>\n",
       "      <td>0</td>\n",
       "      <td>199</td>\n",
       "    </tr>\n",
       "  </tbody>\n",
       "</table>\n",
       "</div>"
      ],
      "text/plain": [
       "   user_id  name  age    city subscription_type  distance   duration  \\\n",
       "0        1  Кира   22  Тюмень             ultra    4410.0  25.599769   \n",
       "1        1  Кира   22  Тюмень             ultra    2618.0  15.816871   \n",
       "2        1  Кира   22  Тюмень             ultra     755.0   6.232113   \n",
       "3        1  Кира   22  Тюмень             ultra    2695.0  18.511000   \n",
       "4        1  Кира   22  Тюмень             ultra    4029.0  26.265803   \n",
       "\n",
       "        date  month  year  minute_price  start_ride_price  subscription_fee  \n",
       "0 2021-01-01      1  2021             6                 0               199  \n",
       "1 2021-01-18      1  2021             6                 0               199  \n",
       "2 2021-04-20      4  2021             6                 0               199  \n",
       "3 2021-08-11      8  2021             6                 0               199  \n",
       "4 2021-08-28      8  2021             6                 0               199  "
      ]
     },
     "execution_count": 20,
     "metadata": {},
     "output_type": "execute_result"
    }
   ],
   "source": [
    "# Методом merge объединяем данные по пользователям и поездкам через id пользователя\n",
    "common = users_data.merge(rides_data, on='user_id')\n",
    "common = common.merge(subscriptions_data, on='subscription_type')\n",
    "common.info()\n",
    "common.head()"
   ]
  },
  {
   "cell_type": "markdown",
   "id": "858ddd80",
   "metadata": {},
   "source": [
    "<font color='DarkBlue'><b>Комментарий ревьюера</b></font><br>\n",
    "<font color='DarkGreen'>👌 Правильно сделали объединение датасетов, написали выводы.</font>"
   ]
  },
  {
   "cell_type": "code",
   "execution_count": 21,
   "id": "02a98173",
   "metadata": {},
   "outputs": [
    {
     "data": {
      "image/png": "[encoded data removed]",
      "text/plain": [
       "<Figure size 432x288 with 1 Axes>"
      ]
     },
     "metadata": {
      "needs_background": "light"
     },
     "output_type": "display_data"
    },
    {
     "name": "stdout",
     "output_type": "stream",
     "text": [
      "      user_id   name  age  city subscription_type  distance   duration  \\\n",
      "6500      700  Айдар   22  Омск              free    2516.0  14.944286   \n",
      "6501      700  Айдар   22  Омск              free     847.0  16.234663   \n",
      "6502      700  Айдар   22  Омск              free    4005.0  20.016628   \n",
      "6503      700  Айдар   22  Омск              free    1206.0   9.782872   \n",
      "6504      700  Айдар   22  Омск              free    3048.0  17.427673   \n",
      "\n",
      "           date  month  year  minute_price  start_ride_price  subscription_fee  \n",
      "6500 2021-01-02      1  2021             8                50                 0  \n",
      "6501 2021-02-01      2  2021             8                50                 0  \n",
      "6502 2021-02-04      2  2021             8                50                 0  \n",
      "6503 2021-02-10      2  2021             8                50                 0  \n",
      "6504 2021-02-14      2  2021             8                50                 0  \n",
      "------------\n",
      "   user_id  name  age    city subscription_type  distance   duration  \\\n",
      "0        1  Кира   22  Тюмень             ultra    4410.0  25.599769   \n",
      "1        1  Кира   22  Тюмень             ultra    2618.0  15.816871   \n",
      "2        1  Кира   22  Тюмень             ultra     755.0   6.232113   \n",
      "3        1  Кира   22  Тюмень             ultra    2695.0  18.511000   \n",
      "4        1  Кира   22  Тюмень             ultra    4029.0  26.265803   \n",
      "\n",
      "        date  month  year  minute_price  start_ride_price  subscription_fee  \n",
      "0 2021-01-01      1  2021             6                 0               199  \n",
      "1 2021-01-18      1  2021             6                 0               199  \n",
      "2 2021-04-20      4  2021             6                 0               199  \n",
      "3 2021-08-11      8  2021             6                 0               199  \n",
      "4 2021-08-28      8  2021             6                 0               199  \n"
     ]
    }
   ],
   "source": [
    "# разбиение на таблицы по типу подписки\n",
    "users_free = common[common['subscription_type'] == 'free']\n",
    "users_ultra = common[common['subscription_type'] == 'ultra']\n",
    "users_free['subscription_type'].hist()\n",
    "users_ultra['subscription_type'].hist()\n",
    "plt.title('Распределение пользователей по подпискам', fontsize=16)\n",
    "plt.xlabel('подписка', fontsize=14)\n",
    "plt.ylabel('Количество пользователей', fontsize=14)\n",
    "plt.grid(axis='x', linestyle='--', alpha=0.7)\n",
    "\n",
    "plt.show()\n",
    "print(users_free.head())\n",
    "print('------------')\n",
    "print(users_ultra.head())"
   ]
  },
  {
   "cell_type": "markdown",
   "id": "7da54c97",
   "metadata": {},
   "source": [
    "<font color='DarkBlue'><b>Комментарий ревьюера</b></font><br>\n",
    "<font color='Red'>🛠 График не оформлен  необходимым образом.</font>"
   ]
  },
  {
   "cell_type": "markdown",
   "id": "1fc42474",
   "metadata": {},
   "source": [
    "Да, бесплатных больше."
   ]
  },
  {
   "cell_type": "markdown",
   "id": "30834c5e",
   "metadata": {},
   "source": [
    "<font color='DarkBlue'><b>Комментарий ревьюера</b></font><br>\n",
    "<font color='DarkMagenta'>👉 После создания двух новых датасетов следовало вывести по несколько строк каждого.</font>"
   ]
  },
  {
   "cell_type": "markdown",
   "id": "edb57cdb",
   "metadata": {},
   "source": [
    "<div class='alert alert-info'>Исправил диаграмму, добавил вывод</div>"
   ]
  },
  {
   "cell_type": "markdown",
   "id": "8be23114",
   "metadata": {},
   "source": [
    "__Анализ параметров по типу подписки__"
   ]
  },
  {
   "cell_type": "code",
   "execution_count": 22,
   "id": "919444e1",
   "metadata": {},
   "outputs": [
    {
     "data": {
      "image/png": "[encoded data removed]",
      "text/plain": [
       "<Figure size 432x288 with 1 Axes>"
      ]
     },
     "metadata": {
      "needs_background": "light"
     },
     "output_type": "display_data"
    }
   ],
   "source": [
    "# Сравнение расстояний по подпискам\n",
    "users_free['distance'].hist(bins=30, alpha=0.7, color='green', label='Free')\n",
    "users_ultra['distance'].hist(bins=30, alpha=0.7, color='orange', label='Ultra')\n",
    "plt.title('Проезжаемые расстояния по подпискам', fontsize=16)\n",
    "plt.xlabel('расстояние', fontsize=14)\n",
    "plt.ylabel('Количество пользователей', fontsize=14)\n",
    "plt.grid(axis='x', linestyle='--', alpha=0.7)\n",
    "\n",
    "plt.show()"
   ]
  },
  {
   "cell_type": "markdown",
   "id": "61c4ac75",
   "metadata": {},
   "source": [
    "<font color='DarkBlue'><b>Комментарий ревьюера</b></font><br>\n",
    "<font color='Red'>🛠 График не оформлен  необходимым образом.</font><br>\n",
    "<font color='DarkGreen'>👌 Хорошо, что гистограммы построены на одной координатной сетке.</font>"
   ]
  },
  {
   "cell_type": "markdown",
   "id": "125e950d",
   "metadata": {},
   "source": [
    "<div class='alert alert-info'>Исправил диаграмму</div>"
   ]
  },
  {
   "cell_type": "markdown",
   "id": "df1e9c20",
   "metadata": {},
   "source": [
    "Пользователей с платной подпиской меньше. Разброс с бесплатной подпиской ожидаемо меньше. Но характер зависимости очень близок, что может говорить о корректности данных."
   ]
  },
  {
   "cell_type": "code",
   "execution_count": 23,
   "id": "fffd49ec",
   "metadata": {},
   "outputs": [
    {
     "data": {
      "image/png": "[encoded data removed]",
      "text/plain": [
       "<Figure size 432x288 with 1 Axes>"
      ]
     },
     "metadata": {
      "needs_background": "light"
     },
     "output_type": "display_data"
    }
   ],
   "source": [
    "# Сравнение длительности по подпискам\n",
    "users_free['duration'].hist(bins=30, alpha=0.7, color='green', label='Free')\n",
    "users_ultra['duration'].hist(bins=30, alpha=0.7, color='orange', label='Ultra')\n",
    "plt.title('Длительность поездок по подпискам', fontsize=16)\n",
    "plt.xlabel('Длительность', fontsize=14)\n",
    "plt.ylabel('Количество пользователей', fontsize=14)\n",
    "plt.grid(axis='x', linestyle='--', alpha=0.7)\n",
    "\n",
    "plt.show()"
   ]
  },
  {
   "cell_type": "markdown",
   "id": "ccdc1db6",
   "metadata": {},
   "source": [
    "<font color='DarkBlue'><b>Комментарий ревьюера</b></font><br>\n",
    "<font color='Red'>🛠 График не оформлен  необходимым образом.</font>"
   ]
  },
  {
   "cell_type": "markdown",
   "id": "27d155a7",
   "metadata": {},
   "source": [
    "<div class='alert alert-info'>Исправил диаграмму</div>"
   ]
  },
  {
   "cell_type": "markdown",
   "id": "7c54beb2",
   "metadata": {},
   "source": [
    "Картина аналогичная предыдущей: картина для пользователей с платной подпиской уже, но общий характер схож."
   ]
  },
  {
   "cell_type": "markdown",
   "id": "402d620f",
   "metadata": {},
   "source": [
    "#### Шаг 5. Подсчёт выручки"
   ]
  },
  {
   "cell_type": "code",
   "execution_count": 24,
   "id": "a3dcc5f4",
   "metadata": {},
   "outputs": [
    {
     "data": {
      "text/html": [
       "<div>\n",
       "<style scoped>\n",
       "    .dataframe tbody tr th:only-of-type {\n",
       "        vertical-align: middle;\n",
       "    }\n",
       "\n",
       "    .dataframe tbody tr th {\n",
       "        vertical-align: top;\n",
       "    }\n",
       "\n",
       "    .dataframe thead th {\n",
       "        text-align: right;\n",
       "    }\n",
       "</style>\n",
       "<table border=\"1\" class=\"dataframe\">\n",
       "  <thead>\n",
       "    <tr style=\"text-align: right;\">\n",
       "      <th></th>\n",
       "      <th>user_id</th>\n",
       "      <th>name</th>\n",
       "      <th>age</th>\n",
       "      <th>city</th>\n",
       "      <th>subscription_type</th>\n",
       "      <th>distance</th>\n",
       "      <th>duration</th>\n",
       "      <th>date</th>\n",
       "      <th>month</th>\n",
       "      <th>year</th>\n",
       "      <th>minute_price</th>\n",
       "      <th>start_ride_price</th>\n",
       "      <th>subscription_fee</th>\n",
       "    </tr>\n",
       "  </thead>\n",
       "  <tbody>\n",
       "    <tr>\n",
       "      <th>0</th>\n",
       "      <td>1</td>\n",
       "      <td>Кира</td>\n",
       "      <td>22</td>\n",
       "      <td>Тюмень</td>\n",
       "      <td>ultra</td>\n",
       "      <td>4410.0</td>\n",
       "      <td>26.0</td>\n",
       "      <td>2021-01-01</td>\n",
       "      <td>1</td>\n",
       "      <td>2021</td>\n",
       "      <td>6</td>\n",
       "      <td>0</td>\n",
       "      <td>199</td>\n",
       "    </tr>\n",
       "    <tr>\n",
       "      <th>1</th>\n",
       "      <td>1</td>\n",
       "      <td>Кира</td>\n",
       "      <td>22</td>\n",
       "      <td>Тюмень</td>\n",
       "      <td>ultra</td>\n",
       "      <td>2618.0</td>\n",
       "      <td>16.0</td>\n",
       "      <td>2021-01-18</td>\n",
       "      <td>1</td>\n",
       "      <td>2021</td>\n",
       "      <td>6</td>\n",
       "      <td>0</td>\n",
       "      <td>199</td>\n",
       "    </tr>\n",
       "    <tr>\n",
       "      <th>2</th>\n",
       "      <td>1</td>\n",
       "      <td>Кира</td>\n",
       "      <td>22</td>\n",
       "      <td>Тюмень</td>\n",
       "      <td>ultra</td>\n",
       "      <td>755.0</td>\n",
       "      <td>7.0</td>\n",
       "      <td>2021-04-20</td>\n",
       "      <td>4</td>\n",
       "      <td>2021</td>\n",
       "      <td>6</td>\n",
       "      <td>0</td>\n",
       "      <td>199</td>\n",
       "    </tr>\n",
       "    <tr>\n",
       "      <th>3</th>\n",
       "      <td>1</td>\n",
       "      <td>Кира</td>\n",
       "      <td>22</td>\n",
       "      <td>Тюмень</td>\n",
       "      <td>ultra</td>\n",
       "      <td>2695.0</td>\n",
       "      <td>19.0</td>\n",
       "      <td>2021-08-11</td>\n",
       "      <td>8</td>\n",
       "      <td>2021</td>\n",
       "      <td>6</td>\n",
       "      <td>0</td>\n",
       "      <td>199</td>\n",
       "    </tr>\n",
       "    <tr>\n",
       "      <th>4</th>\n",
       "      <td>1</td>\n",
       "      <td>Кира</td>\n",
       "      <td>22</td>\n",
       "      <td>Тюмень</td>\n",
       "      <td>ultra</td>\n",
       "      <td>4029.0</td>\n",
       "      <td>27.0</td>\n",
       "      <td>2021-08-28</td>\n",
       "      <td>8</td>\n",
       "      <td>2021</td>\n",
       "      <td>6</td>\n",
       "      <td>0</td>\n",
       "      <td>199</td>\n",
       "    </tr>\n",
       "    <tr>\n",
       "      <th>5</th>\n",
       "      <td>1</td>\n",
       "      <td>Кира</td>\n",
       "      <td>22</td>\n",
       "      <td>Тюмень</td>\n",
       "      <td>ultra</td>\n",
       "      <td>2771.0</td>\n",
       "      <td>17.0</td>\n",
       "      <td>2021-10-09</td>\n",
       "      <td>10</td>\n",
       "      <td>2021</td>\n",
       "      <td>6</td>\n",
       "      <td>0</td>\n",
       "      <td>199</td>\n",
       "    </tr>\n",
       "    <tr>\n",
       "      <th>6</th>\n",
       "      <td>1</td>\n",
       "      <td>Кира</td>\n",
       "      <td>22</td>\n",
       "      <td>Тюмень</td>\n",
       "      <td>ultra</td>\n",
       "      <td>3040.0</td>\n",
       "      <td>15.0</td>\n",
       "      <td>2021-10-19</td>\n",
       "      <td>10</td>\n",
       "      <td>2021</td>\n",
       "      <td>6</td>\n",
       "      <td>0</td>\n",
       "      <td>199</td>\n",
       "    </tr>\n",
       "    <tr>\n",
       "      <th>7</th>\n",
       "      <td>1</td>\n",
       "      <td>Кира</td>\n",
       "      <td>22</td>\n",
       "      <td>Тюмень</td>\n",
       "      <td>ultra</td>\n",
       "      <td>2843.0</td>\n",
       "      <td>24.0</td>\n",
       "      <td>2021-11-06</td>\n",
       "      <td>11</td>\n",
       "      <td>2021</td>\n",
       "      <td>6</td>\n",
       "      <td>0</td>\n",
       "      <td>199</td>\n",
       "    </tr>\n",
       "    <tr>\n",
       "      <th>8</th>\n",
       "      <td>1</td>\n",
       "      <td>Кира</td>\n",
       "      <td>22</td>\n",
       "      <td>Тюмень</td>\n",
       "      <td>ultra</td>\n",
       "      <td>3413.0</td>\n",
       "      <td>16.0</td>\n",
       "      <td>2021-11-14</td>\n",
       "      <td>11</td>\n",
       "      <td>2021</td>\n",
       "      <td>6</td>\n",
       "      <td>0</td>\n",
       "      <td>199</td>\n",
       "    </tr>\n",
       "    <tr>\n",
       "      <th>9</th>\n",
       "      <td>1</td>\n",
       "      <td>Кира</td>\n",
       "      <td>22</td>\n",
       "      <td>Тюмень</td>\n",
       "      <td>ultra</td>\n",
       "      <td>749.0</td>\n",
       "      <td>16.0</td>\n",
       "      <td>2021-11-22</td>\n",
       "      <td>11</td>\n",
       "      <td>2021</td>\n",
       "      <td>6</td>\n",
       "      <td>0</td>\n",
       "      <td>199</td>\n",
       "    </tr>\n",
       "  </tbody>\n",
       "</table>\n",
       "</div>"
      ],
      "text/plain": [
       "   user_id  name  age    city subscription_type  distance  duration  \\\n",
       "0        1  Кира   22  Тюмень             ultra    4410.0      26.0   \n",
       "1        1  Кира   22  Тюмень             ultra    2618.0      16.0   \n",
       "2        1  Кира   22  Тюмень             ultra     755.0       7.0   \n",
       "3        1  Кира   22  Тюмень             ultra    2695.0      19.0   \n",
       "4        1  Кира   22  Тюмень             ultra    4029.0      27.0   \n",
       "5        1  Кира   22  Тюмень             ultra    2771.0      17.0   \n",
       "6        1  Кира   22  Тюмень             ultra    3040.0      15.0   \n",
       "7        1  Кира   22  Тюмень             ultra    2843.0      24.0   \n",
       "8        1  Кира   22  Тюмень             ultra    3413.0      16.0   \n",
       "9        1  Кира   22  Тюмень             ultra     749.0      16.0   \n",
       "\n",
       "        date  month  year  minute_price  start_ride_price  subscription_fee  \n",
       "0 2021-01-01      1  2021             6                 0               199  \n",
       "1 2021-01-18      1  2021             6                 0               199  \n",
       "2 2021-04-20      4  2021             6                 0               199  \n",
       "3 2021-08-11      8  2021             6                 0               199  \n",
       "4 2021-08-28      8  2021             6                 0               199  \n",
       "5 2021-10-09     10  2021             6                 0               199  \n",
       "6 2021-10-19     10  2021             6                 0               199  \n",
       "7 2021-11-06     11  2021             6                 0               199  \n",
       "8 2021-11-14     11  2021             6                 0               199  \n",
       "9 2021-11-22     11  2021             6                 0               199  "
      ]
     },
     "execution_count": 24,
     "metadata": {},
     "output_type": "execute_result"
    }
   ],
   "source": [
    "# Округлили минуты \"вверх\"\n",
    "\n",
    "common['duration'] = np.ceil(common['duration'])\n",
    "common.head(10)"
   ]
  },
  {
   "cell_type": "markdown",
   "id": "6f47942a",
   "metadata": {},
   "source": [
    "<font color='DarkBlue'><b>Комментарий ревьюера</b></font><br>\n",
    "<font color='DarkGreen'>👌 Правильно сделано округление продолжительности поездки.</font>"
   ]
  },
  {
   "cell_type": "markdown",
   "id": "e5e57fb9",
   "metadata": {},
   "source": [
    "__Группируем данные по пользователям__"
   ]
  },
  {
   "cell_type": "code",
   "execution_count": 25,
   "id": "d414b8bf",
   "metadata": {},
   "outputs": [],
   "source": [
    "# Функция для вычисления суммарной выручки\n",
    "\n",
    "def monthly_cost(row):\n",
    "    if row['subscription_type'] == 'free':\n",
    "        return 50 * row['rides_count'] + row['total_duration'] * row['minute_price']\n",
    "    else:  # Для ultra\n",
    "        return row['total_duration'] * row['minute_price'] + row['subscription_fee']"
   ]
  },
  {
   "cell_type": "code",
   "execution_count": 26,
   "id": "105e61f4",
   "metadata": {},
   "outputs": [
    {
     "name": "stdout",
     "output_type": "stream",
     "text": [
      "<class 'pandas.core.frame.DataFrame'>\n",
      "Int64Index: 11568 entries, 6500 to 18067\n",
      "Data columns (total 13 columns):\n",
      " #   Column             Non-Null Count  Dtype         \n",
      "---  ------             --------------  -----         \n",
      " 0   user_id            11568 non-null  int64         \n",
      " 1   name               11568 non-null  object        \n",
      " 2   age                11568 non-null  int64         \n",
      " 3   city               11568 non-null  object        \n",
      " 4   subscription_type  11568 non-null  object        \n",
      " 5   distance           11568 non-null  float64       \n",
      " 6   duration           11568 non-null  float64       \n",
      " 7   date               11568 non-null  datetime64[ns]\n",
      " 8   month              11568 non-null  int64         \n",
      " 9   year               11568 non-null  int64         \n",
      " 10  minute_price       11568 non-null  int64         \n",
      " 11  start_ride_price   11568 non-null  int64         \n",
      " 12  subscription_fee   11568 non-null  int64         \n",
      "dtypes: datetime64[ns](1), float64(2), int64(7), object(3)\n",
      "memory usage: 1.2+ MB\n"
     ]
    }
   ],
   "source": [
    "users_free.info()"
   ]
  },
  {
   "attachments": {
    "image.png": {
     "image/png": "[encoded data removed]"
    }
   },
   "cell_type": "markdown",
   "id": "956b75dd",
   "metadata": {},
   "source": [
    "<font color='DarkBlue'><b>Комментарий ревьюера 4</b></font><br>\n",
    "<font color='Red'>🛠 Ошибка кода. К сожалению, я не могу продолжить ревью. 😢</font>\n",
    "![image.png](attachment:image.png)"
   ]
  },
  {
   "cell_type": "markdown",
   "id": "09e9e6f5",
   "metadata": {},
   "source": [
    "<div class='alert alert-info'>Переделал агрегирование</div>"
   ]
  },
  {
   "cell_type": "code",
   "execution_count": 27,
   "id": "9b4fd0a5",
   "metadata": {},
   "outputs": [],
   "source": [
    "grouped_common_data = common.groupby(['user_id', 'month']).agg(\n",
    "    total_distance=('distance', 'sum'),  # Суммарное расстояние\n",
    "    total_duration=('duration', 'sum'),  # Суммарное время\n",
    "    rides_count=('distance', 'size')     # Количество поездок\n",
    ").reset_index()\n",
    "\n",
    "grouped_common_data = grouped_common_data.merge(\n",
    "    common[['user_id', 'subscription_type', 'minute_price', 'subscription_fee']].drop_duplicates(),\n",
    "    on='user_id',\n",
    "    how='left'\n",
    ")\n",
    "\n",
    "\n"
   ]
  },
  {
   "cell_type": "code",
   "execution_count": 28,
   "id": "3318245e",
   "metadata": {},
   "outputs": [
    {
     "data": {
      "text/plain": [
       "0"
      ]
     },
     "execution_count": 28,
     "metadata": {},
     "output_type": "execute_result"
    }
   ],
   "source": [
    "# Дубликаты\n",
    "\n",
    "common.duplicated().sum()"
   ]
  },
  {
   "cell_type": "code",
   "execution_count": 29,
   "id": "fbd7a19a",
   "metadata": {},
   "outputs": [
    {
     "data": {
      "text/plain": [
       "0"
      ]
     },
     "execution_count": 29,
     "metadata": {},
     "output_type": "execute_result"
    }
   ],
   "source": [
    "users_data.duplicated().sum()"
   ]
  },
  {
   "cell_type": "markdown",
   "id": "35815db6",
   "metadata": {},
   "source": [
    "<div class='alert alert-info'>Удалил дубликаты выше</div>"
   ]
  },
  {
   "cell_type": "code",
   "execution_count": 30,
   "id": "63cbfd25",
   "metadata": {},
   "outputs": [
    {
     "name": "stdout",
     "output_type": "stream",
     "text": [
      "count    11331.000000\n",
      "mean         1.594564\n",
      "std          0.831604\n",
      "min          1.000000\n",
      "25%          1.000000\n",
      "50%          1.000000\n",
      "75%          2.000000\n",
      "max          7.000000\n",
      "Name: rides_count, dtype: float64\n",
      "---------------------\n",
      "       user_id  month  total_distance  total_duration  rides_count  \\\n",
      "11326     1534      6          3411.0            26.0            2   \n",
      "11327     1534      8          7623.0            48.0            2   \n",
      "11328     1534      9          4929.0            23.0            1   \n",
      "11329     1534     11         13353.0            78.0            4   \n",
      "11330     1534     12          2372.0            16.0            1   \n",
      "\n",
      "      subscription_type  minute_price  subscription_fee  month_cost  \n",
      "11326              free             8                 0       308.0  \n",
      "11327              free             8                 0       484.0  \n",
      "11328              free             8                 0       234.0  \n",
      "11329              free             8                 0       824.0  \n",
      "11330              free             8                 0       178.0  \n"
     ]
    }
   ],
   "source": [
    "# Применение функции для расчёта month_cost\n",
    "grouped_common_data['month_cost'] = grouped_common_data.apply(monthly_cost, axis=1)\n",
    "print(grouped_common_data['rides_count'].describe())\n",
    "print('---------------------')\n",
    "print(grouped_common_data.tail())"
   ]
  },
  {
   "cell_type": "code",
   "execution_count": 31,
   "id": "df41db26",
   "metadata": {},
   "outputs": [
    {
     "data": {
      "text/html": [
       "<div>\n",
       "<style scoped>\n",
       "    .dataframe tbody tr th:only-of-type {\n",
       "        vertical-align: middle;\n",
       "    }\n",
       "\n",
       "    .dataframe tbody tr th {\n",
       "        vertical-align: top;\n",
       "    }\n",
       "\n",
       "    .dataframe thead th {\n",
       "        text-align: right;\n",
       "    }\n",
       "</style>\n",
       "<table border=\"1\" class=\"dataframe\">\n",
       "  <thead>\n",
       "    <tr style=\"text-align: right;\">\n",
       "      <th></th>\n",
       "      <th>user_id</th>\n",
       "      <th>month</th>\n",
       "      <th>total_distance</th>\n",
       "      <th>total_duration</th>\n",
       "      <th>rides_count</th>\n",
       "      <th>subscription_type</th>\n",
       "      <th>minute_price</th>\n",
       "      <th>subscription_fee</th>\n",
       "      <th>month_cost</th>\n",
       "    </tr>\n",
       "  </thead>\n",
       "  <tbody>\n",
       "    <tr>\n",
       "      <th>0</th>\n",
       "      <td>1</td>\n",
       "      <td>1</td>\n",
       "      <td>7028.0</td>\n",
       "      <td>42.0</td>\n",
       "      <td>2</td>\n",
       "      <td>ultra</td>\n",
       "      <td>6</td>\n",
       "      <td>199</td>\n",
       "      <td>451.0</td>\n",
       "    </tr>\n",
       "    <tr>\n",
       "      <th>1</th>\n",
       "      <td>1</td>\n",
       "      <td>4</td>\n",
       "      <td>755.0</td>\n",
       "      <td>7.0</td>\n",
       "      <td>1</td>\n",
       "      <td>ultra</td>\n",
       "      <td>6</td>\n",
       "      <td>199</td>\n",
       "      <td>241.0</td>\n",
       "    </tr>\n",
       "    <tr>\n",
       "      <th>2</th>\n",
       "      <td>1</td>\n",
       "      <td>8</td>\n",
       "      <td>6724.0</td>\n",
       "      <td>46.0</td>\n",
       "      <td>2</td>\n",
       "      <td>ultra</td>\n",
       "      <td>6</td>\n",
       "      <td>199</td>\n",
       "      <td>475.0</td>\n",
       "    </tr>\n",
       "    <tr>\n",
       "      <th>3</th>\n",
       "      <td>1</td>\n",
       "      <td>10</td>\n",
       "      <td>5811.0</td>\n",
       "      <td>32.0</td>\n",
       "      <td>2</td>\n",
       "      <td>ultra</td>\n",
       "      <td>6</td>\n",
       "      <td>199</td>\n",
       "      <td>391.0</td>\n",
       "    </tr>\n",
       "    <tr>\n",
       "      <th>4</th>\n",
       "      <td>1</td>\n",
       "      <td>11</td>\n",
       "      <td>7005.0</td>\n",
       "      <td>56.0</td>\n",
       "      <td>3</td>\n",
       "      <td>ultra</td>\n",
       "      <td>6</td>\n",
       "      <td>199</td>\n",
       "      <td>535.0</td>\n",
       "    </tr>\n",
       "  </tbody>\n",
       "</table>\n",
       "</div>"
      ],
      "text/plain": [
       "   user_id  month  total_distance  total_duration  rides_count  \\\n",
       "0        1      1          7028.0            42.0            2   \n",
       "1        1      4           755.0             7.0            1   \n",
       "2        1      8          6724.0            46.0            2   \n",
       "3        1     10          5811.0            32.0            2   \n",
       "4        1     11          7005.0            56.0            3   \n",
       "\n",
       "  subscription_type  minute_price  subscription_fee  month_cost  \n",
       "0             ultra             6               199       451.0  \n",
       "1             ultra             6               199       241.0  \n",
       "2             ultra             6               199       475.0  \n",
       "3             ultra             6               199       391.0  \n",
       "4             ultra             6               199       535.0  "
      ]
     },
     "execution_count": 31,
     "metadata": {},
     "output_type": "execute_result"
    }
   ],
   "source": [
    "# Группировка по пользователям и месяцам (user_id, month)\n",
    "# С подпиской ultra\n",
    "grouped_ultra_data = grouped_common_data[grouped_common_data['subscription_type'] == 'ultra']\n",
    "grouped_ultra_data.head()"
   ]
  },
  {
   "cell_type": "code",
   "execution_count": 32,
   "id": "53049e0a",
   "metadata": {},
   "outputs": [
    {
     "data": {
      "text/html": [
       "<div>\n",
       "<style scoped>\n",
       "    .dataframe tbody tr th:only-of-type {\n",
       "        vertical-align: middle;\n",
       "    }\n",
       "\n",
       "    .dataframe tbody tr th {\n",
       "        vertical-align: top;\n",
       "    }\n",
       "\n",
       "    .dataframe thead th {\n",
       "        text-align: right;\n",
       "    }\n",
       "</style>\n",
       "<table border=\"1\" class=\"dataframe\">\n",
       "  <thead>\n",
       "    <tr style=\"text-align: right;\">\n",
       "      <th></th>\n",
       "      <th>user_id</th>\n",
       "      <th>month</th>\n",
       "      <th>total_distance</th>\n",
       "      <th>total_duration</th>\n",
       "      <th>rides_count</th>\n",
       "      <th>subscription_type</th>\n",
       "      <th>minute_price</th>\n",
       "      <th>subscription_fee</th>\n",
       "      <th>month_cost</th>\n",
       "    </tr>\n",
       "  </thead>\n",
       "  <tbody>\n",
       "    <tr>\n",
       "      <th>4533</th>\n",
       "      <td>700</td>\n",
       "      <td>1</td>\n",
       "      <td>2516.0</td>\n",
       "      <td>15.0</td>\n",
       "      <td>1</td>\n",
       "      <td>free</td>\n",
       "      <td>8</td>\n",
       "      <td>0</td>\n",
       "      <td>170.0</td>\n",
       "    </tr>\n",
       "    <tr>\n",
       "      <th>4534</th>\n",
       "      <td>700</td>\n",
       "      <td>2</td>\n",
       "      <td>13449.0</td>\n",
       "      <td>89.0</td>\n",
       "      <td>5</td>\n",
       "      <td>free</td>\n",
       "      <td>8</td>\n",
       "      <td>0</td>\n",
       "      <td>962.0</td>\n",
       "    </tr>\n",
       "    <tr>\n",
       "      <th>4535</th>\n",
       "      <td>700</td>\n",
       "      <td>3</td>\n",
       "      <td>3799.0</td>\n",
       "      <td>19.0</td>\n",
       "      <td>1</td>\n",
       "      <td>free</td>\n",
       "      <td>8</td>\n",
       "      <td>0</td>\n",
       "      <td>202.0</td>\n",
       "    </tr>\n",
       "    <tr>\n",
       "      <th>4536</th>\n",
       "      <td>700</td>\n",
       "      <td>4</td>\n",
       "      <td>2985.0</td>\n",
       "      <td>16.0</td>\n",
       "      <td>1</td>\n",
       "      <td>free</td>\n",
       "      <td>8</td>\n",
       "      <td>0</td>\n",
       "      <td>178.0</td>\n",
       "    </tr>\n",
       "    <tr>\n",
       "      <th>4537</th>\n",
       "      <td>700</td>\n",
       "      <td>6</td>\n",
       "      <td>5929.0</td>\n",
       "      <td>29.0</td>\n",
       "      <td>2</td>\n",
       "      <td>free</td>\n",
       "      <td>8</td>\n",
       "      <td>0</td>\n",
       "      <td>332.0</td>\n",
       "    </tr>\n",
       "  </tbody>\n",
       "</table>\n",
       "</div>"
      ],
      "text/plain": [
       "      user_id  month  total_distance  total_duration  rides_count  \\\n",
       "4533      700      1          2516.0            15.0            1   \n",
       "4534      700      2         13449.0            89.0            5   \n",
       "4535      700      3          3799.0            19.0            1   \n",
       "4536      700      4          2985.0            16.0            1   \n",
       "4537      700      6          5929.0            29.0            2   \n",
       "\n",
       "     subscription_type  minute_price  subscription_fee  month_cost  \n",
       "4533              free             8                 0       170.0  \n",
       "4534              free             8                 0       962.0  \n",
       "4535              free             8                 0       202.0  \n",
       "4536              free             8                 0       178.0  \n",
       "4537              free             8                 0       332.0  "
      ]
     },
     "execution_count": 32,
     "metadata": {},
     "output_type": "execute_result"
    }
   ],
   "source": [
    "# Группировка по пользователям и месяцам (user_id, month)\n",
    "# Без платной подписки\n",
    "grouped_free_data = grouped_common_data[grouped_common_data['subscription_type'] == 'free']\n",
    "grouped_free_data.head()"
   ]
  },
  {
   "cell_type": "markdown",
   "id": "f282a170",
   "metadata": {},
   "source": []
  },
  {
   "cell_type": "code",
   "execution_count": 33,
   "id": "a6de7046",
   "metadata": {},
   "outputs": [
    {
     "name": "stdout",
     "output_type": "stream",
     "text": [
      "   subscription_type  month  month_cost\n",
      "0               free      1    193850.0\n",
      "5               free      6    192144.0\n",
      "10              free     11    179076.0\n",
      "15             ultra      4    137318.0\n",
      "20             ultra      9    129337.0\n",
      "subscription_type    freefreefreefreefreefreefreefreefreefreefreefr...\n",
      "month                                                              156\n",
      "month_cost                                                   3878641.0\n",
      "dtype: object\n"
     ]
    }
   ],
   "source": [
    "monthly_revenue = grouped_common_data.groupby(['subscription_type', 'month'])['month_cost'].sum().reset_index()\n",
    "print(monthly_revenue[::5])\n",
    "sum_free = monthly_revenue[monthly_revenue['subscription_type'] == 'free'].sum()\n",
    "sum_ultra = monthly_revenue[monthly_revenue['subscription_type'] == 'ultra'].sum()\n",
    "print(sum_free + sum_ultra)"
   ]
  },
  {
   "cell_type": "markdown",
   "id": "31550e3e",
   "metadata": {},
   "source": [
    "<font color='DarkBlue'><b>Комментарий ревьюера</b></font><br>\n",
    "<font color='Red'>🛠 Вот, что написано в задании: <br><b>5.1 Создайте датафрейм с агрегированными данными о поездках на основе датафрейма с объединёнными данными из шага 4: найдите суммарное расстояние, количество поездок и суммарное время для каждого пользователя за каждый месяц.</b> <br>Датафрейм должен создаваться агрегацией датасета созданного в шаге 4, а потом в нем создается колонка с выручкой.</font>"
   ]
  },
  {
   "attachments": {
    "image.png": {
     "image/png": "[encoded data removed]"
    }
   },
   "cell_type": "markdown",
   "id": "81462d44",
   "metadata": {},
   "source": [
    "<font color='DarkBlue'><b>Комментарий ревьюера</b></font><br>\n",
    "<font color='Red'>🛠 Ошибка кода. К сожалению, я не могу продолжить ревью. 😢</font>\n",
    "![image.png](attachment:image.png)"
   ]
  },
  {
   "cell_type": "markdown",
   "id": "9d8ffe92",
   "metadata": {},
   "source": [
    "<div class='alert alert-info'>Исправил ошибку. Переделал функцию, переписал агрегацию.</div>"
   ]
  },
  {
   "cell_type": "markdown",
   "id": "70301ad9",
   "metadata": {},
   "source": [
    "<font color='DarkBlue'><b>Комментарий ревьюера 2</b></font><br>\n",
    "<font color='Red'>🛠 Согласно заданию брифа должен быть создан ОДИН агрегированный датафрейм, а уже из него фильтруются данные по подписке при дальнейшем анализе. И он ранее создан под именем `common`.</font>"
   ]
  },
  {
   "cell_type": "markdown",
   "id": "7145163d",
   "metadata": {},
   "source": [
    "Данные подготовлены. Приступаем к проверке гипотез."
   ]
  },
  {
   "cell_type": "markdown",
   "id": "301326dc",
   "metadata": {},
   "source": [
    "<font color='DarkBlue'><b>Комментарий ревьюера 2</b></font><br>\n",
    "<font color='Red'>🛠 Неправильно сделан расчет выручки.</font>"
   ]
  },
  {
   "cell_type": "code",
   "execution_count": 34,
   "id": "9312e81b",
   "metadata": {},
   "outputs": [
    {
     "name": "stdout",
     "output_type": "stream",
     "text": [
      "Правильное значение суммы выручки 3878641, сумма выручки расчитанная в таблице: 3878641.0\n"
     ]
    }
   ],
   "source": [
    "# Комментарий ревьюера 2\n",
    "# Контроль суммы выручки\n",
    "tmp1, tmp2, col_rev = grouped_free_data.copy(), grouped_ultra_data.copy(), 'month_cost'\n",
    "print(\"Правильное значение суммы выручки 3878641, сумма выручки расчитанная в таблице:\", tmp1[col_rev].sum() + tmp2[col_rev].sum())"
   ]
  },
  {
   "cell_type": "code",
   "execution_count": 35,
   "id": "fe329b3a",
   "metadata": {},
   "outputs": [
    {
     "name": "stdout",
     "output_type": "stream",
     "text": [
      "Правильное значение суммы выручки 3878641, сумма выручки расчитанная в таблице: 3878641.0\n"
     ]
    }
   ],
   "source": [
    "# Комментарий ревьюера 3\n",
    "# Контроль суммы выручки\n",
    "tmp, col_rev = grouped_common_data.copy(), 'month_cost'\n",
    "print(\"Правильное значение суммы выручки 3878641, сумма выручки расчитанная в таблице:\", tmp[col_rev].sum())"
   ]
  },
  {
   "attachments": {
    "image-2.png": {
     "image/png": "[encoded data removed]"
    },
    "image.png": {
     "image/png": "[encoded data removed]"
    }
   },
   "cell_type": "markdown",
   "id": "74761829",
   "metadata": {},
   "source": [
    "<font color='DarkBlue'><b>Комментарий ревьюера 3</b></font><br>\n",
    "<font color='Red'>🛠 Неправильно сделан расчет выручки.<br>Так неправильно создан датафрейм с агрегированными данными, в нем должны быть просуммированы поездки каждого пользователя по месяцам, а тут расчет делается по каждой поездке (см. код ниже). В итоге, абоненсткая плата считается по каждой поездке, а не за месяц. </font>\n",
    "![image-2.png](attachment:image-2.png)\n",
    "<br><font color='Red'>🛠 Вот так должна выглядеть арегированная таблица с выручкой:</font>\n",
    "![image.png](attachment:image.png)"
   ]
  },
  {
   "attachments": {
    "image-2.png": {
     "image/png": "[encoded data removed]"
    },
    "image-3.png": {
     "image/png": "[encoded data removed]"
    },
    "image-5.png": {
     "image/png": "[encoded data removed]"
    },
    "image-6.png": {
     "image/png": "[encoded data removed]"
    }
   },
   "cell_type": "markdown",
   "id": "1d2385f1",
   "metadata": {},
   "source": [
    "<font color='DarkBlue'><b>Комментарий ревьюера 5</b></font><br>\n",
    "<font color='Red'>🛠 Ошибка не исправлена, выручка посчитана не правильно. <br>Необходимым навыком специалиста нашей отрасли является умение находить собственные ошибки. В реальном проекте не будет, ни преподавателя, ни ревьюера. А сдавать заказчику проект с ошибкой чревато неприятными последствиями.<br>Пойдем искать не свои ошибки.<br>Расчет показывает, что в проекте выручка больше, чем должно быть. Воможно, что в датасете лишние строки, проверим дубликаты:<br>\n",
    "![image-2.png](attachment:image-2.png)\n",
    "<br>В таблице с выручкой их нет. Посмотрим дубликаты в таблице, из которой делали агрегированную:\n",
    "![image-3.png](attachment:image-3.png)\n",
    "<br>О! 320 штук дубликатов. Пошли искать откуда они могли взяться. Был у нас датасет с пользователями, проверим его:\n",
    "![image-6.png](attachment:image-6.png)\n",
    "<br>А вот и левые пользователи. Но в предобработке их, вроде, удаляли, посмотрим тот код:\n",
    "![image-5.png](attachment:image-5.png)\n",
    "<br>Ай-я-яй. А эти дубликаты не удалили, так как нет параметра `(inplace= True)`. 😱</font>"
   ]
  },
  {
   "cell_type": "markdown",
   "id": "4976c864",
   "metadata": {},
   "source": [
    "<div class='alert alert-info'>Выручку поправил</div>"
   ]
  },
  {
   "cell_type": "markdown",
   "id": "bdd024b0",
   "metadata": {},
   "source": [
    "<font color='DarkBlue'><b>Комментарий ревьюера 6</b></font><br>\n",
    "<font color='DarkGreen'>👌 Выручку победили.</font>"
   ]
  },
  {
   "cell_type": "markdown",
   "id": "41545ac0",
   "metadata": {},
   "source": [
    "### Шаг 6. Проверка гипотез"
   ]
  },
  {
   "cell_type": "markdown",
   "id": "fe622fa3",
   "metadata": {},
   "source": [
    "μ"
   ]
  },
  {
   "cell_type": "markdown",
   "id": "87c9580d",
   "metadata": {},
   "source": [
    "##### Гипотеза 1\n",
    "<b>Гипотеза H<sub>0</sub></b>: Среднее время поездки пользователей с подпиской меньше или равно среднему времени поездки пользователей без подписки.\n",
    "\n",
    "<b>Гипотеза H<sub>1</sub></b> (альтернативная): Среднее время поездки пользователей с подпиской больше, чем среднее время поездки пользователей без подписки. "
   ]
  },
  {
   "cell_type": "markdown",
   "id": "c31e12e1",
   "metadata": {},
   "source": [
    "<font color='DarkBlue'><b>Комментарий ревьюера 6</b></font><br>\n",
    "<font color='DarkGreen'>👌 Хорошо, исправили.</font>"
   ]
  },
  {
   "attachments": {
    "image.png": {
     "image/png": "[encoded data removed]"
    }
   },
   "cell_type": "markdown",
   "id": "acd30268",
   "metadata": {},
   "source": [
    "<font color='DarkBlue'><b>Комментарий ревьюера 5</b></font><br>\n",
    "<font color='Red'>🛠 Ошибка не исправлена. Не правильно сформулированы гипотезы.</font>\n",
    "![image.png](attachment:image.png)"
   ]
  },
  {
   "cell_type": "markdown",
   "id": "1eaf65ca",
   "metadata": {},
   "source": [
    "<font color='DarkBlue'><b>Комментарий ревьюера 3</b></font><br>\n",
    "<font color='Red'>🛠 Ошибка не исправлена. Неправильно сформулирована нулевая гипотеза, не сформулирована альтернативная гипотеза. </font>"
   ]
  },
  {
   "attachments": {
    "image.png": {
     "image/png": "[encoded data removed]"
    }
   },
   "cell_type": "markdown",
   "id": "bc2db8dc",
   "metadata": {},
   "source": [
    "<font color='DarkBlue'><b>Комментарий ревьюера 2</b></font><br>\n",
    "<font color='Red'>🛠 Неправильно сформулирована нулевая гипотеза, не сформулирована альтернативная гипотеза. Формулировка гипотез должна быть в ячейке Markdown, а не в ячейке кода. Проект должен иметь структуру отделяющую код от комментариев, что делаем и результатов преобразования. В ячейке кода размещаются только комментарии относящиеся непосредственно к коду: описание переменных, подаваемые параметры в функцию, описание возвращаемого значения из функции и т.п. Это ошибка во всем разделе.</font>\n",
    "![image.png](attachment:image.png)"
   ]
  },
  {
   "cell_type": "code",
   "execution_count": 36,
   "id": "112974ef",
   "metadata": {},
   "outputs": [
    {
     "name": "stdout",
     "output_type": "stream",
     "text": [
      "Значение p-value: 2.4959453720736625e-34\n",
      "Отвергаем нулевую гипотезу\n"
     ]
    }
   ],
   "source": [
    "# Проверка\n",
    "# Времена поездок по типу подписки\n",
    "\n",
    "duration_free = common[common['subscription_type'] == 'free']['duration']\n",
    "duration_ultra = common[common['subscription_type'] == 'ultra']['duration']\n",
    "\n",
    "alpha = 0.05 # уровень статистической значимости\n",
    "\n",
    "results = st.ttest_ind(duration_ultra, duration_free, alternative='greater')\n",
    "print(f'Значение p-value: {results.pvalue}')\n",
    "\n",
    "if results.pvalue < alpha:\n",
    "    print('Отвергаем нулевую гипотезу')\n",
    "else:\n",
    "    print('Не получилось отвергнуть нулевую гипотезу') "
   ]
  },
  {
   "cell_type": "markdown",
   "id": "5f74dfcf",
   "metadata": {},
   "source": [
    "<font color='DarkBlue'><b>Комментарий ревьюера 6</b></font><br>\n",
    "<font color='DarkGreen'>👌 Хорошо, теперь правильно.</font>"
   ]
  },
  {
   "cell_type": "markdown",
   "id": "e597f807",
   "metadata": {},
   "source": [
    "Вывод: пользователи с подпиской имеют в среднем большее время поездки чем пользователи без подписки."
   ]
  },
  {
   "cell_type": "markdown",
   "id": "fc96ad3f",
   "metadata": {},
   "source": [
    "<font color='DarkBlue'><b>Комментарий ревьюера 5</b></font><br>\n",
    "<font color='Red'>🛠 Не правильно проводится тестирование. Тестироваться должны выборки с длительность каждой поездки пользователя, а не суммарная за месяц. И почему результат теста равный 1 не смущает?</font>"
   ]
  },
  {
   "cell_type": "code",
   "execution_count": 37,
   "id": "0099bf36",
   "metadata": {},
   "outputs": [
    {
     "data": {
      "text/html": [
       "<div>\n",
       "<style scoped>\n",
       "    .dataframe tbody tr th:only-of-type {\n",
       "        vertical-align: middle;\n",
       "    }\n",
       "\n",
       "    .dataframe tbody tr th {\n",
       "        vertical-align: top;\n",
       "    }\n",
       "\n",
       "    .dataframe thead th {\n",
       "        text-align: right;\n",
       "    }\n",
       "</style>\n",
       "<table border=\"1\" class=\"dataframe\">\n",
       "  <thead>\n",
       "    <tr style=\"text-align: right;\">\n",
       "      <th></th>\n",
       "      <th>user_id</th>\n",
       "      <th>month</th>\n",
       "      <th>total_distance</th>\n",
       "      <th>total_duration</th>\n",
       "      <th>rides_count</th>\n",
       "      <th>subscription_type</th>\n",
       "      <th>minute_price</th>\n",
       "      <th>subscription_fee</th>\n",
       "      <th>month_cost</th>\n",
       "    </tr>\n",
       "  </thead>\n",
       "  <tbody>\n",
       "    <tr>\n",
       "      <th>0</th>\n",
       "      <td>1</td>\n",
       "      <td>1</td>\n",
       "      <td>7028.0</td>\n",
       "      <td>42.0</td>\n",
       "      <td>2</td>\n",
       "      <td>ultra</td>\n",
       "      <td>6</td>\n",
       "      <td>199</td>\n",
       "      <td>451.0</td>\n",
       "    </tr>\n",
       "    <tr>\n",
       "      <th>1</th>\n",
       "      <td>1</td>\n",
       "      <td>4</td>\n",
       "      <td>755.0</td>\n",
       "      <td>7.0</td>\n",
       "      <td>1</td>\n",
       "      <td>ultra</td>\n",
       "      <td>6</td>\n",
       "      <td>199</td>\n",
       "      <td>241.0</td>\n",
       "    </tr>\n",
       "    <tr>\n",
       "      <th>2</th>\n",
       "      <td>1</td>\n",
       "      <td>8</td>\n",
       "      <td>6724.0</td>\n",
       "      <td>46.0</td>\n",
       "      <td>2</td>\n",
       "      <td>ultra</td>\n",
       "      <td>6</td>\n",
       "      <td>199</td>\n",
       "      <td>475.0</td>\n",
       "    </tr>\n",
       "    <tr>\n",
       "      <th>3</th>\n",
       "      <td>1</td>\n",
       "      <td>10</td>\n",
       "      <td>5811.0</td>\n",
       "      <td>32.0</td>\n",
       "      <td>2</td>\n",
       "      <td>ultra</td>\n",
       "      <td>6</td>\n",
       "      <td>199</td>\n",
       "      <td>391.0</td>\n",
       "    </tr>\n",
       "    <tr>\n",
       "      <th>4</th>\n",
       "      <td>1</td>\n",
       "      <td>11</td>\n",
       "      <td>7005.0</td>\n",
       "      <td>56.0</td>\n",
       "      <td>3</td>\n",
       "      <td>ultra</td>\n",
       "      <td>6</td>\n",
       "      <td>199</td>\n",
       "      <td>535.0</td>\n",
       "    </tr>\n",
       "    <tr>\n",
       "      <th>...</th>\n",
       "      <td>...</td>\n",
       "      <td>...</td>\n",
       "      <td>...</td>\n",
       "      <td>...</td>\n",
       "      <td>...</td>\n",
       "      <td>...</td>\n",
       "      <td>...</td>\n",
       "      <td>...</td>\n",
       "      <td>...</td>\n",
       "    </tr>\n",
       "    <tr>\n",
       "      <th>4528</th>\n",
       "      <td>699</td>\n",
       "      <td>6</td>\n",
       "      <td>4073.0</td>\n",
       "      <td>17.0</td>\n",
       "      <td>1</td>\n",
       "      <td>ultra</td>\n",
       "      <td>6</td>\n",
       "      <td>199</td>\n",
       "      <td>301.0</td>\n",
       "    </tr>\n",
       "    <tr>\n",
       "      <th>4529</th>\n",
       "      <td>699</td>\n",
       "      <td>8</td>\n",
       "      <td>7020.0</td>\n",
       "      <td>45.0</td>\n",
       "      <td>2</td>\n",
       "      <td>ultra</td>\n",
       "      <td>6</td>\n",
       "      <td>199</td>\n",
       "      <td>469.0</td>\n",
       "    </tr>\n",
       "    <tr>\n",
       "      <th>4530</th>\n",
       "      <td>699</td>\n",
       "      <td>9</td>\n",
       "      <td>6366.0</td>\n",
       "      <td>31.0</td>\n",
       "      <td>2</td>\n",
       "      <td>ultra</td>\n",
       "      <td>6</td>\n",
       "      <td>199</td>\n",
       "      <td>385.0</td>\n",
       "    </tr>\n",
       "    <tr>\n",
       "      <th>4531</th>\n",
       "      <td>699</td>\n",
       "      <td>10</td>\n",
       "      <td>4708.0</td>\n",
       "      <td>16.0</td>\n",
       "      <td>1</td>\n",
       "      <td>ultra</td>\n",
       "      <td>6</td>\n",
       "      <td>199</td>\n",
       "      <td>295.0</td>\n",
       "    </tr>\n",
       "    <tr>\n",
       "      <th>4532</th>\n",
       "      <td>699</td>\n",
       "      <td>12</td>\n",
       "      <td>3203.0</td>\n",
       "      <td>26.0</td>\n",
       "      <td>1</td>\n",
       "      <td>ultra</td>\n",
       "      <td>6</td>\n",
       "      <td>199</td>\n",
       "      <td>355.0</td>\n",
       "    </tr>\n",
       "  </tbody>\n",
       "</table>\n",
       "<p>4533 rows × 9 columns</p>\n",
       "</div>"
      ],
      "text/plain": [
       "      user_id  month  total_distance  total_duration  rides_count  \\\n",
       "0           1      1          7028.0            42.0            2   \n",
       "1           1      4           755.0             7.0            1   \n",
       "2           1      8          6724.0            46.0            2   \n",
       "3           1     10          5811.0            32.0            2   \n",
       "4           1     11          7005.0            56.0            3   \n",
       "...       ...    ...             ...             ...          ...   \n",
       "4528      699      6          4073.0            17.0            1   \n",
       "4529      699      8          7020.0            45.0            2   \n",
       "4530      699      9          6366.0            31.0            2   \n",
       "4531      699     10          4708.0            16.0            1   \n",
       "4532      699     12          3203.0            26.0            1   \n",
       "\n",
       "     subscription_type  minute_price  subscription_fee  month_cost  \n",
       "0                ultra             6               199       451.0  \n",
       "1                ultra             6               199       241.0  \n",
       "2                ultra             6               199       475.0  \n",
       "3                ultra             6               199       391.0  \n",
       "4                ultra             6               199       535.0  \n",
       "...                ...           ...               ...         ...  \n",
       "4528             ultra             6               199       301.0  \n",
       "4529             ultra             6               199       469.0  \n",
       "4530             ultra             6               199       385.0  \n",
       "4531             ultra             6               199       295.0  \n",
       "4532             ultra             6               199       355.0  \n",
       "\n",
       "[4533 rows x 9 columns]"
      ]
     },
     "execution_count": 37,
     "metadata": {},
     "output_type": "execute_result"
    }
   ],
   "source": [
    "# Комментарий ревьюера 5\n",
    "grouped_ultra_data"
   ]
  },
  {
   "cell_type": "markdown",
   "id": "21935a60",
   "metadata": {},
   "source": [
    "Гипотеза  H<sub>0</sub> подтвердилась: пользователи с подпиской имеют большее среднее время поездок."
   ]
  },
  {
   "cell_type": "markdown",
   "id": "0b3146fd",
   "metadata": {},
   "source": [
    "<font color='DarkBlue'><b>Комментарий ревьюера 2</b></font><br>\n",
    "<font color='Red'>🛠 Необходимо вывести значение results.pvalue.</font>"
   ]
  },
  {
   "cell_type": "markdown",
   "id": "fffd2316",
   "metadata": {},
   "source": [
    "<font color='DarkBlue'><b>Комментарий ревьюера 3</b></font><br>\n",
    "<font color='Red'>🛠 Не корректно сформулирован вывод теста гипотезы. Нулевую отвергаем, а альтернативной нет.</font>"
   ]
  },
  {
   "cell_type": "markdown",
   "id": "7598c24c",
   "metadata": {},
   "source": [
    "<div class='alert alert-info'>Переделал гипотезы, вывод.</div>"
   ]
  },
  {
   "cell_type": "markdown",
   "id": "ffbdfa86",
   "metadata": {},
   "source": [
    "##### Гипотеза 2\n",
    "<b>Гипотеза H<sub>0</sub></b>: Пользователи с подпиской  в среднем проезжают не более 3130 м - что является оптимальным для износа самокатов.\n",
    "\n",
    "<b>Гипотеза H<sub>1</sub></b> (альтернативная): Пользователи с подпиской проезжают <i>больше</i> 3130 м."
   ]
  },
  {
   "attachments": {
    "image.png": {
     "image/png": "[encoded data removed]"
    }
   },
   "cell_type": "markdown",
   "id": "6ff094dc",
   "metadata": {},
   "source": [
    "<font color='DarkBlue'><b>Комментарий ревьюера 5</b></font><br>\n",
    "<font color='DarkMagenta'>👉 Не совсем корректно сформулированы гипотезы, я же специально давал доп.материал по гипотезам. 😢</font>\n",
    "![image.png](attachment:image.png)"
   ]
  },
  {
   "cell_type": "markdown",
   "id": "ae7fa766",
   "metadata": {},
   "source": [
    "<font color='DarkBlue'><b>Комментарий ревьюера 3</b></font><br>\n",
    "<font color='Red'>🛠 Неправильно сформулирована альтернативная гипотеза.</font>"
   ]
  },
  {
   "cell_type": "markdown",
   "id": "e77e03de",
   "metadata": {},
   "source": [
    "<div class='alert alert-info'>Исправил формулировку альтернативной гипотезы.</div>"
   ]
  },
  {
   "cell_type": "markdown",
   "id": "c318e57b",
   "metadata": {},
   "source": [
    "<font color='DarkBlue'><b>Комментарий ревьюера 2</b></font><br>\n",
    "<font color='Red'>🛠 Необходимо сформулировать нулевую и альтернативную гипотезы.</font>"
   ]
  },
  {
   "cell_type": "code",
   "execution_count": 38,
   "id": "c64c15ec",
   "metadata": {},
   "outputs": [
    {
     "name": "stdout",
     "output_type": "stream",
     "text": [
      "count    11568.000000\n",
      "mean      3045.992911\n",
      "std       1246.174341\n",
      "min          1.000000\n",
      "25%       2367.000000\n",
      "50%       3115.000000\n",
      "75%       3906.000000\n",
      "max       7212.000000\n",
      "Name: distance, dtype: float64\n",
      "===============\n",
      "count    6500.000000\n",
      "mean     3115.949231\n",
      "std       836.894838\n",
      "min       245.000000\n",
      "25%      2786.000000\n",
      "50%      3149.000000\n",
      "75%      3561.000000\n",
      "max      5700.000000\n",
      "Name: distance, dtype: float64\n"
     ]
    }
   ],
   "source": [
    "avg_distance_free = common[common['subscription_type'] == 'free']['distance']\n",
    "avg_distance_ultra = common[common['subscription_type'] == 'ultra']['distance']\n",
    "print(avg_distance_free.describe(), avg_distance_ultra.describe(), sep='\\n===============\\n')"
   ]
  },
  {
   "cell_type": "code",
   "execution_count": 39,
   "id": "5b093c8e",
   "metadata": {},
   "outputs": [
    {
     "name": "stdout",
     "output_type": "stream",
     "text": [
      "p-значение: 0.9120422337080507\n",
      "Не отвергаем нулевую гипотезу\n"
     ]
    }
   ],
   "source": [
    "# Проверка\n",
    "optimal_distance = 3130\n",
    "\n",
    "alpha = 0.05 # уровень статистической значимости\n",
    "\n",
    "results = st.ttest_1samp(\n",
    "    avg_distance_ultra, \n",
    "    optimal_distance,\n",
    "      alternative='greater')\n",
    "\n",
    "print('p-значение:', results.pvalue)\n",
    "\n",
    "if (results.pvalue < alpha):\n",
    "    print('Отвергаем нулевую гипотезу')\n",
    "else:\n",
    "    print('Не отвергаем нулевую гипотезу') "
   ]
  },
  {
   "cell_type": "markdown",
   "id": "fd312084",
   "metadata": {},
   "source": [
    "<font color='DarkBlue'><b>Комментарий ревьюера 5</b></font><br>\n",
    "<font color='DarkGreen'>👌 Хорошо, теперь правильно.</font>"
   ]
  },
  {
   "cell_type": "markdown",
   "id": "0f8898e4",
   "metadata": {},
   "source": [
    "<font color='DarkBlue'><b>Комментарий ревьюера 3</b></font><br>\n",
    "<font color='Red'>🛠 Не корректно проводится тестирование, не правильное значение `alternative`. </font>"
   ]
  },
  {
   "cell_type": "markdown",
   "id": "a317fba9",
   "metadata": {},
   "source": [
    "<div class='alert alert-info'>Исправил аlternative.</div>"
   ]
  },
  {
   "cell_type": "markdown",
   "id": "a25644f0",
   "metadata": {},
   "source": [
    "<font color='DarkBlue'><b>Комментарий ревьюера 2</b></font><br>\n",
    "<font color='Red'>🛠 Не корректно проводится тестирование, тестироваться должна выборка, а не ее среднее значение. Т-тест сам определит среднее выборки.</font>"
   ]
  },
  {
   "cell_type": "markdown",
   "id": "b3085b17",
   "metadata": {},
   "source": [
    "<div class='alert alert-info'>Исправил</div>"
   ]
  },
  {
   "cell_type": "markdown",
   "id": "94bafcc3",
   "metadata": {},
   "source": [
    "Пользователи с подпиской в среднем проезжают не более допустимого для оптимальной эксплуатации самокатов."
   ]
  },
  {
   "cell_type": "markdown",
   "id": "cb226c08",
   "metadata": {},
   "source": [
    "##### Гипотеза 3\n",
    "<b>Гипотеза H<sub>0</sub></b>: Помесячная выручка от пользователей с подпиской равна выручке от пользователей без подписки.\n",
    "\n",
    "<b>Гипотеза H<sub>1</sub></b> (альтернативная): Помесячная выручка от пользователей с подпиской больше выручки от пользователей без подписки.\n"
   ]
  },
  {
   "cell_type": "markdown",
   "id": "895145c8",
   "metadata": {},
   "source": [
    "<font color='DarkBlue'><b>Комментарий ревьюера 5</b></font><br>\n",
    "<font color='DarkGreen'>👌 Хорошо, правильно сформулированы гипотезы.</font>"
   ]
  },
  {
   "cell_type": "markdown",
   "id": "888e8cdd",
   "metadata": {},
   "source": [
    "<font color='DarkBlue'><b>Комментарий ревьюера 3</b></font><br>\n",
    "<font color='Red'>🛠 Неправильно сформулированы нулевая и альтернативная гипотезы.</font>"
   ]
  },
  {
   "cell_type": "markdown",
   "id": "713b0338",
   "metadata": {},
   "source": [
    "<font color='DarkBlue'><b>Комментарий ревьюера 2</b></font><br>\n",
    "<font color='Red'>🛠 Необходимо сформулировать нулевую и альтернативную гипотезы.</font>"
   ]
  },
  {
   "cell_type": "code",
   "execution_count": 40,
   "id": "b471309e",
   "metadata": {},
   "outputs": [
    {
     "name": "stdout",
     "output_type": "stream",
     "text": [
      "Суммарная выручка от пользователей ultra 1644537.0, от пользователей free 2234104.0\n"
     ]
    }
   ],
   "source": [
    "# гипотеза Н0: Помесячная выручка от пользователей с подпиской больше\n",
    "\n",
    "# ultra\n",
    "total_cost_ultra = grouped_ultra_data['month_cost'].sum()\n",
    "\n",
    "# free\n",
    "total_cost_free = grouped_free_data['month_cost'].sum()\n",
    "\n",
    "print(f'Суммарная выручка от пользователей ultra {total_cost_ultra.round(2)}, от пользователей free {total_cost_free.round(2)}')"
   ]
  },
  {
   "cell_type": "code",
   "execution_count": 41,
   "id": "c4ef5582",
   "metadata": {},
   "outputs": [
    {
     "name": "stdout",
     "output_type": "stream",
     "text": [
      "p-значение: 1.8850394384715216e-31\n",
      "Отвергаем нулевую гипотезу\n"
     ]
    }
   ],
   "source": [
    "\n",
    "alpha = 0.05 # уровень статистической значимости\n",
    "\n",
    "ultra_revenue = grouped_ultra_data['month_cost']\n",
    "free_revenue = grouped_free_data['month_cost']\n",
    "\n",
    "results = st.ttest_ind(ultra_revenue, free_revenue, alternative='greater')\n",
    "\n",
    "print('p-значение:', results.pvalue)\n",
    "\n",
    "if results.pvalue < alpha:\n",
    "    print('Отвергаем нулевую гипотезу')\n",
    "else:\n",
    "    print('Нулевая гипотеза подтвердилась')"
   ]
  },
  {
   "cell_type": "markdown",
   "id": "6f9a5414",
   "metadata": {},
   "source": [
    "<font color='DarkBlue'><b>Комментарий ревьюера 2</b></font><br>\n",
    "<font color='Red'>🛠 Необходимо вывести значение results.pvalue.</font><br>\n",
    "<font color='Red'>🛠 Не правильно проводится тестирование, тестироваться должны выборки по месячной выручке каждого пользователя, а не суммарная выручка всех пользователей.</font>"
   ]
  },
  {
   "cell_type": "markdown",
   "id": "f9b00557",
   "metadata": {},
   "source": [
    "Получается, что выручка от поьзователей c подпиской больше."
   ]
  },
  {
   "cell_type": "markdown",
   "id": "05421e12",
   "metadata": {},
   "source": [
    "<font color='DarkBlue'><b>Комментарий ревьюера 3</b></font><br>\n",
    "<font color='Red'>🛠 Не корректно сформулирован вывод теста гипотезы.</font>"
   ]
  },
  {
   "cell_type": "markdown",
   "id": "9a202b4a",
   "metadata": {},
   "source": [
    "<div class='alert alert-info'>Исправил</div>"
   ]
  },
  {
   "cell_type": "markdown",
   "id": "3cead39d",
   "metadata": {},
   "source": [
    "<font color='DarkBlue'><b>Комментарий ревьюера 3</b></font><br>\n",
    "<font color='DarkMagenta'>👉 Принцип формулирования нулевой (H0) и альтернативной (H1) гипотез при t-тесте средних двух выборок и выборки и конкретного числа, для двухсторонней и односторонней гипотез:<br>\n",
    "\n",
    "<b>Двухсторонняя гипотеза</b><br>\n",
    "Нулевая гипотеза (H0): Предполагает, что средние значения сравниваемых выборок равны (нет значимой разницы) или, что среднее значение выборки равно конкретному числу.<br>\n",
    "Альтернативная гипотеза (H1): Предполагает, что средние значения сравниваемых выборок не равны (существует значимая разница) или, что среднее значение выборки отличается от конкретного числа.<br>\n",
    "<i>Для двух выборок:</i><br>\n",
    " H0: `μ1 = μ2` (средние значения двух выборок равны)<br>\n",
    " H1: `μ1 ≠ μ2` (средние значения двух выборок не равны)<br>\n",
    "\n",
    "<i>Для выборки и конкретного числа:</i><br>\n",
    "H0: `μ = μ0` (среднее значение выборки равно конкретному числу μ0)<br>\n",
    "H1: `μ ≠ μ0` (среднее значение выборки отличается от конкретного числа μ0)<br>\n",
    "\n",
    "<b>Односторонняя гипотеза</b><br>\n",
    "Нулевая гипотеза (H0): Предполагает, что среднее значение первой выборки (или среднее значение выборки) меньше или равно среднему значению второй выборки (или конкретному числу).<br>\n",
    "Альтернативная гипотеза (H1): Предполагает, что среднее значение первой выборки (или среднее значение выборки) больше среднего значения второй выборки (или конкретного числа).<br>\n",
    "\n",
    "<i>Для двух выборок:</i><br>\n",
    "H0: `μ1 ≤ μ2` (среднее значение первой выборки меньше или равно среднему значению второй выборки)<br>\n",
    "H1: `μ1 > μ2` (среднее значение первой выборки больше среднего значения второй выборки)<br>\n",
    "Или наоборот (в зависимости от формулировки аналитической задачи, задания проекта):<br>\n",
    "H0: `μ1 ≥ μ2` (среднее значение первой выборки не меньше, чем среднее значение второй выборки.) <br>\n",
    "H1: `μ1 < μ2` (среднее значение первой выборки меньше среднего значения второй выборки)<br>\n",
    "\n",
    "<i>Для выборки и конкретного числа:</i><br>\n",
    "H0: `μ ≤ μ0` (среднее значение выборки меньше или равно конкретному числу μ0)<br>\n",
    "H1: `μ > μ0` (среднее значение выборки больше конкретного числа μ0)<br>\n",
    "Или наоборот (в зависимости от формулировки аналитической задачи, задания проекта):<br>\n",
    "H0: `μ ≥ μ0` (среднее значение выборки больше или равно конкретному числу μ0)<br>\n",
    "H1: `μ < μ0` (среднее значение выборки меньше конкретного числа μ0)<br>\n",
    "\n",
    "Необходимо иметь в виду, что при тестировании параметр «alternative» относится к первой выборке в перечне параметров t-теста.\n",
    "</font>"
   ]
  },
  {
   "cell_type": "markdown",
   "id": "d5b7afc4",
   "metadata": {},
   "source": [
    "##### Гипотеза 4\n",
    "Гипотеза об уменьшении заявок отпользователей после обновления серверов\n"
   ]
  },
  {
   "cell_type": "code",
   "execution_count": 42,
   "id": "77d426cd",
   "metadata": {},
   "outputs": [],
   "source": [
    "# Понадобится проверка гипотезе о двух средних одного набора - до и после проведённых изменений\n",
    "\n",
    "# alpha = 0.05  # уровень статистической значимости\n",
    "\n",
    "# results = st.ttest_rel(tickets_before, tickets_after, alternative='less')\n",
    "\n",
    "\n",
    "# print('p-значение:', results.pvalue)\n",
    "\n",
    "# if results.pvalue < alpha:\n",
    "#     print('Отвергаем нулевую гипотезу')\n",
    "# else:\n",
    "#     print('Не получилось отвергнуть нулевую гипотезу')"
   ]
  },
  {
   "cell_type": "markdown",
   "id": "d20fed9b",
   "metadata": {},
   "source": [
    "<font color='DarkBlue'><b>Комментарий ревьюера 2</b></font><br>\n",
    "<font color='Red'>🛠 Не правильно указан параметр `aternative`, так как данный параметр имеет по умолчанию значение `'two-sided'`.</font>"
   ]
  },
  {
   "cell_type": "markdown",
   "id": "a22d2fa6",
   "metadata": {},
   "source": [
    "<div class='alert alert-info'>Исправил</div>"
   ]
  },
  {
   "cell_type": "markdown",
   "id": "d2ce75c1",
   "metadata": {},
   "source": [
    "<font color='DarkBlue'><b>Комментарий ревьюера 3</b></font><br>\n",
    "<font color='DarkMagenta'>👉 Это односторонняя или двусторонняя гипотеза?</font>"
   ]
  },
  {
   "cell_type": "markdown",
   "id": "61213c5e",
   "metadata": {},
   "source": [
    "#### Шаг 7. Распределения"
   ]
  },
  {
   "cell_type": "code",
   "execution_count": 43,
   "id": "95cd1d51",
   "metadata": {},
   "outputs": [],
   "source": [
    "# Что-то я сильно отстаю... хотя задание интересное.. по возможности постараюсь сделать.."
   ]
  },
  {
   "cell_type": "markdown",
   "id": "914c4a40",
   "metadata": {},
   "source": [
    "<font color='DarkBlue'><b>Комментарий ревьюера 2</b></font><br>\n",
    "<font color='DarkMagenta'>👉 Жалко, что не стали делать необязательные задания.</font>"
   ]
  },
  {
   "cell_type": "markdown",
   "id": "33bd6bd8",
   "metadata": {},
   "source": [
    "### Выводы\n",
    "В ходе работы были обработаны данные, произведено объединение таблиц, проверка входных данных. Пропусков и некачественных данных не обнаружено.\n",
    "Анализ данных показал:\n",
    "- Сервис используется по различным городам в целом равномерно;\n",
    "- количество пользователей без подписки превосходит количество пользователей с подпиской, но не кратно;\n",
    "- Средний возраст пользователей 25 лет;\n",
    "- среднее проезжаемое расстояние порядка 3 км;\n",
    "- среднее время пользования 17 мин;\n",
    "По типу подписки видны следующие особенности:\n",
    "- длительность поездок у пользователей без подписки выше чем у пользователей с подпиской, а проезжаемое расстояние в осовном совпадает;\n",
    "Подсчитана средняя выручка по типу подписки, что использовалось при проверке гипотез.\n",
    "\n",
    "###### Проверка гипотез\n",
    "\n",
    "Гипотеза 1: Пользователи с подпиской тратят на поездки больше времени\n",
    "\n",
    "Гипотеза подтвердилась. Пользователи с платной подпиской имеют в среднем более долгие поездки.\n",
    "\n",
    "Гиптеза 2:Пользователи с подпиской в среднем проезжают менее 3130 м - что является оптимальным для износа самокатов\n",
    "\n",
    "Гипотеза подтвердилась, использование самокатов пользователями с подпиской укладывается в оптимальное для эксплуатации самокатов.\n",
    "\n",
    "Гипотеза 3 Помесячная выручка от пользователей с подпиской выше чем от пользователей без подписки\n",
    "\n",
    "Гипотеза подтвердилась, доход от пользователей с подпиской выше чем от пользователей с без подписки.\n",
    "\n",
    "На основании проверенных гипотез можно сделать вывод, что введение подписки приводит к увеличению доходов и не вызывает повышенный износ парка самокатов."
   ]
  },
  {
   "cell_type": "markdown",
   "id": "88975613",
   "metadata": {},
   "source": [
    "<font color='DarkBlue'><b>Комментарий ревьюера 2</b></font><br>\n",
    "<font color='Red'>🛠 Общий вывод исследования должен обобщать весь проект, включая анализ и предобработку данных, и кратко суммировать промежуточные выводы разделов всего исследования.</font>"
   ]
  },
  {
   "attachments": {
    "image.png": {
     "image/png": "[encoded data removed]"
    }
   },
   "cell_type": "markdown",
   "id": "a99fd8b9",
   "metadata": {},
   "source": [
    "<font color='DarkBlue'><b>Заключительный комментарий ревьюера</b></font><br>\n",
    "<font color='DarkGreen'>👌 Евгений!<br></font>\n",
    "<font color='Red'>🛠 Увы, должен прервать ревью из-за ошибки в коде. Настоятельно рекомендую перед отправкой проекта на ревью проверять в JupyterHub исполнение кода тетрадки (см.скрин ниже).<br>\n",
    "Необходимо исправить ошибки, в том числе уже обнаруженные:<br>\n",
    "Проверить пропуски во всех датасетах. Проверить и удалить дубликаты в датасетах. Сделать выводы по разделу предобработки данных. Графики и диаграммы необходимо оформить подписями осей и названием графика/диаграммы на русском языке. Переделать визуализацию частоты встречаемости городов. Необходимо вывести числовые количества пользователей в городах. Рассчитать доли пользователей с подпиской и без. Правильно визуализировать анализ пользователей с подпиской и без. Написать выводы по разделу исследовательского анализа данных. Создать датафрейм с агрегированными данными о поездках на основе датафрейма с объединёнными данными из шага 4.<br>\n",
    "Жду исправленный проект. Если будут трудности, можно обратиться к куратору. </font>\n",
    "![image.png](attachment:image.png)"
   ]
  },
  {
   "cell_type": "markdown",
   "id": "ba659967",
   "metadata": {},
   "source": [
    "<font color='DarkBlue'><b>Заключительный комментарий ревьюера 2</b></font><br><br>\n",
    "<font color='DarkGreen'>👌 Евгений, проект очень хорошо и детально проработан. И дальше так держать!<br></font>\n",
    "<font color='Red'>🛠 Что бы еще лучше сделать проект надо:</font><br>\n",
    "<font color='Red'>🛠 Создать датафрейм с агрегированными данными о поездках на основе датафрейма с объединёнными данными из шага 4. Исправить формулирование гипотез по продолжительности поездок пользователями с подпиской. Переделать проект в соответствии с требованиями к оформлению проекта. При проверке гипотез необходимо выводить значение results.pvalue. Сформулировать гипотезы по среднему расстоянию проезжающему пользователями с подпиской. Переделать задание по тестированию гипотез по среднему расстоянию проезжающему пользователями с подпиской. Сформулировать гипотезы по выручке с подпиской и без. Переделать задание по тестированию гипотез по выручке пользователей с подпиской. Переделать задание по обращениям в техподдержку. <br></font>\n",
    "<font color='DarkMagenta'>👉 При исправлении ошибок и недочетов приобретем дополнительный опыт и навыки!</font><br>\n",
    "<font color='DarkGreen'>👌 Жду окончательный вариант! Удачи. </font>"
   ]
  },
  {
   "cell_type": "markdown",
   "id": "50d7b70e",
   "metadata": {},
   "source": [
    "<div class='alert alert-info'>Исправил вроде бы всё что понял. К 7-му заданию если вольюсь в режим и подтяну все хвосты обязательно вернусь.</div>"
   ]
  },
  {
   "cell_type": "markdown",
   "id": "fff2e207",
   "metadata": {},
   "source": [
    "<font color='DarkBlue'><b>Заключительный комментарий ревьюера 3</b></font><br><br>\n",
    "<font color='DarkGreen'>👌 Евгений, увы, остались еще ошибки.<br></font>\n",
    "<font color='Red'>🛠 Что нужно доделать:</font><br>\n",
    "<font color='Red'>🛠 Правильно создать датафрейм с агрегированными данными о поездках на основе датафрейма с объединёнными данными из шага 4. Переделать расчет выручки. Исправить формулирование гипотез по продолжительности поездок пользователями с подпиской. Написать корректный вывод тестирования гипотез длительности поездок пользователей с подпиской и без. Переделать формулирование гипотез по среднему расстоянию проезжающему пользователями с подпиской. Переделать задание по тестированию гипотез по среднему расстоянию проезжающему пользователями с подпиской. Исправить формулирование гипотез по выручке. Корректно сформулировать вывод теста гипотезы по выручке.<br>Надо будет проверить выводы,  при необходимости  откорректировать.</font><br>\n",
    "<font color='DarkGreen'>👌 Жду исправленный вариант! Успехов.</font>"
   ]
  },
  {
   "cell_type": "markdown",
   "id": "25f1250c",
   "metadata": {},
   "source": [
    "    С выручкой так и не получается. Поездки учтены, данные с примером на картинке совпали, но сумма немного не сходится. Где просчёт - не пойму."
   ]
  },
  {
   "cell_type": "markdown",
   "id": "831d38b3",
   "metadata": {},
   "source": [
    "<font color='DarkBlue'><b>Заключительный комментарий ревьюера 4 (4-тое ревью из 6-ти возможных)</b></font><br>\n",
    "<font color='DarkGreen'>👌 Евгений!<br></font>\n",
    "<font color='Red'>🛠 Опять должен прервать ревью из-за ошибки в коде. Очень настоятельно рекомендую перед отправкой проекта на ревью проверять в JupyterHub исполнение кода тетрадки (см.скрин выше).<br>\n",
    "Жду исправленный проект.</font>"
   ]
  },
  {
   "cell_type": "markdown",
   "id": "50c0d710",
   "metadata": {},
   "source": [
    "<font color='DarkBlue'><b>Заключительный комментарий ревьюера 5 (5-тое ревью из 6-ти возможных)</b></font><br><br>\n",
    "<font color='DarkGreen'>👌 Евгений, остались ошибки.<br></font>\n",
    "<font color='Red'>🛠 Что нужно сделать:</font><br>\n",
    "<font color='Red'>🛠 Переделать расчет выручки. Исправить формулирование гипотез по продолжительности поездок пользователями с подпиской. Переделать задание по тестированию гипотез по продолжительности поездок пользователям с подпиской.<br>Надо будет проверить выводы,  при необходимости  откорректировать.</font><br>\n",
    "<font color='DarkGreen'>👌 Жду исправленный вариант! Успехов.</font>"
   ]
  },
  {
   "attachments": {
    "image.png": {
     "image/png": "[encoded data removed]"
    }
   },
   "cell_type": "markdown",
   "id": "65f8e752",
   "metadata": {},
   "source": [
    "<font color='DarkBlue'><b>Заключительный комментарий ревьюера 6</b></font><br><br>\n",
    "<font color='DarkGreen'>👌 Евгений! Удалось справиться со всеми заданиями в проекте. Молодец! 😄 Спасибо за работу!<br>\n",
    "Входе выполнения проекта научились анализировать первичные данные, проводить обработку датасета, объединять таблицы. Провели самостоятельный исследовательский и статистический анализ. </font><br>\n",
    "<font color='DarkGreen'>👌 Теперь, вперед за новыми знаниями и навыками! Удачи! 😉</font>\n",
    "![image.png](attachment:image.png)"
   ]
  }
 ],
 "metadata": {
  "ExecuteTimeLog": [
   {
    "duration": 54,
    "start_time": "2025-02-27T11:49:38.209Z"
   },
   {
    "duration": 458,
    "start_time": "2025-02-27T11:49:53.360Z"
   },
   {
    "duration": 39,
    "start_time": "2025-02-27T11:49:57.374Z"
   },
   {
    "duration": 112,
    "start_time": "2025-02-27T11:51:44.246Z"
   },
   {
    "duration": 83,
    "start_time": "2025-02-27T11:51:58.014Z"
   },
   {
    "duration": 57,
    "start_time": "2025-02-27T11:58:15.041Z"
   },
   {
    "duration": 29,
    "start_time": "2025-02-27T11:58:47.152Z"
   },
   {
    "duration": 25,
    "start_time": "2025-02-27T12:00:02.460Z"
   },
   {
    "duration": 31,
    "start_time": "2025-02-27T12:00:16.546Z"
   },
   {
    "duration": 10,
    "start_time": "2025-02-27T12:03:49.950Z"
   },
   {
    "duration": 11,
    "start_time": "2025-02-27T12:04:09.236Z"
   },
   {
    "duration": 11,
    "start_time": "2025-02-27T12:04:28.241Z"
   },
   {
    "duration": 17,
    "start_time": "2025-02-27T12:06:24.760Z"
   },
   {
    "duration": 17,
    "start_time": "2025-02-27T12:07:00.683Z"
   },
   {
    "duration": 18,
    "start_time": "2025-02-27T12:07:21.754Z"
   },
   {
    "duration": 77,
    "start_time": "2025-02-27T12:07:30.615Z"
   },
   {
    "duration": 25,
    "start_time": "2025-02-27T12:07:54.468Z"
   },
   {
    "duration": 3,
    "start_time": "2025-02-27T12:08:02.729Z"
   },
   {
    "duration": 102,
    "start_time": "2025-02-27T12:08:02.737Z"
   },
   {
    "duration": 123,
    "start_time": "2025-02-27T12:08:02.841Z"
   },
   {
    "duration": 174,
    "start_time": "2025-02-27T12:08:02.966Z"
   },
   {
    "duration": 29,
    "start_time": "2025-02-27T12:08:03.143Z"
   },
   {
    "duration": 17,
    "start_time": "2025-02-27T12:08:03.174Z"
   },
   {
    "duration": 1141,
    "start_time": "2025-02-27T12:24:20.982Z"
   },
   {
    "duration": 601,
    "start_time": "2025-02-27T12:24:54.565Z"
   },
   {
    "duration": 1204,
    "start_time": "2025-02-27T12:36:58.214Z"
   },
   {
    "duration": 171,
    "start_time": "2025-02-27T12:37:14.858Z"
   },
   {
    "duration": 241,
    "start_time": "2025-02-27T12:37:22.306Z"
   },
   {
    "duration": 140,
    "start_time": "2025-02-27T12:39:30.977Z"
   },
   {
    "duration": 163,
    "start_time": "2025-02-27T12:45:31.032Z"
   },
   {
    "duration": 1250,
    "start_time": "2025-02-27T12:46:22.246Z"
   },
   {
    "duration": 54,
    "start_time": "2025-02-27T12:46:36.463Z"
   },
   {
    "duration": 177,
    "start_time": "2025-02-27T12:47:00.861Z"
   },
   {
    "duration": 190,
    "start_time": "2025-02-27T12:47:30.770Z"
   },
   {
    "duration": 18,
    "start_time": "2025-02-27T14:03:16.063Z"
   },
   {
    "duration": 18,
    "start_time": "2025-02-27T14:04:06.037Z"
   },
   {
    "duration": 27,
    "start_time": "2025-02-27T14:07:04.001Z"
   },
   {
    "duration": 28,
    "start_time": "2025-02-27T14:07:13.070Z"
   },
   {
    "duration": 24,
    "start_time": "2025-02-27T14:13:14.775Z"
   },
   {
    "duration": 38,
    "start_time": "2025-02-27T14:13:28.192Z"
   },
   {
    "duration": 111,
    "start_time": "2025-02-27T14:19:01.590Z"
   },
   {
    "duration": 106,
    "start_time": "2025-02-27T14:19:10.752Z"
   },
   {
    "duration": 129,
    "start_time": "2025-02-27T14:19:52.111Z"
   },
   {
    "duration": 136,
    "start_time": "2025-02-27T14:20:16.828Z"
   },
   {
    "duration": 196,
    "start_time": "2025-02-27T14:24:24.771Z"
   },
   {
    "duration": 203,
    "start_time": "2025-02-27T14:26:33.824Z"
   },
   {
    "duration": 297,
    "start_time": "2025-02-27T14:27:44.764Z"
   },
   {
    "duration": 3,
    "start_time": "2025-02-27T14:31:01.793Z"
   },
   {
    "duration": 18,
    "start_time": "2025-02-27T14:31:23.297Z"
   },
   {
    "duration": 15,
    "start_time": "2025-02-27T14:31:38.187Z"
   },
   {
    "duration": 18,
    "start_time": "2025-02-27T14:31:54.829Z"
   },
   {
    "duration": 19,
    "start_time": "2025-02-27T14:32:16.013Z"
   },
   {
    "duration": 20,
    "start_time": "2025-02-27T14:32:26.402Z"
   },
   {
    "duration": 20,
    "start_time": "2025-02-27T14:32:31.429Z"
   },
   {
    "duration": 1211,
    "start_time": "2025-02-27T14:49:44.575Z"
   },
   {
    "duration": 1098,
    "start_time": "2025-02-27T14:51:41.770Z"
   },
   {
    "duration": 1158,
    "start_time": "2025-02-27T14:52:08.772Z"
   },
   {
    "duration": 1252,
    "start_time": "2025-02-27T14:52:27.880Z"
   },
   {
    "duration": 1153,
    "start_time": "2025-02-27T14:52:54.786Z"
   },
   {
    "duration": 3,
    "start_time": "2025-02-27T14:58:29.385Z"
   },
   {
    "duration": 10,
    "start_time": "2025-02-27T14:58:29.393Z"
   },
   {
    "duration": 47,
    "start_time": "2025-02-27T14:58:29.406Z"
   },
   {
    "duration": 44,
    "start_time": "2025-02-27T14:58:29.455Z"
   },
   {
    "duration": 29,
    "start_time": "2025-02-27T14:58:29.501Z"
   },
   {
    "duration": 18,
    "start_time": "2025-02-27T14:58:29.532Z"
   },
   {
    "duration": 27,
    "start_time": "2025-02-27T14:58:29.552Z"
   },
   {
    "duration": 175,
    "start_time": "2025-02-27T14:58:29.581Z"
   },
   {
    "duration": 141,
    "start_time": "2025-02-27T14:58:29.758Z"
   },
   {
    "duration": 161,
    "start_time": "2025-02-27T14:58:29.901Z"
   },
   {
    "duration": 180,
    "start_time": "2025-02-27T14:58:30.064Z"
   },
   {
    "duration": 172,
    "start_time": "2025-02-27T14:58:30.246Z"
   },
   {
    "duration": 55,
    "start_time": "2025-02-27T14:58:30.420Z"
   },
   {
    "duration": 172,
    "start_time": "2025-02-27T14:58:30.477Z"
   },
   {
    "duration": 227,
    "start_time": "2025-02-27T14:58:30.653Z"
   },
   {
    "duration": 342,
    "start_time": "2025-02-27T14:58:30.882Z"
   },
   {
    "duration": 24,
    "start_time": "2025-02-27T14:58:31.226Z"
   },
   {
    "duration": 20,
    "start_time": "2025-02-27T14:59:00.377Z"
   },
   {
    "duration": 9,
    "start_time": "2025-02-27T15:08:09.792Z"
   },
   {
    "duration": 24,
    "start_time": "2025-02-27T15:08:29.150Z"
   },
   {
    "duration": 9,
    "start_time": "2025-02-27T15:10:30.296Z"
   },
   {
    "duration": 11,
    "start_time": "2025-02-27T15:10:45.595Z"
   },
   {
    "duration": 9,
    "start_time": "2025-02-27T15:11:02.728Z"
   },
   {
    "duration": 8,
    "start_time": "2025-02-27T15:13:39.845Z"
   },
   {
    "duration": 3,
    "start_time": "2025-02-27T15:13:59.831Z"
   },
   {
    "duration": 10,
    "start_time": "2025-02-27T15:13:59.835Z"
   },
   {
    "duration": 45,
    "start_time": "2025-02-27T15:13:59.847Z"
   },
   {
    "duration": 43,
    "start_time": "2025-02-27T15:13:59.893Z"
   },
   {
    "duration": 27,
    "start_time": "2025-02-27T15:13:59.938Z"
   },
   {
    "duration": 31,
    "start_time": "2025-02-27T15:13:59.967Z"
   },
   {
    "duration": 7,
    "start_time": "2025-02-27T15:13:59.999Z"
   },
   {
    "duration": 172,
    "start_time": "2025-02-27T15:14:00.008Z"
   },
   {
    "duration": 136,
    "start_time": "2025-02-27T15:14:00.182Z"
   },
   {
    "duration": 163,
    "start_time": "2025-02-27T15:14:00.320Z"
   },
   {
    "duration": 167,
    "start_time": "2025-02-27T15:14:00.484Z"
   },
   {
    "duration": 173,
    "start_time": "2025-02-27T15:14:00.653Z"
   },
   {
    "duration": 50,
    "start_time": "2025-02-27T15:14:00.828Z"
   },
   {
    "duration": 183,
    "start_time": "2025-02-27T15:14:00.880Z"
   },
   {
    "duration": 226,
    "start_time": "2025-02-27T15:14:01.066Z"
   },
   {
    "duration": 266,
    "start_time": "2025-02-27T15:14:01.293Z"
   },
   {
    "duration": 30,
    "start_time": "2025-02-27T15:14:01.561Z"
   },
   {
    "duration": 4,
    "start_time": "2025-02-27T15:14:01.592Z"
   },
   {
    "duration": 50,
    "start_time": "2025-02-27T15:14:01.598Z"
   },
   {
    "duration": 16,
    "start_time": "2025-02-27T15:14:15.282Z"
   },
   {
    "duration": 86,
    "start_time": "2025-02-27T15:38:27.266Z"
   },
   {
    "duration": 10,
    "start_time": "2025-02-27T15:38:41.098Z"
   },
   {
    "duration": 276,
    "start_time": "2025-02-27T15:39:00.795Z"
   },
   {
    "duration": 3,
    "start_time": "2025-02-27T15:39:31.370Z"
   },
   {
    "duration": 5,
    "start_time": "2025-02-27T15:39:31.377Z"
   },
   {
    "duration": 35,
    "start_time": "2025-02-27T15:39:31.384Z"
   },
   {
    "duration": 43,
    "start_time": "2025-02-27T15:39:31.421Z"
   },
   {
    "duration": 27,
    "start_time": "2025-02-27T15:39:31.466Z"
   },
   {
    "duration": 16,
    "start_time": "2025-02-27T15:39:31.495Z"
   },
   {
    "duration": 19,
    "start_time": "2025-02-27T15:39:31.513Z"
   },
   {
    "duration": 169,
    "start_time": "2025-02-27T15:39:31.534Z"
   },
   {
    "duration": 253,
    "start_time": "2025-02-27T15:39:31.705Z"
   },
   {
    "duration": 162,
    "start_time": "2025-02-27T15:39:31.961Z"
   },
   {
    "duration": 178,
    "start_time": "2025-02-27T15:39:32.125Z"
   },
   {
    "duration": 165,
    "start_time": "2025-02-27T15:39:32.305Z"
   },
   {
    "duration": 38,
    "start_time": "2025-02-27T15:39:32.474Z"
   },
   {
    "duration": 169,
    "start_time": "2025-02-27T15:39:32.514Z"
   },
   {
    "duration": 228,
    "start_time": "2025-02-27T15:39:32.685Z"
   },
   {
    "duration": 242,
    "start_time": "2025-02-27T15:39:32.915Z"
   },
   {
    "duration": 31,
    "start_time": "2025-02-27T15:39:33.158Z"
   },
   {
    "duration": 13,
    "start_time": "2025-02-27T15:39:33.190Z"
   },
   {
    "duration": 43,
    "start_time": "2025-02-27T15:39:33.204Z"
   },
   {
    "duration": 18,
    "start_time": "2025-02-27T15:39:46.629Z"
   },
   {
    "duration": 4755,
    "start_time": "2025-02-27T15:40:55.059Z"
   },
   {
    "duration": 4670,
    "start_time": "2025-02-27T15:41:18.042Z"
   },
   {
    "duration": 25,
    "start_time": "2025-02-27T15:45:00.813Z"
   },
   {
    "duration": 4786,
    "start_time": "2025-02-27T15:46:47.043Z"
   },
   {
    "duration": 4882,
    "start_time": "2025-02-27T15:48:33.756Z"
   },
   {
    "duration": 4604,
    "start_time": "2025-02-27T15:49:06.524Z"
   },
   {
    "duration": 4952,
    "start_time": "2025-02-27T15:49:32.790Z"
   },
   {
    "duration": 4770,
    "start_time": "2025-02-27T15:50:35.140Z"
   },
   {
    "duration": 4910,
    "start_time": "2025-02-27T15:51:34.942Z"
   },
   {
    "duration": 4916,
    "start_time": "2025-02-27T15:51:50.446Z"
   },
   {
    "duration": 35,
    "start_time": "2025-02-27T16:49:19.787Z"
   },
   {
    "duration": 22,
    "start_time": "2025-02-27T16:54:09.954Z"
   },
   {
    "duration": 27,
    "start_time": "2025-02-27T16:54:24.125Z"
   },
   {
    "duration": 25,
    "start_time": "2025-02-27T16:54:44.884Z"
   },
   {
    "duration": 16,
    "start_time": "2025-02-27T16:54:56.325Z"
   },
   {
    "duration": 14,
    "start_time": "2025-02-27T17:04:43.820Z"
   },
   {
    "duration": 30,
    "start_time": "2025-02-27T17:09:33.455Z"
   },
   {
    "duration": 77,
    "start_time": "2025-02-27T17:11:51.765Z"
   },
   {
    "duration": 19,
    "start_time": "2025-02-27T17:12:08.753Z"
   },
   {
    "duration": 43,
    "start_time": "2025-02-27T17:12:19.600Z"
   },
   {
    "duration": 350,
    "start_time": "2025-02-27T17:21:05.381Z"
   },
   {
    "duration": 482,
    "start_time": "2025-02-27T17:21:15.449Z"
   },
   {
    "duration": 384,
    "start_time": "2025-02-27T17:21:38.760Z"
   },
   {
    "duration": 364,
    "start_time": "2025-02-27T17:22:06.612Z"
   },
   {
    "duration": 459,
    "start_time": "2025-02-28T13:10:31.870Z"
   },
   {
    "duration": 2,
    "start_time": "2025-02-28T13:10:32.331Z"
   },
   {
    "duration": 54,
    "start_time": "2025-02-28T13:10:32.335Z"
   },
   {
    "duration": 59,
    "start_time": "2025-02-28T13:10:32.391Z"
   },
   {
    "duration": 30,
    "start_time": "2025-02-28T13:10:32.451Z"
   },
   {
    "duration": 19,
    "start_time": "2025-02-28T13:10:32.482Z"
   },
   {
    "duration": 11,
    "start_time": "2025-02-28T13:10:32.503Z"
   },
   {
    "duration": 662,
    "start_time": "2025-02-28T13:10:32.516Z"
   },
   {
    "duration": 157,
    "start_time": "2025-02-28T13:10:33.180Z"
   },
   {
    "duration": 171,
    "start_time": "2025-02-28T13:10:33.340Z"
   },
   {
    "duration": 250,
    "start_time": "2025-02-28T13:10:33.513Z"
   },
   {
    "duration": 190,
    "start_time": "2025-02-28T13:10:33.765Z"
   },
   {
    "duration": 53,
    "start_time": "2025-02-28T13:10:33.957Z"
   },
   {
    "duration": 176,
    "start_time": "2025-02-28T13:10:34.012Z"
   },
   {
    "duration": 233,
    "start_time": "2025-02-28T13:10:34.190Z"
   },
   {
    "duration": 248,
    "start_time": "2025-02-28T13:10:34.425Z"
   },
   {
    "duration": 23,
    "start_time": "2025-02-28T13:10:34.675Z"
   },
   {
    "duration": 16,
    "start_time": "2025-02-28T13:10:34.700Z"
   },
   {
    "duration": 110,
    "start_time": "2025-02-28T13:10:34.719Z"
   },
   {
    "duration": 0,
    "start_time": "2025-02-28T13:10:34.832Z"
   },
   {
    "duration": 18,
    "start_time": "2025-02-28T13:13:02.932Z"
   },
   {
    "duration": 13,
    "start_time": "2025-02-28T13:13:18.864Z"
   },
   {
    "duration": 426,
    "start_time": "2025-02-28T13:13:37.374Z"
   },
   {
    "duration": 480,
    "start_time": "2025-02-28T13:14:21.439Z"
   },
   {
    "duration": 2,
    "start_time": "2025-02-28T13:22:15.949Z"
   },
   {
    "duration": 3,
    "start_time": "2025-02-28T13:22:15.956Z"
   },
   {
    "duration": 34,
    "start_time": "2025-02-28T13:22:15.961Z"
   },
   {
    "duration": 46,
    "start_time": "2025-02-28T13:22:15.997Z"
   },
   {
    "duration": 29,
    "start_time": "2025-02-28T13:22:16.045Z"
   },
   {
    "duration": 18,
    "start_time": "2025-02-28T13:22:16.075Z"
   },
   {
    "duration": 6,
    "start_time": "2025-02-28T13:22:16.095Z"
   },
   {
    "duration": 189,
    "start_time": "2025-02-28T13:22:16.102Z"
   },
   {
    "duration": 137,
    "start_time": "2025-02-28T13:22:16.293Z"
   },
   {
    "duration": 169,
    "start_time": "2025-02-28T13:22:16.433Z"
   },
   {
    "duration": 180,
    "start_time": "2025-02-28T13:22:16.604Z"
   },
   {
    "duration": 175,
    "start_time": "2025-02-28T13:22:16.786Z"
   },
   {
    "duration": 46,
    "start_time": "2025-02-28T13:22:16.963Z"
   },
   {
    "duration": 179,
    "start_time": "2025-02-28T13:22:17.011Z"
   },
   {
    "duration": 225,
    "start_time": "2025-02-28T13:22:17.192Z"
   },
   {
    "duration": 246,
    "start_time": "2025-02-28T13:22:17.419Z"
   },
   {
    "duration": 22,
    "start_time": "2025-02-28T13:22:17.672Z"
   },
   {
    "duration": 23,
    "start_time": "2025-02-28T13:22:17.696Z"
   },
   {
    "duration": 515,
    "start_time": "2025-02-28T13:22:17.721Z"
   },
   {
    "duration": 1169,
    "start_time": "2025-02-28T13:26:01.129Z"
   },
   {
    "duration": 1220,
    "start_time": "2025-02-28T13:27:25.711Z"
   },
   {
    "duration": 832,
    "start_time": "2025-02-28T13:27:56.869Z"
   },
   {
    "duration": 9,
    "start_time": "2025-02-28T13:30:33.695Z"
   },
   {
    "duration": 9,
    "start_time": "2025-02-28T13:30:40.009Z"
   },
   {
    "duration": 8,
    "start_time": "2025-02-28T13:31:08.849Z"
   },
   {
    "duration": 12,
    "start_time": "2025-02-28T13:37:24.087Z"
   },
   {
    "duration": 74,
    "start_time": "2025-02-28T13:57:33.424Z"
   },
   {
    "duration": 17,
    "start_time": "2025-02-28T13:57:47.719Z"
   },
   {
    "duration": 8,
    "start_time": "2025-02-28T14:00:32.580Z"
   },
   {
    "duration": 18,
    "start_time": "2025-02-28T14:02:03.705Z"
   },
   {
    "duration": 13,
    "start_time": "2025-02-28T14:02:20.647Z"
   },
   {
    "duration": 10,
    "start_time": "2025-02-28T14:06:10.845Z"
   },
   {
    "duration": 10,
    "start_time": "2025-02-28T14:06:25.359Z"
   },
   {
    "duration": 10,
    "start_time": "2025-02-28T14:08:22.889Z"
   },
   {
    "duration": 489,
    "start_time": "2025-02-28T14:08:37.317Z"
   },
   {
    "duration": 6,
    "start_time": "2025-02-28T14:08:43.985Z"
   },
   {
    "duration": 421,
    "start_time": "2025-02-28T15:27:46.899Z"
   },
   {
    "duration": 515,
    "start_time": "2025-02-28T15:41:32.497Z"
   },
   {
    "duration": 425,
    "start_time": "2025-02-28T15:43:09.839Z"
   },
   {
    "duration": 11,
    "start_time": "2025-02-28T15:43:20.685Z"
   },
   {
    "duration": 6,
    "start_time": "2025-02-28T15:43:24.240Z"
   },
   {
    "duration": 9,
    "start_time": "2025-02-28T15:45:40.228Z"
   },
   {
    "duration": 22,
    "start_time": "2025-02-28T15:49:00.689Z"
   },
   {
    "duration": 24,
    "start_time": "2025-02-28T15:49:32.864Z"
   },
   {
    "duration": 3,
    "start_time": "2025-02-28T15:50:12.116Z"
   },
   {
    "duration": 5,
    "start_time": "2025-02-28T15:50:12.124Z"
   },
   {
    "duration": 36,
    "start_time": "2025-02-28T15:50:12.131Z"
   },
   {
    "duration": 44,
    "start_time": "2025-02-28T15:50:12.169Z"
   },
   {
    "duration": 28,
    "start_time": "2025-02-28T15:50:12.215Z"
   },
   {
    "duration": 16,
    "start_time": "2025-02-28T15:50:12.245Z"
   },
   {
    "duration": 10,
    "start_time": "2025-02-28T15:50:12.263Z"
   },
   {
    "duration": 171,
    "start_time": "2025-02-28T15:50:12.275Z"
   },
   {
    "duration": 134,
    "start_time": "2025-02-28T15:50:12.448Z"
   },
   {
    "duration": 157,
    "start_time": "2025-02-28T15:50:12.585Z"
   },
   {
    "duration": 174,
    "start_time": "2025-02-28T15:50:12.743Z"
   },
   {
    "duration": 172,
    "start_time": "2025-02-28T15:50:12.918Z"
   },
   {
    "duration": 38,
    "start_time": "2025-02-28T15:50:13.091Z"
   },
   {
    "duration": 178,
    "start_time": "2025-02-28T15:50:13.131Z"
   },
   {
    "duration": 332,
    "start_time": "2025-02-28T15:50:13.311Z"
   },
   {
    "duration": 245,
    "start_time": "2025-02-28T15:50:13.645Z"
   },
   {
    "duration": 21,
    "start_time": "2025-02-28T15:50:13.891Z"
   },
   {
    "duration": 20,
    "start_time": "2025-02-28T15:50:13.913Z"
   },
   {
    "duration": 42,
    "start_time": "2025-02-28T15:50:13.935Z"
   },
   {
    "duration": 419,
    "start_time": "2025-02-28T15:50:13.979Z"
   },
   {
    "duration": 8,
    "start_time": "2025-02-28T15:50:14.400Z"
   },
   {
    "duration": 11,
    "start_time": "2025-02-28T15:50:14.410Z"
   },
   {
    "duration": 6,
    "start_time": "2025-02-28T15:50:14.423Z"
   },
   {
    "duration": 9,
    "start_time": "2025-02-28T15:50:14.430Z"
   },
   {
    "duration": 3,
    "start_time": "2025-02-28T15:50:14.472Z"
   },
   {
    "duration": 10,
    "start_time": "2025-02-28T15:50:14.477Z"
   },
   {
    "duration": 19,
    "start_time": "2025-02-28T15:51:21.549Z"
   },
   {
    "duration": 23,
    "start_time": "2025-02-28T15:51:40.038Z"
   },
   {
    "duration": 22,
    "start_time": "2025-02-28T15:53:36.880Z"
   },
   {
    "duration": 13,
    "start_time": "2025-02-28T15:55:04.981Z"
   },
   {
    "duration": 25,
    "start_time": "2025-02-28T15:55:26.401Z"
   },
   {
    "duration": 23,
    "start_time": "2025-02-28T15:55:45.585Z"
   },
   {
    "duration": 21,
    "start_time": "2025-02-28T15:55:51.992Z"
   },
   {
    "duration": 23,
    "start_time": "2025-02-28T15:57:09.708Z"
   },
   {
    "duration": 21,
    "start_time": "2025-02-28T15:57:16.127Z"
   },
   {
    "duration": 7,
    "start_time": "2025-02-28T15:57:31.303Z"
   },
   {
    "duration": 21,
    "start_time": "2025-02-28T16:00:44.506Z"
   },
   {
    "duration": 14,
    "start_time": "2025-02-28T16:05:07.426Z"
   },
   {
    "duration": 450,
    "start_time": "2025-02-28T16:07:03.725Z"
   },
   {
    "duration": 6,
    "start_time": "2025-02-28T16:14:52.227Z"
   },
   {
    "duration": 11,
    "start_time": "2025-02-28T16:15:09.257Z"
   },
   {
    "duration": 8,
    "start_time": "2025-02-28T16:15:14.495Z"
   },
   {
    "duration": 10,
    "start_time": "2025-02-28T16:15:48.641Z"
   },
   {
    "duration": 8,
    "start_time": "2025-02-28T16:16:03.483Z"
   },
   {
    "duration": 9,
    "start_time": "2025-02-28T16:16:20.969Z"
   },
   {
    "duration": 6,
    "start_time": "2025-02-28T16:19:04.482Z"
   },
   {
    "duration": 6,
    "start_time": "2025-02-28T16:20:00.217Z"
   },
   {
    "duration": 3,
    "start_time": "2025-02-28T16:22:46.640Z"
   },
   {
    "duration": 6,
    "start_time": "2025-02-28T16:24:53.904Z"
   },
   {
    "duration": 6,
    "start_time": "2025-02-28T16:24:58.300Z"
   },
   {
    "duration": 24,
    "start_time": "2025-02-28T16:43:17.969Z"
   },
   {
    "duration": 13,
    "start_time": "2025-02-28T16:43:37.387Z"
   },
   {
    "duration": 147,
    "start_time": "2025-02-28T16:47:54.341Z"
   },
   {
    "duration": 1241,
    "start_time": "2025-02-28T16:51:48.002Z"
   },
   {
    "duration": 1227,
    "start_time": "2025-02-28T16:52:23.813Z"
   },
   {
    "duration": 158,
    "start_time": "2025-02-28T16:52:43.798Z"
   },
   {
    "duration": 22,
    "start_time": "2025-02-28T17:34:19.771Z"
   },
   {
    "duration": 19,
    "start_time": "2025-02-28T17:36:06.896Z"
   },
   {
    "duration": 24,
    "start_time": "2025-02-28T17:37:34.489Z"
   },
   {
    "duration": 25,
    "start_time": "2025-02-28T17:37:43.477Z"
   },
   {
    "duration": 14,
    "start_time": "2025-02-28T17:49:54.519Z"
   },
   {
    "duration": 6,
    "start_time": "2025-02-28T18:02:30.197Z"
   },
   {
    "duration": 878,
    "start_time": "2025-02-28T18:39:31.549Z"
   },
   {
    "duration": 40,
    "start_time": "2025-02-28T18:39:32.429Z"
   },
   {
    "duration": 184,
    "start_time": "2025-02-28T18:39:32.471Z"
   },
   {
    "duration": 284,
    "start_time": "2025-02-28T18:39:32.657Z"
   },
   {
    "duration": 107,
    "start_time": "2025-02-28T18:39:32.943Z"
   },
   {
    "duration": 16,
    "start_time": "2025-02-28T18:39:33.052Z"
   },
   {
    "duration": 442,
    "start_time": "2025-02-28T18:39:33.069Z"
   },
   {
    "duration": 126,
    "start_time": "2025-02-28T18:39:33.513Z"
   },
   {
    "duration": 149,
    "start_time": "2025-02-28T18:39:33.641Z"
   },
   {
    "duration": 164,
    "start_time": "2025-02-28T18:39:33.793Z"
   },
   {
    "duration": 248,
    "start_time": "2025-02-28T18:39:33.959Z"
   },
   {
    "duration": 37,
    "start_time": "2025-02-28T18:39:34.209Z"
   },
   {
    "duration": 149,
    "start_time": "2025-02-28T18:39:34.255Z"
   },
   {
    "duration": 203,
    "start_time": "2025-02-28T18:39:34.405Z"
   },
   {
    "duration": 254,
    "start_time": "2025-02-28T18:39:34.610Z"
   },
   {
    "duration": 15,
    "start_time": "2025-02-28T18:39:34.866Z"
   },
   {
    "duration": 71,
    "start_time": "2025-02-28T18:39:34.882Z"
   },
   {
    "duration": 19,
    "start_time": "2025-02-28T18:39:34.955Z"
   },
   {
    "duration": 2017,
    "start_time": "2025-02-28T18:39:34.976Z"
   },
   {
    "duration": 0,
    "start_time": "2025-02-28T18:39:36.995Z"
   },
   {
    "duration": 0,
    "start_time": "2025-02-28T18:39:36.997Z"
   },
   {
    "duration": 0,
    "start_time": "2025-02-28T18:39:36.998Z"
   },
   {
    "duration": 0,
    "start_time": "2025-02-28T18:39:37.000Z"
   },
   {
    "duration": 0,
    "start_time": "2025-02-28T18:39:37.001Z"
   },
   {
    "duration": 0,
    "start_time": "2025-02-28T18:39:37.003Z"
   },
   {
    "duration": 0,
    "start_time": "2025-02-28T18:39:37.004Z"
   },
   {
    "duration": 0,
    "start_time": "2025-02-28T18:39:37.005Z"
   },
   {
    "duration": 0,
    "start_time": "2025-02-28T18:39:37.006Z"
   },
   {
    "duration": 0,
    "start_time": "2025-02-28T18:39:37.008Z"
   },
   {
    "duration": 11,
    "start_time": "2025-02-28T19:24:37.709Z"
   },
   {
    "duration": 6,
    "start_time": "2025-02-28T19:24:51.374Z"
   },
   {
    "duration": 10,
    "start_time": "2025-02-28T19:28:21.898Z"
   },
   {
    "duration": 86,
    "start_time": "2025-03-01T06:23:43.220Z"
   },
   {
    "duration": 45,
    "start_time": "2025-03-01T06:23:49.543Z"
   },
   {
    "duration": 813,
    "start_time": "2025-03-01T06:23:57.302Z"
   },
   {
    "duration": 47,
    "start_time": "2025-03-01T06:23:58.117Z"
   },
   {
    "duration": 44,
    "start_time": "2025-03-01T06:23:58.166Z"
   },
   {
    "duration": 32,
    "start_time": "2025-03-01T06:23:58.213Z"
   },
   {
    "duration": 32,
    "start_time": "2025-03-01T06:23:58.247Z"
   },
   {
    "duration": 8,
    "start_time": "2025-03-01T06:23:58.283Z"
   },
   {
    "duration": 24,
    "start_time": "2025-03-01T06:23:58.295Z"
   },
   {
    "duration": 609,
    "start_time": "2025-03-01T06:23:58.321Z"
   },
   {
    "duration": 136,
    "start_time": "2025-03-01T06:23:58.932Z"
   },
   {
    "duration": 155,
    "start_time": "2025-03-01T06:23:59.070Z"
   },
   {
    "duration": 155,
    "start_time": "2025-03-01T06:23:59.227Z"
   },
   {
    "duration": 181,
    "start_time": "2025-03-01T06:23:59.383Z"
   },
   {
    "duration": 36,
    "start_time": "2025-03-01T06:23:59.567Z"
   },
   {
    "duration": 165,
    "start_time": "2025-03-01T06:23:59.605Z"
   },
   {
    "duration": 218,
    "start_time": "2025-03-01T06:23:59.771Z"
   },
   {
    "duration": 324,
    "start_time": "2025-03-01T06:23:59.990Z"
   },
   {
    "duration": 18,
    "start_time": "2025-03-01T06:24:00.315Z"
   },
   {
    "duration": 89,
    "start_time": "2025-03-01T06:24:00.334Z"
   },
   {
    "duration": 81,
    "start_time": "2025-03-01T06:24:00.425Z"
   },
   {
    "duration": 1459,
    "start_time": "2025-03-01T06:24:00.507Z"
   },
   {
    "duration": 0,
    "start_time": "2025-03-01T06:24:01.968Z"
   },
   {
    "duration": 0,
    "start_time": "2025-03-01T06:24:01.970Z"
   },
   {
    "duration": 1,
    "start_time": "2025-03-01T06:24:01.970Z"
   },
   {
    "duration": 0,
    "start_time": "2025-03-01T06:24:01.971Z"
   },
   {
    "duration": 0,
    "start_time": "2025-03-01T06:24:01.973Z"
   },
   {
    "duration": 0,
    "start_time": "2025-03-01T06:24:01.974Z"
   },
   {
    "duration": 0,
    "start_time": "2025-03-01T06:24:01.975Z"
   },
   {
    "duration": 0,
    "start_time": "2025-03-01T06:24:01.976Z"
   },
   {
    "duration": 0,
    "start_time": "2025-03-01T06:24:01.977Z"
   },
   {
    "duration": 0,
    "start_time": "2025-03-01T06:24:01.978Z"
   },
   {
    "duration": 6,
    "start_time": "2025-03-01T06:25:06.730Z"
   },
   {
    "duration": 12,
    "start_time": "2025-03-01T06:26:52.663Z"
   },
   {
    "duration": 7,
    "start_time": "2025-03-01T06:27:02.202Z"
   },
   {
    "duration": 9,
    "start_time": "2025-03-01T07:06:16.018Z"
   },
   {
    "duration": 10,
    "start_time": "2025-03-01T07:06:34.342Z"
   },
   {
    "duration": 18,
    "start_time": "2025-03-01T07:06:46.944Z"
   },
   {
    "duration": 14,
    "start_time": "2025-03-01T07:08:11.805Z"
   },
   {
    "duration": 11,
    "start_time": "2025-03-01T07:08:31.726Z"
   },
   {
    "duration": 11,
    "start_time": "2025-03-01T07:08:48.207Z"
   },
   {
    "duration": 8,
    "start_time": "2025-03-01T07:09:29.616Z"
   },
   {
    "duration": 25,
    "start_time": "2025-03-01T07:09:37.457Z"
   },
   {
    "duration": 7,
    "start_time": "2025-03-01T07:09:53.616Z"
   },
   {
    "duration": 6,
    "start_time": "2025-03-01T07:10:09.821Z"
   },
   {
    "duration": 24,
    "start_time": "2025-03-01T07:11:00.849Z"
   },
   {
    "duration": 34,
    "start_time": "2025-03-01T07:14:47.090Z"
   },
   {
    "duration": 4,
    "start_time": "2025-03-01T07:15:24.691Z"
   },
   {
    "duration": 6,
    "start_time": "2025-03-01T08:09:11.801Z"
   },
   {
    "duration": 9,
    "start_time": "2025-03-01T08:11:11.463Z"
   },
   {
    "duration": 4,
    "start_time": "2025-03-01T08:58:18.256Z"
   },
   {
    "duration": 6,
    "start_time": "2025-03-01T08:58:30.463Z"
   },
   {
    "duration": 12,
    "start_time": "2025-03-01T09:02:43.819Z"
   },
   {
    "duration": 3,
    "start_time": "2025-03-01T09:03:19.098Z"
   },
   {
    "duration": 11,
    "start_time": "2025-03-01T09:03:37.055Z"
   },
   {
    "duration": 3,
    "start_time": "2025-03-01T09:03:59.519Z"
   },
   {
    "duration": 119,
    "start_time": "2025-03-01T09:04:07.831Z"
   },
   {
    "duration": 11,
    "start_time": "2025-03-01T09:06:29.068Z"
   },
   {
    "duration": 10,
    "start_time": "2025-03-01T09:08:38.615Z"
   },
   {
    "duration": 217,
    "start_time": "2025-03-01T09:08:46.069Z"
   },
   {
    "duration": 132,
    "start_time": "2025-03-01T09:09:21.428Z"
   },
   {
    "duration": 140,
    "start_time": "2025-03-01T09:10:10.852Z"
   },
   {
    "duration": 139,
    "start_time": "2025-03-01T09:10:31.775Z"
   },
   {
    "duration": 132,
    "start_time": "2025-03-01T09:11:06.203Z"
   },
   {
    "duration": 204,
    "start_time": "2025-03-01T09:11:56.467Z"
   },
   {
    "duration": 11,
    "start_time": "2025-03-01T10:15:38.546Z"
   },
   {
    "duration": 12,
    "start_time": "2025-03-01T10:16:05.221Z"
   },
   {
    "duration": 78,
    "start_time": "2025-03-01T10:16:31.859Z"
   },
   {
    "duration": 81,
    "start_time": "2025-03-01T11:01:17.594Z"
   },
   {
    "duration": 16,
    "start_time": "2025-03-01T11:03:47.705Z"
   },
   {
    "duration": 8,
    "start_time": "2025-03-01T11:04:29.548Z"
   },
   {
    "duration": 7,
    "start_time": "2025-03-01T11:04:48.775Z"
   },
   {
    "duration": 9,
    "start_time": "2025-03-01T11:07:59.584Z"
   },
   {
    "duration": 3,
    "start_time": "2025-03-01T12:04:30.252Z"
   },
   {
    "duration": 72,
    "start_time": "2025-03-01T12:04:30.257Z"
   },
   {
    "duration": 69,
    "start_time": "2025-03-01T12:04:30.331Z"
   },
   {
    "duration": 33,
    "start_time": "2025-03-01T12:04:30.401Z"
   },
   {
    "duration": 29,
    "start_time": "2025-03-01T12:04:30.435Z"
   },
   {
    "duration": 32,
    "start_time": "2025-03-01T12:04:30.466Z"
   },
   {
    "duration": 11,
    "start_time": "2025-03-01T12:04:30.499Z"
   },
   {
    "duration": 111,
    "start_time": "2025-03-01T12:04:30.511Z"
   },
   {
    "duration": 32,
    "start_time": "2025-03-01T12:04:30.624Z"
   },
   {
    "duration": 9,
    "start_time": "2025-03-01T12:04:30.658Z"
   },
   {
    "duration": 158,
    "start_time": "2025-03-01T12:04:30.668Z"
   },
   {
    "duration": 87,
    "start_time": "2025-03-01T12:04:30.828Z"
   },
   {
    "duration": 8,
    "start_time": "2025-03-01T12:04:30.917Z"
   },
   {
    "duration": 152,
    "start_time": "2025-03-01T12:04:30.927Z"
   },
   {
    "duration": 9,
    "start_time": "2025-03-01T12:04:31.080Z"
   },
   {
    "duration": 41,
    "start_time": "2025-03-01T12:04:31.415Z"
   },
   {
    "duration": 195,
    "start_time": "2025-03-01T12:04:31.458Z"
   },
   {
    "duration": 196,
    "start_time": "2025-03-01T12:04:31.655Z"
   },
   {
    "duration": 324,
    "start_time": "2025-03-01T12:04:31.853Z"
   },
   {
    "duration": 14,
    "start_time": "2025-03-01T12:04:32.179Z"
   },
   {
    "duration": 26,
    "start_time": "2025-03-01T12:04:32.194Z"
   },
   {
    "duration": 35,
    "start_time": "2025-03-01T12:04:32.221Z"
   },
   {
    "duration": 1687,
    "start_time": "2025-03-01T12:04:32.257Z"
   },
   {
    "duration": 0,
    "start_time": "2025-03-01T12:04:33.946Z"
   },
   {
    "duration": 0,
    "start_time": "2025-03-01T12:04:33.947Z"
   },
   {
    "duration": 0,
    "start_time": "2025-03-01T12:04:33.949Z"
   },
   {
    "duration": 0,
    "start_time": "2025-03-01T12:04:33.950Z"
   },
   {
    "duration": 0,
    "start_time": "2025-03-01T12:04:33.951Z"
   },
   {
    "duration": 0,
    "start_time": "2025-03-01T12:04:33.952Z"
   },
   {
    "duration": 0,
    "start_time": "2025-03-01T12:04:33.953Z"
   },
   {
    "duration": 0,
    "start_time": "2025-03-01T12:04:33.954Z"
   },
   {
    "duration": 0,
    "start_time": "2025-03-01T12:04:33.955Z"
   },
   {
    "duration": 0,
    "start_time": "2025-03-01T12:04:33.956Z"
   },
   {
    "duration": 0,
    "start_time": "2025-03-01T12:04:33.958Z"
   },
   {
    "duration": 0,
    "start_time": "2025-03-01T12:04:33.959Z"
   },
   {
    "duration": 157,
    "start_time": "2025-03-01T12:11:25.634Z"
   },
   {
    "duration": 136,
    "start_time": "2025-03-01T12:22:22.077Z"
   },
   {
    "duration": 129,
    "start_time": "2025-03-01T12:22:37.530Z"
   },
   {
    "duration": 137,
    "start_time": "2025-03-01T12:25:12.136Z"
   },
   {
    "duration": 158,
    "start_time": "2025-03-01T12:25:51.138Z"
   },
   {
    "duration": 149,
    "start_time": "2025-03-01T12:29:36.041Z"
   },
   {
    "duration": 248,
    "start_time": "2025-03-01T12:30:16.578Z"
   },
   {
    "duration": 242,
    "start_time": "2025-03-01T12:34:38.424Z"
   },
   {
    "duration": 209,
    "start_time": "2025-03-01T13:48:31.782Z"
   },
   {
    "duration": 134,
    "start_time": "2025-03-01T13:49:03.264Z"
   },
   {
    "duration": 135,
    "start_time": "2025-03-01T13:49:23.095Z"
   },
   {
    "duration": 128,
    "start_time": "2025-03-01T13:49:51.017Z"
   },
   {
    "duration": 157,
    "start_time": "2025-03-01T13:51:43.307Z"
   },
   {
    "duration": 195,
    "start_time": "2025-03-01T13:53:41.506Z"
   },
   {
    "duration": 202,
    "start_time": "2025-03-01T13:55:43.624Z"
   },
   {
    "duration": 18,
    "start_time": "2025-03-01T13:56:32.794Z"
   },
   {
    "duration": 412,
    "start_time": "2025-03-01T13:57:39.530Z"
   },
   {
    "duration": 329,
    "start_time": "2025-03-01T13:57:55.658Z"
   },
   {
    "duration": 3,
    "start_time": "2025-03-01T14:04:58.784Z"
   },
   {
    "duration": 10,
    "start_time": "2025-03-01T14:05:11.178Z"
   },
   {
    "duration": 19,
    "start_time": "2025-03-01T14:05:52.096Z"
   },
   {
    "duration": 9,
    "start_time": "2025-03-01T14:05:55.398Z"
   },
   {
    "duration": 31,
    "start_time": "2025-03-01T14:11:44.362Z"
   },
   {
    "duration": 32,
    "start_time": "2025-03-01T14:12:21.715Z"
   },
   {
    "duration": 10,
    "start_time": "2025-03-01T14:13:08.937Z"
   },
   {
    "duration": 22,
    "start_time": "2025-03-01T14:13:38.382Z"
   },
   {
    "duration": 27,
    "start_time": "2025-03-01T14:14:03.052Z"
   },
   {
    "duration": 9,
    "start_time": "2025-03-01T14:19:44.276Z"
   },
   {
    "duration": 3,
    "start_time": "2025-03-01T14:20:00.822Z"
   },
   {
    "duration": 29,
    "start_time": "2025-03-01T14:20:00.835Z"
   },
   {
    "duration": 39,
    "start_time": "2025-03-01T14:20:00.865Z"
   },
   {
    "duration": 51,
    "start_time": "2025-03-01T14:20:00.905Z"
   },
   {
    "duration": 140,
    "start_time": "2025-03-01T14:20:00.957Z"
   },
   {
    "duration": 4,
    "start_time": "2025-03-01T14:20:01.099Z"
   },
   {
    "duration": 22,
    "start_time": "2025-03-01T14:20:01.104Z"
   },
   {
    "duration": 21,
    "start_time": "2025-03-01T14:20:01.128Z"
   },
   {
    "duration": 19,
    "start_time": "2025-03-01T14:20:01.151Z"
   },
   {
    "duration": 40,
    "start_time": "2025-03-01T14:20:01.171Z"
   },
   {
    "duration": 151,
    "start_time": "2025-03-01T14:20:01.212Z"
   },
   {
    "duration": 88,
    "start_time": "2025-03-01T14:20:01.364Z"
   },
   {
    "duration": 50,
    "start_time": "2025-03-01T14:20:01.453Z"
   },
   {
    "duration": 159,
    "start_time": "2025-03-01T14:20:01.504Z"
   },
   {
    "duration": 8,
    "start_time": "2025-03-01T14:20:01.666Z"
   },
   {
    "duration": 182,
    "start_time": "2025-03-01T14:20:01.675Z"
   },
   {
    "duration": 148,
    "start_time": "2025-03-01T14:20:01.859Z"
   },
   {
    "duration": 41,
    "start_time": "2025-03-01T14:20:02.009Z"
   },
   {
    "duration": 291,
    "start_time": "2025-03-01T14:20:02.051Z"
   },
   {
    "duration": 195,
    "start_time": "2025-03-01T14:20:02.343Z"
   },
   {
    "duration": 312,
    "start_time": "2025-03-01T14:20:02.539Z"
   },
   {
    "duration": 15,
    "start_time": "2025-03-01T14:20:02.852Z"
   },
   {
    "duration": 37,
    "start_time": "2025-03-01T14:20:02.868Z"
   },
   {
    "duration": 162,
    "start_time": "2025-03-01T14:20:02.906Z"
   },
   {
    "duration": 51,
    "start_time": "2025-03-01T14:20:03.070Z"
   },
   {
    "duration": 10,
    "start_time": "2025-03-01T14:20:03.123Z"
   },
   {
    "duration": 0,
    "start_time": "2025-03-01T14:20:03.135Z"
   },
   {
    "duration": 0,
    "start_time": "2025-03-01T14:20:03.136Z"
   },
   {
    "duration": 0,
    "start_time": "2025-03-01T14:20:03.137Z"
   },
   {
    "duration": 0,
    "start_time": "2025-03-01T14:20:03.138Z"
   },
   {
    "duration": 0,
    "start_time": "2025-03-01T14:20:03.139Z"
   },
   {
    "duration": 0,
    "start_time": "2025-03-01T14:20:03.140Z"
   },
   {
    "duration": 0,
    "start_time": "2025-03-01T14:20:03.141Z"
   },
   {
    "duration": 0,
    "start_time": "2025-03-01T14:20:03.142Z"
   },
   {
    "duration": 0,
    "start_time": "2025-03-01T14:20:03.143Z"
   },
   {
    "duration": 0,
    "start_time": "2025-03-01T14:20:03.144Z"
   },
   {
    "duration": 0,
    "start_time": "2025-03-01T14:20:03.144Z"
   },
   {
    "duration": 0,
    "start_time": "2025-03-01T14:20:03.146Z"
   },
   {
    "duration": 0,
    "start_time": "2025-03-01T14:20:03.147Z"
   },
   {
    "duration": 20,
    "start_time": "2025-03-01T14:20:57.001Z"
   },
   {
    "duration": 20,
    "start_time": "2025-03-01T14:22:03.605Z"
   },
   {
    "duration": 9,
    "start_time": "2025-03-01T14:22:29.568Z"
   },
   {
    "duration": 19,
    "start_time": "2025-03-01T14:25:06.525Z"
   },
   {
    "duration": 3,
    "start_time": "2025-03-01T14:25:16.161Z"
   },
   {
    "duration": 8,
    "start_time": "2025-03-01T14:26:34.158Z"
   },
   {
    "duration": 9,
    "start_time": "2025-03-01T14:26:48.506Z"
   },
   {
    "duration": 21,
    "start_time": "2025-03-01T14:28:34.910Z"
   },
   {
    "duration": 21,
    "start_time": "2025-03-01T14:29:56.781Z"
   },
   {
    "duration": 3,
    "start_time": "2025-03-01T14:30:08.961Z"
   },
   {
    "duration": 24,
    "start_time": "2025-03-01T14:30:12.624Z"
   },
   {
    "duration": 8,
    "start_time": "2025-03-01T14:30:34.112Z"
   },
   {
    "duration": 15,
    "start_time": "2025-03-01T14:32:41.299Z"
   },
   {
    "duration": 20,
    "start_time": "2025-03-01T14:34:00.655Z"
   },
   {
    "duration": 11,
    "start_time": "2025-03-01T14:36:11.934Z"
   },
   {
    "duration": 14,
    "start_time": "2025-03-01T14:37:25.672Z"
   },
   {
    "duration": 14,
    "start_time": "2025-03-01T14:37:59.406Z"
   },
   {
    "duration": 12,
    "start_time": "2025-03-01T14:40:18.029Z"
   },
   {
    "duration": 16,
    "start_time": "2025-03-01T14:42:46.838Z"
   },
   {
    "duration": 16,
    "start_time": "2025-03-01T14:42:50.689Z"
   },
   {
    "duration": 21,
    "start_time": "2025-03-01T14:43:03.769Z"
   },
   {
    "duration": 19,
    "start_time": "2025-03-01T14:45:32.989Z"
   },
   {
    "duration": 1283,
    "start_time": "2025-03-01T14:46:42.407Z"
   },
   {
    "duration": 3,
    "start_time": "2025-03-01T14:46:54.710Z"
   },
   {
    "duration": 25,
    "start_time": "2025-03-01T14:50:36.601Z"
   },
   {
    "duration": 9,
    "start_time": "2025-03-01T14:53:07.857Z"
   },
   {
    "duration": 8,
    "start_time": "2025-03-01T14:53:23.075Z"
   },
   {
    "duration": 5,
    "start_time": "2025-03-01T14:53:35.182Z"
   },
   {
    "duration": 4,
    "start_time": "2025-03-01T14:53:53.534Z"
   },
   {
    "duration": 6,
    "start_time": "2025-03-01T14:54:06.168Z"
   },
   {
    "duration": 3,
    "start_time": "2025-03-01T14:56:50.093Z"
   },
   {
    "duration": 5,
    "start_time": "2025-03-01T14:57:29.993Z"
   },
   {
    "duration": 0,
    "start_time": "2025-03-01T14:58:00.861Z"
   },
   {
    "duration": 24,
    "start_time": "2025-03-01T14:58:14.295Z"
   },
   {
    "duration": 7321,
    "start_time": "2025-03-01T14:58:29.179Z"
   },
   {
    "duration": 24,
    "start_time": "2025-03-01T14:58:44.038Z"
   },
   {
    "duration": 0,
    "start_time": "2025-03-01T14:59:17.941Z"
   },
   {
    "duration": 9,
    "start_time": "2025-03-01T14:59:32.006Z"
   },
   {
    "duration": 7292,
    "start_time": "2025-03-01T14:59:36.081Z"
   },
   {
    "duration": 64,
    "start_time": "2025-03-01T15:09:13.778Z"
   },
   {
    "duration": 7387,
    "start_time": "2025-03-01T15:09:46.853Z"
   },
   {
    "duration": 7,
    "start_time": "2025-03-01T15:11:15.252Z"
   },
   {
    "duration": 1221,
    "start_time": "2025-03-01T15:11:24.091Z"
   },
   {
    "duration": 7,
    "start_time": "2025-03-01T15:11:29.745Z"
   },
   {
    "duration": 1188,
    "start_time": "2025-03-01T16:45:47.118Z"
   },
   {
    "duration": 95,
    "start_time": "2025-03-01T16:45:48.310Z"
   },
   {
    "duration": 40,
    "start_time": "2025-03-01T16:45:48.406Z"
   },
   {
    "duration": 24,
    "start_time": "2025-03-01T16:45:48.448Z"
   },
   {
    "duration": 5,
    "start_time": "2025-03-01T16:45:48.473Z"
   },
   {
    "duration": 21,
    "start_time": "2025-03-01T16:45:48.479Z"
   },
   {
    "duration": 10,
    "start_time": "2025-03-01T16:45:48.501Z"
   },
   {
    "duration": 17,
    "start_time": "2025-03-01T16:45:48.512Z"
   },
   {
    "duration": 15,
    "start_time": "2025-03-01T16:45:48.531Z"
   },
   {
    "duration": 8,
    "start_time": "2025-03-01T16:45:48.549Z"
   },
   {
    "duration": 6,
    "start_time": "2025-03-01T16:45:48.559Z"
   },
   {
    "duration": 168,
    "start_time": "2025-03-01T16:45:48.566Z"
   },
   {
    "duration": 114,
    "start_time": "2025-03-01T16:45:48.736Z"
   },
   {
    "duration": 10,
    "start_time": "2025-03-01T16:45:48.852Z"
   },
   {
    "duration": 175,
    "start_time": "2025-03-01T16:45:48.864Z"
   },
   {
    "duration": 9,
    "start_time": "2025-03-01T16:45:49.041Z"
   },
   {
    "duration": 183,
    "start_time": "2025-03-01T16:45:49.051Z"
   },
   {
    "duration": 167,
    "start_time": "2025-03-01T16:45:49.236Z"
   },
   {
    "duration": 36,
    "start_time": "2025-03-01T16:45:49.408Z"
   },
   {
    "duration": 158,
    "start_time": "2025-03-01T16:45:49.446Z"
   },
   {
    "duration": 215,
    "start_time": "2025-03-01T16:45:49.609Z"
   },
   {
    "duration": 230,
    "start_time": "2025-03-01T16:45:49.825Z"
   },
   {
    "duration": 14,
    "start_time": "2025-03-01T16:45:50.057Z"
   },
   {
    "duration": 62,
    "start_time": "2025-03-01T16:45:50.073Z"
   },
   {
    "duration": 16,
    "start_time": "2025-03-01T16:45:50.136Z"
   },
   {
    "duration": 1261,
    "start_time": "2025-03-01T16:45:50.154Z"
   },
   {
    "duration": 0,
    "start_time": "2025-03-01T16:45:51.417Z"
   },
   {
    "duration": 0,
    "start_time": "2025-03-01T16:45:51.419Z"
   },
   {
    "duration": 0,
    "start_time": "2025-03-01T16:45:51.420Z"
   },
   {
    "duration": 0,
    "start_time": "2025-03-01T16:45:51.421Z"
   },
   {
    "duration": 0,
    "start_time": "2025-03-01T16:45:51.422Z"
   },
   {
    "duration": 0,
    "start_time": "2025-03-01T16:45:51.424Z"
   },
   {
    "duration": 0,
    "start_time": "2025-03-01T16:45:51.425Z"
   },
   {
    "duration": 0,
    "start_time": "2025-03-01T16:45:51.426Z"
   },
   {
    "duration": 0,
    "start_time": "2025-03-01T16:45:51.428Z"
   },
   {
    "duration": 161,
    "start_time": "2025-03-01T16:50:24.234Z"
   },
   {
    "duration": 171,
    "start_time": "2025-03-01T16:53:07.111Z"
   },
   {
    "duration": 85,
    "start_time": "2025-03-01T16:53:44.865Z"
   },
   {
    "duration": 3,
    "start_time": "2025-03-01T16:54:22.095Z"
   },
   {
    "duration": 91,
    "start_time": "2025-03-01T16:54:22.103Z"
   },
   {
    "duration": 39,
    "start_time": "2025-03-01T16:54:22.196Z"
   },
   {
    "duration": 28,
    "start_time": "2025-03-01T16:54:22.236Z"
   },
   {
    "duration": 14,
    "start_time": "2025-03-01T16:54:22.265Z"
   },
   {
    "duration": 35,
    "start_time": "2025-03-01T16:54:22.282Z"
   },
   {
    "duration": 6,
    "start_time": "2025-03-01T16:54:22.319Z"
   },
   {
    "duration": 12,
    "start_time": "2025-03-01T16:54:22.327Z"
   },
   {
    "duration": 11,
    "start_time": "2025-03-01T16:54:22.340Z"
   },
   {
    "duration": 9,
    "start_time": "2025-03-01T16:54:22.352Z"
   },
   {
    "duration": 5,
    "start_time": "2025-03-01T16:54:22.363Z"
   },
   {
    "duration": 181,
    "start_time": "2025-03-01T16:54:22.369Z"
   },
   {
    "duration": 96,
    "start_time": "2025-03-01T16:54:22.551Z"
   },
   {
    "duration": 7,
    "start_time": "2025-03-01T16:54:22.649Z"
   },
   {
    "duration": 163,
    "start_time": "2025-03-01T16:54:22.659Z"
   },
   {
    "duration": 9,
    "start_time": "2025-03-01T16:54:22.824Z"
   },
   {
    "duration": 184,
    "start_time": "2025-03-01T16:54:22.834Z"
   },
   {
    "duration": 168,
    "start_time": "2025-03-01T16:54:23.020Z"
   },
   {
    "duration": 43,
    "start_time": "2025-03-01T16:54:23.189Z"
   },
   {
    "duration": 161,
    "start_time": "2025-03-01T16:54:23.234Z"
   },
   {
    "duration": 226,
    "start_time": "2025-03-01T16:54:23.397Z"
   },
   {
    "duration": 238,
    "start_time": "2025-03-01T16:54:23.624Z"
   },
   {
    "duration": 15,
    "start_time": "2025-03-01T16:54:23.864Z"
   },
   {
    "duration": 86,
    "start_time": "2025-03-01T16:54:23.881Z"
   },
   {
    "duration": 13,
    "start_time": "2025-03-01T16:54:23.969Z"
   },
   {
    "duration": 168,
    "start_time": "2025-03-01T16:54:23.984Z"
   },
   {
    "duration": 101,
    "start_time": "2025-03-01T16:54:24.154Z"
   },
   {
    "duration": 7,
    "start_time": "2025-03-01T16:54:24.257Z"
   },
   {
    "duration": 1154,
    "start_time": "2025-03-01T16:54:24.265Z"
   },
   {
    "duration": 0,
    "start_time": "2025-03-01T16:54:25.421Z"
   },
   {
    "duration": 0,
    "start_time": "2025-03-01T16:54:25.422Z"
   },
   {
    "duration": 0,
    "start_time": "2025-03-01T16:54:25.423Z"
   },
   {
    "duration": 0,
    "start_time": "2025-03-01T16:54:25.425Z"
   },
   {
    "duration": 0,
    "start_time": "2025-03-01T16:54:25.426Z"
   },
   {
    "duration": 0,
    "start_time": "2025-03-01T16:54:25.427Z"
   },
   {
    "duration": 0,
    "start_time": "2025-03-01T16:54:25.428Z"
   },
   {
    "duration": 5,
    "start_time": "2025-03-01T17:01:26.233Z"
   },
   {
    "duration": 4,
    "start_time": "2025-03-01T17:01:29.193Z"
   },
   {
    "duration": 9,
    "start_time": "2025-03-01T17:01:56.782Z"
   },
   {
    "duration": 6,
    "start_time": "2025-03-01T17:03:23.463Z"
   },
   {
    "duration": 8,
    "start_time": "2025-03-01T17:03:31.023Z"
   },
   {
    "duration": 1252,
    "start_time": "2025-03-01T17:06:03.925Z"
   },
   {
    "duration": 5,
    "start_time": "2025-03-01T17:07:14.962Z"
   },
   {
    "duration": 5,
    "start_time": "2025-03-01T17:07:18.597Z"
   },
   {
    "duration": 5,
    "start_time": "2025-03-01T17:07:22.726Z"
   },
   {
    "duration": 6,
    "start_time": "2025-03-01T17:07:54.821Z"
   },
   {
    "duration": 9,
    "start_time": "2025-03-01T17:12:09.761Z"
   },
   {
    "duration": 8,
    "start_time": "2025-03-01T17:13:08.857Z"
   },
   {
    "duration": 6,
    "start_time": "2025-03-01T17:13:20.634Z"
   },
   {
    "duration": 9,
    "start_time": "2025-03-01T17:13:35.501Z"
   },
   {
    "duration": 10,
    "start_time": "2025-03-01T17:13:52.970Z"
   },
   {
    "duration": 5,
    "start_time": "2025-03-01T17:14:06.618Z"
   },
   {
    "duration": 5,
    "start_time": "2025-03-01T17:14:17.562Z"
   },
   {
    "duration": 5,
    "start_time": "2025-03-01T17:16:32.585Z"
   },
   {
    "duration": 5,
    "start_time": "2025-03-01T17:16:50.756Z"
   },
   {
    "duration": 3,
    "start_time": "2025-03-01T17:18:10.990Z"
   },
   {
    "duration": 32,
    "start_time": "2025-03-01T17:18:10.999Z"
   },
   {
    "duration": 42,
    "start_time": "2025-03-01T17:18:11.033Z"
   },
   {
    "duration": 34,
    "start_time": "2025-03-01T17:18:11.077Z"
   },
   {
    "duration": 5,
    "start_time": "2025-03-01T17:18:11.112Z"
   },
   {
    "duration": 36,
    "start_time": "2025-03-01T17:18:11.119Z"
   },
   {
    "duration": 3,
    "start_time": "2025-03-01T17:18:11.157Z"
   },
   {
    "duration": 11,
    "start_time": "2025-03-01T17:18:11.162Z"
   },
   {
    "duration": 17,
    "start_time": "2025-03-01T17:18:11.175Z"
   },
   {
    "duration": 19,
    "start_time": "2025-03-01T17:18:11.194Z"
   },
   {
    "duration": 10,
    "start_time": "2025-03-01T17:18:11.215Z"
   },
   {
    "duration": 167,
    "start_time": "2025-03-01T17:18:11.226Z"
   },
   {
    "duration": 171,
    "start_time": "2025-03-01T17:18:11.395Z"
   },
   {
    "duration": 7,
    "start_time": "2025-03-01T17:18:11.567Z"
   },
   {
    "duration": 195,
    "start_time": "2025-03-01T17:18:11.577Z"
   },
   {
    "duration": 8,
    "start_time": "2025-03-01T17:18:11.774Z"
   },
   {
    "duration": 171,
    "start_time": "2025-03-01T17:18:11.783Z"
   },
   {
    "duration": 161,
    "start_time": "2025-03-01T17:18:11.955Z"
   },
   {
    "duration": 33,
    "start_time": "2025-03-01T17:18:12.117Z"
   },
   {
    "duration": 184,
    "start_time": "2025-03-01T17:18:12.152Z"
   },
   {
    "duration": 210,
    "start_time": "2025-03-01T17:18:12.338Z"
   },
   {
    "duration": 223,
    "start_time": "2025-03-01T17:18:12.550Z"
   },
   {
    "duration": 13,
    "start_time": "2025-03-01T17:18:12.775Z"
   },
   {
    "duration": 14,
    "start_time": "2025-03-01T17:18:12.790Z"
   },
   {
    "duration": 23,
    "start_time": "2025-03-01T17:18:12.810Z"
   },
   {
    "duration": 164,
    "start_time": "2025-03-01T17:18:12.835Z"
   },
   {
    "duration": 91,
    "start_time": "2025-03-01T17:18:13.001Z"
   },
   {
    "duration": 3,
    "start_time": "2025-03-01T17:18:13.094Z"
   },
   {
    "duration": 4,
    "start_time": "2025-03-01T17:18:13.110Z"
   },
   {
    "duration": 19,
    "start_time": "2025-03-01T17:18:13.116Z"
   },
   {
    "duration": 5,
    "start_time": "2025-03-01T17:18:13.137Z"
   },
   {
    "duration": 8,
    "start_time": "2025-03-01T17:18:13.143Z"
   },
   {
    "duration": 15,
    "start_time": "2025-03-01T17:18:13.153Z"
   },
   {
    "duration": 10,
    "start_time": "2025-03-01T17:18:13.170Z"
   },
   {
    "duration": 0,
    "start_time": "2025-03-01T17:18:13.181Z"
   },
   {
    "duration": 2,
    "start_time": "2025-03-01T17:18:39.677Z"
   },
   {
    "duration": 1046,
    "start_time": "2025-03-01T18:05:50.180Z"
   },
   {
    "duration": 91,
    "start_time": "2025-03-01T18:05:51.228Z"
   },
   {
    "duration": 44,
    "start_time": "2025-03-01T18:05:51.321Z"
   },
   {
    "duration": 29,
    "start_time": "2025-03-01T18:05:51.368Z"
   },
   {
    "duration": 6,
    "start_time": "2025-03-01T18:05:51.398Z"
   },
   {
    "duration": 24,
    "start_time": "2025-03-01T18:05:51.406Z"
   },
   {
    "duration": 5,
    "start_time": "2025-03-01T18:05:51.432Z"
   },
   {
    "duration": 16,
    "start_time": "2025-03-01T18:05:51.438Z"
   },
   {
    "duration": 16,
    "start_time": "2025-03-01T18:05:51.473Z"
   },
   {
    "duration": 52,
    "start_time": "2025-03-01T18:05:51.492Z"
   },
   {
    "duration": 9,
    "start_time": "2025-03-01T18:05:51.546Z"
   },
   {
    "duration": 165,
    "start_time": "2025-03-01T18:05:51.557Z"
   },
   {
    "duration": 98,
    "start_time": "2025-03-01T18:05:51.724Z"
   },
   {
    "duration": 8,
    "start_time": "2025-03-01T18:05:51.824Z"
   },
   {
    "duration": 169,
    "start_time": "2025-03-01T18:05:51.834Z"
   },
   {
    "duration": 9,
    "start_time": "2025-03-01T18:05:52.004Z"
   },
   {
    "duration": 177,
    "start_time": "2025-03-01T18:05:52.015Z"
   },
   {
    "duration": 170,
    "start_time": "2025-03-01T18:05:52.193Z"
   },
   {
    "duration": 43,
    "start_time": "2025-03-01T18:05:52.365Z"
   },
   {
    "duration": 185,
    "start_time": "2025-03-01T18:05:52.410Z"
   },
   {
    "duration": 227,
    "start_time": "2025-03-01T18:05:52.598Z"
   },
   {
    "duration": 250,
    "start_time": "2025-03-01T18:05:52.827Z"
   },
   {
    "duration": 15,
    "start_time": "2025-03-01T18:05:53.079Z"
   },
   {
    "duration": 26,
    "start_time": "2025-03-01T18:05:53.096Z"
   },
   {
    "duration": 18,
    "start_time": "2025-03-01T18:05:53.124Z"
   },
   {
    "duration": 243,
    "start_time": "2025-03-01T18:05:53.144Z"
   },
   {
    "duration": 98,
    "start_time": "2025-03-01T18:05:53.389Z"
   },
   {
    "duration": 4,
    "start_time": "2025-03-01T18:05:53.490Z"
   },
   {
    "duration": 65,
    "start_time": "2025-03-01T18:05:53.496Z"
   },
   {
    "duration": 15,
    "start_time": "2025-03-01T18:05:53.562Z"
   },
   {
    "duration": 16,
    "start_time": "2025-03-01T18:05:53.578Z"
   },
   {
    "duration": 11,
    "start_time": "2025-03-01T18:05:53.596Z"
   },
   {
    "duration": 21,
    "start_time": "2025-03-01T18:05:53.608Z"
   },
   {
    "duration": 10,
    "start_time": "2025-03-01T18:05:53.630Z"
   },
   {
    "duration": 4,
    "start_time": "2025-03-01T18:05:53.642Z"
   },
   {
    "duration": 189,
    "start_time": "2025-03-01T18:12:51.951Z"
   },
   {
    "duration": 7,
    "start_time": "2025-03-01T18:23:54.138Z"
   },
   {
    "duration": 4,
    "start_time": "2025-03-01T18:52:08.958Z"
   },
   {
    "duration": 1220,
    "start_time": "2025-03-02T07:39:37.481Z"
   },
   {
    "duration": 95,
    "start_time": "2025-03-02T07:39:38.703Z"
   },
   {
    "duration": 45,
    "start_time": "2025-03-02T07:39:38.799Z"
   },
   {
    "duration": 26,
    "start_time": "2025-03-02T07:39:38.845Z"
   },
   {
    "duration": 5,
    "start_time": "2025-03-02T07:39:38.872Z"
   },
   {
    "duration": 29,
    "start_time": "2025-03-02T07:39:38.878Z"
   },
   {
    "duration": 4,
    "start_time": "2025-03-02T07:39:38.908Z"
   },
   {
    "duration": 28,
    "start_time": "2025-03-02T07:39:38.914Z"
   },
   {
    "duration": 61,
    "start_time": "2025-03-02T07:39:38.944Z"
   },
   {
    "duration": 11,
    "start_time": "2025-03-02T07:39:39.009Z"
   },
   {
    "duration": 6,
    "start_time": "2025-03-02T07:39:39.022Z"
   },
   {
    "duration": 146,
    "start_time": "2025-03-02T07:39:39.030Z"
   },
   {
    "duration": 187,
    "start_time": "2025-03-02T07:39:39.177Z"
   },
   {
    "duration": 91,
    "start_time": "2025-03-02T07:39:39.366Z"
   },
   {
    "duration": 7,
    "start_time": "2025-03-02T07:39:39.459Z"
   },
   {
    "duration": 156,
    "start_time": "2025-03-02T07:39:39.467Z"
   },
   {
    "duration": 7,
    "start_time": "2025-03-02T07:39:39.625Z"
   },
   {
    "duration": 165,
    "start_time": "2025-03-02T07:39:39.634Z"
   },
   {
    "duration": 159,
    "start_time": "2025-03-02T07:39:39.801Z"
   },
   {
    "duration": 38,
    "start_time": "2025-03-02T07:39:39.962Z"
   },
   {
    "duration": 172,
    "start_time": "2025-03-02T07:39:40.001Z"
   },
   {
    "duration": 213,
    "start_time": "2025-03-02T07:39:40.175Z"
   },
   {
    "duration": 274,
    "start_time": "2025-03-02T07:39:40.389Z"
   },
   {
    "duration": 13,
    "start_time": "2025-03-02T07:39:40.665Z"
   },
   {
    "duration": 101,
    "start_time": "2025-03-02T07:39:40.679Z"
   },
   {
    "duration": 16,
    "start_time": "2025-03-02T07:39:40.782Z"
   },
   {
    "duration": 145,
    "start_time": "2025-03-02T07:39:40.799Z"
   },
   {
    "duration": 82,
    "start_time": "2025-03-02T07:39:40.947Z"
   },
   {
    "duration": 17,
    "start_time": "2025-03-02T07:39:41.031Z"
   },
   {
    "duration": 4,
    "start_time": "2025-03-02T07:39:41.050Z"
   },
   {
    "duration": 4,
    "start_time": "2025-03-02T07:39:41.056Z"
   },
   {
    "duration": 15,
    "start_time": "2025-03-02T07:39:41.062Z"
   },
   {
    "duration": 117,
    "start_time": "2025-03-02T07:39:41.079Z"
   },
   {
    "duration": 0,
    "start_time": "2025-03-02T07:39:41.198Z"
   },
   {
    "duration": 0,
    "start_time": "2025-03-02T07:39:41.199Z"
   },
   {
    "duration": 0,
    "start_time": "2025-03-02T07:39:41.201Z"
   },
   {
    "duration": 0,
    "start_time": "2025-03-02T07:39:41.202Z"
   },
   {
    "duration": 178,
    "start_time": "2025-03-02T07:40:18.191Z"
   },
   {
    "duration": 83,
    "start_time": "2025-03-02T07:41:06.972Z"
   },
   {
    "duration": 46,
    "start_time": "2025-03-02T14:39:24.507Z"
   },
   {
    "duration": 1208,
    "start_time": "2025-03-02T14:39:42.853Z"
   },
   {
    "duration": 101,
    "start_time": "2025-03-02T14:39:44.064Z"
   },
   {
    "duration": 52,
    "start_time": "2025-03-02T14:39:44.167Z"
   },
   {
    "duration": 24,
    "start_time": "2025-03-02T14:39:44.221Z"
   },
   {
    "duration": 5,
    "start_time": "2025-03-02T14:39:44.246Z"
   },
   {
    "duration": 18,
    "start_time": "2025-03-02T14:39:44.253Z"
   },
   {
    "duration": 4,
    "start_time": "2025-03-02T14:39:44.273Z"
   },
   {
    "duration": 10,
    "start_time": "2025-03-02T14:39:44.279Z"
   },
   {
    "duration": 39,
    "start_time": "2025-03-02T14:39:44.291Z"
   },
   {
    "duration": 9,
    "start_time": "2025-03-02T14:39:44.333Z"
   },
   {
    "duration": 5,
    "start_time": "2025-03-02T14:39:44.343Z"
   },
   {
    "duration": 189,
    "start_time": "2025-03-02T14:39:44.350Z"
   },
   {
    "duration": 191,
    "start_time": "2025-03-02T14:39:44.541Z"
   },
   {
    "duration": 97,
    "start_time": "2025-03-02T14:39:44.733Z"
   },
   {
    "duration": 7,
    "start_time": "2025-03-02T14:39:44.832Z"
   },
   {
    "duration": 170,
    "start_time": "2025-03-02T14:39:44.840Z"
   },
   {
    "duration": 8,
    "start_time": "2025-03-02T14:39:45.012Z"
   },
   {
    "duration": 192,
    "start_time": "2025-03-02T14:39:45.021Z"
   },
   {
    "duration": 165,
    "start_time": "2025-03-02T14:39:45.215Z"
   },
   {
    "duration": 34,
    "start_time": "2025-03-02T14:39:45.382Z"
   },
   {
    "duration": 163,
    "start_time": "2025-03-02T14:39:45.417Z"
   },
   {
    "duration": 219,
    "start_time": "2025-03-02T14:39:45.582Z"
   },
   {
    "duration": 289,
    "start_time": "2025-03-02T14:39:45.803Z"
   },
   {
    "duration": 19,
    "start_time": "2025-03-02T14:39:46.094Z"
   },
   {
    "duration": 15,
    "start_time": "2025-03-02T14:39:46.115Z"
   },
   {
    "duration": 17,
    "start_time": "2025-03-02T14:39:46.132Z"
   },
   {
    "duration": 171,
    "start_time": "2025-03-02T14:39:46.151Z"
   },
   {
    "duration": 82,
    "start_time": "2025-03-02T14:39:46.329Z"
   },
   {
    "duration": 37,
    "start_time": "2025-03-02T14:39:46.413Z"
   },
   {
    "duration": 5,
    "start_time": "2025-03-02T14:39:46.451Z"
   },
   {
    "duration": 4,
    "start_time": "2025-03-02T14:39:46.457Z"
   },
   {
    "duration": 6,
    "start_time": "2025-03-02T14:39:46.462Z"
   },
   {
    "duration": 7,
    "start_time": "2025-03-02T14:39:46.470Z"
   },
   {
    "duration": 97,
    "start_time": "2025-03-02T14:39:46.479Z"
   },
   {
    "duration": 0,
    "start_time": "2025-03-02T14:39:46.578Z"
   },
   {
    "duration": 0,
    "start_time": "2025-03-02T14:39:46.580Z"
   },
   {
    "duration": 0,
    "start_time": "2025-03-02T14:39:46.581Z"
   },
   {
    "duration": 0,
    "start_time": "2025-03-02T14:39:46.582Z"
   },
   {
    "duration": 30,
    "start_time": "2025-03-02T14:40:20.572Z"
   },
   {
    "duration": 90,
    "start_time": "2025-03-02T14:40:46.619Z"
   },
   {
    "duration": 206,
    "start_time": "2025-03-02T14:41:04.732Z"
   },
   {
    "duration": 217,
    "start_time": "2025-03-02T14:41:55.954Z"
   },
   {
    "duration": 210,
    "start_time": "2025-03-02T14:42:24.849Z"
   },
   {
    "duration": 215,
    "start_time": "2025-03-02T14:43:01.845Z"
   },
   {
    "duration": 209,
    "start_time": "2025-03-02T14:43:52.363Z"
   },
   {
    "duration": 210,
    "start_time": "2025-03-02T14:44:20.713Z"
   },
   {
    "duration": 214,
    "start_time": "2025-03-02T14:44:34.170Z"
   },
   {
    "duration": 152,
    "start_time": "2025-03-02T14:45:49.335Z"
   },
   {
    "duration": 9,
    "start_time": "2025-03-02T14:46:01.518Z"
   },
   {
    "duration": 17,
    "start_time": "2025-03-02T14:46:34.406Z"
   },
   {
    "duration": 210,
    "start_time": "2025-03-02T14:47:08.976Z"
   },
   {
    "duration": 1186,
    "start_time": "2025-03-02T14:48:06.184Z"
   },
   {
    "duration": 155,
    "start_time": "2025-03-02T14:49:12.205Z"
   },
   {
    "duration": 3,
    "start_time": "2025-03-02T14:50:00.560Z"
   },
   {
    "duration": 28,
    "start_time": "2025-03-02T14:50:00.567Z"
   },
   {
    "duration": 41,
    "start_time": "2025-03-02T14:50:00.597Z"
   },
   {
    "duration": 24,
    "start_time": "2025-03-02T14:50:00.640Z"
   },
   {
    "duration": 38,
    "start_time": "2025-03-02T14:50:00.666Z"
   },
   {
    "duration": 18,
    "start_time": "2025-03-02T14:50:00.706Z"
   },
   {
    "duration": 4,
    "start_time": "2025-03-02T14:50:00.726Z"
   },
   {
    "duration": 23,
    "start_time": "2025-03-02T14:50:00.731Z"
   },
   {
    "duration": 30,
    "start_time": "2025-03-02T14:50:00.755Z"
   },
   {
    "duration": 17,
    "start_time": "2025-03-02T14:50:00.786Z"
   },
   {
    "duration": 5,
    "start_time": "2025-03-02T14:50:00.804Z"
   },
   {
    "duration": 155,
    "start_time": "2025-03-02T14:50:00.811Z"
   },
   {
    "duration": 188,
    "start_time": "2025-03-02T14:50:00.967Z"
   },
   {
    "duration": 100,
    "start_time": "2025-03-02T14:50:01.156Z"
   },
   {
    "duration": 7,
    "start_time": "2025-03-02T14:50:01.259Z"
   },
   {
    "duration": 162,
    "start_time": "2025-03-02T14:50:01.268Z"
   },
   {
    "duration": 8,
    "start_time": "2025-03-02T14:50:01.431Z"
   },
   {
    "duration": 264,
    "start_time": "2025-03-02T14:50:01.441Z"
   },
   {
    "duration": 171,
    "start_time": "2025-03-02T14:50:01.707Z"
   },
   {
    "duration": 34,
    "start_time": "2025-03-02T14:50:01.880Z"
   },
   {
    "duration": 170,
    "start_time": "2025-03-02T14:50:01.916Z"
   },
   {
    "duration": 223,
    "start_time": "2025-03-02T14:50:02.088Z"
   },
   {
    "duration": 318,
    "start_time": "2025-03-02T14:50:02.312Z"
   },
   {
    "duration": 16,
    "start_time": "2025-03-02T14:50:02.631Z"
   },
   {
    "duration": 112,
    "start_time": "2025-03-02T14:50:02.649Z"
   },
   {
    "duration": 51,
    "start_time": "2025-03-02T14:50:02.763Z"
   },
   {
    "duration": 154,
    "start_time": "2025-03-02T14:50:02.815Z"
   },
   {
    "duration": 87,
    "start_time": "2025-03-02T14:50:02.970Z"
   },
   {
    "duration": 216,
    "start_time": "2025-03-02T14:50:03.058Z"
   },
   {
    "duration": 5,
    "start_time": "2025-03-02T14:50:03.275Z"
   },
   {
    "duration": 16,
    "start_time": "2025-03-02T14:50:03.281Z"
   },
   {
    "duration": 4,
    "start_time": "2025-03-02T14:50:03.298Z"
   },
   {
    "duration": 12,
    "start_time": "2025-03-02T14:50:03.303Z"
   },
   {
    "duration": 20,
    "start_time": "2025-03-02T14:50:03.316Z"
   },
   {
    "duration": 0,
    "start_time": "2025-03-02T14:50:03.338Z"
   },
   {
    "duration": 0,
    "start_time": "2025-03-02T14:50:03.338Z"
   },
   {
    "duration": 0,
    "start_time": "2025-03-02T14:50:03.339Z"
   },
   {
    "duration": 0,
    "start_time": "2025-03-02T14:50:03.341Z"
   },
   {
    "duration": 74,
    "start_time": "2025-03-02T14:50:47.751Z"
   },
   {
    "duration": 221,
    "start_time": "2025-03-02T14:50:53.480Z"
   },
   {
    "duration": 239,
    "start_time": "2025-03-02T14:51:07.584Z"
   },
   {
    "duration": 237,
    "start_time": "2025-03-02T14:53:54.879Z"
   },
   {
    "duration": 226,
    "start_time": "2025-03-02T14:54:08.628Z"
   },
   {
    "duration": 237,
    "start_time": "2025-03-02T14:54:22.424Z"
   },
   {
    "duration": 234,
    "start_time": "2025-03-02T14:56:49.330Z"
   },
   {
    "duration": 236,
    "start_time": "2025-03-02T14:58:12.596Z"
   },
   {
    "duration": 7,
    "start_time": "2025-03-02T15:04:55.557Z"
   },
   {
    "duration": 10,
    "start_time": "2025-03-02T15:05:16.953Z"
   },
   {
    "duration": 10,
    "start_time": "2025-03-02T15:06:14.481Z"
   },
   {
    "duration": 9,
    "start_time": "2025-03-02T15:06:27.802Z"
   },
   {
    "duration": 9,
    "start_time": "2025-03-02T15:06:36.590Z"
   },
   {
    "duration": 12,
    "start_time": "2025-03-02T15:08:11.520Z"
   },
   {
    "duration": 14,
    "start_time": "2025-03-02T15:08:53.493Z"
   },
   {
    "duration": 14,
    "start_time": "2025-03-02T15:09:33.028Z"
   },
   {
    "duration": 19,
    "start_time": "2025-03-02T15:09:54.736Z"
   },
   {
    "duration": 250,
    "start_time": "2025-03-02T15:12:12.731Z"
   },
   {
    "duration": 241,
    "start_time": "2025-03-02T15:12:25.270Z"
   },
   {
    "duration": 5,
    "start_time": "2025-03-02T15:16:48.549Z"
   },
   {
    "duration": 5,
    "start_time": "2025-03-02T15:17:31.502Z"
   },
   {
    "duration": 4,
    "start_time": "2025-03-02T15:17:55.693Z"
   },
   {
    "duration": 4,
    "start_time": "2025-03-02T15:17:59.727Z"
   },
   {
    "duration": 5,
    "start_time": "2025-03-02T15:18:48.968Z"
   },
   {
    "duration": 6,
    "start_time": "2025-03-02T15:19:13.686Z"
   },
   {
    "duration": 5,
    "start_time": "2025-03-02T15:19:24.559Z"
   },
   {
    "duration": 9,
    "start_time": "2025-03-02T15:25:04.895Z"
   },
   {
    "duration": 4,
    "start_time": "2025-03-02T15:25:52.392Z"
   },
   {
    "duration": 11,
    "start_time": "2025-03-02T15:25:54.151Z"
   },
   {
    "duration": 7,
    "start_time": "2025-03-02T15:32:57.932Z"
   },
   {
    "duration": 13,
    "start_time": "2025-03-02T15:33:24.914Z"
   },
   {
    "duration": 13,
    "start_time": "2025-03-02T15:33:46.394Z"
   },
   {
    "duration": 11,
    "start_time": "2025-03-02T15:33:51.129Z"
   },
   {
    "duration": 16,
    "start_time": "2025-03-02T15:34:45.161Z"
   },
   {
    "duration": 14,
    "start_time": "2025-03-02T15:34:51.723Z"
   },
   {
    "duration": 14,
    "start_time": "2025-03-02T15:35:03.043Z"
   },
   {
    "duration": 5,
    "start_time": "2025-03-02T15:35:38.544Z"
   },
   {
    "duration": 5,
    "start_time": "2025-03-02T15:41:46.588Z"
   },
   {
    "duration": 2,
    "start_time": "2025-03-02T15:43:16.862Z"
   },
   {
    "duration": 43,
    "start_time": "2025-03-02T15:43:16.867Z"
   },
   {
    "duration": 63,
    "start_time": "2025-03-02T15:43:16.912Z"
   },
   {
    "duration": 23,
    "start_time": "2025-03-02T15:43:16.976Z"
   },
   {
    "duration": 4,
    "start_time": "2025-03-02T15:43:17.000Z"
   },
   {
    "duration": 19,
    "start_time": "2025-03-02T15:43:17.006Z"
   },
   {
    "duration": 3,
    "start_time": "2025-03-02T15:43:17.026Z"
   },
   {
    "duration": 37,
    "start_time": "2025-03-02T15:43:17.031Z"
   },
   {
    "duration": 12,
    "start_time": "2025-03-02T15:43:17.070Z"
   },
   {
    "duration": 6,
    "start_time": "2025-03-02T15:43:17.083Z"
   },
   {
    "duration": 8,
    "start_time": "2025-03-02T15:43:17.091Z"
   },
   {
    "duration": 153,
    "start_time": "2025-03-02T15:43:17.101Z"
   },
   {
    "duration": 185,
    "start_time": "2025-03-02T15:43:17.256Z"
   },
   {
    "duration": 96,
    "start_time": "2025-03-02T15:43:17.443Z"
   },
   {
    "duration": 8,
    "start_time": "2025-03-02T15:43:17.541Z"
   },
   {
    "duration": 154,
    "start_time": "2025-03-02T15:43:17.550Z"
   },
   {
    "duration": 8,
    "start_time": "2025-03-02T15:43:17.705Z"
   },
   {
    "duration": 164,
    "start_time": "2025-03-02T15:43:17.714Z"
   },
   {
    "duration": 156,
    "start_time": "2025-03-02T15:43:17.880Z"
   },
   {
    "duration": 36,
    "start_time": "2025-03-02T15:43:18.038Z"
   },
   {
    "duration": 155,
    "start_time": "2025-03-02T15:43:18.075Z"
   },
   {
    "duration": 204,
    "start_time": "2025-03-02T15:43:18.231Z"
   },
   {
    "duration": 289,
    "start_time": "2025-03-02T15:43:18.436Z"
   },
   {
    "duration": 14,
    "start_time": "2025-03-02T15:43:18.729Z"
   },
   {
    "duration": 5,
    "start_time": "2025-03-02T15:43:18.744Z"
   },
   {
    "duration": 15,
    "start_time": "2025-03-02T15:43:18.750Z"
   },
   {
    "duration": 164,
    "start_time": "2025-03-02T15:43:18.766Z"
   },
   {
    "duration": 81,
    "start_time": "2025-03-02T15:43:18.931Z"
   },
   {
    "duration": 247,
    "start_time": "2025-03-02T15:43:19.013Z"
   },
   {
    "duration": 12,
    "start_time": "2025-03-02T15:43:19.261Z"
   },
   {
    "duration": 18,
    "start_time": "2025-03-02T15:43:19.274Z"
   },
   {
    "duration": 4,
    "start_time": "2025-03-02T15:43:19.293Z"
   },
   {
    "duration": 7,
    "start_time": "2025-03-02T15:43:19.298Z"
   },
   {
    "duration": 6,
    "start_time": "2025-03-02T15:43:19.306Z"
   },
   {
    "duration": 28,
    "start_time": "2025-03-02T15:43:19.314Z"
   },
   {
    "duration": 6,
    "start_time": "2025-03-02T15:43:19.343Z"
   },
   {
    "duration": 28,
    "start_time": "2025-03-02T15:43:19.350Z"
   },
   {
    "duration": 17,
    "start_time": "2025-03-02T15:43:19.380Z"
   },
   {
    "duration": 3,
    "start_time": "2025-03-02T15:43:19.398Z"
   },
   {
    "duration": 3,
    "start_time": "2025-03-02T15:43:19.402Z"
   },
   {
    "duration": 1211,
    "start_time": "2025-03-02T20:10:05.207Z"
   },
   {
    "duration": 98,
    "start_time": "2025-03-02T20:10:06.420Z"
   },
   {
    "duration": 44,
    "start_time": "2025-03-02T20:10:06.520Z"
   },
   {
    "duration": 35,
    "start_time": "2025-03-02T20:10:06.566Z"
   },
   {
    "duration": 6,
    "start_time": "2025-03-02T20:10:06.603Z"
   },
   {
    "duration": 22,
    "start_time": "2025-03-02T20:10:06.611Z"
   },
   {
    "duration": 5,
    "start_time": "2025-03-02T20:10:06.634Z"
   },
   {
    "duration": 27,
    "start_time": "2025-03-02T20:10:06.641Z"
   },
   {
    "duration": 24,
    "start_time": "2025-03-02T20:10:06.670Z"
   },
   {
    "duration": 13,
    "start_time": "2025-03-02T20:10:06.697Z"
   },
   {
    "duration": 22,
    "start_time": "2025-03-02T20:10:06.712Z"
   },
   {
    "duration": 194,
    "start_time": "2025-03-02T20:10:06.735Z"
   },
   {
    "duration": 223,
    "start_time": "2025-03-02T20:10:06.931Z"
   },
   {
    "duration": 114,
    "start_time": "2025-03-02T20:10:07.155Z"
   },
   {
    "duration": 17,
    "start_time": "2025-03-02T20:10:07.271Z"
   },
   {
    "duration": 179,
    "start_time": "2025-03-02T20:10:07.290Z"
   },
   {
    "duration": 18,
    "start_time": "2025-03-02T20:10:07.471Z"
   },
   {
    "duration": 210,
    "start_time": "2025-03-02T20:10:07.491Z"
   },
   {
    "duration": 189,
    "start_time": "2025-03-02T20:10:07.703Z"
   },
   {
    "duration": 45,
    "start_time": "2025-03-02T20:10:07.893Z"
   },
   {
    "duration": 204,
    "start_time": "2025-03-02T20:10:07.940Z"
   },
   {
    "duration": 252,
    "start_time": "2025-03-02T20:10:08.146Z"
   },
   {
    "duration": 350,
    "start_time": "2025-03-02T20:10:08.400Z"
   },
   {
    "duration": 28,
    "start_time": "2025-03-02T20:10:08.752Z"
   },
   {
    "duration": 7,
    "start_time": "2025-03-02T20:10:08.782Z"
   },
   {
    "duration": 17,
    "start_time": "2025-03-02T20:10:08.791Z"
   },
   {
    "duration": 201,
    "start_time": "2025-03-02T20:10:08.809Z"
   },
   {
    "duration": 104,
    "start_time": "2025-03-02T20:10:09.013Z"
   },
   {
    "duration": 297,
    "start_time": "2025-03-02T20:10:09.119Z"
   },
   {
    "duration": 14,
    "start_time": "2025-03-02T20:10:09.417Z"
   },
   {
    "duration": 5,
    "start_time": "2025-03-02T20:10:09.433Z"
   },
   {
    "duration": 7,
    "start_time": "2025-03-02T20:10:09.439Z"
   },
   {
    "duration": 33,
    "start_time": "2025-03-02T20:10:09.448Z"
   },
   {
    "duration": 6,
    "start_time": "2025-03-02T20:10:09.487Z"
   },
   {
    "duration": 20,
    "start_time": "2025-03-02T20:10:09.495Z"
   },
   {
    "duration": 6,
    "start_time": "2025-03-02T20:10:09.518Z"
   },
   {
    "duration": 10,
    "start_time": "2025-03-02T20:10:09.526Z"
   },
   {
    "duration": 7,
    "start_time": "2025-03-02T20:10:09.538Z"
   },
   {
    "duration": 40,
    "start_time": "2025-03-02T20:10:09.547Z"
   },
   {
    "duration": 3,
    "start_time": "2025-03-02T20:10:09.589Z"
   },
   {
    "duration": 21,
    "start_time": "2025-03-02T20:28:15.120Z"
   },
   {
    "duration": 5,
    "start_time": "2025-03-02T20:28:40.537Z"
   },
   {
    "duration": 7,
    "start_time": "2025-03-02T20:44:41.783Z"
   },
   {
    "duration": 10,
    "start_time": "2025-03-02T20:45:20.868Z"
   },
   {
    "duration": 1263,
    "start_time": "2025-03-03T05:33:18.729Z"
   },
   {
    "duration": 108,
    "start_time": "2025-03-03T05:33:19.994Z"
   },
   {
    "duration": 42,
    "start_time": "2025-03-03T05:33:20.103Z"
   },
   {
    "duration": 26,
    "start_time": "2025-03-03T05:33:20.147Z"
   },
   {
    "duration": 5,
    "start_time": "2025-03-03T05:33:20.174Z"
   },
   {
    "duration": 19,
    "start_time": "2025-03-03T05:33:20.181Z"
   },
   {
    "duration": 15,
    "start_time": "2025-03-03T05:33:20.201Z"
   },
   {
    "duration": 7,
    "start_time": "2025-03-03T05:33:20.217Z"
   },
   {
    "duration": 12,
    "start_time": "2025-03-03T05:33:20.226Z"
   },
   {
    "duration": 9,
    "start_time": "2025-03-03T05:33:20.240Z"
   },
   {
    "duration": 5,
    "start_time": "2025-03-03T05:33:20.251Z"
   },
   {
    "duration": 212,
    "start_time": "2025-03-03T05:33:20.258Z"
   },
   {
    "duration": 201,
    "start_time": "2025-03-03T05:33:20.472Z"
   },
   {
    "duration": 105,
    "start_time": "2025-03-03T05:33:20.675Z"
   },
   {
    "duration": 9,
    "start_time": "2025-03-03T05:33:20.782Z"
   },
   {
    "duration": 168,
    "start_time": "2025-03-03T05:33:20.792Z"
   },
   {
    "duration": 10,
    "start_time": "2025-03-03T05:33:20.961Z"
   },
   {
    "duration": 178,
    "start_time": "2025-03-03T05:33:20.973Z"
   },
   {
    "duration": 167,
    "start_time": "2025-03-03T05:33:21.153Z"
   },
   {
    "duration": 38,
    "start_time": "2025-03-03T05:33:21.322Z"
   },
   {
    "duration": 188,
    "start_time": "2025-03-03T05:33:21.362Z"
   },
   {
    "duration": 234,
    "start_time": "2025-03-03T05:33:21.552Z"
   },
   {
    "duration": 327,
    "start_time": "2025-03-03T05:33:21.787Z"
   },
   {
    "duration": 16,
    "start_time": "2025-03-03T05:33:22.115Z"
   },
   {
    "duration": 4,
    "start_time": "2025-03-03T05:33:22.132Z"
   },
   {
    "duration": 15,
    "start_time": "2025-03-03T05:33:22.137Z"
   },
   {
    "duration": 191,
    "start_time": "2025-03-03T05:33:22.154Z"
   },
   {
    "duration": 94,
    "start_time": "2025-03-03T05:33:22.349Z"
   },
   {
    "duration": 275,
    "start_time": "2025-03-03T05:33:22.444Z"
   },
   {
    "duration": 14,
    "start_time": "2025-03-03T05:33:22.721Z"
   },
   {
    "duration": 5,
    "start_time": "2025-03-03T05:33:22.736Z"
   },
   {
    "duration": 4,
    "start_time": "2025-03-03T05:33:22.743Z"
   },
   {
    "duration": 18,
    "start_time": "2025-03-03T05:33:22.748Z"
   },
   {
    "duration": 4,
    "start_time": "2025-03-03T05:33:22.767Z"
   },
   {
    "duration": 42,
    "start_time": "2025-03-03T05:33:22.772Z"
   },
   {
    "duration": 30,
    "start_time": "2025-03-03T05:33:22.816Z"
   },
   {
    "duration": 199,
    "start_time": "2025-03-03T05:33:22.848Z"
   },
   {
    "duration": 6,
    "start_time": "2025-03-03T05:33:23.048Z"
   },
   {
    "duration": 9,
    "start_time": "2025-03-03T05:33:23.055Z"
   },
   {
    "duration": 12,
    "start_time": "2025-03-03T05:33:23.065Z"
   },
   {
    "duration": 13,
    "start_time": "2025-03-03T05:33:23.079Z"
   },
   {
    "duration": 6,
    "start_time": "2025-03-03T05:33:23.094Z"
   },
   {
    "duration": 107,
    "start_time": "2025-03-03T05:36:18.482Z"
   },
   {
    "duration": 260,
    "start_time": "2025-03-03T05:38:19.476Z"
   },
   {
    "duration": 264,
    "start_time": "2025-03-03T05:38:49.120Z"
   },
   {
    "duration": 1357,
    "start_time": "2025-03-03T05:56:20.288Z"
   },
   {
    "duration": 1344,
    "start_time": "2025-03-03T05:57:23.819Z"
   },
   {
    "duration": 43,
    "start_time": "2025-03-03T05:57:37.421Z"
   },
   {
    "duration": 3,
    "start_time": "2025-03-03T05:59:31.589Z"
   },
   {
    "duration": 3,
    "start_time": "2025-03-03T06:00:32.609Z"
   },
   {
    "duration": 39,
    "start_time": "2025-03-03T06:00:32.629Z"
   },
   {
    "duration": 44,
    "start_time": "2025-03-03T06:00:32.671Z"
   },
   {
    "duration": 27,
    "start_time": "2025-03-03T06:00:32.718Z"
   },
   {
    "duration": 5,
    "start_time": "2025-03-03T06:00:32.747Z"
   },
   {
    "duration": 24,
    "start_time": "2025-03-03T06:00:32.755Z"
   },
   {
    "duration": 5,
    "start_time": "2025-03-03T06:00:32.781Z"
   },
   {
    "duration": 37,
    "start_time": "2025-03-03T06:00:32.789Z"
   },
   {
    "duration": 15,
    "start_time": "2025-03-03T06:00:32.828Z"
   },
   {
    "duration": 13,
    "start_time": "2025-03-03T06:00:32.844Z"
   },
   {
    "duration": 5,
    "start_time": "2025-03-03T06:00:32.859Z"
   },
   {
    "duration": 208,
    "start_time": "2025-03-03T06:00:32.866Z"
   },
   {
    "duration": 252,
    "start_time": "2025-03-03T06:00:33.076Z"
   },
   {
    "duration": 117,
    "start_time": "2025-03-03T06:00:33.330Z"
   },
   {
    "duration": 8,
    "start_time": "2025-03-03T06:00:33.451Z"
   },
   {
    "duration": 190,
    "start_time": "2025-03-03T06:00:33.460Z"
   },
   {
    "duration": 9,
    "start_time": "2025-03-03T06:00:33.652Z"
   },
   {
    "duration": 200,
    "start_time": "2025-03-03T06:00:33.662Z"
   },
   {
    "duration": 198,
    "start_time": "2025-03-03T06:00:33.864Z"
   },
   {
    "duration": 52,
    "start_time": "2025-03-03T06:00:34.063Z"
   },
   {
    "duration": 196,
    "start_time": "2025-03-03T06:00:34.118Z"
   },
   {
    "duration": 250,
    "start_time": "2025-03-03T06:00:34.317Z"
   },
   {
    "duration": 357,
    "start_time": "2025-03-03T06:00:34.569Z"
   },
   {
    "duration": 16,
    "start_time": "2025-03-03T06:00:34.928Z"
   },
   {
    "duration": 109,
    "start_time": "2025-03-03T06:00:34.946Z"
   },
   {
    "duration": 18,
    "start_time": "2025-03-03T06:00:35.057Z"
   },
   {
    "duration": 1367,
    "start_time": "2025-03-03T06:00:35.077Z"
   },
   {
    "duration": 0,
    "start_time": "2025-03-03T06:00:36.447Z"
   },
   {
    "duration": 0,
    "start_time": "2025-03-03T06:00:36.449Z"
   },
   {
    "duration": 0,
    "start_time": "2025-03-03T06:00:36.450Z"
   },
   {
    "duration": 0,
    "start_time": "2025-03-03T06:00:36.452Z"
   },
   {
    "duration": 0,
    "start_time": "2025-03-03T06:00:36.454Z"
   },
   {
    "duration": 0,
    "start_time": "2025-03-03T06:00:36.455Z"
   },
   {
    "duration": 0,
    "start_time": "2025-03-03T06:00:36.457Z"
   },
   {
    "duration": 0,
    "start_time": "2025-03-03T06:00:36.459Z"
   },
   {
    "duration": 0,
    "start_time": "2025-03-03T06:00:36.461Z"
   },
   {
    "duration": 0,
    "start_time": "2025-03-03T06:00:36.463Z"
   },
   {
    "duration": 0,
    "start_time": "2025-03-03T06:00:36.465Z"
   },
   {
    "duration": 0,
    "start_time": "2025-03-03T06:00:36.467Z"
   },
   {
    "duration": 0,
    "start_time": "2025-03-03T06:00:36.468Z"
   },
   {
    "duration": 0,
    "start_time": "2025-03-03T06:00:36.470Z"
   },
   {
    "duration": 0,
    "start_time": "2025-03-03T06:00:36.472Z"
   },
   {
    "duration": 240,
    "start_time": "2025-03-03T06:02:13.517Z"
   },
   {
    "duration": 1435,
    "start_time": "2025-03-03T06:03:03.684Z"
   },
   {
    "duration": 241,
    "start_time": "2025-03-03T06:03:22.714Z"
   },
   {
    "duration": 2200,
    "start_time": "2025-03-03T06:04:01.120Z"
   },
   {
    "duration": 1686,
    "start_time": "2025-03-03T06:04:22.138Z"
   },
   {
    "duration": 15,
    "start_time": "2025-03-03T06:09:27.658Z"
   },
   {
    "duration": 17,
    "start_time": "2025-03-03T06:09:51.602Z"
   },
   {
    "duration": 14,
    "start_time": "2025-03-03T06:12:36.937Z"
   },
   {
    "duration": 21,
    "start_time": "2025-03-03T06:13:47.710Z"
   },
   {
    "duration": 3,
    "start_time": "2025-03-03T06:13:54.802Z"
   },
   {
    "duration": 41,
    "start_time": "2025-03-03T06:13:54.818Z"
   },
   {
    "duration": 62,
    "start_time": "2025-03-03T06:13:54.862Z"
   },
   {
    "duration": 27,
    "start_time": "2025-03-03T06:13:54.926Z"
   },
   {
    "duration": 79,
    "start_time": "2025-03-03T06:13:54.955Z"
   },
   {
    "duration": 91,
    "start_time": "2025-03-03T06:13:55.037Z"
   },
   {
    "duration": 31,
    "start_time": "2025-03-03T06:13:55.130Z"
   },
   {
    "duration": 9,
    "start_time": "2025-03-03T06:13:55.163Z"
   },
   {
    "duration": 11,
    "start_time": "2025-03-03T06:13:55.173Z"
   },
   {
    "duration": 8,
    "start_time": "2025-03-03T06:13:55.186Z"
   },
   {
    "duration": 6,
    "start_time": "2025-03-03T06:13:55.195Z"
   },
   {
    "duration": 188,
    "start_time": "2025-03-03T06:13:55.203Z"
   },
   {
    "duration": 198,
    "start_time": "2025-03-03T06:13:55.392Z"
   },
   {
    "duration": 103,
    "start_time": "2025-03-03T06:13:55.592Z"
   },
   {
    "duration": 20,
    "start_time": "2025-03-03T06:13:55.698Z"
   },
   {
    "duration": 164,
    "start_time": "2025-03-03T06:13:55.719Z"
   },
   {
    "duration": 9,
    "start_time": "2025-03-03T06:13:55.884Z"
   },
   {
    "duration": 190,
    "start_time": "2025-03-03T06:13:55.895Z"
   },
   {
    "duration": 200,
    "start_time": "2025-03-03T06:13:56.086Z"
   },
   {
    "duration": 51,
    "start_time": "2025-03-03T06:13:56.288Z"
   },
   {
    "duration": 185,
    "start_time": "2025-03-03T06:13:56.341Z"
   },
   {
    "duration": 257,
    "start_time": "2025-03-03T06:13:56.534Z"
   },
   {
    "duration": 341,
    "start_time": "2025-03-03T06:13:56.792Z"
   },
   {
    "duration": 14,
    "start_time": "2025-03-03T06:13:57.135Z"
   },
   {
    "duration": 3,
    "start_time": "2025-03-03T06:13:57.151Z"
   },
   {
    "duration": 14,
    "start_time": "2025-03-03T06:13:57.155Z"
   },
   {
    "duration": 43,
    "start_time": "2025-03-03T06:13:57.170Z"
   },
   {
    "duration": 23,
    "start_time": "2025-03-03T06:13:57.217Z"
   },
   {
    "duration": 239,
    "start_time": "2025-03-03T06:13:57.242Z"
   },
   {
    "duration": 13,
    "start_time": "2025-03-03T06:13:57.482Z"
   },
   {
    "duration": 29,
    "start_time": "2025-03-03T06:13:57.497Z"
   },
   {
    "duration": 6,
    "start_time": "2025-03-03T06:13:57.527Z"
   },
   {
    "duration": 17,
    "start_time": "2025-03-03T06:13:57.535Z"
   },
   {
    "duration": 4,
    "start_time": "2025-03-03T06:13:57.553Z"
   },
   {
    "duration": 7,
    "start_time": "2025-03-03T06:13:57.559Z"
   },
   {
    "duration": 5,
    "start_time": "2025-03-03T06:13:57.567Z"
   },
   {
    "duration": 46,
    "start_time": "2025-03-03T06:13:57.574Z"
   },
   {
    "duration": 9,
    "start_time": "2025-03-03T06:13:57.621Z"
   },
   {
    "duration": 5,
    "start_time": "2025-03-03T06:13:57.633Z"
   },
   {
    "duration": 6,
    "start_time": "2025-03-03T06:13:57.640Z"
   },
   {
    "duration": 3,
    "start_time": "2025-03-03T06:13:57.648Z"
   },
   {
    "duration": 2,
    "start_time": "2025-03-03T06:13:57.656Z"
   },
   {
    "duration": 20,
    "start_time": "2025-03-03T06:14:56.028Z"
   },
   {
    "duration": 222,
    "start_time": "2025-03-03T06:16:45.473Z"
   },
   {
    "duration": 221,
    "start_time": "2025-03-03T06:17:11.441Z"
   },
   {
    "duration": 81,
    "start_time": "2025-03-03T06:46:38.434Z"
   },
   {
    "duration": 6,
    "start_time": "2025-03-03T06:51:39.598Z"
   },
   {
    "duration": 3,
    "start_time": "2025-03-03T08:06:51.606Z"
   },
   {
    "duration": 3,
    "start_time": "2025-03-03T11:18:04.561Z"
   },
   {
    "duration": 43,
    "start_time": "2025-03-03T11:18:04.571Z"
   },
   {
    "duration": 44,
    "start_time": "2025-03-03T11:18:04.616Z"
   },
   {
    "duration": 28,
    "start_time": "2025-03-03T11:18:04.662Z"
   },
   {
    "duration": 5,
    "start_time": "2025-03-03T11:18:04.692Z"
   },
   {
    "duration": 38,
    "start_time": "2025-03-03T11:18:04.699Z"
   },
   {
    "duration": 4,
    "start_time": "2025-03-03T11:18:04.739Z"
   },
   {
    "duration": 7,
    "start_time": "2025-03-03T11:18:04.745Z"
   },
   {
    "duration": 11,
    "start_time": "2025-03-03T11:18:04.754Z"
   },
   {
    "duration": 10,
    "start_time": "2025-03-03T11:18:04.767Z"
   },
   {
    "duration": 56,
    "start_time": "2025-03-03T11:18:04.779Z"
   },
   {
    "duration": 207,
    "start_time": "2025-03-03T11:18:04.837Z"
   },
   {
    "duration": 202,
    "start_time": "2025-03-03T11:18:05.046Z"
   },
   {
    "duration": 106,
    "start_time": "2025-03-03T11:18:05.250Z"
   },
   {
    "duration": 7,
    "start_time": "2025-03-03T11:18:05.361Z"
   },
   {
    "duration": 176,
    "start_time": "2025-03-03T11:18:05.370Z"
   },
   {
    "duration": 10,
    "start_time": "2025-03-03T11:18:05.548Z"
   },
   {
    "duration": 190,
    "start_time": "2025-03-03T11:18:05.560Z"
   },
   {
    "duration": 184,
    "start_time": "2025-03-03T11:18:05.752Z"
   },
   {
    "duration": 38,
    "start_time": "2025-03-03T11:18:05.938Z"
   },
   {
    "duration": 194,
    "start_time": "2025-03-03T11:18:05.978Z"
   },
   {
    "duration": 242,
    "start_time": "2025-03-03T11:18:06.174Z"
   },
   {
    "duration": 371,
    "start_time": "2025-03-03T11:18:06.418Z"
   },
   {
    "duration": 24,
    "start_time": "2025-03-03T11:18:06.790Z"
   },
   {
    "duration": 77,
    "start_time": "2025-03-03T11:18:06.816Z"
   },
   {
    "duration": 19,
    "start_time": "2025-03-03T11:18:06.895Z"
   },
   {
    "duration": 13,
    "start_time": "2025-03-03T11:18:06.915Z"
   },
   {
    "duration": 13,
    "start_time": "2025-03-03T11:18:06.929Z"
   },
   {
    "duration": 212,
    "start_time": "2025-03-03T11:18:06.943Z"
   },
   {
    "duration": 13,
    "start_time": "2025-03-03T11:18:07.157Z"
   },
   {
    "duration": 5,
    "start_time": "2025-03-03T11:18:07.172Z"
   },
   {
    "duration": 171,
    "start_time": "2025-03-03T11:18:07.179Z"
   },
   {
    "duration": 34,
    "start_time": "2025-03-03T11:18:07.352Z"
   },
   {
    "duration": 5,
    "start_time": "2025-03-03T11:18:07.388Z"
   },
   {
    "duration": 5,
    "start_time": "2025-03-03T11:18:07.394Z"
   },
   {
    "duration": 20,
    "start_time": "2025-03-03T11:18:07.401Z"
   },
   {
    "duration": 16,
    "start_time": "2025-03-03T11:18:07.423Z"
   },
   {
    "duration": 5,
    "start_time": "2025-03-03T11:18:07.442Z"
   },
   {
    "duration": 76,
    "start_time": "2025-03-03T11:18:07.449Z"
   },
   {
    "duration": 7,
    "start_time": "2025-03-03T11:18:07.527Z"
   },
   {
    "duration": 5,
    "start_time": "2025-03-03T11:18:07.536Z"
   },
   {
    "duration": 2,
    "start_time": "2025-03-03T11:18:07.545Z"
   },
   {
    "duration": 6,
    "start_time": "2025-03-03T11:32:05.396Z"
   },
   {
    "duration": 6,
    "start_time": "2025-03-03T11:32:39.411Z"
   },
   {
    "duration": 4,
    "start_time": "2025-03-03T11:33:14.185Z"
   },
   {
    "duration": 43,
    "start_time": "2025-03-03T11:33:14.202Z"
   },
   {
    "duration": 50,
    "start_time": "2025-03-03T11:33:14.247Z"
   },
   {
    "duration": 43,
    "start_time": "2025-03-03T11:33:14.299Z"
   },
   {
    "duration": 6,
    "start_time": "2025-03-03T11:33:14.345Z"
   },
   {
    "duration": 41,
    "start_time": "2025-03-03T11:33:14.354Z"
   },
   {
    "duration": 19,
    "start_time": "2025-03-03T11:33:14.397Z"
   },
   {
    "duration": 10,
    "start_time": "2025-03-03T11:33:14.418Z"
   },
   {
    "duration": 17,
    "start_time": "2025-03-03T11:33:14.429Z"
   },
   {
    "duration": 12,
    "start_time": "2025-03-03T11:33:14.449Z"
   },
   {
    "duration": 7,
    "start_time": "2025-03-03T11:33:14.463Z"
   },
   {
    "duration": 246,
    "start_time": "2025-03-03T11:33:14.472Z"
   },
   {
    "duration": 250,
    "start_time": "2025-03-03T11:33:14.720Z"
   },
   {
    "duration": 127,
    "start_time": "2025-03-03T11:33:14.972Z"
   },
   {
    "duration": 12,
    "start_time": "2025-03-03T11:33:15.114Z"
   },
   {
    "duration": 226,
    "start_time": "2025-03-03T11:33:15.128Z"
   },
   {
    "duration": 12,
    "start_time": "2025-03-03T11:33:15.355Z"
   },
   {
    "duration": 215,
    "start_time": "2025-03-03T11:33:15.369Z"
   },
   {
    "duration": 198,
    "start_time": "2025-03-03T11:33:15.586Z"
   },
   {
    "duration": 70,
    "start_time": "2025-03-03T11:33:15.786Z"
   },
   {
    "duration": 202,
    "start_time": "2025-03-03T11:33:15.858Z"
   },
   {
    "duration": 259,
    "start_time": "2025-03-03T11:33:16.062Z"
   },
   {
    "duration": 491,
    "start_time": "2025-03-03T11:33:16.324Z"
   },
   {
    "duration": 26,
    "start_time": "2025-03-03T11:33:16.817Z"
   },
   {
    "duration": 79,
    "start_time": "2025-03-03T11:33:16.845Z"
   },
   {
    "duration": 24,
    "start_time": "2025-03-03T11:33:16.926Z"
   },
   {
    "duration": 20,
    "start_time": "2025-03-03T11:33:16.952Z"
   },
   {
    "duration": 20,
    "start_time": "2025-03-03T11:33:16.974Z"
   },
   {
    "duration": 229,
    "start_time": "2025-03-03T11:33:16.996Z"
   },
   {
    "duration": 18,
    "start_time": "2025-03-03T11:33:17.228Z"
   },
   {
    "duration": 7,
    "start_time": "2025-03-03T11:33:17.248Z"
   },
   {
    "duration": 168,
    "start_time": "2025-03-03T11:33:17.257Z"
   },
   {
    "duration": 27,
    "start_time": "2025-03-03T11:33:17.428Z"
   },
   {
    "duration": 6,
    "start_time": "2025-03-03T11:33:17.457Z"
   },
   {
    "duration": 8,
    "start_time": "2025-03-03T11:33:17.466Z"
   },
   {
    "duration": 7,
    "start_time": "2025-03-03T11:33:17.476Z"
   },
   {
    "duration": 46,
    "start_time": "2025-03-03T11:33:17.486Z"
   },
   {
    "duration": 112,
    "start_time": "2025-03-03T11:33:17.535Z"
   },
   {
    "duration": 58,
    "start_time": "2025-03-03T11:33:17.648Z"
   },
   {
    "duration": 8,
    "start_time": "2025-03-03T11:33:17.707Z"
   },
   {
    "duration": 4,
    "start_time": "2025-03-03T11:33:17.716Z"
   },
   {
    "duration": 4,
    "start_time": "2025-03-03T11:33:17.727Z"
   },
   {
    "duration": 1016,
    "start_time": "2025-03-03T23:24:47.909Z"
   },
   {
    "duration": 92,
    "start_time": "2025-03-03T23:24:48.926Z"
   },
   {
    "duration": 42,
    "start_time": "2025-03-03T23:24:49.019Z"
   },
   {
    "duration": 25,
    "start_time": "2025-03-03T23:24:49.063Z"
   },
   {
    "duration": 5,
    "start_time": "2025-03-03T23:24:49.089Z"
   },
   {
    "duration": 17,
    "start_time": "2025-03-03T23:24:49.096Z"
   },
   {
    "duration": 4,
    "start_time": "2025-03-03T23:24:49.115Z"
   },
   {
    "duration": 9,
    "start_time": "2025-03-03T23:24:49.120Z"
   },
   {
    "duration": 37,
    "start_time": "2025-03-03T23:24:49.130Z"
   },
   {
    "duration": 9,
    "start_time": "2025-03-03T23:24:49.169Z"
   },
   {
    "duration": 5,
    "start_time": "2025-03-03T23:24:49.179Z"
   },
   {
    "duration": 188,
    "start_time": "2025-03-03T23:24:49.186Z"
   },
   {
    "duration": 198,
    "start_time": "2025-03-03T23:24:49.376Z"
   },
   {
    "duration": 97,
    "start_time": "2025-03-03T23:24:49.576Z"
   },
   {
    "duration": 8,
    "start_time": "2025-03-03T23:24:49.674Z"
   },
   {
    "duration": 204,
    "start_time": "2025-03-03T23:24:49.683Z"
   },
   {
    "duration": 9,
    "start_time": "2025-03-03T23:24:49.889Z"
   },
   {
    "duration": 175,
    "start_time": "2025-03-03T23:24:49.899Z"
   },
   {
    "duration": 172,
    "start_time": "2025-03-03T23:24:50.076Z"
   },
   {
    "duration": 41,
    "start_time": "2025-03-03T23:24:50.250Z"
   },
   {
    "duration": 162,
    "start_time": "2025-03-03T23:24:50.293Z"
   },
   {
    "duration": 221,
    "start_time": "2025-03-03T23:24:50.456Z"
   },
   {
    "duration": 306,
    "start_time": "2025-03-03T23:24:50.679Z"
   },
   {
    "duration": 15,
    "start_time": "2025-03-03T23:24:50.986Z"
   },
   {
    "duration": 44,
    "start_time": "2025-03-03T23:24:51.002Z"
   },
   {
    "duration": 20,
    "start_time": "2025-03-03T23:24:51.048Z"
   },
   {
    "duration": 97,
    "start_time": "2025-03-03T23:24:51.069Z"
   },
   {
    "duration": 0,
    "start_time": "2025-03-03T23:24:51.168Z"
   },
   {
    "duration": 0,
    "start_time": "2025-03-03T23:24:51.170Z"
   },
   {
    "duration": 0,
    "start_time": "2025-03-03T23:24:51.172Z"
   },
   {
    "duration": 0,
    "start_time": "2025-03-03T23:24:51.173Z"
   },
   {
    "duration": 0,
    "start_time": "2025-03-03T23:24:51.174Z"
   },
   {
    "duration": 0,
    "start_time": "2025-03-03T23:24:51.175Z"
   },
   {
    "duration": 0,
    "start_time": "2025-03-03T23:24:51.177Z"
   },
   {
    "duration": 0,
    "start_time": "2025-03-03T23:24:51.177Z"
   },
   {
    "duration": 0,
    "start_time": "2025-03-03T23:24:51.178Z"
   },
   {
    "duration": 0,
    "start_time": "2025-03-03T23:24:51.179Z"
   },
   {
    "duration": 0,
    "start_time": "2025-03-03T23:24:51.181Z"
   },
   {
    "duration": 0,
    "start_time": "2025-03-03T23:24:51.182Z"
   },
   {
    "duration": 0,
    "start_time": "2025-03-03T23:24:51.183Z"
   },
   {
    "duration": 0,
    "start_time": "2025-03-03T23:24:51.184Z"
   },
   {
    "duration": 0,
    "start_time": "2025-03-03T23:24:51.185Z"
   },
   {
    "duration": 1315,
    "start_time": "2025-03-04T05:00:35.575Z"
   },
   {
    "duration": 107,
    "start_time": "2025-03-04T05:00:36.892Z"
   },
   {
    "duration": 43,
    "start_time": "2025-03-04T05:00:37.000Z"
   },
   {
    "duration": 39,
    "start_time": "2025-03-04T05:00:37.045Z"
   },
   {
    "duration": 6,
    "start_time": "2025-03-04T05:00:37.086Z"
   },
   {
    "duration": 87,
    "start_time": "2025-03-04T05:00:37.094Z"
   },
   {
    "duration": 20,
    "start_time": "2025-03-04T05:00:37.183Z"
   },
   {
    "duration": 16,
    "start_time": "2025-03-04T05:00:37.204Z"
   },
   {
    "duration": 35,
    "start_time": "2025-03-04T05:00:37.222Z"
   },
   {
    "duration": 12,
    "start_time": "2025-03-04T05:00:37.268Z"
   },
   {
    "duration": 6,
    "start_time": "2025-03-04T05:00:37.282Z"
   },
   {
    "duration": 287,
    "start_time": "2025-03-04T05:00:37.289Z"
   },
   {
    "duration": 210,
    "start_time": "2025-03-04T05:00:37.577Z"
   },
   {
    "duration": 106,
    "start_time": "2025-03-04T05:00:37.788Z"
   },
   {
    "duration": 9,
    "start_time": "2025-03-04T05:00:37.895Z"
   },
   {
    "duration": 201,
    "start_time": "2025-03-04T05:00:37.905Z"
   },
   {
    "duration": 9,
    "start_time": "2025-03-04T05:00:38.108Z"
   },
   {
    "duration": 183,
    "start_time": "2025-03-04T05:00:38.118Z"
   },
   {
    "duration": 170,
    "start_time": "2025-03-04T05:00:38.302Z"
   },
   {
    "duration": 36,
    "start_time": "2025-03-04T05:00:38.474Z"
   },
   {
    "duration": 177,
    "start_time": "2025-03-04T05:00:38.512Z"
   },
   {
    "duration": 227,
    "start_time": "2025-03-04T05:00:38.691Z"
   },
   {
    "duration": 310,
    "start_time": "2025-03-04T05:00:38.920Z"
   },
   {
    "duration": 14,
    "start_time": "2025-03-04T05:00:39.232Z"
   },
   {
    "duration": 21,
    "start_time": "2025-03-04T05:00:39.248Z"
   },
   {
    "duration": 23,
    "start_time": "2025-03-04T05:00:39.270Z"
   },
   {
    "duration": 99,
    "start_time": "2025-03-04T05:00:39.295Z"
   },
   {
    "duration": 0,
    "start_time": "2025-03-04T05:00:39.396Z"
   },
   {
    "duration": 0,
    "start_time": "2025-03-04T05:00:39.397Z"
   },
   {
    "duration": 0,
    "start_time": "2025-03-04T05:00:39.398Z"
   },
   {
    "duration": 0,
    "start_time": "2025-03-04T05:00:39.400Z"
   },
   {
    "duration": 0,
    "start_time": "2025-03-04T05:00:39.401Z"
   },
   {
    "duration": 0,
    "start_time": "2025-03-04T05:00:39.402Z"
   },
   {
    "duration": 0,
    "start_time": "2025-03-04T05:00:39.403Z"
   },
   {
    "duration": 0,
    "start_time": "2025-03-04T05:00:39.404Z"
   },
   {
    "duration": 0,
    "start_time": "2025-03-04T05:00:39.405Z"
   },
   {
    "duration": 0,
    "start_time": "2025-03-04T05:00:39.406Z"
   },
   {
    "duration": 0,
    "start_time": "2025-03-04T05:00:39.407Z"
   },
   {
    "duration": 1,
    "start_time": "2025-03-04T05:00:39.408Z"
   },
   {
    "duration": 0,
    "start_time": "2025-03-04T05:00:39.410Z"
   },
   {
    "duration": 0,
    "start_time": "2025-03-04T05:00:39.411Z"
   },
   {
    "duration": 0,
    "start_time": "2025-03-04T05:00:39.412Z"
   },
   {
    "duration": 3,
    "start_time": "2025-03-04T05:06:57.244Z"
   },
   {
    "duration": 30,
    "start_time": "2025-03-04T05:06:57.254Z"
   },
   {
    "duration": 40,
    "start_time": "2025-03-04T05:06:57.286Z"
   },
   {
    "duration": 26,
    "start_time": "2025-03-04T05:06:57.327Z"
   },
   {
    "duration": 17,
    "start_time": "2025-03-04T05:06:57.355Z"
   },
   {
    "duration": 17,
    "start_time": "2025-03-04T05:06:57.374Z"
   },
   {
    "duration": 20,
    "start_time": "2025-03-04T05:06:57.393Z"
   },
   {
    "duration": 8,
    "start_time": "2025-03-04T05:06:57.415Z"
   },
   {
    "duration": 10,
    "start_time": "2025-03-04T05:06:57.425Z"
   },
   {
    "duration": 34,
    "start_time": "2025-03-04T05:06:57.436Z"
   },
   {
    "duration": 6,
    "start_time": "2025-03-04T05:06:57.472Z"
   },
   {
    "duration": 161,
    "start_time": "2025-03-04T05:06:57.479Z"
   },
   {
    "duration": 218,
    "start_time": "2025-03-04T05:06:57.642Z"
   },
   {
    "duration": 101,
    "start_time": "2025-03-04T05:06:57.863Z"
   },
   {
    "duration": 9,
    "start_time": "2025-03-04T05:06:57.967Z"
   },
   {
    "duration": 161,
    "start_time": "2025-03-04T05:06:57.978Z"
   },
   {
    "duration": 30,
    "start_time": "2025-03-04T05:06:58.140Z"
   },
   {
    "duration": 161,
    "start_time": "2025-03-04T05:06:58.172Z"
   },
   {
    "duration": 175,
    "start_time": "2025-03-04T05:06:58.335Z"
   },
   {
    "duration": 36,
    "start_time": "2025-03-04T05:06:58.511Z"
   },
   {
    "duration": 175,
    "start_time": "2025-03-04T05:06:58.562Z"
   },
   {
    "duration": 232,
    "start_time": "2025-03-04T05:06:58.739Z"
   },
   {
    "duration": 330,
    "start_time": "2025-03-04T05:06:58.973Z"
   },
   {
    "duration": 15,
    "start_time": "2025-03-04T05:06:59.305Z"
   },
   {
    "duration": 112,
    "start_time": "2025-03-04T05:06:59.321Z"
   },
   {
    "duration": 14,
    "start_time": "2025-03-04T05:06:59.435Z"
   },
   {
    "duration": 204,
    "start_time": "2025-03-04T05:06:59.451Z"
   },
   {
    "duration": 16,
    "start_time": "2025-03-04T05:06:59.657Z"
   },
   {
    "duration": 47,
    "start_time": "2025-03-04T05:06:59.675Z"
   },
   {
    "duration": 15,
    "start_time": "2025-03-04T05:06:59.724Z"
   },
   {
    "duration": 5,
    "start_time": "2025-03-04T05:06:59.741Z"
   },
   {
    "duration": 22,
    "start_time": "2025-03-04T05:06:59.748Z"
   },
   {
    "duration": 19,
    "start_time": "2025-03-04T05:06:59.772Z"
   },
   {
    "duration": 4,
    "start_time": "2025-03-04T05:06:59.792Z"
   },
   {
    "duration": 5,
    "start_time": "2025-03-04T05:06:59.798Z"
   },
   {
    "duration": 7,
    "start_time": "2025-03-04T05:06:59.804Z"
   },
   {
    "duration": 19,
    "start_time": "2025-03-04T05:06:59.813Z"
   },
   {
    "duration": 5,
    "start_time": "2025-03-04T05:06:59.834Z"
   },
   {
    "duration": 29,
    "start_time": "2025-03-04T05:06:59.840Z"
   },
   {
    "duration": 6,
    "start_time": "2025-03-04T05:06:59.871Z"
   },
   {
    "duration": 4,
    "start_time": "2025-03-04T05:06:59.879Z"
   },
   {
    "duration": 48,
    "start_time": "2025-03-04T05:06:59.887Z"
   },
   {
    "duration": 3,
    "start_time": "2025-03-04T09:15:00.903Z"
   },
   {
    "duration": 34,
    "start_time": "2025-03-04T09:15:00.912Z"
   },
   {
    "duration": 42,
    "start_time": "2025-03-04T09:15:00.948Z"
   },
   {
    "duration": 28,
    "start_time": "2025-03-04T09:15:00.992Z"
   },
   {
    "duration": 6,
    "start_time": "2025-03-04T09:15:01.021Z"
   },
   {
    "duration": 31,
    "start_time": "2025-03-04T09:15:01.029Z"
   },
   {
    "duration": 4,
    "start_time": "2025-03-04T09:15:01.062Z"
   },
   {
    "duration": 23,
    "start_time": "2025-03-04T09:15:01.068Z"
   },
   {
    "duration": 23,
    "start_time": "2025-03-04T09:15:01.092Z"
   },
   {
    "duration": 8,
    "start_time": "2025-03-04T09:15:01.117Z"
   },
   {
    "duration": 17,
    "start_time": "2025-03-04T09:15:01.126Z"
   },
   {
    "duration": 165,
    "start_time": "2025-03-04T09:15:01.145Z"
   },
   {
    "duration": 193,
    "start_time": "2025-03-04T09:15:01.312Z"
   },
   {
    "duration": 119,
    "start_time": "2025-03-04T09:15:01.507Z"
   },
   {
    "duration": 9,
    "start_time": "2025-03-04T09:15:01.629Z"
   },
   {
    "duration": 157,
    "start_time": "2025-03-04T09:15:01.640Z"
   },
   {
    "duration": 9,
    "start_time": "2025-03-04T09:15:01.798Z"
   },
   {
    "duration": 185,
    "start_time": "2025-03-04T09:15:01.808Z"
   },
   {
    "duration": 165,
    "start_time": "2025-03-04T09:15:01.995Z"
   },
   {
    "duration": 36,
    "start_time": "2025-03-04T09:15:02.162Z"
   },
   {
    "duration": 166,
    "start_time": "2025-03-04T09:15:02.200Z"
   },
   {
    "duration": 217,
    "start_time": "2025-03-04T09:15:02.367Z"
   },
   {
    "duration": 323,
    "start_time": "2025-03-04T09:15:02.586Z"
   },
   {
    "duration": 15,
    "start_time": "2025-03-04T09:15:02.910Z"
   },
   {
    "duration": 5,
    "start_time": "2025-03-04T09:15:02.927Z"
   },
   {
    "duration": 33,
    "start_time": "2025-03-04T09:15:02.933Z"
   },
   {
    "duration": 191,
    "start_time": "2025-03-04T09:15:02.967Z"
   },
   {
    "duration": 12,
    "start_time": "2025-03-04T09:15:03.159Z"
   },
   {
    "duration": 11,
    "start_time": "2025-03-04T09:15:03.173Z"
   },
   {
    "duration": 15,
    "start_time": "2025-03-04T09:15:03.186Z"
   },
   {
    "duration": 4,
    "start_time": "2025-03-04T09:15:03.203Z"
   },
   {
    "duration": 5,
    "start_time": "2025-03-04T09:15:03.209Z"
   },
   {
    "duration": 49,
    "start_time": "2025-03-04T09:15:03.216Z"
   },
   {
    "duration": 7,
    "start_time": "2025-03-04T09:15:03.267Z"
   },
   {
    "duration": 11,
    "start_time": "2025-03-04T09:15:03.276Z"
   },
   {
    "duration": 9,
    "start_time": "2025-03-04T09:15:03.289Z"
   },
   {
    "duration": 14,
    "start_time": "2025-03-04T09:15:03.299Z"
   },
   {
    "duration": 7,
    "start_time": "2025-03-04T09:15:03.314Z"
   },
   {
    "duration": 15,
    "start_time": "2025-03-04T09:15:03.322Z"
   },
   {
    "duration": 20,
    "start_time": "2025-03-04T09:15:03.339Z"
   },
   {
    "duration": 2,
    "start_time": "2025-03-04T09:15:03.361Z"
   },
   {
    "duration": 2,
    "start_time": "2025-03-04T09:15:03.367Z"
   },
   {
    "duration": 3,
    "start_time": "2025-03-04T09:17:08.625Z"
   },
   {
    "duration": 30,
    "start_time": "2025-03-04T09:17:08.635Z"
   },
   {
    "duration": 42,
    "start_time": "2025-03-04T09:17:08.668Z"
   },
   {
    "duration": 28,
    "start_time": "2025-03-04T09:17:08.712Z"
   },
   {
    "duration": 18,
    "start_time": "2025-03-04T09:17:08.741Z"
   },
   {
    "duration": 19,
    "start_time": "2025-03-04T09:17:08.762Z"
   },
   {
    "duration": 5,
    "start_time": "2025-03-04T09:17:08.783Z"
   },
   {
    "duration": 7,
    "start_time": "2025-03-04T09:17:08.790Z"
   },
   {
    "duration": 11,
    "start_time": "2025-03-04T09:17:08.798Z"
   },
   {
    "duration": 48,
    "start_time": "2025-03-04T09:17:08.811Z"
   },
   {
    "duration": 6,
    "start_time": "2025-03-04T09:17:08.861Z"
   },
   {
    "duration": 177,
    "start_time": "2025-03-04T09:17:08.868Z"
   },
   {
    "duration": 187,
    "start_time": "2025-03-04T09:17:09.046Z"
   },
   {
    "duration": 90,
    "start_time": "2025-03-04T09:17:09.235Z"
   },
   {
    "duration": 8,
    "start_time": "2025-03-04T09:17:09.328Z"
   },
   {
    "duration": 159,
    "start_time": "2025-03-04T09:17:09.337Z"
   },
   {
    "duration": 8,
    "start_time": "2025-03-04T09:17:09.498Z"
   },
   {
    "duration": 169,
    "start_time": "2025-03-04T09:17:09.507Z"
   },
   {
    "duration": 171,
    "start_time": "2025-03-04T09:17:09.678Z"
   },
   {
    "duration": 35,
    "start_time": "2025-03-04T09:17:09.857Z"
   },
   {
    "duration": 165,
    "start_time": "2025-03-04T09:17:09.894Z"
   },
   {
    "duration": 211,
    "start_time": "2025-03-04T09:17:10.061Z"
   },
   {
    "duration": 312,
    "start_time": "2025-03-04T09:17:10.274Z"
   },
   {
    "duration": 15,
    "start_time": "2025-03-04T09:17:10.587Z"
   },
   {
    "duration": 4,
    "start_time": "2025-03-04T09:17:10.603Z"
   },
   {
    "duration": 14,
    "start_time": "2025-03-04T09:17:10.608Z"
   },
   {
    "duration": 204,
    "start_time": "2025-03-04T09:17:10.624Z"
   },
   {
    "duration": 13,
    "start_time": "2025-03-04T09:17:10.829Z"
   },
   {
    "duration": 23,
    "start_time": "2025-03-04T09:17:10.843Z"
   },
   {
    "duration": 13,
    "start_time": "2025-03-04T09:17:10.868Z"
   },
   {
    "duration": 5,
    "start_time": "2025-03-04T09:17:10.883Z"
   },
   {
    "duration": 6,
    "start_time": "2025-03-04T09:17:10.889Z"
   },
   {
    "duration": 16,
    "start_time": "2025-03-04T09:17:10.896Z"
   },
   {
    "duration": 5,
    "start_time": "2025-03-04T09:17:10.914Z"
   },
   {
    "duration": 40,
    "start_time": "2025-03-04T09:17:10.921Z"
   },
   {
    "duration": 5,
    "start_time": "2025-03-04T09:17:10.963Z"
   },
   {
    "duration": 16,
    "start_time": "2025-03-04T09:17:10.969Z"
   },
   {
    "duration": 5,
    "start_time": "2025-03-04T09:17:10.986Z"
   },
   {
    "duration": 4,
    "start_time": "2025-03-04T09:17:10.992Z"
   },
   {
    "duration": 5,
    "start_time": "2025-03-04T09:17:10.998Z"
   },
   {
    "duration": 3,
    "start_time": "2025-03-04T09:17:11.005Z"
   },
   {
    "duration": 2,
    "start_time": "2025-03-04T09:17:11.011Z"
   },
   {
    "duration": 1119,
    "start_time": "2025-03-04T12:38:54.407Z"
   },
   {
    "duration": 99,
    "start_time": "2025-03-04T12:38:55.527Z"
   },
   {
    "duration": 43,
    "start_time": "2025-03-04T12:38:55.628Z"
   },
   {
    "duration": 31,
    "start_time": "2025-03-04T12:38:55.672Z"
   },
   {
    "duration": 5,
    "start_time": "2025-03-04T12:38:55.705Z"
   },
   {
    "duration": 64,
    "start_time": "2025-03-04T12:38:55.713Z"
   },
   {
    "duration": 4,
    "start_time": "2025-03-04T12:38:55.778Z"
   },
   {
    "duration": 7,
    "start_time": "2025-03-04T12:38:55.784Z"
   },
   {
    "duration": 17,
    "start_time": "2025-03-04T12:38:55.793Z"
   },
   {
    "duration": 8,
    "start_time": "2025-03-04T12:38:55.811Z"
   },
   {
    "duration": 8,
    "start_time": "2025-03-04T12:38:55.821Z"
   },
   {
    "duration": 198,
    "start_time": "2025-03-04T12:38:55.831Z"
   },
   {
    "duration": 219,
    "start_time": "2025-03-04T12:38:56.030Z"
   },
   {
    "duration": 113,
    "start_time": "2025-03-04T12:38:56.252Z"
   },
   {
    "duration": 9,
    "start_time": "2025-03-04T12:38:56.366Z"
   },
   {
    "duration": 195,
    "start_time": "2025-03-04T12:38:56.376Z"
   },
   {
    "duration": 9,
    "start_time": "2025-03-04T12:38:56.573Z"
   },
   {
    "duration": 186,
    "start_time": "2025-03-04T12:38:56.583Z"
   },
   {
    "duration": 173,
    "start_time": "2025-03-04T12:38:56.771Z"
   },
   {
    "duration": 37,
    "start_time": "2025-03-04T12:38:56.946Z"
   },
   {
    "duration": 174,
    "start_time": "2025-03-04T12:38:56.985Z"
   },
   {
    "duration": 231,
    "start_time": "2025-03-04T12:38:57.160Z"
   },
   {
    "duration": 316,
    "start_time": "2025-03-04T12:38:57.393Z"
   },
   {
    "duration": 16,
    "start_time": "2025-03-04T12:38:57.713Z"
   },
   {
    "duration": 30,
    "start_time": "2025-03-04T12:38:57.730Z"
   },
   {
    "duration": 21,
    "start_time": "2025-03-04T12:38:57.762Z"
   },
   {
    "duration": 187,
    "start_time": "2025-03-04T12:38:57.785Z"
   },
   {
    "duration": 12,
    "start_time": "2025-03-04T12:38:57.974Z"
   },
   {
    "duration": 12,
    "start_time": "2025-03-04T12:38:57.988Z"
   },
   {
    "duration": 14,
    "start_time": "2025-03-04T12:38:58.013Z"
   },
   {
    "duration": 5,
    "start_time": "2025-03-04T12:38:58.028Z"
   },
   {
    "duration": 4,
    "start_time": "2025-03-04T12:38:58.035Z"
   },
   {
    "duration": 18,
    "start_time": "2025-03-04T12:38:58.040Z"
   },
   {
    "duration": 4,
    "start_time": "2025-03-04T12:38:58.059Z"
   },
   {
    "duration": 5,
    "start_time": "2025-03-04T12:38:58.065Z"
   },
   {
    "duration": 45,
    "start_time": "2025-03-04T12:38:58.072Z"
   },
   {
    "duration": 15,
    "start_time": "2025-03-04T12:38:58.118Z"
   },
   {
    "duration": 4,
    "start_time": "2025-03-04T12:38:58.135Z"
   },
   {
    "duration": 7,
    "start_time": "2025-03-04T12:38:58.141Z"
   },
   {
    "duration": 79,
    "start_time": "2025-03-04T12:38:58.150Z"
   },
   {
    "duration": 3,
    "start_time": "2025-03-04T12:38:58.232Z"
   },
   {
    "duration": 5,
    "start_time": "2025-03-04T12:38:58.236Z"
   },
   {
    "duration": 3,
    "start_time": "2025-03-04T12:47:12.984Z"
   },
   {
    "duration": 9,
    "start_time": "2025-03-04T12:48:29.411Z"
   },
   {
    "duration": 4,
    "start_time": "2025-03-04T12:49:20.984Z"
   },
   {
    "duration": 4,
    "start_time": "2025-03-04T12:50:13.429Z"
   },
   {
    "duration": 6,
    "start_time": "2025-03-04T12:53:30.255Z"
   },
   {
    "duration": 10,
    "start_time": "2025-03-04T12:53:54.235Z"
   },
   {
    "duration": 9,
    "start_time": "2025-03-04T12:55:06.675Z"
   },
   {
    "duration": 251,
    "start_time": "2025-03-04T12:56:14.777Z"
   },
   {
    "duration": 231,
    "start_time": "2025-03-04T12:57:01.795Z"
   },
   {
    "duration": 14,
    "start_time": "2025-03-04T12:58:57.675Z"
   },
   {
    "duration": 18,
    "start_time": "2025-03-04T12:59:58.865Z"
   },
   {
    "duration": 253,
    "start_time": "2025-03-04T13:00:06.248Z"
   },
   {
    "duration": 11,
    "start_time": "2025-03-04T13:18:59.603Z"
   },
   {
    "duration": 1130,
    "start_time": "2025-03-04T13:19:32.679Z"
   },
   {
    "duration": 115,
    "start_time": "2025-03-04T13:19:33.811Z"
   },
   {
    "duration": 42,
    "start_time": "2025-03-04T13:19:33.928Z"
   },
   {
    "duration": 26,
    "start_time": "2025-03-04T13:19:33.972Z"
   },
   {
    "duration": 6,
    "start_time": "2025-03-04T13:19:34.001Z"
   },
   {
    "duration": 34,
    "start_time": "2025-03-04T13:19:34.009Z"
   },
   {
    "duration": 5,
    "start_time": "2025-03-04T13:19:34.045Z"
   },
   {
    "duration": 8,
    "start_time": "2025-03-04T13:19:34.052Z"
   },
   {
    "duration": 12,
    "start_time": "2025-03-04T13:19:34.062Z"
   },
   {
    "duration": 8,
    "start_time": "2025-03-04T13:19:34.077Z"
   },
   {
    "duration": 37,
    "start_time": "2025-03-04T13:19:34.087Z"
   },
   {
    "duration": 199,
    "start_time": "2025-03-04T13:19:34.127Z"
   },
   {
    "duration": 221,
    "start_time": "2025-03-04T13:19:34.328Z"
   },
   {
    "duration": 116,
    "start_time": "2025-03-04T13:19:34.551Z"
   },
   {
    "duration": 9,
    "start_time": "2025-03-04T13:19:34.669Z"
   },
   {
    "duration": 190,
    "start_time": "2025-03-04T13:19:34.680Z"
   },
   {
    "duration": 9,
    "start_time": "2025-03-04T13:19:34.872Z"
   },
   {
    "duration": 291,
    "start_time": "2025-03-04T13:19:34.883Z"
   },
   {
    "duration": 199,
    "start_time": "2025-03-04T13:19:35.176Z"
   },
   {
    "duration": 58,
    "start_time": "2025-03-04T13:19:35.377Z"
   },
   {
    "duration": 198,
    "start_time": "2025-03-04T13:19:35.437Z"
   },
   {
    "duration": 252,
    "start_time": "2025-03-04T13:19:35.638Z"
   },
   {
    "duration": 375,
    "start_time": "2025-03-04T13:19:35.892Z"
   },
   {
    "duration": 16,
    "start_time": "2025-03-04T13:19:36.268Z"
   },
   {
    "duration": 45,
    "start_time": "2025-03-04T13:19:36.286Z"
   },
   {
    "duration": 15,
    "start_time": "2025-03-04T13:19:36.333Z"
   },
   {
    "duration": 234,
    "start_time": "2025-03-04T13:19:36.350Z"
   },
   {
    "duration": 37,
    "start_time": "2025-03-04T13:19:36.587Z"
   },
   {
    "duration": 65,
    "start_time": "2025-03-04T13:19:36.629Z"
   },
   {
    "duration": 18,
    "start_time": "2025-03-04T13:19:36.695Z"
   },
   {
    "duration": 6,
    "start_time": "2025-03-04T13:19:36.726Z"
   },
   {
    "duration": 6,
    "start_time": "2025-03-04T13:19:36.734Z"
   },
   {
    "duration": 9,
    "start_time": "2025-03-04T13:19:36.742Z"
   },
   {
    "duration": 2,
    "start_time": "2025-03-04T13:19:36.753Z"
   },
   {
    "duration": 9,
    "start_time": "2025-03-04T13:19:36.757Z"
   },
   {
    "duration": 7,
    "start_time": "2025-03-04T13:19:36.767Z"
   },
   {
    "duration": 6,
    "start_time": "2025-03-04T13:19:36.776Z"
   },
   {
    "duration": 45,
    "start_time": "2025-03-04T13:19:36.783Z"
   },
   {
    "duration": 70,
    "start_time": "2025-03-04T13:19:36.830Z"
   },
   {
    "duration": 99,
    "start_time": "2025-03-04T13:19:36.902Z"
   },
   {
    "duration": 7,
    "start_time": "2025-03-04T13:19:37.003Z"
   },
   {
    "duration": 10,
    "start_time": "2025-03-04T13:19:37.011Z"
   },
   {
    "duration": 13,
    "start_time": "2025-03-04T13:19:37.024Z"
   },
   {
    "duration": 8,
    "start_time": "2025-03-04T13:20:40.000Z"
   },
   {
    "duration": 16,
    "start_time": "2025-03-04T13:21:24.477Z"
   },
   {
    "duration": 7,
    "start_time": "2025-03-04T13:25:30.328Z"
   },
   {
    "duration": 1112,
    "start_time": "2025-03-04T13:34:01.343Z"
   },
   {
    "duration": 91,
    "start_time": "2025-03-04T13:34:02.457Z"
   },
   {
    "duration": 44,
    "start_time": "2025-03-04T13:34:02.550Z"
   },
   {
    "duration": 33,
    "start_time": "2025-03-04T13:34:02.596Z"
   },
   {
    "duration": 6,
    "start_time": "2025-03-04T13:34:02.632Z"
   },
   {
    "duration": 21,
    "start_time": "2025-03-04T13:34:02.639Z"
   },
   {
    "duration": 4,
    "start_time": "2025-03-04T13:34:02.662Z"
   },
   {
    "duration": 57,
    "start_time": "2025-03-04T13:34:02.668Z"
   },
   {
    "duration": 18,
    "start_time": "2025-03-04T13:34:02.728Z"
   },
   {
    "duration": 17,
    "start_time": "2025-03-04T13:34:02.748Z"
   },
   {
    "duration": 25,
    "start_time": "2025-03-04T13:34:02.766Z"
   },
   {
    "duration": 204,
    "start_time": "2025-03-04T13:34:02.793Z"
   },
   {
    "duration": 254,
    "start_time": "2025-03-04T13:34:02.999Z"
   },
   {
    "duration": 115,
    "start_time": "2025-03-04T13:34:03.257Z"
   },
   {
    "duration": 9,
    "start_time": "2025-03-04T13:34:03.374Z"
   },
   {
    "duration": 198,
    "start_time": "2025-03-04T13:34:03.385Z"
   },
   {
    "duration": 10,
    "start_time": "2025-03-04T13:34:03.585Z"
   },
   {
    "duration": 199,
    "start_time": "2025-03-04T13:34:03.597Z"
   },
   {
    "duration": 190,
    "start_time": "2025-03-04T13:34:03.798Z"
   },
   {
    "duration": 56,
    "start_time": "2025-03-04T13:34:03.990Z"
   },
   {
    "duration": 189,
    "start_time": "2025-03-04T13:34:04.048Z"
   },
   {
    "duration": 233,
    "start_time": "2025-03-04T13:34:04.239Z"
   },
   {
    "duration": 346,
    "start_time": "2025-03-04T13:34:04.474Z"
   },
   {
    "duration": 20,
    "start_time": "2025-03-04T13:34:04.822Z"
   },
   {
    "duration": 5,
    "start_time": "2025-03-04T13:34:04.843Z"
   },
   {
    "duration": 13,
    "start_time": "2025-03-04T13:34:04.849Z"
   },
   {
    "duration": 293,
    "start_time": "2025-03-04T13:34:04.863Z"
   },
   {
    "duration": 13,
    "start_time": "2025-03-04T13:34:05.157Z"
   },
   {
    "duration": 15,
    "start_time": "2025-03-04T13:34:05.172Z"
   },
   {
    "duration": 38,
    "start_time": "2025-03-04T13:34:05.188Z"
   },
   {
    "duration": 5,
    "start_time": "2025-03-04T13:34:05.228Z"
   },
   {
    "duration": 4,
    "start_time": "2025-03-04T13:34:05.235Z"
   },
   {
    "duration": 8,
    "start_time": "2025-03-04T13:34:05.240Z"
   },
   {
    "duration": 12,
    "start_time": "2025-03-04T13:34:05.250Z"
   },
   {
    "duration": 5,
    "start_time": "2025-03-04T13:34:05.264Z"
   },
   {
    "duration": 40,
    "start_time": "2025-03-04T13:34:05.271Z"
   },
   {
    "duration": 13,
    "start_time": "2025-03-04T13:34:05.316Z"
   },
   {
    "duration": 7,
    "start_time": "2025-03-04T13:34:05.331Z"
   },
   {
    "duration": 12,
    "start_time": "2025-03-04T13:34:05.339Z"
   },
   {
    "duration": 4,
    "start_time": "2025-03-04T13:34:05.353Z"
   },
   {
    "duration": 2,
    "start_time": "2025-03-04T13:34:05.362Z"
   },
   {
    "duration": 24,
    "start_time": "2025-03-04T13:37:43.197Z"
   },
   {
    "duration": 5,
    "start_time": "2025-03-04T13:44:36.695Z"
   },
   {
    "duration": 5,
    "start_time": "2025-03-04T13:45:53.866Z"
   },
   {
    "duration": 49,
    "start_time": "2025-03-04T15:05:00.239Z"
   },
   {
    "duration": 1278,
    "start_time": "2025-03-04T15:05:03.576Z"
   },
   {
    "duration": 101,
    "start_time": "2025-03-04T15:05:04.856Z"
   },
   {
    "duration": 84,
    "start_time": "2025-03-04T15:05:04.958Z"
   },
   {
    "duration": 26,
    "start_time": "2025-03-04T15:05:05.044Z"
   },
   {
    "duration": 5,
    "start_time": "2025-03-04T15:05:05.072Z"
   },
   {
    "duration": 62,
    "start_time": "2025-03-04T15:05:05.079Z"
   },
   {
    "duration": 10,
    "start_time": "2025-03-04T15:05:05.142Z"
   },
   {
    "duration": 27,
    "start_time": "2025-03-04T15:05:05.153Z"
   },
   {
    "duration": 42,
    "start_time": "2025-03-04T15:05:05.182Z"
   },
   {
    "duration": 98,
    "start_time": "2025-03-04T15:05:05.228Z"
   },
   {
    "duration": 199,
    "start_time": "2025-03-04T15:05:05.328Z"
   },
   {
    "duration": 265,
    "start_time": "2025-03-04T15:05:05.529Z"
   },
   {
    "duration": 208,
    "start_time": "2025-03-04T15:05:05.796Z"
   },
   {
    "duration": 121,
    "start_time": "2025-03-04T15:05:06.006Z"
   },
   {
    "duration": 8,
    "start_time": "2025-03-04T15:05:06.128Z"
   },
   {
    "duration": 209,
    "start_time": "2025-03-04T15:05:06.138Z"
   },
   {
    "duration": 8,
    "start_time": "2025-03-04T15:05:06.349Z"
   },
   {
    "duration": 254,
    "start_time": "2025-03-04T15:05:06.358Z"
   },
   {
    "duration": 171,
    "start_time": "2025-03-04T15:05:06.614Z"
   },
   {
    "duration": 46,
    "start_time": "2025-03-04T15:05:06.787Z"
   },
   {
    "duration": 167,
    "start_time": "2025-03-04T15:05:06.835Z"
   },
   {
    "duration": 220,
    "start_time": "2025-03-04T15:05:07.003Z"
   },
   {
    "duration": 307,
    "start_time": "2025-03-04T15:05:07.224Z"
   },
   {
    "duration": 16,
    "start_time": "2025-03-04T15:05:07.532Z"
   },
   {
    "duration": 53,
    "start_time": "2025-03-04T15:05:07.549Z"
   },
   {
    "duration": 51,
    "start_time": "2025-03-04T15:05:07.603Z"
   },
   {
    "duration": 62,
    "start_time": "2025-03-04T15:05:07.656Z"
   },
   {
    "duration": 86,
    "start_time": "2025-03-04T15:05:07.721Z"
   },
   {
    "duration": 0,
    "start_time": "2025-03-04T15:05:07.808Z"
   },
   {
    "duration": 0,
    "start_time": "2025-03-04T15:05:07.809Z"
   },
   {
    "duration": 0,
    "start_time": "2025-03-04T15:05:07.810Z"
   },
   {
    "duration": 0,
    "start_time": "2025-03-04T15:05:07.811Z"
   },
   {
    "duration": 0,
    "start_time": "2025-03-04T15:05:07.813Z"
   },
   {
    "duration": 0,
    "start_time": "2025-03-04T15:05:07.813Z"
   },
   {
    "duration": 0,
    "start_time": "2025-03-04T15:05:07.814Z"
   },
   {
    "duration": 0,
    "start_time": "2025-03-04T15:05:07.815Z"
   },
   {
    "duration": 0,
    "start_time": "2025-03-04T15:05:07.816Z"
   },
   {
    "duration": 0,
    "start_time": "2025-03-04T15:05:07.817Z"
   },
   {
    "duration": 0,
    "start_time": "2025-03-04T15:05:07.818Z"
   },
   {
    "duration": 0,
    "start_time": "2025-03-04T15:05:07.820Z"
   },
   {
    "duration": 0,
    "start_time": "2025-03-04T15:05:07.820Z"
   },
   {
    "duration": 0,
    "start_time": "2025-03-04T15:05:07.822Z"
   },
   {
    "duration": 0,
    "start_time": "2025-03-04T15:05:07.823Z"
   },
   {
    "duration": 0,
    "start_time": "2025-03-04T15:05:07.823Z"
   },
   {
    "duration": 8,
    "start_time": "2025-03-04T15:05:42.173Z"
   },
   {
    "duration": 12,
    "start_time": "2025-03-04T15:06:09.689Z"
   },
   {
    "duration": 8,
    "start_time": "2025-03-04T15:07:19.339Z"
   },
   {
    "duration": 6,
    "start_time": "2025-03-04T15:07:25.207Z"
   },
   {
    "duration": 11,
    "start_time": "2025-03-04T15:09:19.108Z"
   },
   {
    "duration": 14,
    "start_time": "2025-03-04T15:09:32.874Z"
   },
   {
    "duration": 11,
    "start_time": "2025-03-04T15:09:40.401Z"
   },
   {
    "duration": 3,
    "start_time": "2025-03-04T15:10:07.266Z"
   },
   {
    "duration": 109,
    "start_time": "2025-03-04T15:10:07.279Z"
   },
   {
    "duration": 220,
    "start_time": "2025-03-04T15:10:07.390Z"
   },
   {
    "duration": 29,
    "start_time": "2025-03-04T15:10:07.611Z"
   },
   {
    "duration": 7,
    "start_time": "2025-03-04T15:10:07.641Z"
   },
   {
    "duration": 43,
    "start_time": "2025-03-04T15:10:07.650Z"
   },
   {
    "duration": 52,
    "start_time": "2025-03-04T15:10:07.695Z"
   },
   {
    "duration": 79,
    "start_time": "2025-03-04T15:10:07.749Z"
   },
   {
    "duration": 37,
    "start_time": "2025-03-04T15:10:07.829Z"
   },
   {
    "duration": 62,
    "start_time": "2025-03-04T15:10:07.868Z"
   },
   {
    "duration": 65,
    "start_time": "2025-03-04T15:10:07.931Z"
   },
   {
    "duration": 193,
    "start_time": "2025-03-04T15:10:07.998Z"
   },
   {
    "duration": 193,
    "start_time": "2025-03-04T15:10:08.193Z"
   },
   {
    "duration": 98,
    "start_time": "2025-03-04T15:10:08.388Z"
   },
   {
    "duration": 13,
    "start_time": "2025-03-04T15:10:08.490Z"
   },
   {
    "duration": 222,
    "start_time": "2025-03-04T15:10:08.505Z"
   },
   {
    "duration": 9,
    "start_time": "2025-03-04T15:10:08.729Z"
   },
   {
    "duration": 202,
    "start_time": "2025-03-04T15:10:08.740Z"
   },
   {
    "duration": 166,
    "start_time": "2025-03-04T15:10:08.943Z"
   },
   {
    "duration": 35,
    "start_time": "2025-03-04T15:10:09.111Z"
   },
   {
    "duration": 187,
    "start_time": "2025-03-04T15:10:09.148Z"
   },
   {
    "duration": 231,
    "start_time": "2025-03-04T15:10:09.337Z"
   },
   {
    "duration": 327,
    "start_time": "2025-03-04T15:10:09.570Z"
   },
   {
    "duration": 17,
    "start_time": "2025-03-04T15:10:09.898Z"
   },
   {
    "duration": 143,
    "start_time": "2025-03-04T15:10:09.916Z"
   },
   {
    "duration": 93,
    "start_time": "2025-03-04T15:10:10.061Z"
   },
   {
    "duration": 51,
    "start_time": "2025-03-04T15:10:10.156Z"
   },
   {
    "duration": 58,
    "start_time": "2025-03-04T15:10:10.208Z"
   },
   {
    "duration": 31,
    "start_time": "2025-03-04T15:10:10.268Z"
   },
   {
    "duration": 325,
    "start_time": "2025-03-04T15:10:10.300Z"
   },
   {
    "duration": 19,
    "start_time": "2025-03-04T15:10:10.626Z"
   },
   {
    "duration": 23,
    "start_time": "2025-03-04T15:10:10.648Z"
   },
   {
    "duration": 38,
    "start_time": "2025-03-04T15:10:10.673Z"
   },
   {
    "duration": 36,
    "start_time": "2025-03-04T15:10:10.713Z"
   },
   {
    "duration": 17,
    "start_time": "2025-03-04T15:10:10.751Z"
   },
   {
    "duration": 68,
    "start_time": "2025-03-04T15:10:10.771Z"
   },
   {
    "duration": 40,
    "start_time": "2025-03-04T15:10:10.841Z"
   },
   {
    "duration": 205,
    "start_time": "2025-03-04T15:10:10.883Z"
   },
   {
    "duration": 43,
    "start_time": "2025-03-04T15:10:11.091Z"
   },
   {
    "duration": 42,
    "start_time": "2025-03-04T15:10:11.137Z"
   },
   {
    "duration": 34,
    "start_time": "2025-03-04T15:10:11.181Z"
   },
   {
    "duration": 106,
    "start_time": "2025-03-04T15:10:11.219Z"
   },
   {
    "duration": 53,
    "start_time": "2025-03-04T15:10:11.326Z"
   },
   {
    "duration": 207,
    "start_time": "2025-03-04T15:10:11.380Z"
   },
   {
    "duration": 35,
    "start_time": "2025-03-04T15:10:11.588Z"
   },
   {
    "duration": 6,
    "start_time": "2025-03-04T15:15:27.403Z"
   },
   {
    "duration": 11,
    "start_time": "2025-03-04T15:27:40.512Z"
   },
   {
    "duration": 125,
    "start_time": "2025-03-04T15:30:16.554Z"
   },
   {
    "duration": 1213,
    "start_time": "2025-03-05T01:17:47.549Z"
   },
   {
    "duration": 99,
    "start_time": "2025-03-05T01:17:48.765Z"
   },
   {
    "duration": 46,
    "start_time": "2025-03-05T01:17:48.865Z"
   },
   {
    "duration": 27,
    "start_time": "2025-03-05T01:17:48.913Z"
   },
   {
    "duration": 6,
    "start_time": "2025-03-05T01:17:48.942Z"
   },
   {
    "duration": 26,
    "start_time": "2025-03-05T01:17:48.950Z"
   },
   {
    "duration": 7,
    "start_time": "2025-03-05T01:17:48.979Z"
   },
   {
    "duration": 13,
    "start_time": "2025-03-05T01:17:48.988Z"
   },
   {
    "duration": 15,
    "start_time": "2025-03-05T01:17:49.003Z"
   },
   {
    "duration": 10,
    "start_time": "2025-03-05T01:17:49.019Z"
   },
   {
    "duration": 46,
    "start_time": "2025-03-05T01:17:49.031Z"
   },
   {
    "duration": 201,
    "start_time": "2025-03-05T01:17:49.078Z"
   },
   {
    "duration": 218,
    "start_time": "2025-03-05T01:17:49.280Z"
   },
   {
    "duration": 119,
    "start_time": "2025-03-05T01:17:49.502Z"
   },
   {
    "duration": 10,
    "start_time": "2025-03-05T01:17:49.624Z"
   },
   {
    "duration": 180,
    "start_time": "2025-03-05T01:17:49.636Z"
   },
   {
    "duration": 10,
    "start_time": "2025-03-05T01:17:49.817Z"
   },
   {
    "duration": 190,
    "start_time": "2025-03-05T01:17:49.828Z"
   },
   {
    "duration": 192,
    "start_time": "2025-03-05T01:17:50.020Z"
   },
   {
    "duration": 41,
    "start_time": "2025-03-05T01:17:50.214Z"
   },
   {
    "duration": 192,
    "start_time": "2025-03-05T01:17:50.257Z"
   },
   {
    "duration": 244,
    "start_time": "2025-03-05T01:17:50.451Z"
   },
   {
    "duration": 343,
    "start_time": "2025-03-05T01:17:50.697Z"
   },
   {
    "duration": 16,
    "start_time": "2025-03-05T01:17:51.042Z"
   },
   {
    "duration": 4,
    "start_time": "2025-03-05T01:17:51.072Z"
   },
   {
    "duration": 27,
    "start_time": "2025-03-05T01:17:51.078Z"
   },
   {
    "duration": 28,
    "start_time": "2025-03-05T01:17:51.108Z"
   },
   {
    "duration": 15,
    "start_time": "2025-03-05T01:17:51.138Z"
   },
   {
    "duration": 7,
    "start_time": "2025-03-05T01:17:51.173Z"
   },
   {
    "duration": 198,
    "start_time": "2025-03-05T01:17:51.182Z"
   },
   {
    "duration": 16,
    "start_time": "2025-03-05T01:17:51.381Z"
   },
   {
    "duration": 13,
    "start_time": "2025-03-05T01:17:51.399Z"
   },
   {
    "duration": 16,
    "start_time": "2025-03-05T01:17:51.414Z"
   },
   {
    "duration": 5,
    "start_time": "2025-03-05T01:17:51.431Z"
   },
   {
    "duration": 38,
    "start_time": "2025-03-05T01:17:51.438Z"
   },
   {
    "duration": 12,
    "start_time": "2025-03-05T01:17:51.478Z"
   },
   {
    "duration": 17,
    "start_time": "2025-03-05T01:17:51.492Z"
   },
   {
    "duration": 19,
    "start_time": "2025-03-05T01:17:51.511Z"
   },
   {
    "duration": 5,
    "start_time": "2025-03-05T01:17:51.532Z"
   },
   {
    "duration": 5,
    "start_time": "2025-03-05T01:17:51.573Z"
   },
   {
    "duration": 6,
    "start_time": "2025-03-05T01:17:51.583Z"
   },
   {
    "duration": 3,
    "start_time": "2025-03-05T01:17:51.590Z"
   },
   {
    "duration": 4,
    "start_time": "2025-03-05T01:17:51.595Z"
   }
  ],
  "kernelspec": {
   "display_name": "Python 3 (ipykernel)",
   "language": "python",
   "name": "python3"
  },
  "language_info": {
   "codemirror_mode": {
    "name": "ipython",
    "version": 3
   },
   "file_extension": ".py",
   "mimetype": "text/x-python",
   "name": "python",
   "nbconvert_exporter": "python",
   "pygments_lexer": "ipython3",
   "version": "3.9.5"
  },
  "toc": {
   "base_numbering": 1,
   "nav_menu": {},
   "number_sections": true,
   "sideBar": true,
   "skip_h1_title": true,
   "title_cell": "Table of Contents",
   "title_sidebar": "Contents",
   "toc_cell": false,
   "toc_position": {
    "height": "calc(100% - 180px)",
    "left": "10px",
    "top": "150px",
    "width": "207.222px"
   },
   "toc_section_display": true,
   "toc_window_display": true
  }
 },
 "nbformat": 4,
 "nbformat_minor": 5
}
