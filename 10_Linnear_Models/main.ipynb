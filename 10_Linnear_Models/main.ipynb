{
 "cells": [
  {
   "cell_type": "markdown",
   "metadata": {},
   "source": [
    "## Задача проекта\n",
    "Необходимо разработать модель машинного обучения, которая поможет управлять рисками и принимать объективное решение о покупке коров. «ЭкоФерма» предоставляет подробные данные о своих коровах. Нужно создать две прогнозные модели для отбора бурёнок в поголовье:\n",
    "Первая будет прогнозировать возможный удой коровы (целевой признак Удой);\n",
    "Вторая — рассчитывать вероятность получить вкусное молоко от коровы (целевой признак Вкус молока).\n",
    "С помощью модели нужно отобрать коров по двум критериям:\n",
    "средний удой за год — не менее 6000 килограммов;\n",
    "молоко должно быть вкусным.\n"
   ]
  },
  {
   "cell_type": "markdown",
   "metadata": {},
   "source": [
    "#### 0. Необходимые импорты"
   ]
  },
  {
   "cell_type": "code",
   "execution_count": null,
   "metadata": {},
   "outputs": [],
   "source": [
    "import pandas as pd\n",
    "import numpy as np\n",
    "import matplotlib.pyplot as plt\n",
    "import seaborn as sns\n",
    "from sklearn.linear_model import LinearRegression\n",
    "from sklearn.model_selection import train_test_split\n",
    "from sklearn.metrics import mean_squared_error, r2_score\n",
    "from sklearn.preprocessing import OneHotEncoder, StandardScaler\n",
    "from scipy.sparse import hstack\n",
    "# from sklearn.preprocessing import PolynomialFeatures\n",
    "# from sklearn.pipeline import Pipeline\n"
   ]
  },
  {
   "cell_type": "markdown",
   "metadata": {},
   "source": [
    "#### Подготовка данных\n",
    "- получение из файлов csv\n",
    "- обзор данных\n",
    "- оценка типов "
   ]
  },
  {
   "cell_type": "code",
   "execution_count": null,
   "metadata": {},
   "outputs": [],
   "source": [
    "df1 = pd.read_csv('datasets/ferma_main.csv', sep=';')\n",
    "df2 = pd.read_csv('datasets/ferma_dad.csv', sep=';')\n",
    "df3 = pd.read_csv('datasets/cow_buy.csv', sep=';')"
   ]
  },
  {
   "cell_type": "markdown",
   "metadata": {},
   "source": [
    "В числовых данных  обнаружены запятые в качестве десятичных разделителей.\n",
    "Исправлено в df1, df3."
   ]
  },
  {
   "cell_type": "code",
   "execution_count": null,
   "metadata": {},
   "outputs": [],
   "source": [
    "\n",
    "# Замена запятых в числах на точки\n",
    "list_to_make_float_1 = ['ЭКЕ (Энергетическая кормовая единица)', 'СПО (Сахаро-протеиновое соотношение)', 'Жирность,%', 'Белок,%']\n",
    "list_to_make_float_2 = ['Текущая_жирность,%', 'Текущий_уровень_белок,%']\n",
    "df1[list_to_make_float_1] = df1[list_to_make_float_1].apply(lambda x: x.str.replace(',', '.').astype(float)) \n",
    "df3[list_to_make_float_2] = df3[list_to_make_float_2].apply(lambda x: x.str.replace(',', '.').astype(float)) "
   ]
  },
  {
   "cell_type": "code",
   "execution_count": null,
   "metadata": {},
   "outputs": [],
   "source": [
    "# Данные фермы\n",
    "display(df1.info())\n",
    "display(df1.head())"
   ]
  },
  {
   "cell_type": "code",
   "execution_count": null,
   "metadata": {},
   "outputs": [],
   "source": [
    "# Данные по папам - быкам\n",
    "display(df2.info())\n",
    "display(df2.head())"
   ]
  },
  {
   "cell_type": "code",
   "execution_count": null,
   "metadata": {},
   "outputs": [],
   "source": [
    "# Данные о предполагаемых покупках\n",
    "display(df3.info())\n",
    "display(df3.head())"
   ]
  },
  {
   "cell_type": "markdown",
   "metadata": {},
   "source": [
    "#### Предобработка данных\n"
   ]
  },
  {
   "cell_type": "markdown",
   "metadata": {},
   "source": [
    "Поиск и удаление полных дубликатов"
   ]
  },
  {
   "cell_type": "code",
   "execution_count": null,
   "metadata": {},
   "outputs": [],
   "source": [
    "# Удаление полных дубликатов.\n",
    "display(\"до удаления\", df1.duplicated().sum())\n",
    "df1.drop_duplicates(inplace=True)\n",
    "display(\"после удаления\", df1.duplicated().sum())"
   ]
  },
  {
   "cell_type": "markdown",
   "metadata": {},
   "source": [
    "Поиск и удаление пропущенных значений"
   ]
  },
  {
   "cell_type": "code",
   "execution_count": null,
   "metadata": {},
   "outputs": [],
   "source": [
    "# поиск пропущенных\n",
    "display(df1.isna().sum())"
   ]
  },
  {
   "cell_type": "markdown",
   "metadata": {},
   "source": [
    "Пропущенных не наблюдается"
   ]
  },
  {
   "cell_type": "markdown",
   "metadata": {},
   "source": [
    "### 2. Исследовательский анализ данных"
   ]
  },
  {
   "cell_type": "code",
   "execution_count": null,
   "metadata": {},
   "outputs": [],
   "source": [
    "# Построение диаграмм для признаков\n",
    "# Строим графики для каждой числовой переменной\n",
    "numeric_columns = [\n",
    "    'Удой, кг', 'ЭКЕ (Энергетическая кормовая единица)', 'Сырой протеин, г',\n",
    "                   'СПО (Сахаро-протеиновое соотношение)', 'Жирность,%', 'Белок,%'\n",
    "]\n",
    "ranges = [(5000, 7000), (10, 17), (1500, 2500), (0.8, 1.0), (2.8, 4), (3.05, 3.1)]\n",
    "for ind, col in enumerate(numeric_columns):\n",
    "    plt.figure(figsize=(3, 3))  # Создаем новую фигуру для каждого графика\n",
    "    plt.hist(df1[col], bins=50, range=ranges[ind])  # Гистограмма для числовых данных\n",
    "    plt.title(f'Распределение {col}')\n",
    "    plt.xlabel(col)\n",
    "    plt.ylabel('Частота')\n",
    "    plt.tight_layout()\n",
    "    plt.show()"
   ]
  },
  {
   "cell_type": "markdown",
   "metadata": {},
   "source": [
    "Гистограммы похожи на \"гребёнку\". Скорее всего разные данные распределяются по разным критериям - папам, лугам, возрасту и т.д."
   ]
  },
  {
   "cell_type": "markdown",
   "metadata": {},
   "source": [
    "Графики для категориальных столбцов"
   ]
  },
  {
   "cell_type": "code",
   "execution_count": null,
   "metadata": {},
   "outputs": [],
   "source": [
    "# Категориальные признаки\n",
    "categorical_columns = df1.select_dtypes(include=['object']).columns\n",
    "\n",
    "# Строим графики для каждой категориальной переменной\n",
    "for col in categorical_columns:\n",
    "    plt.figure(figsize=(3, 3))  # Создаем новую фигуру для каждого графика\n",
    "    sns.countplot(x=col, data=df1)  # Бар-диаграмма для категориальных данных\n",
    "    plt.title(f'Распределение {col}')\n",
    "    plt.xlabel(col)\n",
    "    plt.ylabel('Количество')\n",
    "    plt.tight_layout()\n",
    "    plt.show()"
   ]
  },
  {
   "cell_type": "markdown",
   "metadata": {},
   "source": [
    "#### Корреляционный анализ"
   ]
  },
  {
   "cell_type": "code",
   "execution_count": null,
   "metadata": {},
   "outputs": [],
   "source": [
    "# Матрица корреляции\n",
    "display(df1[numeric_columns].corr())"
   ]
  },
  {
   "cell_type": "markdown",
   "metadata": {},
   "source": [
    "сильно коррелируют СПО и жирность с ЭКЕ"
   ]
  },
  {
   "cell_type": "code",
   "execution_count": null,
   "metadata": {},
   "outputs": [],
   "source": [
    "# Строим график зависимости удоя от количественных переменных\n",
    "\n",
    "# Используем hue для окрашивания точек по категориям\n",
    "for ind, col in enumerate(numeric_columns[1:], 1):\n",
    "    plt.figure(figsize=(5, 5))\n",
    "    \n",
    "    # Передаем категориальную колонку в hue\n",
    "    sns.scatterplot(x=df1[col], y=df1['Удой, кг'], hue=df1[categorical_columns[ind - 1]])\n",
    "    \n",
    "    plt.title(f'Зависимость удоя от {col}')\n",
    "    plt.xlabel(col)\n",
    "    plt.xlim([ranges[ind][0], ranges[ind][1]])  # Ограничение по оси x\n",
    "    plt.ylabel('Удой, кг')\n",
    "    plt.ylim([4000, 7000])  # Ограничение по оси y\n",
    "    plt.grid()\n",
    "    plt.legend(title='Категория')  # Легенда для категорий\n",
    "    plt.show()"
   ]
  },
  {
   "cell_type": "markdown",
   "metadata": {},
   "source": [
    "Молодые коровы дают меньше молока."
   ]
  },
  {
   "cell_type": "markdown",
   "metadata": {},
   "source": [
    "#### Задача регрессии"
   ]
  },
  {
   "cell_type": "markdown",
   "metadata": {},
   "source": [
    "Целевой признак - Удой, в качестве входных признаков возьмём ЭКЕ, так как он имеет наиболее ярко выраженную линейную зависимость и свойства молока: белок, жирность - как необходимые качественные показатели. В качестве категориальных признаков возьмем возраст и породу. По ним наиболее резкие разделения по большинству закономерностей."
   ]
  },
  {
   "cell_type": "markdown",
   "metadata": {},
   "source": [
    "РАзбиваем данные на тестовую и тренировочную выборки."
   ]
  },
  {
   "cell_type": "code",
   "execution_count": null,
   "metadata": {},
   "outputs": [],
   "source": [
    "# набор столбцов для анализа\n",
    "columns_to_use = [\n",
    "    'Удой, кг', 'ЭКЕ (Энергетическая кормовая единица)',\n",
    "    'Жирность,%', 'Белок,%', 'порода папы_быка', 'Возраст',\n",
    "] \n",
    "df_1_1 = df1[columns_to_use]\n",
    "df_1_1.head()\n",
    "\n",
    "# Выделяем входные данные (Х)\n",
    "X = df_1_1.drop('Удой, кг', axis=1)\n",
    "X.head()\n",
    "\n",
    "# Выделяем выходные данные (Y)\n",
    "y = df_1_1['Удой, кг']\n",
    "y.head()\n"
   ]
  },
  {
   "cell_type": "code",
   "execution_count": null,
   "metadata": {},
   "outputs": [],
   "source": [
    "# Разделяем набор данных на обучающую и тестовую выборки\n",
    "X_train, X_test, y_train, y_test = train_test_split(\n",
    "    X,\n",
    "    y,\n",
    "    # test_size=0.2,\n",
    "    random_state=42)\n"
   ]
  },
  {
   "cell_type": "markdown",
   "metadata": {},
   "source": [
    "Масштабирование признаков"
   ]
  },
  {
   "cell_type": "code",
   "execution_count": null,
   "metadata": {},
   "outputs": [],
   "source": [
    "# Категориальные данные\n",
    "categorical_cols = ['порода папы_быка', 'Возраст']\n",
    "encoder = OneHotEncoder(handle_unknown='ignore', sparse_output=True)\n",
    "X_train_ohe = encoder.fit_transform(X_train[categorical_cols])\n",
    "X_test_ohe = encoder.transform(X_test[categorical_cols])"
   ]
  },
  {
   "cell_type": "markdown",
   "metadata": {},
   "source": [
    "Объединяем данные для обучения модели."
   ]
  },
  {
   "cell_type": "code",
   "execution_count": null,
   "metadata": {},
   "outputs": [],
   "source": [
    "# Количественные признаки\n",
    "numerical_cols = ['ЭКЕ (Энергетическая кормовая единица)', 'Жирность,%', 'Белок,%']\n",
    "scaler = StandardScaler()\n",
    "X_train_scaled = scaler.fit_transform(X_train[numerical_cols])\n",
    "X_test_scaled = scaler.transform(X_test[numerical_cols])"
   ]
  },
  {
   "cell_type": "code",
   "execution_count": null,
   "metadata": {},
   "outputs": [],
   "source": [
    "# Преобразуем масштабированные числовые признаки в sparse матрицу\n",
    "from scipy.sparse import csr_matrix\n",
    "X_train_scaled_sparse = csr_matrix(X_train_scaled)\n",
    "X_test_scaled_sparse = csr_matrix(X_test_scaled)\n",
    "\n",
    "# Объединяем по горизонтали\n",
    "X_train_final = hstack([X_train_scaled_sparse, X_train_ohe])\n",
    "X_test_final = hstack([X_test_scaled_sparse, X_test_ohe])"
   ]
  },
  {
   "cell_type": "markdown",
   "metadata": {},
   "source": [
    "#### Обучаем модель линейной регрессии"
   ]
  },
  {
   "cell_type": "code",
   "execution_count": null,
   "metadata": {},
   "outputs": [],
   "source": [
    "# Модель.\n",
    "\n",
    "model_lr = LinearRegression()\n",
    "model_lr.fit(X_train_final, y_train)\n",
    "\n",
    "# Прогноз.\n",
    "\n",
    "y_pred = model_lr.predict(X_test_final)\n",
    "y_pred\n",
    "\n",
    "# Оценка.\n",
    "\n",
    "model_lr.score(X_test_final, y_test)"
   ]
  },
  {
   "cell_type": "markdown",
   "metadata": {},
   "source": [
    "Рассчитаем R<sup>2</sup>"
   ]
  },
  {
   "cell_type": "code",
   "execution_count": null,
   "metadata": {},
   "outputs": [],
   "source": [
    "# Расчёт\n",
    "r2 = r2_score(y_test, y_pred)\n",
    "print(r2)"
   ]
  },
  {
   "cell_type": "code",
   "execution_count": null,
   "metadata": {},
   "outputs": [],
   "source": [
    "# анализ остатков\n",
    "residuals = residuals = y_test - y_pred\n",
    "\n",
    "# постройте графики по количественным признакам — гистограмму частотности \n",
    "# распределения и диаграмму рассеяния\n",
    "fig, axes = plt.subplots(nrows=1, ncols=2, figsize=(10,5))\n",
    "axes[0].hist(residuals, bins=30)\n",
    "axes[0].set_title('Гистограмма распределения остатков')\n",
    "axes[0].set_xlabel('Остатки')\n",
    "\n",
    "axes[1].scatter(x=y_pred, y=residuals)\n",
    "axes[1].set_xlabel('Предсказания модели')\n",
    "axes[1].set_ylabel('Остатки')\n",
    "axes[1].set_title('Анализ дисперсии')\n",
    "plt.show()"
   ]
  },
  {
   "cell_type": "markdown",
   "metadata": {},
   "source": [
    "#### Вторая модель"
   ]
  },
  {
   "cell_type": "markdown",
   "metadata": {},
   "source": [
    "Преобразование СПО в категориальный признак по разделению данных на 2 кластера. Граничное значение СПО - 0.91 (среднее между максимальным значением одного кластера и минимальным другого)"
   ]
  },
  {
   "cell_type": "code",
   "execution_count": null,
   "metadata": {},
   "outputs": [],
   "source": [
    "boundary = 0.91  # Примерное значение\n",
    "\n",
    "df1['СПО_категория'] = (df1['СПО (Сахаро-протеиновое соотношение)'] >= boundary).astype(int)\n",
    "\n",
    "# Категориальные столбцы (включая новый СПО_категория)\n",
    "categorical_cols_2 = [\n",
    "    'Порода', 'Тип пастбища', 'порода папы_быка',\n",
    "    'Вкус молока', 'Возраст', 'СПО_категория'\n",
    "]\n",
    "\n",
    "# Удаляем исходный СПО и добавляем категориальный\n",
    "X = df1.drop(['СПО (Сахаро-протеиновое соотношение)', 'Удой, кг', 'id'], axis=1)\n",
    "y = df1['Удой, кг']"
   ]
  },
  {
   "cell_type": "markdown",
   "metadata": {},
   "source": [
    "Устранение нелинейности зависимости Удой от ЭКЕ"
   ]
  },
  {
   "cell_type": "code",
   "execution_count": null,
   "metadata": {},
   "outputs": [],
   "source": [
    "# Добавление столбца с квадратом значения\n",
    "df1['ЭКЕ_2'] = df1['ЭКЕ (Энергетическая кормовая единица)'] ** 2\n",
    "\n",
    "# обновление столбцов с количественными признаками\n",
    "numeric_cols_2 = [ \n",
    "    'ЭКЕ_2',\n",
    "    'Сырой протеин, г', \n",
    "    'Жирность,%', \n",
    "    'Белок,%'\n",
    "]"
   ]
  },
  {
   "cell_type": "code",
   "execution_count": null,
   "metadata": {},
   "outputs": [],
   "source": [
    "# Новое разделение на train/test\n",
    "X = df1.drop(\n",
    "    [\n",
    "        'Удой, кг', 'id',\n",
    "        'СПО (Сахаро-протеиновое соотношение)',\n",
    "        'ЭКЕ (Энергетическая кормовая единица)',\n",
    "        ], axis=1\n",
    ")\n",
    "y = df1['Удой, кг']\n",
    "X_train, X_test, y_train, y_test = train_test_split(X, y, random_state=42)"
   ]
  },
  {
   "cell_type": "markdown",
   "metadata": {},
   "source": [
    "Подготовка данных для второй модели"
   ]
  },
  {
   "cell_type": "code",
   "execution_count": null,
   "metadata": {},
   "outputs": [],
   "source": [
    "# Категориальные данные\n",
    "categorical_cols_2 = ['порода папы_быка', 'Возраст']\n",
    "encoder = OneHotEncoder(handle_unknown='ignore', sparse_output=True)\n",
    "X_train_ohe_m2 = encoder.fit_transform(X_train[categorical_cols_2])\n",
    "X_test_ohe_m2 = encoder.transform(X_test[categorical_cols_2])"
   ]
  },
  {
   "cell_type": "code",
   "execution_count": null,
   "metadata": {},
   "outputs": [],
   "source": [
    "# Количественные дaнные\n",
    "X_train_scaled_m2 = scaler.fit_transform(X_train[numeric_cols_2])\n",
    "X_test_scaled_m2 = scaler.transform(X_test[numeric_cols_2])"
   ]
  },
  {
   "cell_type": "code",
   "execution_count": null,
   "metadata": {},
   "outputs": [],
   "source": [
    "# Преобразуем масштабированные числовые признаки в sparse матрицу\n",
    "from scipy.sparse import csr_matrix\n",
    "X_train_scaled_sparse = csr_matrix(X_train_scaled_m2)\n",
    "X_test_scaled_sparse = csr_matrix(X_test_scaled_m2)\n",
    "\n",
    "# Объединяем по горизонтали\n",
    "X_train_final_m2 = hstack([X_train_scaled_sparse, X_train_ohe_m2])\n",
    "X_test_final_m2 = hstack([X_test_scaled_sparse, X_test_ohe_m2])"
   ]
  },
  {
   "cell_type": "markdown",
   "metadata": {},
   "source": [
    "Обучаем вторую модель"
   ]
  },
  {
   "cell_type": "code",
   "execution_count": null,
   "metadata": {},
   "outputs": [],
   "source": [
    "# Модель.\n",
    "\n",
    "model_lr_2 = LinearRegression()\n",
    "model_lr_2.fit(X_train_final_m2, y_train)\n",
    "\n",
    "# Прогноз.\n",
    "\n",
    "y_pred_2 = model_lr_2.predict(X_test_final_m2)\n",
    "y_pred_2\n",
    "\n",
    "# Оценка.\n",
    "\n",
    "model_lr_2.score(X_test_final_m2, y_test)"
   ]
  },
  {
   "cell_type": "markdown",
   "metadata": {},
   "source": [
    "Расчёт R<sup>2</sup>  для второй модели"
   ]
  },
  {
   "cell_type": "code",
   "execution_count": null,
   "metadata": {},
   "outputs": [],
   "source": [
    "# Расчёт\n",
    "r2 = r2_score(y_test, y_pred_2)\n",
    "print(r2)"
   ]
  },
  {
   "cell_type": "code",
   "execution_count": null,
   "metadata": {},
   "outputs": [],
   "source": [
    "# Расчёт\n",
    "r2 = r2_score(y_test, y_pred_2)\n",
    "print(r2)"
   ]
  },
  {
   "cell_type": "code",
   "execution_count": null,
   "metadata": {},
   "outputs": [],
   "source": [
    "# анализ остатков\n",
    "residuals = residuals = y_test - y_pred_2\n",
    "\n",
    "# постройте графики по количественным признакам — гистограмму частотности \n",
    "# распределения и диаграмму рассеяния\n",
    "fig, axes = plt.subplots(nrows=1, ncols=2, figsize=(10,5))\n",
    "axes[0].hist(residuals, bins=30)\n",
    "axes[0].set_title('Гистограмма распределения остатков')\n",
    "axes[0].set_xlabel('Остатки')\n",
    "\n",
    "axes[1].scatter(x=y_pred_2, y=residuals)\n",
    "axes[1].set_xlabel('Предсказания модели')\n",
    "axes[1].set_ylabel('Остатки')\n",
    "axes[1].set_title('Анализ дисперсии')\n",
    "plt.show()"
   ]
  },
  {
   "cell_type": "markdown",
   "metadata": {},
   "source": [
    "Выводы"
   ]
  },
  {
   "cell_type": "markdown",
   "metadata": {},
   "source": [
    "#### Третья модель"
   ]
  },
  {
   "cell_type": "code",
   "execution_count": 108,
   "metadata": {},
   "outputs": [
    {
     "data": {
      "text/html": [
       "<div>\n",
       "<style scoped>\n",
       "    .dataframe tbody tr th:only-of-type {\n",
       "        vertical-align: middle;\n",
       "    }\n",
       "\n",
       "    .dataframe tbody tr th {\n",
       "        vertical-align: top;\n",
       "    }\n",
       "\n",
       "    .dataframe thead th {\n",
       "        text-align: right;\n",
       "    }\n",
       "</style>\n",
       "<table border=\"1\" class=\"dataframe\">\n",
       "  <thead>\n",
       "    <tr style=\"text-align: right;\">\n",
       "      <th></th>\n",
       "      <th>id</th>\n",
       "      <th>Удой, кг</th>\n",
       "      <th>ЭКЕ (Энергетическая кормовая единица)</th>\n",
       "      <th>Сырой протеин, г</th>\n",
       "      <th>СПО (Сахаро-протеиновое соотношение)</th>\n",
       "      <th>Порода</th>\n",
       "      <th>Тип пастбища</th>\n",
       "      <th>порода папы_быка</th>\n",
       "      <th>Жирность,%</th>\n",
       "      <th>Белок,%</th>\n",
       "      <th>Вкус молока</th>\n",
       "      <th>Возраст</th>\n",
       "      <th>СПО_категория</th>\n",
       "      <th>ЭКЕ_2</th>\n",
       "      <th>Имя Папы</th>\n",
       "    </tr>\n",
       "  </thead>\n",
       "  <tbody>\n",
       "    <tr>\n",
       "      <th>0</th>\n",
       "      <td>1</td>\n",
       "      <td>5863</td>\n",
       "      <td>14.2</td>\n",
       "      <td>1743</td>\n",
       "      <td>0.890</td>\n",
       "      <td>Вис Бик Айдиал</td>\n",
       "      <td>Равнинное</td>\n",
       "      <td>Айдиал</td>\n",
       "      <td>3.58</td>\n",
       "      <td>3.076</td>\n",
       "      <td>вкусно</td>\n",
       "      <td>более_2_лет</td>\n",
       "      <td>0</td>\n",
       "      <td>201.64</td>\n",
       "      <td>Буйный</td>\n",
       "    </tr>\n",
       "    <tr>\n",
       "      <th>1</th>\n",
       "      <td>2</td>\n",
       "      <td>5529</td>\n",
       "      <td>12.8</td>\n",
       "      <td>2138</td>\n",
       "      <td>0.890</td>\n",
       "      <td>Вис Бик Айдиал</td>\n",
       "      <td>Равнинные</td>\n",
       "      <td>Соверин</td>\n",
       "      <td>3.54</td>\n",
       "      <td>3.079</td>\n",
       "      <td>вкусно</td>\n",
       "      <td>менее_2_лет</td>\n",
       "      <td>0</td>\n",
       "      <td>163.84</td>\n",
       "      <td>Соловчик</td>\n",
       "    </tr>\n",
       "    <tr>\n",
       "      <th>2</th>\n",
       "      <td>3</td>\n",
       "      <td>5810</td>\n",
       "      <td>14.0</td>\n",
       "      <td>1854</td>\n",
       "      <td>0.885</td>\n",
       "      <td>РефлешнСоверинг</td>\n",
       "      <td>Холмистое</td>\n",
       "      <td>Соверин</td>\n",
       "      <td>3.59</td>\n",
       "      <td>3.074</td>\n",
       "      <td>не вкусно</td>\n",
       "      <td>более_2_лет</td>\n",
       "      <td>0</td>\n",
       "      <td>196.00</td>\n",
       "      <td>Барин</td>\n",
       "    </tr>\n",
       "    <tr>\n",
       "      <th>3</th>\n",
       "      <td>4</td>\n",
       "      <td>5895</td>\n",
       "      <td>12.4</td>\n",
       "      <td>2012</td>\n",
       "      <td>0.885</td>\n",
       "      <td>РефлешнСоверинг</td>\n",
       "      <td>Холмистое</td>\n",
       "      <td>Айдиал</td>\n",
       "      <td>3.40</td>\n",
       "      <td>3.075</td>\n",
       "      <td>не вкусно</td>\n",
       "      <td>более_2_лет</td>\n",
       "      <td>0</td>\n",
       "      <td>153.76</td>\n",
       "      <td>Буйный</td>\n",
       "    </tr>\n",
       "    <tr>\n",
       "      <th>4</th>\n",
       "      <td>5</td>\n",
       "      <td>5302</td>\n",
       "      <td>12.8</td>\n",
       "      <td>1675</td>\n",
       "      <td>0.885</td>\n",
       "      <td>Вис Бик Айдиал</td>\n",
       "      <td>Равнинные</td>\n",
       "      <td>Соверин</td>\n",
       "      <td>3.73</td>\n",
       "      <td>3.073</td>\n",
       "      <td>вкусно</td>\n",
       "      <td>менее_2_лет</td>\n",
       "      <td>0</td>\n",
       "      <td>163.84</td>\n",
       "      <td>Барин</td>\n",
       "    </tr>\n",
       "  </tbody>\n",
       "</table>\n",
       "</div>"
      ],
      "text/plain": [
       "   id  Удой, кг  ЭКЕ (Энергетическая кормовая единица)  Сырой протеин, г  \\\n",
       "0   1      5863                                   14.2              1743   \n",
       "1   2      5529                                   12.8              2138   \n",
       "2   3      5810                                   14.0              1854   \n",
       "3   4      5895                                   12.4              2012   \n",
       "4   5      5302                                   12.8              1675   \n",
       "\n",
       "   СПО (Сахаро-протеиновое соотношение)           Порода Тип пастбища  \\\n",
       "0                                 0.890   Вис Бик Айдиал    Равнинное   \n",
       "1                                 0.890   Вис Бик Айдиал    Равнинные   \n",
       "2                                 0.885  РефлешнСоверинг    Холмистое   \n",
       "3                                 0.885  РефлешнСоверинг    Холмистое   \n",
       "4                                 0.885   Вис Бик Айдиал    Равнинные   \n",
       "\n",
       "  порода папы_быка  Жирность,%  Белок,% Вкус молока      Возраст  \\\n",
       "0           Айдиал        3.58    3.076      вкусно  более_2_лет   \n",
       "1          Соверин        3.54    3.079      вкусно  менее_2_лет   \n",
       "2          Соверин        3.59    3.074   не вкусно  более_2_лет   \n",
       "3           Айдиал        3.40    3.075   не вкусно  более_2_лет   \n",
       "4          Соверин        3.73    3.073      вкусно  менее_2_лет   \n",
       "\n",
       "   СПО_категория   ЭКЕ_2  Имя Папы  \n",
       "0              0  201.64    Буйный  \n",
       "1              0  163.84  Соловчик  \n",
       "2              0  196.00     Барин  \n",
       "3              0  153.76    Буйный  \n",
       "4              0  163.84     Барин  "
      ]
     },
     "execution_count": 108,
     "metadata": {},
     "output_type": "execute_result"
    }
   ],
   "source": [
    "# Объединяем по столбцу 'id'\n",
    "df_merged = pd.merge(\n",
    "    df1, \n",
    "    df2, \n",
    "    on='id', \n",
    "    how='left'\n",
    ")\n",
    "df_merged.head()"
   ]
  },
  {
   "cell_type": "code",
   "execution_count": 109,
   "metadata": {},
   "outputs": [],
   "source": [
    "# Обновляем список категориальных признаков\n",
    "categorical_cols_3 = [\n",
    "    'Порода', \n",
    "    'Тип пастбища', \n",
    "    'порода папы_быка', \n",
    "    'Вкус молока', \n",
    "    'Возраст',\n",
    "    'СПО_категория',\n",
    "    'Имя Папы'\n",
    "]\n"
   ]
  },
  {
   "cell_type": "markdown",
   "metadata": {},
   "source": [
    "Построим диаграмму для визуального анализа"
   ]
  },
  {
   "cell_type": "code",
   "execution_count": 106,
   "metadata": {},
   "outputs": [
    {
     "data": {
      "image/png": "[encoded data removed]",
      "text/plain": [
       "<Figure size 1200x600 with 1 Axes>"
      ]
     },
     "metadata": {},
     "output_type": "display_data"
    }
   ],
   "source": [
    "plt.figure(figsize=(12, 6))\n",
    "sns.boxplot(\n",
    "    data=df_merged, \n",
    "    x='Имя Папы', \n",
    "    y='Удой, кг',\n",
    "    showmeans=True,  # Показываем средние значения\n",
    "    meanprops={'marker':'o', 'markerfacecolor':'white', 'markeredgecolor':'black'}\n",
    ")\n",
    "plt.ylim(5000, 8000)  # Устанавливаем ограничения на оси y\n",
    "plt.xticks(rotation=45)  # Поворачиваем подписи для читаемости\n",
    "plt.title('Зависимость удоя от имени папы быка')\n",
    "plt.xlabel('Имя папы быка')\n",
    "plt.ylabel('Удой, кг')\n",
    "plt.grid(True)\n",
    "plt.show()"
   ]
  },
  {
   "cell_type": "markdown",
   "metadata": {},
   "source": [
    "Преобразование нового признака"
   ]
  },
  {
   "cell_type": "code",
   "execution_count": null,
   "metadata": {},
   "outputs": [],
   "source": [
    "# ????\n",
    "mean_yield = df_merged.groupby('Имя Папы')['Удой, кг'].mean().to_dict()\n",
    "df_merged['Имя_Папы_encoded'] = df_merged['Имя Папы'].map(mean_yield)"
   ]
  },
  {
   "cell_type": "code",
   "execution_count": 113,
   "metadata": {},
   "outputs": [],
   "source": [
    "# Обновление списка колонок\n",
    "numerical_cols = [\n",
    "    'ЭКЕ (Энергетическая кормовая единица)', \n",
    "    'ЭКЕ²', \n",
    "    'Сырой протеин, г', \n",
    "    'Жирность,%', \n",
    "    'Белок,%',\n",
    "    'Имя_Папы_encoded'  # Новый числовой признак\n",
    "]"
   ]
  }
 ],
 "metadata": {
  "kernelspec": {
   "display_name": "venv",
   "language": "python",
   "name": "python3"
  },
  "language_info": {
   "codemirror_mode": {
    "name": "ipython",
    "version": 3
   },
   "file_extension": ".py",
   "mimetype": "text/x-python",
   "name": "python",
   "nbconvert_exporter": "python",
   "pygments_lexer": "ipython3",
   "version": "3.10.10"
  }
 },
 "nbformat": 4,
 "nbformat_minor": 2
}
