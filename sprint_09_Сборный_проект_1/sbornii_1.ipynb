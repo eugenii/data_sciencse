{
 "cells": [
  {
   "cell_type": "markdown",
   "metadata": {},
   "source": [
    "### 0. Импорт необходимых библиотек"
   ]
  },
  {
   "cell_type": "code",
   "execution_count": 89,
   "metadata": {},
   "outputs": [],
   "source": [
    "import pandas as pd\n",
    "import numpy as np\n",
    "import matplotlib.pyplot as plt\n",
    "import seaborn as sns"
   ]
  },
  {
   "cell_type": "markdown",
   "metadata": {},
   "source": [
    "### 1. Получение данных и первичной информации о них"
   ]
  },
  {
   "cell_type": "code",
   "execution_count": 61,
   "metadata": {},
   "outputs": [
    {
     "name": "stdout",
     "output_type": "stream",
     "text": [
      "<class 'pandas.core.frame.DataFrame'>\n",
      "RangeIndex: 16715 entries, 0 to 16714\n",
      "Data columns (total 11 columns):\n",
      " #   Column           Non-Null Count  Dtype  \n",
      "---  ------           --------------  -----  \n",
      " 0   Name             16713 non-null  object \n",
      " 1   Platform         16715 non-null  object \n",
      " 2   Year_of_Release  16446 non-null  float64\n",
      " 3   Genre            16713 non-null  object \n",
      " 4   NA_sales         16715 non-null  float64\n",
      " 5   EU_sales         16715 non-null  float64\n",
      " 6   JP_sales         16715 non-null  float64\n",
      " 7   Other_sales      16715 non-null  float64\n",
      " 8   Critic_Score     8137 non-null   float64\n",
      " 9   User_Score       10014 non-null  object \n",
      " 10  Rating           9949 non-null   object \n",
      "dtypes: float64(6), object(5)\n",
      "memory usage: 1.4+ MB\n"
     ]
    },
    {
     "data": {
      "text/html": [
       "<div>\n",
       "<style scoped>\n",
       "    .dataframe tbody tr th:only-of-type {\n",
       "        vertical-align: middle;\n",
       "    }\n",
       "\n",
       "    .dataframe tbody tr th {\n",
       "        vertical-align: top;\n",
       "    }\n",
       "\n",
       "    .dataframe thead th {\n",
       "        text-align: right;\n",
       "    }\n",
       "</style>\n",
       "<table border=\"1\" class=\"dataframe\">\n",
       "  <thead>\n",
       "    <tr style=\"text-align: right;\">\n",
       "      <th></th>\n",
       "      <th>Name</th>\n",
       "      <th>Platform</th>\n",
       "      <th>Year_of_Release</th>\n",
       "      <th>Genre</th>\n",
       "      <th>NA_sales</th>\n",
       "      <th>EU_sales</th>\n",
       "      <th>JP_sales</th>\n",
       "      <th>Other_sales</th>\n",
       "      <th>Critic_Score</th>\n",
       "      <th>User_Score</th>\n",
       "      <th>Rating</th>\n",
       "    </tr>\n",
       "  </thead>\n",
       "  <tbody>\n",
       "    <tr>\n",
       "      <th>0</th>\n",
       "      <td>Wii Sports</td>\n",
       "      <td>Wii</td>\n",
       "      <td>2006.0</td>\n",
       "      <td>Sports</td>\n",
       "      <td>41.36</td>\n",
       "      <td>28.96</td>\n",
       "      <td>3.77</td>\n",
       "      <td>8.45</td>\n",
       "      <td>76.0</td>\n",
       "      <td>8</td>\n",
       "      <td>E</td>\n",
       "    </tr>\n",
       "    <tr>\n",
       "      <th>1</th>\n",
       "      <td>Super Mario Bros.</td>\n",
       "      <td>NES</td>\n",
       "      <td>1985.0</td>\n",
       "      <td>Platform</td>\n",
       "      <td>29.08</td>\n",
       "      <td>3.58</td>\n",
       "      <td>6.81</td>\n",
       "      <td>0.77</td>\n",
       "      <td>NaN</td>\n",
       "      <td>NaN</td>\n",
       "      <td>NaN</td>\n",
       "    </tr>\n",
       "    <tr>\n",
       "      <th>2</th>\n",
       "      <td>Mario Kart Wii</td>\n",
       "      <td>Wii</td>\n",
       "      <td>2008.0</td>\n",
       "      <td>Racing</td>\n",
       "      <td>15.68</td>\n",
       "      <td>12.76</td>\n",
       "      <td>3.79</td>\n",
       "      <td>3.29</td>\n",
       "      <td>82.0</td>\n",
       "      <td>8.3</td>\n",
       "      <td>E</td>\n",
       "    </tr>\n",
       "    <tr>\n",
       "      <th>3</th>\n",
       "      <td>Wii Sports Resort</td>\n",
       "      <td>Wii</td>\n",
       "      <td>2009.0</td>\n",
       "      <td>Sports</td>\n",
       "      <td>15.61</td>\n",
       "      <td>10.93</td>\n",
       "      <td>3.28</td>\n",
       "      <td>2.95</td>\n",
       "      <td>80.0</td>\n",
       "      <td>8</td>\n",
       "      <td>E</td>\n",
       "    </tr>\n",
       "    <tr>\n",
       "      <th>4</th>\n",
       "      <td>Pokemon Red/Pokemon Blue</td>\n",
       "      <td>GB</td>\n",
       "      <td>1996.0</td>\n",
       "      <td>Role-Playing</td>\n",
       "      <td>11.27</td>\n",
       "      <td>8.89</td>\n",
       "      <td>10.22</td>\n",
       "      <td>1.00</td>\n",
       "      <td>NaN</td>\n",
       "      <td>NaN</td>\n",
       "      <td>NaN</td>\n",
       "    </tr>\n",
       "  </tbody>\n",
       "</table>\n",
       "</div>"
      ],
      "text/plain": [
       "                       Name Platform  Year_of_Release         Genre  NA_sales  \\\n",
       "0                Wii Sports      Wii           2006.0        Sports     41.36   \n",
       "1         Super Mario Bros.      NES           1985.0      Platform     29.08   \n",
       "2            Mario Kart Wii      Wii           2008.0        Racing     15.68   \n",
       "3         Wii Sports Resort      Wii           2009.0        Sports     15.61   \n",
       "4  Pokemon Red/Pokemon Blue       GB           1996.0  Role-Playing     11.27   \n",
       "\n",
       "   EU_sales  JP_sales  Other_sales  Critic_Score User_Score Rating  \n",
       "0     28.96      3.77         8.45          76.0          8      E  \n",
       "1      3.58      6.81         0.77           NaN        NaN    NaN  \n",
       "2     12.76      3.79         3.29          82.0        8.3      E  \n",
       "3     10.93      3.28         2.95          80.0          8      E  \n",
       "4      8.89     10.22         1.00           NaN        NaN    NaN  "
      ]
     },
     "metadata": {},
     "output_type": "display_data"
    },
    {
     "data": {
      "text/plain": [
       "array(['E', nan, 'M', 'T', 'E10+', 'K-A', 'AO', 'EC', 'RP'], dtype=object)"
      ]
     },
     "metadata": {},
     "output_type": "display_data"
    }
   ],
   "source": [
    "data = pd.read_csv('datasets/games.csv')\n",
    "\n",
    "data.info()\n",
    "display(data.head())\n",
    "display(data['Rating'].unique())"
   ]
  },
  {
   "cell_type": "markdown",
   "metadata": {},
   "source": [
    "В датасете 16715 строк записей. Данные разных типов. Присутствуют пропуски данных, некоторые данные представлены NaN."
   ]
  },
  {
   "cell_type": "markdown",
   "metadata": {},
   "source": [
    "### 2. Предобработка данных"
   ]
  },
  {
   "cell_type": "markdown",
   "metadata": {},
   "source": [
    "#### 2.1 Замена названий столбцов"
   ]
  },
  {
   "cell_type": "code",
   "execution_count": 62,
   "metadata": {},
   "outputs": [
    {
     "name": "stdout",
     "output_type": "stream",
     "text": [
      "<class 'pandas.core.frame.DataFrame'>\n",
      "RangeIndex: 16715 entries, 0 to 16714\n",
      "Data columns (total 11 columns):\n",
      " #   Column           Non-Null Count  Dtype  \n",
      "---  ------           --------------  -----  \n",
      " 0   name             16713 non-null  object \n",
      " 1   platform         16715 non-null  object \n",
      " 2   year_of_release  16446 non-null  float64\n",
      " 3   genre            16713 non-null  object \n",
      " 4   na_sales         16715 non-null  float64\n",
      " 5   eu_sales         16715 non-null  float64\n",
      " 6   jp_sales         16715 non-null  float64\n",
      " 7   other_sales      16715 non-null  float64\n",
      " 8   critic_score     8137 non-null   float64\n",
      " 9   user_score       10014 non-null  object \n",
      " 10  rating           9949 non-null   object \n",
      "dtypes: float64(6), object(5)\n",
      "memory usage: 1.4+ MB\n"
     ]
    }
   ],
   "source": [
    "#  Переименовываем названия столбцов привoдя к нижнему регистру.\n",
    "# renames = {'Name': 'name', 'Platform': 'platform', ...}; data = data.rename(columns = renames)\n",
    "data.columns = data.columns.str.lower()\n",
    "data.info()"
   ]
  },
  {
   "cell_type": "markdown",
   "metadata": {},
   "source": [
    "#### 2.2 Преобразование типов данных"
   ]
  },
  {
   "cell_type": "markdown",
   "metadata": {},
   "source": [
    "Преобразуем колонку \"год выпуска\"  к целому числу, а колонку с оценкой пользователей к вещественному, так как в ней наблюдаются дробные значения."
   ]
  },
  {
   "cell_type": "code",
   "execution_count": null,
   "metadata": {},
   "outputs": [],
   "source": [
    "# Год в целое\n",
    "\n",
    "display(data['year_of_release'].unique())    # Посмотреть какие года есть\n",
    "data['year_of_release'] = data['year_of_release'].fillna(0)\n",
    "data['year_of_release'] = data['year_of_release'].astype('int')\n",
    "\n",
    "# Оценка пользователей в float\n",
    "data['user_score'] = pd.to_numeric(data['user_score'], errors='coerce')    # В случае NaN -  пропускаем и оставляем.\n",
    "\n",
    "display(data.info())"
   ]
  },
  {
   "cell_type": "markdown",
   "metadata": {},
   "source": [
    "#### 2.3 Обработка пропусков"
   ]
  },
  {
   "cell_type": "code",
   "execution_count": null,
   "metadata": {},
   "outputs": [],
   "source": [
    "# Все пропуски по столбцам:\n",
    "display(data.isna().sum())\n",
    "\n",
    "for pos in ('name', 'genre'):\n",
    "    display(data[pos].unique())"
   ]
  },
  {
   "cell_type": "markdown",
   "metadata": {},
   "source": [
    "По два пропуска в столбцах 'name' и 'genre', большАя часть в столбцах с оценками и рейтингами."
   ]
  },
  {
   "cell_type": "code",
   "execution_count": null,
   "metadata": {},
   "outputs": [
    {
     "data": {
      "text/plain": [
       "array(['Wii Sports', 'Super Mario Bros.', 'Mario Kart Wii', ...,\n",
       "       'Woody Woodpecker in Crazy Castle 5', 'LMA Manager 2007',\n",
       "       'Haitaka no Psychedelica'], shape=(11559,), dtype=object)"
      ]
     },
     "metadata": {},
     "output_type": "display_data"
    },
    {
     "name": "stdout",
     "output_type": "stream",
     "text": [
      "Количество пропусков в name: 0\n",
      "Индексы пропусков в name: []\n"
     ]
    },
    {
     "data": {
      "text/plain": [
       "array(['Sports', 'Platform', 'Racing', 'Role-Playing', 'Puzzle', 'Misc',\n",
       "       'Shooter', 'Simulation', 'Action', 'Fighting', 'Adventure',\n",
       "       'Strategy'], dtype=object)"
      ]
     },
     "metadata": {},
     "output_type": "display_data"
    },
    {
     "name": "stdout",
     "output_type": "stream",
     "text": [
      "Количество пропусков в genre: 0\n",
      "Индексы пропусков в genre: []\n"
     ]
    },
    {
     "data": {
      "text/html": [
       "<div>\n",
       "<style scoped>\n",
       "    .dataframe tbody tr th:only-of-type {\n",
       "        vertical-align: middle;\n",
       "    }\n",
       "\n",
       "    .dataframe tbody tr th {\n",
       "        vertical-align: top;\n",
       "    }\n",
       "\n",
       "    .dataframe thead th {\n",
       "        text-align: right;\n",
       "    }\n",
       "</style>\n",
       "<table border=\"1\" class=\"dataframe\">\n",
       "  <thead>\n",
       "    <tr style=\"text-align: right;\">\n",
       "      <th></th>\n",
       "      <th>name</th>\n",
       "      <th>platform</th>\n",
       "      <th>year_of_release</th>\n",
       "      <th>genre</th>\n",
       "      <th>na_sales</th>\n",
       "      <th>eu_sales</th>\n",
       "      <th>jp_sales</th>\n",
       "      <th>other_sales</th>\n",
       "      <th>critic_score</th>\n",
       "      <th>user_score</th>\n",
       "      <th>rating</th>\n",
       "    </tr>\n",
       "  </thead>\n",
       "  <tbody>\n",
       "    <tr>\n",
       "      <th>659</th>\n",
       "      <td>Guitar Hero</td>\n",
       "      <td>PS2</td>\n",
       "      <td>2005</td>\n",
       "      <td>Misc</td>\n",
       "      <td>1.67</td>\n",
       "      <td>0.61</td>\n",
       "      <td>0.03</td>\n",
       "      <td>0.07</td>\n",
       "      <td>91.0</td>\n",
       "      <td>8.7</td>\n",
       "      <td>T</td>\n",
       "    </tr>\n",
       "    <tr>\n",
       "      <th>14244</th>\n",
       "      <td>Mashiro Iro Symphony: *mutsu-no-hana</td>\n",
       "      <td>PSP</td>\n",
       "      <td>2011</td>\n",
       "      <td>Adventure</td>\n",
       "      <td>0.00</td>\n",
       "      <td>0.00</td>\n",
       "      <td>0.03</td>\n",
       "      <td>0.00</td>\n",
       "      <td>NaN</td>\n",
       "      <td>NaN</td>\n",
       "      <td>NaN</td>\n",
       "    </tr>\n",
       "  </tbody>\n",
       "</table>\n",
       "</div>"
      ],
      "text/plain": [
       "                                       name platform  year_of_release  \\\n",
       "659                             Guitar Hero      PS2             2005   \n",
       "14244  Mashiro Iro Symphony: *mutsu-no-hana      PSP             2011   \n",
       "\n",
       "           genre  na_sales  eu_sales  jp_sales  other_sales  critic_score  \\\n",
       "659         Misc      1.67      0.61      0.03         0.07          91.0   \n",
       "14244  Adventure      0.00      0.00      0.03         0.00           NaN   \n",
       "\n",
       "       user_score rating  \n",
       "659           8.7      T  \n",
       "14244         NaN    NaN  "
      ]
     },
     "metadata": {},
     "output_type": "display_data"
    }
   ],
   "source": [
    "# Детально посмотрим что за пропуски в названиях и жанрах\n",
    "\n",
    "for pos in ('name', 'genre'):\n",
    "    display(data[pos].unique())\n",
    "\n",
    "    missing_values = data[pos].isnull().sum()\n",
    "    print(f\"Количество пропусков в {pos}: {missing_values}\")\n",
    "    nan_indices = data[data[pos].isnull()].index\n",
    "    print(f\"Индексы пропусков в {pos}: {list(nan_indices)}\")\n",
    "display(data.loc[[659, 14244]])"
   ]
  },
  {
   "cell_type": "markdown",
   "metadata": {},
   "source": [
    "Две игры. Не оценивались и не имеют рейтинга. Продажи низкие. Предваарительное решение - удаляем."
   ]
  },
  {
   "cell_type": "code",
   "execution_count": null,
   "metadata": {},
   "outputs": [],
   "source": [
    "# Удаляем строки по индексам\n",
    "\n",
    "data = data.drop(nan_indices).reset_index(drop=True)"
   ]
  },
  {
   "cell_type": "markdown",
   "metadata": {},
   "source": [
    "Посмотрим в каких случаях проявляются значения NaN."
   ]
  },
  {
   "cell_type": "code",
   "execution_count": null,
   "metadata": {},
   "outputs": [
    {
     "name": "stdout",
     "output_type": "stream",
     "text": [
      "                             name platform  year_of_release         genre  \\\n",
      "1               Super Mario Bros.      NES             1985      Platform   \n",
      "4        Pokemon Red/Pokemon Blue       GB             1996  Role-Playing   \n",
      "5                          Tetris       GB             1989        Puzzle   \n",
      "9                       Duck Hunt      NES             1984       Shooter   \n",
      "10                     Nintendogs       DS             2005    Simulation   \n",
      "12    Pokemon Gold/Pokemon Silver       GB             1999  Role-Playing   \n",
      "18              Super Mario World     SNES             1990      Platform   \n",
      "20  Pokemon Diamond/Pokemon Pearl       DS             2006  Role-Playing   \n",
      "21               Super Mario Land       GB             1989      Platform   \n",
      "22            Super Mario Bros. 3      NES             1988      Platform   \n",
      "\n",
      "    na_sales  eu_sales  jp_sales  other_sales  critic_score  user_score rating  \n",
      "1      29.08      3.58      6.81         0.77           NaN         NaN    NaN  \n",
      "4      11.27      8.89     10.22         1.00           NaN         NaN    NaN  \n",
      "5      23.20      2.26      4.22         0.58           NaN         NaN    NaN  \n",
      "9      26.93      0.63      0.28         0.47           NaN         NaN    NaN  \n",
      "10      9.05     10.95      1.93         2.74           NaN         NaN    NaN  \n",
      "12      9.00      6.18      7.20         0.71           NaN         NaN    NaN  \n",
      "18     12.78      3.75      3.54         0.55           NaN         NaN    NaN  \n",
      "20      6.38      4.46      6.04         1.36           NaN         NaN    NaN  \n",
      "21     10.83      2.71      4.18         0.42           NaN         NaN    NaN  \n",
      "22      9.54      3.44      3.84         0.46           NaN         NaN    NaN  \n"
     ]
    }
   ],
   "source": [
    "print(data.query('critic_score.isna()').head(10))\n",
    "# print(data.query('critic_score.isna() and user_score.isna() and rating.isna()').count())"
   ]
  },
  {
   "cell_type": "markdown",
   "metadata": {},
   "source": [
    "NaN появляется во все года, во всех платформах и жанрах, по самым разным продажам. Закономерности не видно, поэтому заменить чем-то конкретным трудно. Оставляем как есть. "
   ]
  },
  {
   "cell_type": "markdown",
   "metadata": {},
   "source": [
    "<b>'tbd'</b> -  to be determined - значения должны быть определены. Но пока это строковое значение, по каким-то причинам. Возможно пользователям не предлагалось оценить игру. Так как оценка <b>пока</b> не определена, заменим медианной оценкой по данному жанру игры."
   ]
  },
  {
   "cell_type": "code",
   "execution_count": 125,
   "metadata": {},
   "outputs": [
    {
     "name": "stdout",
     "output_type": "stream",
     "text": [
      "0        8.0\n",
      "1        NaN\n",
      "2        8.3\n",
      "3        8.0\n",
      "4        NaN\n",
      "        ... \n",
      "16710    NaN\n",
      "16711    NaN\n",
      "16712    NaN\n",
      "16713    NaN\n",
      "16714    NaN\n",
      "Name: user_score, Length: 16715, dtype: float64\n"
     ]
    },
    {
     "data": {
      "text/plain": [
       "np.int64(9125)"
      ]
     },
     "metadata": {},
     "output_type": "display_data"
    }
   ],
   "source": [
    "# Заменяем 'tbd' на NaN\n",
    "data['user_score'] = data['user_score'].replace('tbd', np.nan)\n",
    "\n",
    "# Преобразуем в числовой формат\n",
    "data['user_score'] = pd.to_numeric(data['user_score'], errors='coerce')\n",
    "print(data['user_score'])\n",
    "display(data['user_score'].isna().sum())\n"
   ]
  },
  {
   "cell_type": "code",
   "execution_count": null,
   "metadata": {},
   "outputs": [
    {
     "data": {
      "text/plain": [
       "count    16713.000000\n",
       "mean         7.310088\n",
       "std          1.035561\n",
       "min          0.000000\n",
       "25%          7.100000\n",
       "50%          7.400000\n",
       "75%          7.800000\n",
       "max          9.700000\n",
       "Name: user_score, dtype: float64"
      ]
     },
     "execution_count": 133,
     "metadata": {},
     "output_type": "execute_result"
    }
   ],
   "source": [
    "# Заменяем в нужном столбце значения NaN на медианы для этого жанра\n",
    "#  \n",
    "for genre in data['genre'].unique():\n",
    "    median = data[data['genre'] == genre]['user_score'].median()\n",
    "    data.loc[(data['user_score'].isna()) & (data['genre'] == genre), 'user_score'] = median\n",
    "\n",
    "data['user_score'].describe()"
   ]
  },
  {
   "cell_type": "markdown",
   "metadata": {},
   "source": [
    "#### 2.4 Суммарные продажи по регионам"
   ]
  },
  {
   "cell_type": "code",
   "execution_count": null,
   "metadata": {},
   "outputs": [
    {
     "data": {
      "text/html": [
       "<div>\n",
       "<style scoped>\n",
       "    .dataframe tbody tr th:only-of-type {\n",
       "        vertical-align: middle;\n",
       "    }\n",
       "\n",
       "    .dataframe tbody tr th {\n",
       "        vertical-align: top;\n",
       "    }\n",
       "\n",
       "    .dataframe thead th {\n",
       "        text-align: right;\n",
       "    }\n",
       "</style>\n",
       "<table border=\"1\" class=\"dataframe\">\n",
       "  <thead>\n",
       "    <tr style=\"text-align: right;\">\n",
       "      <th></th>\n",
       "      <th>na_sales</th>\n",
       "      <th>eu_sales</th>\n",
       "      <th>jp_sales</th>\n",
       "      <th>other_sales</th>\n",
       "    </tr>\n",
       "  </thead>\n",
       "  <tbody>\n",
       "    <tr>\n",
       "      <th>0</th>\n",
       "      <td>70948.62</td>\n",
       "      <td>69801.87</td>\n",
       "      <td>68542.94</td>\n",
       "      <td>68697.04</td>\n",
       "    </tr>\n",
       "  </tbody>\n",
       "</table>\n",
       "</div>"
      ],
      "text/plain": [
       "   na_sales  eu_sales  jp_sales  other_sales\n",
       "0  70948.62  69801.87  68542.94     68697.04"
      ]
     },
     "metadata": {},
     "output_type": "display_data"
    }
   ],
   "source": [
    "# ...\n",
    "regions = ['na_sales', 'eu_sales', 'jp_sales', 'other_sales']\n",
    "total_sales = {}\n",
    "\n",
    "# Суммируем продажи для каждого региона\n",
    "for region in regions:\n",
    "    total_sales[region] = data[region].sum()\n",
    "\n",
    "# Создаем DataFrame из суммы\n",
    "total_sales_df = pd.DataFrame([total_sales])\n",
    "\n",
    "display(total_sales_df)"
   ]
  }
 ],
 "metadata": {
  "kernelspec": {
   "display_name": "venv",
   "language": "python",
   "name": "python3"
  },
  "language_info": {
   "codemirror_mode": {
    "name": "ipython",
    "version": 3
   },
   "file_extension": ".py",
   "mimetype": "text/x-python",
   "name": "python",
   "nbconvert_exporter": "python",
   "pygments_lexer": "ipython3",
   "version": "3.10.10"
  },
  "toc": {
   "base_numbering": 1,
   "nav_menu": {},
   "number_sections": true,
   "sideBar": true,
   "skip_h1_title": true,
   "title_cell": "Table of Contents",
   "title_sidebar": "Contents",
   "toc_cell": false,
   "toc_position": {},
   "toc_section_display": true,
   "toc_window_display": false
  }
 },
 "nbformat": 4,
 "nbformat_minor": 2
}
