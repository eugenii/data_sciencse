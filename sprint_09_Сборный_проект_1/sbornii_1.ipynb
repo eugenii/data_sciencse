{
 "cells": [
  {
   "cell_type": "markdown",
   "metadata": {},
   "source": [
    "### 0. Импорт необходимых библиотек"
   ]
  },
  {
   "cell_type": "code",
   "execution_count": 131,
   "metadata": {},
   "outputs": [],
   "source": [
    "import pandas as pd\n",
    "import numpy as np\n",
    "import matplotlib.pyplot as plt\n",
    "import seaborn as sns"
   ]
  },
  {
   "cell_type": "markdown",
   "metadata": {},
   "source": [
    "### 1. Получение данных и первичной информации о них"
   ]
  },
  {
   "cell_type": "code",
   "execution_count": 132,
   "metadata": {},
   "outputs": [
    {
     "name": "stdout",
     "output_type": "stream",
     "text": [
      "<class 'pandas.core.frame.DataFrame'>\n",
      "RangeIndex: 16715 entries, 0 to 16714\n",
      "Data columns (total 11 columns):\n",
      " #   Column           Non-Null Count  Dtype  \n",
      "---  ------           --------------  -----  \n",
      " 0   Name             16713 non-null  object \n",
      " 1   Platform         16715 non-null  object \n",
      " 2   Year_of_Release  16446 non-null  float64\n",
      " 3   Genre            16713 non-null  object \n",
      " 4   NA_sales         16715 non-null  float64\n",
      " 5   EU_sales         16715 non-null  float64\n",
      " 6   JP_sales         16715 non-null  float64\n",
      " 7   Other_sales      16715 non-null  float64\n",
      " 8   Critic_Score     8137 non-null   float64\n",
      " 9   User_Score       10014 non-null  object \n",
      " 10  Rating           9949 non-null   object \n",
      "dtypes: float64(6), object(5)\n",
      "memory usage: 1.4+ MB\n"
     ]
    },
    {
     "data": {
      "text/html": [
       "<div>\n",
       "<style scoped>\n",
       "    .dataframe tbody tr th:only-of-type {\n",
       "        vertical-align: middle;\n",
       "    }\n",
       "\n",
       "    .dataframe tbody tr th {\n",
       "        vertical-align: top;\n",
       "    }\n",
       "\n",
       "    .dataframe thead th {\n",
       "        text-align: right;\n",
       "    }\n",
       "</style>\n",
       "<table border=\"1\" class=\"dataframe\">\n",
       "  <thead>\n",
       "    <tr style=\"text-align: right;\">\n",
       "      <th></th>\n",
       "      <th>Name</th>\n",
       "      <th>Platform</th>\n",
       "      <th>Year_of_Release</th>\n",
       "      <th>Genre</th>\n",
       "      <th>NA_sales</th>\n",
       "      <th>EU_sales</th>\n",
       "      <th>JP_sales</th>\n",
       "      <th>Other_sales</th>\n",
       "      <th>Critic_Score</th>\n",
       "      <th>User_Score</th>\n",
       "      <th>Rating</th>\n",
       "    </tr>\n",
       "  </thead>\n",
       "  <tbody>\n",
       "    <tr>\n",
       "      <th>0</th>\n",
       "      <td>Wii Sports</td>\n",
       "      <td>Wii</td>\n",
       "      <td>2006.0</td>\n",
       "      <td>Sports</td>\n",
       "      <td>41.36</td>\n",
       "      <td>28.96</td>\n",
       "      <td>3.77</td>\n",
       "      <td>8.45</td>\n",
       "      <td>76.0</td>\n",
       "      <td>8</td>\n",
       "      <td>E</td>\n",
       "    </tr>\n",
       "    <tr>\n",
       "      <th>1</th>\n",
       "      <td>Super Mario Bros.</td>\n",
       "      <td>NES</td>\n",
       "      <td>1985.0</td>\n",
       "      <td>Platform</td>\n",
       "      <td>29.08</td>\n",
       "      <td>3.58</td>\n",
       "      <td>6.81</td>\n",
       "      <td>0.77</td>\n",
       "      <td>NaN</td>\n",
       "      <td>NaN</td>\n",
       "      <td>NaN</td>\n",
       "    </tr>\n",
       "    <tr>\n",
       "      <th>2</th>\n",
       "      <td>Mario Kart Wii</td>\n",
       "      <td>Wii</td>\n",
       "      <td>2008.0</td>\n",
       "      <td>Racing</td>\n",
       "      <td>15.68</td>\n",
       "      <td>12.76</td>\n",
       "      <td>3.79</td>\n",
       "      <td>3.29</td>\n",
       "      <td>82.0</td>\n",
       "      <td>8.3</td>\n",
       "      <td>E</td>\n",
       "    </tr>\n",
       "    <tr>\n",
       "      <th>3</th>\n",
       "      <td>Wii Sports Resort</td>\n",
       "      <td>Wii</td>\n",
       "      <td>2009.0</td>\n",
       "      <td>Sports</td>\n",
       "      <td>15.61</td>\n",
       "      <td>10.93</td>\n",
       "      <td>3.28</td>\n",
       "      <td>2.95</td>\n",
       "      <td>80.0</td>\n",
       "      <td>8</td>\n",
       "      <td>E</td>\n",
       "    </tr>\n",
       "    <tr>\n",
       "      <th>4</th>\n",
       "      <td>Pokemon Red/Pokemon Blue</td>\n",
       "      <td>GB</td>\n",
       "      <td>1996.0</td>\n",
       "      <td>Role-Playing</td>\n",
       "      <td>11.27</td>\n",
       "      <td>8.89</td>\n",
       "      <td>10.22</td>\n",
       "      <td>1.00</td>\n",
       "      <td>NaN</td>\n",
       "      <td>NaN</td>\n",
       "      <td>NaN</td>\n",
       "    </tr>\n",
       "  </tbody>\n",
       "</table>\n",
       "</div>"
      ],
      "text/plain": [
       "                       Name Platform  Year_of_Release         Genre  NA_sales  \\\n",
       "0                Wii Sports      Wii           2006.0        Sports     41.36   \n",
       "1         Super Mario Bros.      NES           1985.0      Platform     29.08   \n",
       "2            Mario Kart Wii      Wii           2008.0        Racing     15.68   \n",
       "3         Wii Sports Resort      Wii           2009.0        Sports     15.61   \n",
       "4  Pokemon Red/Pokemon Blue       GB           1996.0  Role-Playing     11.27   \n",
       "\n",
       "   EU_sales  JP_sales  Other_sales  Critic_Score User_Score Rating  \n",
       "0     28.96      3.77         8.45          76.0          8      E  \n",
       "1      3.58      6.81         0.77           NaN        NaN    NaN  \n",
       "2     12.76      3.79         3.29          82.0        8.3      E  \n",
       "3     10.93      3.28         2.95          80.0          8      E  \n",
       "4      8.89     10.22         1.00           NaN        NaN    NaN  "
      ]
     },
     "metadata": {},
     "output_type": "display_data"
    },
    {
     "data": {
      "text/plain": [
       "array(['E', nan, 'M', 'T', 'E10+', 'K-A', 'AO', 'EC', 'RP'], dtype=object)"
      ]
     },
     "metadata": {},
     "output_type": "display_data"
    }
   ],
   "source": [
    "data = pd.read_csv('datasets/games.csv')\n",
    "\n",
    "data.info()\n",
    "display(data.head())\n",
    "display(data['Rating'].unique())"
   ]
  },
  {
   "cell_type": "markdown",
   "metadata": {},
   "source": [
    "В датасете 16715 строк записей. Данные разных типов. Присутствуют пропуски данных, некоторые данные представлены NaN."
   ]
  },
  {
   "cell_type": "markdown",
   "metadata": {},
   "source": [
    "### 2. Предобработка данных"
   ]
  },
  {
   "cell_type": "markdown",
   "metadata": {},
   "source": [
    "#### 2.1 Замена названий столбцов"
   ]
  },
  {
   "cell_type": "code",
   "execution_count": 133,
   "metadata": {},
   "outputs": [
    {
     "name": "stdout",
     "output_type": "stream",
     "text": [
      "<class 'pandas.core.frame.DataFrame'>\n",
      "RangeIndex: 16715 entries, 0 to 16714\n",
      "Data columns (total 11 columns):\n",
      " #   Column           Non-Null Count  Dtype  \n",
      "---  ------           --------------  -----  \n",
      " 0   name             16713 non-null  object \n",
      " 1   platform         16715 non-null  object \n",
      " 2   year_of_release  16446 non-null  float64\n",
      " 3   genre            16713 non-null  object \n",
      " 4   na_sales         16715 non-null  float64\n",
      " 5   eu_sales         16715 non-null  float64\n",
      " 6   jp_sales         16715 non-null  float64\n",
      " 7   other_sales      16715 non-null  float64\n",
      " 8   critic_score     8137 non-null   float64\n",
      " 9   user_score       10014 non-null  object \n",
      " 10  rating           9949 non-null   object \n",
      "dtypes: float64(6), object(5)\n",
      "memory usage: 1.4+ MB\n"
     ]
    }
   ],
   "source": [
    "#  Переименовываем названия столбцов привoдя к нижнему регистру.\n",
    "# renames = {'Name': 'name', 'Platform': 'platform', ...}; data = data.rename(columns = renames)\n",
    "data.columns = data.columns.str.lower()\n",
    "data.info()"
   ]
  },
  {
   "cell_type": "markdown",
   "metadata": {},
   "source": [
    "#### 2.2 Преобразование типов данных"
   ]
  },
  {
   "cell_type": "markdown",
   "metadata": {},
   "source": [
    "Преобразуем колонку \"год выпуска\"  к целому числу, а колонку с оценкой пользователей к вещественному, так как в ней наблюдаются дробные значения."
   ]
  },
  {
   "cell_type": "code",
   "execution_count": 134,
   "metadata": {},
   "outputs": [
    {
     "data": {
      "text/plain": [
       "array([2006., 1985., 2008., 2009., 1996., 1989., 1984., 2005., 1999.,\n",
       "       2007., 2010., 2013., 2004., 1990., 1988., 2002., 2001., 2011.,\n",
       "       1998., 2015., 2012., 2014., 1992., 1997., 1993., 1994., 1982.,\n",
       "       2016., 2003., 1986., 2000.,   nan, 1995., 1991., 1981., 1987.,\n",
       "       1980., 1983.])"
      ]
     },
     "metadata": {},
     "output_type": "display_data"
    },
    {
     "name": "stdout",
     "output_type": "stream",
     "text": [
      "<class 'pandas.core.frame.DataFrame'>\n",
      "RangeIndex: 16715 entries, 0 to 16714\n",
      "Data columns (total 11 columns):\n",
      " #   Column           Non-Null Count  Dtype  \n",
      "---  ------           --------------  -----  \n",
      " 0   name             16713 non-null  object \n",
      " 1   platform         16715 non-null  object \n",
      " 2   year_of_release  16715 non-null  int64  \n",
      " 3   genre            16713 non-null  object \n",
      " 4   na_sales         16715 non-null  float64\n",
      " 5   eu_sales         16715 non-null  float64\n",
      " 6   jp_sales         16715 non-null  float64\n",
      " 7   other_sales      16715 non-null  float64\n",
      " 8   critic_score     8137 non-null   float64\n",
      " 9   user_score       7590 non-null   float64\n",
      " 10  rating           9949 non-null   object \n",
      "dtypes: float64(6), int64(1), object(4)\n",
      "memory usage: 1.4+ MB\n"
     ]
    },
    {
     "data": {
      "text/plain": [
       "None"
      ]
     },
     "metadata": {},
     "output_type": "display_data"
    }
   ],
   "source": [
    "# Год в целое\n",
    "\n",
    "display(data['year_of_release'].unique())    # Посмотреть какие года есть\n",
    "data['year_of_release'] = data['year_of_release'].fillna(0)\n",
    "data['year_of_release'] = data['year_of_release'].astype('int')\n",
    "\n",
    "# Оценка пользователей в float\n",
    "data['user_score'] = pd.to_numeric(data['user_score'], errors='coerce')    # В случае NaN -  пропускаем и оставляем.\n",
    "\n",
    "display(data.info())"
   ]
  },
  {
   "cell_type": "markdown",
   "metadata": {},
   "source": [
    "#### 2.3 Обработка пропусков"
   ]
  },
  {
   "cell_type": "code",
   "execution_count": 135,
   "metadata": {},
   "outputs": [
    {
     "data": {
      "text/plain": [
       "name                  2\n",
       "platform              0\n",
       "year_of_release       0\n",
       "genre                 2\n",
       "na_sales              0\n",
       "eu_sales              0\n",
       "jp_sales              0\n",
       "other_sales           0\n",
       "critic_score       8578\n",
       "user_score         9125\n",
       "rating             6766\n",
       "dtype: int64"
      ]
     },
     "metadata": {},
     "output_type": "display_data"
    },
    {
     "data": {
      "text/plain": [
       "array(['Wii Sports', 'Super Mario Bros.', 'Mario Kart Wii', ...,\n",
       "       'Woody Woodpecker in Crazy Castle 5', 'LMA Manager 2007',\n",
       "       'Haitaka no Psychedelica'], shape=(11560,), dtype=object)"
      ]
     },
     "metadata": {},
     "output_type": "display_data"
    },
    {
     "data": {
      "text/plain": [
       "array(['Sports', 'Platform', 'Racing', 'Role-Playing', 'Puzzle', 'Misc',\n",
       "       'Shooter', 'Simulation', 'Action', 'Fighting', 'Adventure',\n",
       "       'Strategy', nan], dtype=object)"
      ]
     },
     "metadata": {},
     "output_type": "display_data"
    }
   ],
   "source": [
    "# Все пропуски по столбцам:\n",
    "display(data.isna().sum())\n",
    "\n",
    "for pos in ('name', 'genre'):\n",
    "    display(data[pos].unique())"
   ]
  },
  {
   "cell_type": "markdown",
   "metadata": {},
   "source": [
    "По два пропуска в столбцах 'name' и 'genre', большАя часть в столбцах с оценками и рейтингами."
   ]
  },
  {
   "cell_type": "code",
   "execution_count": 136,
   "metadata": {},
   "outputs": [
    {
     "data": {
      "text/plain": [
       "array(['Wii Sports', 'Super Mario Bros.', 'Mario Kart Wii', ...,\n",
       "       'Woody Woodpecker in Crazy Castle 5', 'LMA Manager 2007',\n",
       "       'Haitaka no Psychedelica'], shape=(11560,), dtype=object)"
      ]
     },
     "metadata": {},
     "output_type": "display_data"
    },
    {
     "name": "stdout",
     "output_type": "stream",
     "text": [
      "Количество пропусков в name: 2\n",
      "Индексы пропусков в name: [659, 14244]\n"
     ]
    },
    {
     "data": {
      "text/plain": [
       "array(['Sports', 'Platform', 'Racing', 'Role-Playing', 'Puzzle', 'Misc',\n",
       "       'Shooter', 'Simulation', 'Action', 'Fighting', 'Adventure',\n",
       "       'Strategy', nan], dtype=object)"
      ]
     },
     "metadata": {},
     "output_type": "display_data"
    },
    {
     "name": "stdout",
     "output_type": "stream",
     "text": [
      "Количество пропусков в genre: 2\n",
      "Индексы пропусков в genre: [659, 14244]\n"
     ]
    },
    {
     "data": {
      "text/html": [
       "<div>\n",
       "<style scoped>\n",
       "    .dataframe tbody tr th:only-of-type {\n",
       "        vertical-align: middle;\n",
       "    }\n",
       "\n",
       "    .dataframe tbody tr th {\n",
       "        vertical-align: top;\n",
       "    }\n",
       "\n",
       "    .dataframe thead th {\n",
       "        text-align: right;\n",
       "    }\n",
       "</style>\n",
       "<table border=\"1\" class=\"dataframe\">\n",
       "  <thead>\n",
       "    <tr style=\"text-align: right;\">\n",
       "      <th></th>\n",
       "      <th>name</th>\n",
       "      <th>platform</th>\n",
       "      <th>year_of_release</th>\n",
       "      <th>genre</th>\n",
       "      <th>na_sales</th>\n",
       "      <th>eu_sales</th>\n",
       "      <th>jp_sales</th>\n",
       "      <th>other_sales</th>\n",
       "      <th>critic_score</th>\n",
       "      <th>user_score</th>\n",
       "      <th>rating</th>\n",
       "    </tr>\n",
       "  </thead>\n",
       "  <tbody>\n",
       "    <tr>\n",
       "      <th>659</th>\n",
       "      <td>NaN</td>\n",
       "      <td>GEN</td>\n",
       "      <td>1993</td>\n",
       "      <td>NaN</td>\n",
       "      <td>1.78</td>\n",
       "      <td>0.53</td>\n",
       "      <td>0.00</td>\n",
       "      <td>0.08</td>\n",
       "      <td>NaN</td>\n",
       "      <td>NaN</td>\n",
       "      <td>NaN</td>\n",
       "    </tr>\n",
       "    <tr>\n",
       "      <th>14244</th>\n",
       "      <td>NaN</td>\n",
       "      <td>GEN</td>\n",
       "      <td>1993</td>\n",
       "      <td>NaN</td>\n",
       "      <td>0.00</td>\n",
       "      <td>0.00</td>\n",
       "      <td>0.03</td>\n",
       "      <td>0.00</td>\n",
       "      <td>NaN</td>\n",
       "      <td>NaN</td>\n",
       "      <td>NaN</td>\n",
       "    </tr>\n",
       "  </tbody>\n",
       "</table>\n",
       "</div>"
      ],
      "text/plain": [
       "      name platform  year_of_release genre  na_sales  eu_sales  jp_sales  \\\n",
       "659    NaN      GEN             1993   NaN      1.78      0.53      0.00   \n",
       "14244  NaN      GEN             1993   NaN      0.00      0.00      0.03   \n",
       "\n",
       "       other_sales  critic_score  user_score rating  \n",
       "659           0.08           NaN         NaN    NaN  \n",
       "14244         0.00           NaN         NaN    NaN  "
      ]
     },
     "metadata": {},
     "output_type": "display_data"
    }
   ],
   "source": [
    "# Детально посмотрим что за пропуски в названиях и жанрах\n",
    "\n",
    "for pos in ('name', 'genre'):\n",
    "    display(data[pos].unique())\n",
    "\n",
    "    missing_values = data[pos].isnull().sum()\n",
    "    print(f\"Количество пропусков в {pos}: {missing_values}\")\n",
    "    nan_indices = data[data[pos].isnull()].index\n",
    "    print(f\"Индексы пропусков в {pos}: {list(nan_indices)}\")\n",
    "display(data.loc[[659, 14244]])"
   ]
  },
  {
   "cell_type": "markdown",
   "metadata": {},
   "source": [
    "Две игры. Не оценивались и не имеют рейтинга. Продажи низкие. Предваарительное решение - удаляем."
   ]
  },
  {
   "cell_type": "code",
   "execution_count": 137,
   "metadata": {},
   "outputs": [],
   "source": [
    "# Удаляем строки по индексам\n",
    "\n",
    "data = data.drop(nan_indices).reset_index(drop=True)"
   ]
  },
  {
   "cell_type": "markdown",
   "metadata": {},
   "source": [
    "Посмотрим в каких случаях проявляются значения NaN."
   ]
  },
  {
   "cell_type": "code",
   "execution_count": 138,
   "metadata": {},
   "outputs": [
    {
     "name": "stdout",
     "output_type": "stream",
     "text": [
      "                             name platform  year_of_release         genre  \\\n",
      "1               Super Mario Bros.      NES             1985      Platform   \n",
      "4        Pokemon Red/Pokemon Blue       GB             1996  Role-Playing   \n",
      "5                          Tetris       GB             1989        Puzzle   \n",
      "9                       Duck Hunt      NES             1984       Shooter   \n",
      "10                     Nintendogs       DS             2005    Simulation   \n",
      "12    Pokemon Gold/Pokemon Silver       GB             1999  Role-Playing   \n",
      "18              Super Mario World     SNES             1990      Platform   \n",
      "20  Pokemon Diamond/Pokemon Pearl       DS             2006  Role-Playing   \n",
      "21               Super Mario Land       GB             1989      Platform   \n",
      "22            Super Mario Bros. 3      NES             1988      Platform   \n",
      "\n",
      "    na_sales  eu_sales  jp_sales  other_sales  critic_score  user_score rating  \n",
      "1      29.08      3.58      6.81         0.77           NaN         NaN    NaN  \n",
      "4      11.27      8.89     10.22         1.00           NaN         NaN    NaN  \n",
      "5      23.20      2.26      4.22         0.58           NaN         NaN    NaN  \n",
      "9      26.93      0.63      0.28         0.47           NaN         NaN    NaN  \n",
      "10      9.05     10.95      1.93         2.74           NaN         NaN    NaN  \n",
      "12      9.00      6.18      7.20         0.71           NaN         NaN    NaN  \n",
      "18     12.78      3.75      3.54         0.55           NaN         NaN    NaN  \n",
      "20      6.38      4.46      6.04         1.36           NaN         NaN    NaN  \n",
      "21     10.83      2.71      4.18         0.42           NaN         NaN    NaN  \n",
      "22      9.54      3.44      3.84         0.46           NaN         NaN    NaN  \n"
     ]
    }
   ],
   "source": [
    "print(data.query('critic_score.isna()').head(10))\n",
    "# print(data.query('critic_score.isna() and user_score.isna() and rating.isna()').count())"
   ]
  },
  {
   "cell_type": "markdown",
   "metadata": {},
   "source": [
    "NaN появляется во все года, во всех платформах и жанрах, по самым разным продажам. Закономерности не видно, поэтому заменить чем-то конкретным трудно. Оставляем как есть. "
   ]
  },
  {
   "cell_type": "markdown",
   "metadata": {},
   "source": [
    "<b>'tbd'</b> -  to be determined - значения должны быть определены. Но пока это строковое значение, по каким-то причинам. Возможно пользователям не предлагалось оценить игру. Так как оценка <b>пока</b> не определена, заменим медианной оценкой по данному жанру игры."
   ]
  },
  {
   "cell_type": "code",
   "execution_count": 139,
   "metadata": {},
   "outputs": [
    {
     "name": "stdout",
     "output_type": "stream",
     "text": [
      "0        8.0\n",
      "1        NaN\n",
      "2        8.3\n",
      "3        8.0\n",
      "4        NaN\n",
      "        ... \n",
      "16708    NaN\n",
      "16709    NaN\n",
      "16710    NaN\n",
      "16711    NaN\n",
      "16712    NaN\n",
      "Name: user_score, Length: 16713, dtype: float64\n"
     ]
    },
    {
     "data": {
      "text/plain": [
       "np.int64(9123)"
      ]
     },
     "metadata": {},
     "output_type": "display_data"
    }
   ],
   "source": [
    "# Заменяем 'tbd' на NaN\n",
    "data['user_score'] = data['user_score'].replace('tbd', np.nan)\n",
    "\n",
    "# Преобразуем в числовой формат\n",
    "data['user_score'] = pd.to_numeric(data['user_score'], errors='coerce')\n",
    "print(data['user_score'])\n",
    "display(data['user_score'].isna().sum())\n"
   ]
  },
  {
   "cell_type": "code",
   "execution_count": 140,
   "metadata": {},
   "outputs": [
    {
     "data": {
      "text/plain": [
       "count    16713.000000\n",
       "mean         7.310088\n",
       "std          1.035561\n",
       "min          0.000000\n",
       "25%          7.100000\n",
       "50%          7.400000\n",
       "75%          7.800000\n",
       "max          9.700000\n",
       "Name: user_score, dtype: float64"
      ]
     },
     "execution_count": 140,
     "metadata": {},
     "output_type": "execute_result"
    }
   ],
   "source": [
    "# Заменяем в нужном столбце значения NaN на медианы для этого жанра\n",
    "#  \n",
    "for genre in data['genre'].unique():\n",
    "    median = data[data['genre'] == genre]['user_score'].median()\n",
    "    data.loc[(data['user_score'].isna()) & (data['genre'] == genre), 'user_score'] = median\n",
    "\n",
    "data['user_score'].describe()"
   ]
  },
  {
   "cell_type": "markdown",
   "metadata": {},
   "source": [
    "В ходе работы обнаружились аномальные года"
   ]
  },
  {
   "cell_type": "code",
   "execution_count": 141,
   "metadata": {},
   "outputs": [
    {
     "data": {
      "text/plain": [
       "1947     1980\n",
       "542      1980\n",
       "2613     1980\n",
       "6202     1980\n",
       "1744     1980\n",
       "         ... \n",
       "15333    2016\n",
       "6070     2016\n",
       "16439    2016\n",
       "16443    2016\n",
       "16401    2016\n",
       "Name: year_of_release, Length: 16444, dtype: int64"
      ]
     },
     "execution_count": 141,
     "metadata": {},
     "output_type": "execute_result"
    }
   ],
   "source": [
    "# data['year_of_release'].sort_values().head(20)\n",
    "data[data['year_of_release'] == 0]['name'].count()\n",
    "data = data[data['year_of_release'] != 0]\n",
    "data.reset_index(drop=True, inplace=True)\n",
    "data['year_of_release'].sort_values()"
   ]
  },
  {
   "cell_type": "markdown",
   "metadata": {},
   "source": [
    "#### 2.4 Суммарные продажи по регионам"
   ]
  },
  {
   "cell_type": "code",
   "execution_count": 142,
   "metadata": {},
   "outputs": [
    {
     "data": {
      "text/html": [
       "<div>\n",
       "<style scoped>\n",
       "    .dataframe tbody tr th:only-of-type {\n",
       "        vertical-align: middle;\n",
       "    }\n",
       "\n",
       "    .dataframe tbody tr th {\n",
       "        vertical-align: top;\n",
       "    }\n",
       "\n",
       "    .dataframe thead th {\n",
       "        text-align: right;\n",
       "    }\n",
       "</style>\n",
       "<table border=\"1\" class=\"dataframe\">\n",
       "  <thead>\n",
       "    <tr style=\"text-align: right;\">\n",
       "      <th></th>\n",
       "      <th>na_sales</th>\n",
       "      <th>eu_sales</th>\n",
       "      <th>jp_sales</th>\n",
       "      <th>other_sales</th>\n",
       "    </tr>\n",
       "  </thead>\n",
       "  <tbody>\n",
       "    <tr>\n",
       "      <th>0</th>\n",
       "      <td>4341.42</td>\n",
       "      <td>2399.68</td>\n",
       "      <td>1290.64</td>\n",
       "      <td>782.63</td>\n",
       "    </tr>\n",
       "  </tbody>\n",
       "</table>\n",
       "</div>"
      ],
      "text/plain": [
       "   na_sales  eu_sales  jp_sales  other_sales\n",
       "0   4341.42   2399.68   1290.64       782.63"
      ]
     },
     "metadata": {},
     "output_type": "display_data"
    }
   ],
   "source": [
    "# ...\n",
    "regions = ['na_sales', 'eu_sales', 'jp_sales', 'other_sales']\n",
    "total_sales = {}\n",
    "\n",
    "# Суммируем продажи для каждого региона\n",
    "for region in regions:\n",
    "    total_sales[region] = data[region].sum()\n",
    "\n",
    "# Создаем DataFrame из суммы\n",
    "total_sales_region = pd.DataFrame([total_sales])\n",
    "\n",
    "display(total_sales_region)"
   ]
  },
  {
   "cell_type": "markdown",
   "metadata": {},
   "source": [
    "### 3. Исследовательский анализ"
   ]
  },
  {
   "cell_type": "markdown",
   "metadata": {},
   "source": [
    "#### 3.1 Определяем количество проданных игр по годам, строим график."
   ]
  },
  {
   "cell_type": "code",
   "execution_count": null,
   "metadata": {},
   "outputs": [
    {
     "data": {
      "text/plain": [
       "pandas.core.series.Series"
      ]
     },
     "metadata": {},
     "output_type": "display_data"
    },
    {
     "name": "stdout",
     "output_type": "stream",
     "text": [
      "0    82.54\n",
      "1    40.24\n",
      "2    35.52\n",
      "3    32.77\n",
      "4    31.38\n",
      "Name: total_sales, dtype: float64\n",
      "0    82.54\n",
      "1    40.24\n",
      "2    35.52\n",
      "3    32.77\n",
      "4    31.38\n",
      "Name: Total_sales, dtype: float64\n"
     ]
    }
   ],
   "source": [
    "# 3.1 Количество игр по годам\n",
    "\n",
    "def total_sales_by_years(item):\n",
    "    total = 0\n",
    "    for region in regions:\n",
    "        total += item[region]\n",
    "    return total\n",
    "\n",
    "data['total_sales'] = data.apply(total_sales_by_years, axis=1)\n",
    "# data.head()\n",
    "\n",
    "total_sales_year = data.groupby('year_of_release')['total_sales'].sum()\n",
    "\n",
    "# total_sales_year.head()\n",
    "\n",
    "display(type(total_sales_year))\n",
    "\n",
    "# data['Total_sales'] = data[['na_sales', 'eu_sales', 'jp_sales', 'other_sales']].sum(axis=1)\n",
    "\n"
   ]
  },
  {
   "cell_type": "code",
   "execution_count": null,
   "metadata": {},
   "outputs": [],
   "source": [
    "#  График\n",
    "\n",
    "plt.figure(figsize=(15, 6))\n",
    "years = total_sales_year.index  # Индекс как годы\n",
    "values = total_sales_year.values  # Значения продаж\n",
    "\n",
    "bars = plt.bar(years, values, color='skyblue')\n",
    "plt.title('Количество продаж по годам', fontsize=16)\n",
    "plt.xlabel('Года', fontsize=14)\n",
    "plt.ylabel('Количество продаж', fontsize=14)\n",
    "plt.grid(axis='y', linestyle='--')\n",
    "plt.xticks(years, rotation=45)  \n",
    "plt.show()\n"
   ]
  },
  {
   "cell_type": "markdown",
   "metadata": {},
   "source": [
    "В ходе построения проявились года 0. Вернулся и удалил их на более раннем этапе, поэтому здесь они не представлены. Заметный рост (изменение) в продажах наблюдаются после 1995 года, но с 1980 года продажи есть, хотя их значения менялись слабо (циклически). Буду учитывать данные за все представленные года. "
   ]
  },
  {
   "cell_type": "markdown",
   "metadata": {},
   "source": [
    "#### 3.2 Данные по платформам"
   ]
  },
  {
   "cell_type": "markdown",
   "metadata": {},
   "source": [
    "Построю сводную таблицу по платформам"
   ]
  },
  {
   "cell_type": "code",
   "execution_count": null,
   "metadata": {},
   "outputs": [],
   "source": [
    "# \n",
    "platforms = data['platform']\n",
    "regions = ['na_sales', 'eu_sales', 'jp_sales', 'other_sales']\n",
    "years = data['year_of_release']\n",
    "\n",
    "platform_sales = data.pivot_table(index='year_of_release', columns='platform', values=regions, aggfunc='sum', fill_value=0)\n",
    "print(platform_sales.to_string())\n"
   ]
  },
  {
   "cell_type": "code",
   "execution_count": null,
   "metadata": {},
   "outputs": [],
   "source": [
    "# Получим платформы с наибольшими продажами по годам\n",
    "top_platforms_per_year = platform_sales.idxmax(axis=1)\n",
    "\n",
    "# Также можно получить максимальные значения продаж\n",
    "max_sales_per_year = platform_sales.max(axis=1)\n",
    "\n",
    "# Объединим результаты в один DataFrame\n",
    "top_platforms_sales = pd.DataFrame({\n",
    "    'Top Platform': top_platforms_per_year,\n",
    "    'Max Sales': max_sales_per_year\n",
    "})\n",
    "\n",
    "print(top_platforms_sales)"
   ]
  },
  {
   "cell_type": "code",
   "execution_count": null,
   "metadata": {},
   "outputs": [],
   "source": [
    "# Группируем по году и платформе, вычисляем суммарные продажи\n",
    "grouped = data.groupby(['year_of_release', 'platform'])['total_sales'].sum().reset_index()\n",
    "\n",
    "# Находим платформу с максимальными продажами для каждого года\n",
    "max_sales_per_year = grouped.loc[grouped.groupby('year_of_release')['total_sales'].idxmax()]\n",
    "\n",
    "# Построение столбчатой диаграммы\n",
    "plt.figure(figsize=(15, 6))\n",
    "plt.bar(max_sales_per_year['year_of_release'], max_sales_per_year['total_sales'], \n",
    "        color='skyblue', edgecolor='black')\n",
    "\n",
    "# Добавление подписей\n",
    "plt.title('Платформы с максимальными продажами по годам', fontsize=16)\n",
    "plt.xlabel('Год', fontsize=14)\n",
    "plt.ylabel('Максимальные продажи', fontsize=14)\n",
    "plt.xticks(max_sales_per_year['year_of_release'], rotation=45)\n",
    "plt.grid(axis='y', linestyle='--', alpha=0.7)\n",
    "\n",
    "for i, row in max_sales_per_year.iterrows():\n",
    "    plt.text(row['year_of_release'], row['total_sales'], row['platform'], \n",
    "             ha='center', va='bottom', fontsize=12)\n",
    "    \n",
    "plt.show()"
   ]
  },
  {
   "cell_type": "markdown",
   "metadata": {},
   "source": [
    "Выводы:\n",
    "\n",
    "Платформы появляются и исчезают в среднем каждые 4 - 5 лет.\n",
    "Новая платформа появляется после начала уменьшения продаж предыдущей."
   ]
  },
  {
   "cell_type": "markdown",
   "metadata": {},
   "source": [
    "#### 3.3, 3.4 Актуальный период, выделение данных за актуальный период\n",
    "В качестве актуального периода беру 2013-2016 год: появилась платформа PS4, начался спад ее продаж - должна появиться новая."
   ]
  },
  {
   "cell_type": "code",
   "execution_count": null,
   "metadata": {},
   "outputs": [
    {
     "data": {
      "text/html": [
       "<div>\n",
       "<style scoped>\n",
       "    .dataframe tbody tr th:only-of-type {\n",
       "        vertical-align: middle;\n",
       "    }\n",
       "\n",
       "    .dataframe tbody tr th {\n",
       "        vertical-align: top;\n",
       "    }\n",
       "\n",
       "    .dataframe thead th {\n",
       "        text-align: right;\n",
       "    }\n",
       "</style>\n",
       "<table border=\"1\" class=\"dataframe\">\n",
       "  <thead>\n",
       "    <tr style=\"text-align: right;\">\n",
       "      <th></th>\n",
       "      <th>name</th>\n",
       "      <th>platform</th>\n",
       "      <th>year_of_release</th>\n",
       "      <th>genre</th>\n",
       "      <th>na_sales</th>\n",
       "      <th>eu_sales</th>\n",
       "      <th>jp_sales</th>\n",
       "      <th>other_sales</th>\n",
       "      <th>critic_score</th>\n",
       "      <th>user_score</th>\n",
       "      <th>rating</th>\n",
       "      <th>total_sales</th>\n",
       "      <th>Total_sales</th>\n",
       "    </tr>\n",
       "  </thead>\n",
       "  <tbody>\n",
       "    <tr>\n",
       "      <th>1947</th>\n",
       "      <td>Defender</td>\n",
       "      <td>2600</td>\n",
       "      <td>1980</td>\n",
       "      <td>Misc</td>\n",
       "      <td>0.99</td>\n",
       "      <td>0.05</td>\n",
       "      <td>0.00</td>\n",
       "      <td>0.01</td>\n",
       "      <td>NaN</td>\n",
       "      <td>7.1</td>\n",
       "      <td>NaN</td>\n",
       "      <td>1.05</td>\n",
       "      <td>1.05</td>\n",
       "    </tr>\n",
       "    <tr>\n",
       "      <th>542</th>\n",
       "      <td>Missile Command</td>\n",
       "      <td>2600</td>\n",
       "      <td>1980</td>\n",
       "      <td>Shooter</td>\n",
       "      <td>2.56</td>\n",
       "      <td>0.17</td>\n",
       "      <td>0.00</td>\n",
       "      <td>0.03</td>\n",
       "      <td>NaN</td>\n",
       "      <td>7.4</td>\n",
       "      <td>NaN</td>\n",
       "      <td>2.76</td>\n",
       "      <td>2.76</td>\n",
       "    </tr>\n",
       "    <tr>\n",
       "      <th>2613</th>\n",
       "      <td>Boxing</td>\n",
       "      <td>2600</td>\n",
       "      <td>1980</td>\n",
       "      <td>Fighting</td>\n",
       "      <td>0.72</td>\n",
       "      <td>0.04</td>\n",
       "      <td>0.00</td>\n",
       "      <td>0.01</td>\n",
       "      <td>NaN</td>\n",
       "      <td>7.6</td>\n",
       "      <td>NaN</td>\n",
       "      <td>0.77</td>\n",
       "      <td>0.77</td>\n",
       "    </tr>\n",
       "    <tr>\n",
       "      <th>6202</th>\n",
       "      <td>Bridge</td>\n",
       "      <td>2600</td>\n",
       "      <td>1980</td>\n",
       "      <td>Misc</td>\n",
       "      <td>0.25</td>\n",
       "      <td>0.02</td>\n",
       "      <td>0.00</td>\n",
       "      <td>0.00</td>\n",
       "      <td>NaN</td>\n",
       "      <td>7.1</td>\n",
       "      <td>NaN</td>\n",
       "      <td>0.27</td>\n",
       "      <td>0.27</td>\n",
       "    </tr>\n",
       "    <tr>\n",
       "      <th>1744</th>\n",
       "      <td>Kaboom!</td>\n",
       "      <td>2600</td>\n",
       "      <td>1980</td>\n",
       "      <td>Misc</td>\n",
       "      <td>1.07</td>\n",
       "      <td>0.07</td>\n",
       "      <td>0.00</td>\n",
       "      <td>0.01</td>\n",
       "      <td>NaN</td>\n",
       "      <td>7.1</td>\n",
       "      <td>NaN</td>\n",
       "      <td>1.15</td>\n",
       "      <td>1.15</td>\n",
       "    </tr>\n",
       "    <tr>\n",
       "      <th>...</th>\n",
       "      <td>...</td>\n",
       "      <td>...</td>\n",
       "      <td>...</td>\n",
       "      <td>...</td>\n",
       "      <td>...</td>\n",
       "      <td>...</td>\n",
       "      <td>...</td>\n",
       "      <td>...</td>\n",
       "      <td>...</td>\n",
       "      <td>...</td>\n",
       "      <td>...</td>\n",
       "      <td>...</td>\n",
       "      <td>...</td>\n",
       "    </tr>\n",
       "    <tr>\n",
       "      <th>15333</th>\n",
       "      <td>Mighty No. 9</td>\n",
       "      <td>XOne</td>\n",
       "      <td>2016</td>\n",
       "      <td>Platform</td>\n",
       "      <td>0.02</td>\n",
       "      <td>0.00</td>\n",
       "      <td>0.00</td>\n",
       "      <td>0.00</td>\n",
       "      <td>55.0</td>\n",
       "      <td>4.2</td>\n",
       "      <td>E10+</td>\n",
       "      <td>0.02</td>\n",
       "      <td>0.02</td>\n",
       "    </tr>\n",
       "    <tr>\n",
       "      <th>6070</th>\n",
       "      <td>Monster Hunter Stories</td>\n",
       "      <td>3DS</td>\n",
       "      <td>2016</td>\n",
       "      <td>Action</td>\n",
       "      <td>0.00</td>\n",
       "      <td>0.00</td>\n",
       "      <td>0.28</td>\n",
       "      <td>0.00</td>\n",
       "      <td>NaN</td>\n",
       "      <td>7.4</td>\n",
       "      <td>NaN</td>\n",
       "      <td>0.28</td>\n",
       "      <td>0.28</td>\n",
       "    </tr>\n",
       "    <tr>\n",
       "      <th>16439</th>\n",
       "      <td>Samurai Warriors: Sanada Maru</td>\n",
       "      <td>PS3</td>\n",
       "      <td>2016</td>\n",
       "      <td>Action</td>\n",
       "      <td>0.00</td>\n",
       "      <td>0.00</td>\n",
       "      <td>0.01</td>\n",
       "      <td>0.00</td>\n",
       "      <td>NaN</td>\n",
       "      <td>7.4</td>\n",
       "      <td>NaN</td>\n",
       "      <td>0.01</td>\n",
       "      <td>0.01</td>\n",
       "    </tr>\n",
       "    <tr>\n",
       "      <th>16443</th>\n",
       "      <td>Winning Post 8 2016</td>\n",
       "      <td>PSV</td>\n",
       "      <td>2016</td>\n",
       "      <td>Simulation</td>\n",
       "      <td>0.00</td>\n",
       "      <td>0.00</td>\n",
       "      <td>0.01</td>\n",
       "      <td>0.00</td>\n",
       "      <td>NaN</td>\n",
       "      <td>7.5</td>\n",
       "      <td>NaN</td>\n",
       "      <td>0.01</td>\n",
       "      <td>0.01</td>\n",
       "    </tr>\n",
       "    <tr>\n",
       "      <th>16401</th>\n",
       "      <td>Metal Gear Solid V: The Definitive Experience</td>\n",
       "      <td>XOne</td>\n",
       "      <td>2016</td>\n",
       "      <td>Action</td>\n",
       "      <td>0.01</td>\n",
       "      <td>0.00</td>\n",
       "      <td>0.00</td>\n",
       "      <td>0.00</td>\n",
       "      <td>NaN</td>\n",
       "      <td>7.4</td>\n",
       "      <td>M</td>\n",
       "      <td>0.01</td>\n",
       "      <td>0.01</td>\n",
       "    </tr>\n",
       "  </tbody>\n",
       "</table>\n",
       "<p>16444 rows × 13 columns</p>\n",
       "</div>"
      ],
      "text/plain": [
       "                                                name platform  \\\n",
       "1947                                        Defender     2600   \n",
       "542                                  Missile Command     2600   \n",
       "2613                                          Boxing     2600   \n",
       "6202                                          Bridge     2600   \n",
       "1744                                         Kaboom!     2600   \n",
       "...                                              ...      ...   \n",
       "15333                                   Mighty No. 9     XOne   \n",
       "6070                          Monster Hunter Stories      3DS   \n",
       "16439                  Samurai Warriors: Sanada Maru      PS3   \n",
       "16443                            Winning Post 8 2016      PSV   \n",
       "16401  Metal Gear Solid V: The Definitive Experience     XOne   \n",
       "\n",
       "       year_of_release       genre  na_sales  eu_sales  jp_sales  other_sales  \\\n",
       "1947              1980        Misc      0.99      0.05      0.00         0.01   \n",
       "542               1980     Shooter      2.56      0.17      0.00         0.03   \n",
       "2613              1980    Fighting      0.72      0.04      0.00         0.01   \n",
       "6202              1980        Misc      0.25      0.02      0.00         0.00   \n",
       "1744              1980        Misc      1.07      0.07      0.00         0.01   \n",
       "...                ...         ...       ...       ...       ...          ...   \n",
       "15333             2016    Platform      0.02      0.00      0.00         0.00   \n",
       "6070              2016      Action      0.00      0.00      0.28         0.00   \n",
       "16439             2016      Action      0.00      0.00      0.01         0.00   \n",
       "16443             2016  Simulation      0.00      0.00      0.01         0.00   \n",
       "16401             2016      Action      0.01      0.00      0.00         0.00   \n",
       "\n",
       "       critic_score  user_score rating  total_sales  Total_sales  \n",
       "1947            NaN         7.1    NaN         1.05         1.05  \n",
       "542             NaN         7.4    NaN         2.76         2.76  \n",
       "2613            NaN         7.6    NaN         0.77         0.77  \n",
       "6202            NaN         7.1    NaN         0.27         0.27  \n",
       "1744            NaN         7.1    NaN         1.15         1.15  \n",
       "...             ...         ...    ...          ...          ...  \n",
       "15333          55.0         4.2   E10+         0.02         0.02  \n",
       "6070            NaN         7.4    NaN         0.28         0.28  \n",
       "16439           NaN         7.4    NaN         0.01         0.01  \n",
       "16443           NaN         7.5    NaN         0.01         0.01  \n",
       "16401           NaN         7.4      M         0.01         0.01  \n",
       "\n",
       "[16444 rows x 13 columns]"
      ]
     },
     "metadata": {},
     "output_type": "display_data"
    },
    {
     "data": {
      "text/html": [
       "<div>\n",
       "<style scoped>\n",
       "    .dataframe tbody tr th:only-of-type {\n",
       "        vertical-align: middle;\n",
       "    }\n",
       "\n",
       "    .dataframe tbody tr th {\n",
       "        vertical-align: top;\n",
       "    }\n",
       "\n",
       "    .dataframe thead th {\n",
       "        text-align: right;\n",
       "    }\n",
       "</style>\n",
       "<table border=\"1\" class=\"dataframe\">\n",
       "  <thead>\n",
       "    <tr style=\"text-align: right;\">\n",
       "      <th></th>\n",
       "      <th>name</th>\n",
       "      <th>platform</th>\n",
       "      <th>year_of_release</th>\n",
       "      <th>genre</th>\n",
       "      <th>na_sales</th>\n",
       "      <th>eu_sales</th>\n",
       "      <th>jp_sales</th>\n",
       "      <th>other_sales</th>\n",
       "      <th>critic_score</th>\n",
       "      <th>user_score</th>\n",
       "      <th>rating</th>\n",
       "      <th>total_sales</th>\n",
       "      <th>Total_sales</th>\n",
       "    </tr>\n",
       "  </thead>\n",
       "  <tbody>\n",
       "    <tr>\n",
       "      <th>14114</th>\n",
       "      <td>Super Robot Taisen OG Saga: Masou Kishin III -...</td>\n",
       "      <td>PSV</td>\n",
       "      <td>2013</td>\n",
       "      <td>Strategy</td>\n",
       "      <td>0.00</td>\n",
       "      <td>0.00</td>\n",
       "      <td>0.03</td>\n",
       "      <td>0.00</td>\n",
       "      <td>NaN</td>\n",
       "      <td>7.8</td>\n",
       "      <td>NaN</td>\n",
       "      <td>0.03</td>\n",
       "      <td>0.03</td>\n",
       "    </tr>\n",
       "    <tr>\n",
       "      <th>14126</th>\n",
       "      <td>Turbo: Super Stunt Squad</td>\n",
       "      <td>DS</td>\n",
       "      <td>2013</td>\n",
       "      <td>Sports</td>\n",
       "      <td>0.00</td>\n",
       "      <td>0.03</td>\n",
       "      <td>0.00</td>\n",
       "      <td>0.00</td>\n",
       "      <td>NaN</td>\n",
       "      <td>7.4</td>\n",
       "      <td>E</td>\n",
       "      <td>0.03</td>\n",
       "      <td>0.03</td>\n",
       "    </tr>\n",
       "    <tr>\n",
       "      <th>14146</th>\n",
       "      <td>Toriko: Ultimate Survival</td>\n",
       "      <td>3DS</td>\n",
       "      <td>2013</td>\n",
       "      <td>Action</td>\n",
       "      <td>0.00</td>\n",
       "      <td>0.00</td>\n",
       "      <td>0.03</td>\n",
       "      <td>0.00</td>\n",
       "      <td>NaN</td>\n",
       "      <td>7.4</td>\n",
       "      <td>NaN</td>\n",
       "      <td>0.03</td>\n",
       "      <td>0.03</td>\n",
       "    </tr>\n",
       "    <tr>\n",
       "      <th>14178</th>\n",
       "      <td>Exstetra</td>\n",
       "      <td>PSV</td>\n",
       "      <td>2013</td>\n",
       "      <td>Role-Playing</td>\n",
       "      <td>0.00</td>\n",
       "      <td>0.00</td>\n",
       "      <td>0.03</td>\n",
       "      <td>0.00</td>\n",
       "      <td>NaN</td>\n",
       "      <td>7.8</td>\n",
       "      <td>NaN</td>\n",
       "      <td>0.03</td>\n",
       "      <td>0.03</td>\n",
       "    </tr>\n",
       "    <tr>\n",
       "      <th>322</th>\n",
       "      <td>Call of Duty: Ghosts</td>\n",
       "      <td>PS4</td>\n",
       "      <td>2013</td>\n",
       "      <td>Shooter</td>\n",
       "      <td>1.78</td>\n",
       "      <td>1.43</td>\n",
       "      <td>0.05</td>\n",
       "      <td>0.57</td>\n",
       "      <td>78.0</td>\n",
       "      <td>3.7</td>\n",
       "      <td>M</td>\n",
       "      <td>3.83</td>\n",
       "      <td>3.83</td>\n",
       "    </tr>\n",
       "    <tr>\n",
       "      <th>...</th>\n",
       "      <td>...</td>\n",
       "      <td>...</td>\n",
       "      <td>...</td>\n",
       "      <td>...</td>\n",
       "      <td>...</td>\n",
       "      <td>...</td>\n",
       "      <td>...</td>\n",
       "      <td>...</td>\n",
       "      <td>...</td>\n",
       "      <td>...</td>\n",
       "      <td>...</td>\n",
       "      <td>...</td>\n",
       "      <td>...</td>\n",
       "    </tr>\n",
       "    <tr>\n",
       "      <th>16372</th>\n",
       "      <td>Rugby Challenge 3</td>\n",
       "      <td>XOne</td>\n",
       "      <td>2016</td>\n",
       "      <td>Sports</td>\n",
       "      <td>0.00</td>\n",
       "      <td>0.01</td>\n",
       "      <td>0.00</td>\n",
       "      <td>0.00</td>\n",
       "      <td>NaN</td>\n",
       "      <td>6.6</td>\n",
       "      <td>E</td>\n",
       "      <td>0.01</td>\n",
       "      <td>0.01</td>\n",
       "    </tr>\n",
       "    <tr>\n",
       "      <th>16359</th>\n",
       "      <td>Sébastien Loeb Rally Evo</td>\n",
       "      <td>XOne</td>\n",
       "      <td>2016</td>\n",
       "      <td>Racing</td>\n",
       "      <td>0.00</td>\n",
       "      <td>0.01</td>\n",
       "      <td>0.00</td>\n",
       "      <td>0.00</td>\n",
       "      <td>63.0</td>\n",
       "      <td>8.2</td>\n",
       "      <td>E</td>\n",
       "      <td>0.01</td>\n",
       "      <td>0.01</td>\n",
       "    </tr>\n",
       "    <tr>\n",
       "      <th>16352</th>\n",
       "      <td>Norn + Nonette: Act Tune</td>\n",
       "      <td>PSV</td>\n",
       "      <td>2016</td>\n",
       "      <td>Action</td>\n",
       "      <td>0.00</td>\n",
       "      <td>0.00</td>\n",
       "      <td>0.01</td>\n",
       "      <td>0.00</td>\n",
       "      <td>NaN</td>\n",
       "      <td>7.4</td>\n",
       "      <td>NaN</td>\n",
       "      <td>0.01</td>\n",
       "      <td>0.01</td>\n",
       "    </tr>\n",
       "    <tr>\n",
       "      <th>16346</th>\n",
       "      <td>Codename: Panzers Complete Collection</td>\n",
       "      <td>PC</td>\n",
       "      <td>2016</td>\n",
       "      <td>Strategy</td>\n",
       "      <td>0.00</td>\n",
       "      <td>0.01</td>\n",
       "      <td>0.00</td>\n",
       "      <td>0.00</td>\n",
       "      <td>NaN</td>\n",
       "      <td>7.8</td>\n",
       "      <td>NaN</td>\n",
       "      <td>0.01</td>\n",
       "      <td>0.01</td>\n",
       "    </tr>\n",
       "    <tr>\n",
       "      <th>244</th>\n",
       "      <td>Call of Duty: Infinite Warfare</td>\n",
       "      <td>PS4</td>\n",
       "      <td>2016</td>\n",
       "      <td>Shooter</td>\n",
       "      <td>1.61</td>\n",
       "      <td>2.00</td>\n",
       "      <td>0.15</td>\n",
       "      <td>0.71</td>\n",
       "      <td>77.0</td>\n",
       "      <td>3.4</td>\n",
       "      <td>M</td>\n",
       "      <td>4.47</td>\n",
       "      <td>4.47</td>\n",
       "    </tr>\n",
       "  </tbody>\n",
       "</table>\n",
       "<p>2233 rows × 13 columns</p>\n",
       "</div>"
      ],
      "text/plain": [
       "                                                    name platform  \\\n",
       "14114  Super Robot Taisen OG Saga: Masou Kishin III -...      PSV   \n",
       "14126                           Turbo: Super Stunt Squad       DS   \n",
       "14146                          Toriko: Ultimate Survival      3DS   \n",
       "14178                                           Exstetra      PSV   \n",
       "322                                 Call of Duty: Ghosts      PS4   \n",
       "...                                                  ...      ...   \n",
       "16372                                  Rugby Challenge 3     XOne   \n",
       "16359                           Sébastien Loeb Rally Evo     XOne   \n",
       "16352                           Norn + Nonette: Act Tune      PSV   \n",
       "16346              Codename: Panzers Complete Collection       PC   \n",
       "244                       Call of Duty: Infinite Warfare      PS4   \n",
       "\n",
       "       year_of_release         genre  na_sales  eu_sales  jp_sales  \\\n",
       "14114             2013      Strategy      0.00      0.00      0.03   \n",
       "14126             2013        Sports      0.00      0.03      0.00   \n",
       "14146             2013        Action      0.00      0.00      0.03   \n",
       "14178             2013  Role-Playing      0.00      0.00      0.03   \n",
       "322               2013       Shooter      1.78      1.43      0.05   \n",
       "...                ...           ...       ...       ...       ...   \n",
       "16372             2016        Sports      0.00      0.01      0.00   \n",
       "16359             2016        Racing      0.00      0.01      0.00   \n",
       "16352             2016        Action      0.00      0.00      0.01   \n",
       "16346             2016      Strategy      0.00      0.01      0.00   \n",
       "244               2016       Shooter      1.61      2.00      0.15   \n",
       "\n",
       "       other_sales  critic_score  user_score rating  total_sales  Total_sales  \n",
       "14114         0.00           NaN         7.8    NaN         0.03         0.03  \n",
       "14126         0.00           NaN         7.4      E         0.03         0.03  \n",
       "14146         0.00           NaN         7.4    NaN         0.03         0.03  \n",
       "14178         0.00           NaN         7.8    NaN         0.03         0.03  \n",
       "322           0.57          78.0         3.7      M         3.83         3.83  \n",
       "...            ...           ...         ...    ...          ...          ...  \n",
       "16372         0.00           NaN         6.6      E         0.01         0.01  \n",
       "16359         0.00          63.0         8.2      E         0.01         0.01  \n",
       "16352         0.00           NaN         7.4    NaN         0.01         0.01  \n",
       "16346         0.00           NaN         7.8    NaN         0.01         0.01  \n",
       "244           0.71          77.0         3.4      M         4.47         4.47  \n",
       "\n",
       "[2233 rows x 13 columns]"
      ]
     },
     "metadata": {},
     "output_type": "display_data"
    }
   ],
   "source": [
    "# Отсекаю в новый dataFrame актуальные года\n",
    "display(data.sort_values('year_of_release'))  # чтобы посмотреть как вышло..\n",
    "data_actual_years = data[data['year_of_release'] > 2012]\n",
    "display(data_actual_years.sort_values('year_of_release'))"
   ]
  },
  {
   "cell_type": "code",
   "execution_count": null,
   "metadata": {},
   "outputs": [],
   "source": [
    "# max_sales_per_year_actual = max_sales_per_year[max_sales_per_year['year_of_release'] > 2012]\n",
    "# display(max_sales_per_year_actual)\n",
    "grouped_actual = data.groupby(['year_of_release', 'platform'])['total_sales'].sum().reset_index()\n",
    "grouped_actual = grouped_actual[grouped_actual['year_of_release'] > 2012]\n",
    "grouped_actual"
   ]
  },
  {
   "cell_type": "code",
   "execution_count": 184,
   "metadata": {},
   "outputs": [
    {
     "data": {
      "image/png": "[encoded data removed]",
      "text/plain": [
       "<Figure size 1200x600 with 1 Axes>"
      ]
     },
     "metadata": {},
     "output_type": "display_data"
    }
   ],
   "source": [
    "# Построим столбчатую диаграмму\n",
    "plt.figure(figsize=(12, 6))\n",
    "grouped_actual.groupby(['year_of_release', 'platform'])['total_sales'].sum().plot(kind='bar', stacked=True)\n",
    "plt.title('Общие продажи игр по платформам и годам')\n",
    "plt.xlabel('Год выпуска')\n",
    "plt.ylabel('Общие продажи (млн.)')\n",
    "plt.legend(title='Платформа')\n",
    "plt.xticks(rotation=45)\n",
    "plt.tight_layout()\n",
    "plt.show()"
   ]
  },
  {
   "cell_type": "markdown",
   "metadata": {},
   "source": [
    "Выводы по графику (2013 - 2016):\n",
    "\n",
    "Значительно выделяются платформы:\n",
    "\n",
    "- РС (непрерывно падают продажи)\n",
    "- WiiU (непрерывно падают )\n",
    "- Х360 (удерживают значительную долю)\n",
    "- PS3 (значительный рост и лидерство до 2016 года) - останется в лидерах\n",
    "\n",
    "лидеры, которые скорее всего останутся таковыми - PS3, X360."
   ]
  },
  {
   "cell_type": "markdown",
   "metadata": {},
   "source": [
    "#### 3.5  Ящик с усами\n"
   ]
  },
  {
   "cell_type": "code",
   "execution_count": 187,
   "metadata": {},
   "outputs": [
    {
     "data": {
      "text/plain": [
       "<Figure size 1200x600 with 0 Axes>"
      ]
     },
     "metadata": {},
     "output_type": "display_data"
    },
    {
     "data": {
      "image/png": "[encoded data removed]",
      "text/plain": [
       "<Figure size 640x480 with 1 Axes>"
      ]
     },
     "metadata": {},
     "output_type": "display_data"
    }
   ],
   "source": [
    "# Ящик с усами\n",
    "# Строим график \"ящик с усами\"\n",
    "plt.figure(figsize=(12, 6))\n",
    "data_actual_years.boxplot(column='total_sales', by='platform', grid=False)\n",
    "plt.ylim(0, 5)\n",
    "plt.title('Глобальные продажи игр по платформам')\n",
    "plt.suptitle('')  # Убираем стандартный заголовок\n",
    "plt.xlabel('Платформа')\n",
    "plt.ylabel('Общие продажи (млн.)')\n",
    "plt.xticks(rotation=45)\n",
    "plt.tight_layout()\n",
    "plt.show()\n"
   ]
  },
  {
   "cell_type": "markdown",
   "metadata": {},
   "source": [
    "### 3.6 Влияние отзывов на продажи\n",
    "Для примера возьмём PS3"
   ]
  },
  {
   "cell_type": "code",
   "execution_count": null,
   "metadata": {},
   "outputs": [],
   "source": [
    "# ...\n",
    "\n",
    "data_ps3 = data_actual_years[data_actual_years['platform'] == 'PS3']\n",
    "# data_ps3.describe()"
   ]
  },
  {
   "cell_type": "code",
   "execution_count": 197,
   "metadata": {},
   "outputs": [
    {
     "data": {
      "image/png": "[encoded data removed]",
      "text/plain": [
       "<Figure size 1000x500 with 1 Axes>"
      ]
     },
     "metadata": {},
     "output_type": "display_data"
    },
    {
     "name": "stdout",
     "output_type": "stream",
     "text": [
      "0.3342853393371919\n"
     ]
    }
   ],
   "source": [
    "# Строим график зависимости sales от year\n",
    "plt.figure(figsize=(10, 5))\n",
    "plt.scatter(x=data_ps3['total_sales'], y=data_ps3['critic_score'], marker='o')\n",
    "plt.title('Зависимость продаж от отзывов критиков')\n",
    "plt.xlabel('Отзыв')\n",
    "plt.ylabel('Продажи')\n",
    "plt.grid()\n",
    "plt.show()\n",
    "print(data_ps3['critic_score'].corr(data_ps3['total_sales']))\n"
   ]
  },
  {
   "cell_type": "markdown",
   "metadata": {},
   "source": [
    "Корреляция слабая. Отзывы критиков слабо влияют на продажи, но всё-таки более высокие отзывы увеличивают продажи."
   ]
  },
  {
   "cell_type": "code",
   "execution_count": 199,
   "metadata": {},
   "outputs": [
    {
     "data": {
      "image/png": "[encoded data removed]",
      "text/plain": [
       "<Figure size 1000x500 with 1 Axes>"
      ]
     },
     "metadata": {},
     "output_type": "display_data"
    },
    {
     "name": "stdout",
     "output_type": "stream",
     "text": [
      "-0.08598425479117172\n"
     ]
    }
   ],
   "source": [
    "# Строим график зависимости sales от user_score\n",
    "plt.figure(figsize=(10, 5))\n",
    "plt.scatter(x=data_ps3['total_sales'], y=data_ps3['user_score'], marker='o')\n",
    "plt.title('Зависимость продаж от отзывов users')\n",
    "plt.xlabel('Отзыв')\n",
    "plt.ylabel('Продажи')\n",
    "plt.grid()\n",
    "plt.show()\n",
    "print(data_ps3['user_score'].corr(data_ps3['total_sales']))"
   ]
  },
  {
   "cell_type": "markdown",
   "metadata": {},
   "source": [
    "Крреляция слабо отрицательная. Чем выше отзывы тем меньше продажи. Но влияние слабое.\n",
    "Проверим на платформах  X360, PC\n"
   ]
  },
  {
   "cell_type": "code",
   "execution_count": 201,
   "metadata": {},
   "outputs": [
    {
     "data": {
      "image/png": "[encoded data removed]",
      "text/plain": [
       "<Figure size 1000x500 with 1 Axes>"
      ]
     },
     "metadata": {},
     "output_type": "display_data"
    },
    {
     "name": "stdout",
     "output_type": "stream",
     "text": [
      "0.3503445460228664\n"
     ]
    }
   ],
   "source": [
    "# X360\n",
    "\n",
    "data_x360 = data_actual_years[data_actual_years['platform'] == 'X360']\n",
    "# Строим график зависимости sales от year\n",
    "plt.figure(figsize=(10, 5))\n",
    "plt.scatter(x=data_ps3['total_sales'], y=data_ps3['critic_score'], marker='o')\n",
    "plt.title('Зависимость продаж от отзывов критиков')\n",
    "plt.xlabel('Отзыв')\n",
    "plt.ylabel('Продажи')\n",
    "plt.grid()\n",
    "plt.show()\n",
    "print(data_x360['critic_score'].corr(data_x360['total_sales']))"
   ]
  },
  {
   "cell_type": "code",
   "execution_count": 204,
   "metadata": {},
   "outputs": [
    {
     "data": {
      "image/png": "[encoded data removed]",
      "text/plain": [
       "<Figure size 1000x500 with 1 Axes>"
      ]
     },
     "metadata": {},
     "output_type": "display_data"
    },
    {
     "name": "stdout",
     "output_type": "stream",
     "text": [
      "-0.04974201943138053\n"
     ]
    }
   ],
   "source": [
    "# X360\n",
    "\n",
    "data_x360 = data_actual_years[data_actual_years['platform'] == 'X360']\n",
    "# Строим график зависимости sales от year\n",
    "plt.figure(figsize=(10, 5))\n",
    "plt.scatter(x=data_ps3['total_sales'], y=data_ps3['user_score'], marker='o')\n",
    "plt.title('Зависимость продаж от отзывов users')\n",
    "plt.xlabel('Отзыв')\n",
    "plt.ylabel('Продажи')\n",
    "plt.grid()\n",
    "plt.show()\n",
    "print(data_x360['user_score'].corr(data_x360['total_sales']))"
   ]
  },
  {
   "cell_type": "code",
   "execution_count": null,
   "metadata": {},
   "outputs": [
    {
     "data": {
      "image/png": "[encoded data removed]",
      "text/plain": [
       "<Figure size 1000x500 with 1 Axes>"
      ]
     },
     "metadata": {},
     "output_type": "display_data"
    },
    {
     "name": "stdout",
     "output_type": "stream",
     "text": [
      "0.1960302829436937\n"
     ]
    }
   ],
   "source": [
    "# PC\n",
    "\n",
    "data_pc = data_actual_years[data_actual_years['platform'] == 'PC']\n",
    "# Строим график зависимости sales от year\n",
    "plt.figure(figsize=(10, 5))\n",
    "plt.scatter(x=data_pc['total_sales'], y=data_pc['critic_score'], marker='o')\n",
    "plt.title('Зависимость продаж от отзывов критиков')\n",
    "plt.xlabel('Отзыв')\n",
    "plt.ylabel('Продажи')\n",
    "plt.grid()\n",
    "plt.show()\n",
    "print(data_pc['critic_score'].corr(data_pc['total_sales']))"
   ]
  },
  {
   "cell_type": "code",
   "execution_count": 206,
   "metadata": {},
   "outputs": [
    {
     "data": {
      "image/png": "[encoded data removed]",
      "text/plain": [
       "<Figure size 1000x500 with 1 Axes>"
      ]
     },
     "metadata": {},
     "output_type": "display_data"
    },
    {
     "name": "stdout",
     "output_type": "stream",
     "text": [
      "-0.11686166164546588\n"
     ]
    }
   ],
   "source": [
    "# PC\n",
    "\n",
    "data_pc = data_actual_years[data_actual_years['platform'] == 'PC']\n",
    "# Строим график зависимости sales от year\n",
    "plt.figure(figsize=(10, 5))\n",
    "plt.scatter(x=data_pc['total_sales'], y=data_pc['user_score'], marker='o')\n",
    "plt.title('Зависимость продаж от отзывов users')\n",
    "plt.xlabel('Отзыв')\n",
    "plt.ylabel('Продажи')\n",
    "plt.grid()\n",
    "plt.show()\n",
    "print(data_pc['user_score'].corr(data_pc['total_sales']))"
   ]
  },
  {
   "cell_type": "markdown",
   "metadata": {},
   "source": [
    "На двух других популярных платформах картина та же: отзывы критиков - слабая положительная корреляция, с отзывами пользователей - очеь слабая отрицательная"
   ]
  }
 ],
 "metadata": {
  "kernelspec": {
   "display_name": "venv",
   "language": "python",
   "name": "python3"
  },
  "language_info": {
   "codemirror_mode": {
    "name": "ipython",
    "version": 3
   },
   "file_extension": ".py",
   "mimetype": "text/x-python",
   "name": "python",
   "nbconvert_exporter": "python",
   "pygments_lexer": "ipython3",
   "version": "3.10.10"
  },
  "toc": {
   "base_numbering": 1,
   "nav_menu": {},
   "number_sections": true,
   "sideBar": true,
   "skip_h1_title": true,
   "title_cell": "Table of Contents",
   "title_sidebar": "Contents",
   "toc_cell": false,
   "toc_position": {},
   "toc_section_display": true,
   "toc_window_display": false
  }
 },
 "nbformat": 4,
 "nbformat_minor": 2
}
